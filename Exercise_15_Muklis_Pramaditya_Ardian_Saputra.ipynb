{
  "cells": [
    {
      "cell_type": "markdown",
      "metadata": {
        "id": "view-in-github",
        "colab_type": "text"
      },
      "source": [
        "<a href=\"https://colab.research.google.com/github/Tarnished2/DataScientist/blob/main/Exercise_15_Muklis_Pramaditya_Ardian_Saputra.ipynb\" target=\"_parent\"><img src=\"https://colab.research.google.com/assets/colab-badge.svg\" alt=\"Open In Colab\"/></a>"
      ]
    },
    {
      "cell_type": "markdown",
      "metadata": {
        "id": "eEi_kSxKkE8Z"
      },
      "source": [
        "# K Means Clustering Algorithm"
      ]
    },
    {
      "cell_type": "markdown",
      "metadata": {
        "id": "cg1JY1yWkE8i"
      },
      "source": [
        "## Studi Kasus"
      ]
    },
    {
      "cell_type": "markdown",
      "metadata": {
        "id": "0uat0VXdt0w2"
      },
      "source": [
        "Data yang anda miliki adalah data penjualan setelah terjadinya pandemi Covid-19 dengan kategori produk sports & apparel. Dikarenakan saat ini penjualan banyak dilakukan secara online, anda berencana untuk memperbaiki tampilan website dengan cara mengelompokkan produk berdasarkan kategori-kategori tertentu. Perombakan ini diharapkan dapat mempermudah pembeli dalam memilih barang sesuai dengan selera dan kebutuhan mereka. Untuk mencapai tujuan tersebut anda akan menggunakan history penjualan sebelumnya. Data yang anda miliki adalah sebagai berikut :\n",
        "\n",
        "- Product Name : Nama produk \n",
        "- Product ID : Id unik produk\n",
        "- Listing Price : Harga sebenarnya dari produk\n",
        "- Sale Price : Harga saat produk dibeli\n",
        "- Discount : Diskon yang diberikan dalam suatu produk\n",
        "- Brand : Nama Brand dari produk\n",
        "- Description : Deskripsi produk\n",
        "- Rating : Rating yang diberikan user\n",
        "- Reviews : Jumlah review suatu produk\n",
        "- Last Visited : Record terakhir produk dikunjungi oleh customer\n",
        "\n",
        "Selain mengelompokkan produk, anda juga ingin menganalisis persaingan yang terjadi pada tiap-tiap brand. Dengan mengetahui minat pembeli, harapannya untuk kedepannya anda dapat menyesuaikan store anda dengan kebutuhan pasar."
      ]
    },
    {
      "cell_type": "markdown",
      "metadata": {
        "id": "Hv1ac7niWdfG"
      },
      "source": [
        "## Import Libraries and Data"
      ]
    },
    {
      "cell_type": "code",
      "source": [
        "# connect colab ke g drive\n",
        "from google.colab import drive\n",
        "drive.mount('/content/gdrive')"
      ],
      "metadata": {
        "colab": {
          "base_uri": "https://localhost:8080/"
        },
        "id": "-qQF41K3rFQg",
        "outputId": "aa2be7e3-4537-48f4-88f5-c31c5572364d"
      },
      "execution_count": 1,
      "outputs": [
        {
          "output_type": "stream",
          "name": "stdout",
          "text": [
            "Mounted at /content/gdrive\n"
          ]
        }
      ]
    },
    {
      "cell_type": "code",
      "execution_count": 96,
      "metadata": {
        "id": "pgJX6GWSq040"
      },
      "outputs": [],
      "source": [
        "# import package\n",
        "import os\n",
        "import pandas as pd\n",
        "import numpy as np\n",
        "from sklearn.preprocessing import LabelEncoder, StandardScaler\n",
        "from sklearn.cluster import KMeans\n",
        "from sklearn.metrics import silhouette_score\n",
        "import statistics\n",
        "from scipy.stats import chi2\n",
        "from matplotlib import patches\n",
        "import matplotlib.pyplot as plt\n",
        "\n",
        "# Package untuk visualisasi\n",
        "import seaborn as sns\n",
        "import matplotlib.pyplot as plt"
      ]
    },
    {
      "cell_type": "code",
      "execution_count": 97,
      "metadata": {
        "colab": {
          "base_uri": "https://localhost:8080/"
        },
        "id": "msXE8_LQJkTO",
        "outputId": "84a7a5d0-8b77-4445-9134-ed9a47bf44ca"
      },
      "outputs": [
        {
          "output_type": "execute_result",
          "data": {
            "text/plain": [
              "['Exercise_15_Muklis_Pramaditya Ardian Saputra.ipynb',\n",
              " 'customer_segments.csv',\n",
              " 'Clustering_product.csv',\n",
              " '[REV] Meet 15 - Clustering K-means.ipynb',\n",
              " 'Meet 15. Clustering BreakoutRoom.ipynb']"
            ]
          },
          "metadata": {},
          "execution_count": 97
        }
      ],
      "source": [
        "# Membuat path untuk mengidentifikasi letak directory\n",
        "path = '/content/gdrive/MyDrive/SIB/6. Supervised Machine Learning - Clustering/6.1 Clustering - K - Means/'\n",
        "\n",
        "# Cek directory\n",
        "os.listdir(path)"
      ]
    },
    {
      "cell_type": "code",
      "execution_count": 98,
      "metadata": {
        "colab": {
          "base_uri": "https://localhost:8080/",
          "height": 354
        },
        "id": "vT9zrYAuKQ-n",
        "outputId": "850db124-3332-4ab3-fbf5-d237425c1906"
      },
      "outputs": [
        {
          "output_type": "execute_result",
          "data": {
            "text/plain": [
              "                                        Product Name Product ID  \\\n",
              "0  Women's adidas Originals NMD_Racer Primeknit S...     AH2430   \n",
              "1               Women's adidas Originals Sleek Shoes     G27341   \n",
              "2                  Women's adidas Swim Puka Slippers     CM0081   \n",
              "3   Women's adidas Sport Inspired Questar Ride Shoes     B44832   \n",
              "4           Women's adidas Originals Taekwondo Shoes     D98205   \n",
              "\n",
              "   Listing Price  Sale Price  Discount              Brand  \\\n",
              "0          14999        7499        50   Adidas ORIGINALS   \n",
              "1           7599        3799        50   Adidas ORIGINALS   \n",
              "2            999         599        40  Adidas CORE / NEO   \n",
              "3           6999        3499        50  Adidas CORE / NEO   \n",
              "4           7999        3999        50   Adidas ORIGINALS   \n",
              "\n",
              "                                         Description  Rating  Reviews  \\\n",
              "0  Channeling the streamlined look of an '80s rac...     4.8       41   \n",
              "1  A modern take on adidas sport heritage, tailor...     3.3       24   \n",
              "2  These adidas Puka slippers for women's come wi...     2.6       37   \n",
              "3  Inspired by modern tech runners, these women's...     4.1       35   \n",
              "4  This design is inspired by vintage Taekwondo s...     3.5       72   \n",
              "\n",
              "          Last Visited\\t  \n",
              "0  2020-04-13T15:06:14\\t  \n",
              "1  2020-04-13T15:06:15\\t  \n",
              "2  2020-04-13T15:06:15\\t  \n",
              "3  2020-04-13T15:06:15\\t  \n",
              "4  2020-04-13T15:06:15\\t  "
            ],
            "text/html": [
              "\n",
              "  <div id=\"df-e4633c79-9a21-489c-8a52-e6121d7f2ad7\">\n",
              "    <div class=\"colab-df-container\">\n",
              "      <div>\n",
              "<style scoped>\n",
              "    .dataframe tbody tr th:only-of-type {\n",
              "        vertical-align: middle;\n",
              "    }\n",
              "\n",
              "    .dataframe tbody tr th {\n",
              "        vertical-align: top;\n",
              "    }\n",
              "\n",
              "    .dataframe thead th {\n",
              "        text-align: right;\n",
              "    }\n",
              "</style>\n",
              "<table border=\"1\" class=\"dataframe\">\n",
              "  <thead>\n",
              "    <tr style=\"text-align: right;\">\n",
              "      <th></th>\n",
              "      <th>Product Name</th>\n",
              "      <th>Product ID</th>\n",
              "      <th>Listing Price</th>\n",
              "      <th>Sale Price</th>\n",
              "      <th>Discount</th>\n",
              "      <th>Brand</th>\n",
              "      <th>Description</th>\n",
              "      <th>Rating</th>\n",
              "      <th>Reviews</th>\n",
              "      <th>Last Visited\\t</th>\n",
              "    </tr>\n",
              "  </thead>\n",
              "  <tbody>\n",
              "    <tr>\n",
              "      <th>0</th>\n",
              "      <td>Women's adidas Originals NMD_Racer Primeknit S...</td>\n",
              "      <td>AH2430</td>\n",
              "      <td>14999</td>\n",
              "      <td>7499</td>\n",
              "      <td>50</td>\n",
              "      <td>Adidas ORIGINALS</td>\n",
              "      <td>Channeling the streamlined look of an '80s rac...</td>\n",
              "      <td>4.8</td>\n",
              "      <td>41</td>\n",
              "      <td>2020-04-13T15:06:14\\t</td>\n",
              "    </tr>\n",
              "    <tr>\n",
              "      <th>1</th>\n",
              "      <td>Women's adidas Originals Sleek Shoes</td>\n",
              "      <td>G27341</td>\n",
              "      <td>7599</td>\n",
              "      <td>3799</td>\n",
              "      <td>50</td>\n",
              "      <td>Adidas ORIGINALS</td>\n",
              "      <td>A modern take on adidas sport heritage, tailor...</td>\n",
              "      <td>3.3</td>\n",
              "      <td>24</td>\n",
              "      <td>2020-04-13T15:06:15\\t</td>\n",
              "    </tr>\n",
              "    <tr>\n",
              "      <th>2</th>\n",
              "      <td>Women's adidas Swim Puka Slippers</td>\n",
              "      <td>CM0081</td>\n",
              "      <td>999</td>\n",
              "      <td>599</td>\n",
              "      <td>40</td>\n",
              "      <td>Adidas CORE / NEO</td>\n",
              "      <td>These adidas Puka slippers for women's come wi...</td>\n",
              "      <td>2.6</td>\n",
              "      <td>37</td>\n",
              "      <td>2020-04-13T15:06:15\\t</td>\n",
              "    </tr>\n",
              "    <tr>\n",
              "      <th>3</th>\n",
              "      <td>Women's adidas Sport Inspired Questar Ride Shoes</td>\n",
              "      <td>B44832</td>\n",
              "      <td>6999</td>\n",
              "      <td>3499</td>\n",
              "      <td>50</td>\n",
              "      <td>Adidas CORE / NEO</td>\n",
              "      <td>Inspired by modern tech runners, these women's...</td>\n",
              "      <td>4.1</td>\n",
              "      <td>35</td>\n",
              "      <td>2020-04-13T15:06:15\\t</td>\n",
              "    </tr>\n",
              "    <tr>\n",
              "      <th>4</th>\n",
              "      <td>Women's adidas Originals Taekwondo Shoes</td>\n",
              "      <td>D98205</td>\n",
              "      <td>7999</td>\n",
              "      <td>3999</td>\n",
              "      <td>50</td>\n",
              "      <td>Adidas ORIGINALS</td>\n",
              "      <td>This design is inspired by vintage Taekwondo s...</td>\n",
              "      <td>3.5</td>\n",
              "      <td>72</td>\n",
              "      <td>2020-04-13T15:06:15\\t</td>\n",
              "    </tr>\n",
              "  </tbody>\n",
              "</table>\n",
              "</div>\n",
              "      <button class=\"colab-df-convert\" onclick=\"convertToInteractive('df-e4633c79-9a21-489c-8a52-e6121d7f2ad7')\"\n",
              "              title=\"Convert this dataframe to an interactive table.\"\n",
              "              style=\"display:none;\">\n",
              "        \n",
              "  <svg xmlns=\"http://www.w3.org/2000/svg\" height=\"24px\"viewBox=\"0 0 24 24\"\n",
              "       width=\"24px\">\n",
              "    <path d=\"M0 0h24v24H0V0z\" fill=\"none\"/>\n",
              "    <path d=\"M18.56 5.44l.94 2.06.94-2.06 2.06-.94-2.06-.94-.94-2.06-.94 2.06-2.06.94zm-11 1L8.5 8.5l.94-2.06 2.06-.94-2.06-.94L8.5 2.5l-.94 2.06-2.06.94zm10 10l.94 2.06.94-2.06 2.06-.94-2.06-.94-.94-2.06-.94 2.06-2.06.94z\"/><path d=\"M17.41 7.96l-1.37-1.37c-.4-.4-.92-.59-1.43-.59-.52 0-1.04.2-1.43.59L10.3 9.45l-7.72 7.72c-.78.78-.78 2.05 0 2.83L4 21.41c.39.39.9.59 1.41.59.51 0 1.02-.2 1.41-.59l7.78-7.78 2.81-2.81c.8-.78.8-2.07 0-2.86zM5.41 20L4 18.59l7.72-7.72 1.47 1.35L5.41 20z\"/>\n",
              "  </svg>\n",
              "      </button>\n",
              "      \n",
              "  <style>\n",
              "    .colab-df-container {\n",
              "      display:flex;\n",
              "      flex-wrap:wrap;\n",
              "      gap: 12px;\n",
              "    }\n",
              "\n",
              "    .colab-df-convert {\n",
              "      background-color: #E8F0FE;\n",
              "      border: none;\n",
              "      border-radius: 50%;\n",
              "      cursor: pointer;\n",
              "      display: none;\n",
              "      fill: #1967D2;\n",
              "      height: 32px;\n",
              "      padding: 0 0 0 0;\n",
              "      width: 32px;\n",
              "    }\n",
              "\n",
              "    .colab-df-convert:hover {\n",
              "      background-color: #E2EBFA;\n",
              "      box-shadow: 0px 1px 2px rgba(60, 64, 67, 0.3), 0px 1px 3px 1px rgba(60, 64, 67, 0.15);\n",
              "      fill: #174EA6;\n",
              "    }\n",
              "\n",
              "    [theme=dark] .colab-df-convert {\n",
              "      background-color: #3B4455;\n",
              "      fill: #D2E3FC;\n",
              "    }\n",
              "\n",
              "    [theme=dark] .colab-df-convert:hover {\n",
              "      background-color: #434B5C;\n",
              "      box-shadow: 0px 1px 3px 1px rgba(0, 0, 0, 0.15);\n",
              "      filter: drop-shadow(0px 1px 2px rgba(0, 0, 0, 0.3));\n",
              "      fill: #FFFFFF;\n",
              "    }\n",
              "  </style>\n",
              "\n",
              "      <script>\n",
              "        const buttonEl =\n",
              "          document.querySelector('#df-e4633c79-9a21-489c-8a52-e6121d7f2ad7 button.colab-df-convert');\n",
              "        buttonEl.style.display =\n",
              "          google.colab.kernel.accessAllowed ? 'block' : 'none';\n",
              "\n",
              "        async function convertToInteractive(key) {\n",
              "          const element = document.querySelector('#df-e4633c79-9a21-489c-8a52-e6121d7f2ad7');\n",
              "          const dataTable =\n",
              "            await google.colab.kernel.invokeFunction('convertToInteractive',\n",
              "                                                     [key], {});\n",
              "          if (!dataTable) return;\n",
              "\n",
              "          const docLinkHtml = 'Like what you see? Visit the ' +\n",
              "            '<a target=\"_blank\" href=https://colab.research.google.com/notebooks/data_table.ipynb>data table notebook</a>'\n",
              "            + ' to learn more about interactive tables.';\n",
              "          element.innerHTML = '';\n",
              "          dataTable['output_type'] = 'display_data';\n",
              "          await google.colab.output.renderOutput(dataTable, element);\n",
              "          const docLink = document.createElement('div');\n",
              "          docLink.innerHTML = docLinkHtml;\n",
              "          element.appendChild(docLink);\n",
              "        }\n",
              "      </script>\n",
              "    </div>\n",
              "  </div>\n",
              "  "
            ]
          },
          "metadata": {},
          "execution_count": 98
        }
      ],
      "source": [
        "# Load data\n",
        "df = pd.read_csv(os.path.join(path, \"Clustering_product.csv\"))\n",
        "df.head()"
      ]
    },
    {
      "cell_type": "code",
      "execution_count": 99,
      "metadata": {
        "colab": {
          "base_uri": "https://localhost:8080/",
          "height": 206
        },
        "id": "PYB-NPhoj6bo",
        "outputId": "c55c23d9-0beb-4677-aa93-b68478a17f4f"
      },
      "outputs": [
        {
          "output_type": "execute_result",
          "data": {
            "text/plain": [
              "               Brand\n",
              "0   Adidas ORIGINALS\n",
              "1   Adidas ORIGINALS\n",
              "2  Adidas CORE / NEO\n",
              "3  Adidas CORE / NEO\n",
              "4   Adidas ORIGINALS"
            ],
            "text/html": [
              "\n",
              "  <div id=\"df-7d38aba3-736f-4375-ae3b-508b09d889fd\">\n",
              "    <div class=\"colab-df-container\">\n",
              "      <div>\n",
              "<style scoped>\n",
              "    .dataframe tbody tr th:only-of-type {\n",
              "        vertical-align: middle;\n",
              "    }\n",
              "\n",
              "    .dataframe tbody tr th {\n",
              "        vertical-align: top;\n",
              "    }\n",
              "\n",
              "    .dataframe thead th {\n",
              "        text-align: right;\n",
              "    }\n",
              "</style>\n",
              "<table border=\"1\" class=\"dataframe\">\n",
              "  <thead>\n",
              "    <tr style=\"text-align: right;\">\n",
              "      <th></th>\n",
              "      <th>Brand</th>\n",
              "    </tr>\n",
              "  </thead>\n",
              "  <tbody>\n",
              "    <tr>\n",
              "      <th>0</th>\n",
              "      <td>Adidas ORIGINALS</td>\n",
              "    </tr>\n",
              "    <tr>\n",
              "      <th>1</th>\n",
              "      <td>Adidas ORIGINALS</td>\n",
              "    </tr>\n",
              "    <tr>\n",
              "      <th>2</th>\n",
              "      <td>Adidas CORE / NEO</td>\n",
              "    </tr>\n",
              "    <tr>\n",
              "      <th>3</th>\n",
              "      <td>Adidas CORE / NEO</td>\n",
              "    </tr>\n",
              "    <tr>\n",
              "      <th>4</th>\n",
              "      <td>Adidas ORIGINALS</td>\n",
              "    </tr>\n",
              "  </tbody>\n",
              "</table>\n",
              "</div>\n",
              "      <button class=\"colab-df-convert\" onclick=\"convertToInteractive('df-7d38aba3-736f-4375-ae3b-508b09d889fd')\"\n",
              "              title=\"Convert this dataframe to an interactive table.\"\n",
              "              style=\"display:none;\">\n",
              "        \n",
              "  <svg xmlns=\"http://www.w3.org/2000/svg\" height=\"24px\"viewBox=\"0 0 24 24\"\n",
              "       width=\"24px\">\n",
              "    <path d=\"M0 0h24v24H0V0z\" fill=\"none\"/>\n",
              "    <path d=\"M18.56 5.44l.94 2.06.94-2.06 2.06-.94-2.06-.94-.94-2.06-.94 2.06-2.06.94zm-11 1L8.5 8.5l.94-2.06 2.06-.94-2.06-.94L8.5 2.5l-.94 2.06-2.06.94zm10 10l.94 2.06.94-2.06 2.06-.94-2.06-.94-.94-2.06-.94 2.06-2.06.94z\"/><path d=\"M17.41 7.96l-1.37-1.37c-.4-.4-.92-.59-1.43-.59-.52 0-1.04.2-1.43.59L10.3 9.45l-7.72 7.72c-.78.78-.78 2.05 0 2.83L4 21.41c.39.39.9.59 1.41.59.51 0 1.02-.2 1.41-.59l7.78-7.78 2.81-2.81c.8-.78.8-2.07 0-2.86zM5.41 20L4 18.59l7.72-7.72 1.47 1.35L5.41 20z\"/>\n",
              "  </svg>\n",
              "      </button>\n",
              "      \n",
              "  <style>\n",
              "    .colab-df-container {\n",
              "      display:flex;\n",
              "      flex-wrap:wrap;\n",
              "      gap: 12px;\n",
              "    }\n",
              "\n",
              "    .colab-df-convert {\n",
              "      background-color: #E8F0FE;\n",
              "      border: none;\n",
              "      border-radius: 50%;\n",
              "      cursor: pointer;\n",
              "      display: none;\n",
              "      fill: #1967D2;\n",
              "      height: 32px;\n",
              "      padding: 0 0 0 0;\n",
              "      width: 32px;\n",
              "    }\n",
              "\n",
              "    .colab-df-convert:hover {\n",
              "      background-color: #E2EBFA;\n",
              "      box-shadow: 0px 1px 2px rgba(60, 64, 67, 0.3), 0px 1px 3px 1px rgba(60, 64, 67, 0.15);\n",
              "      fill: #174EA6;\n",
              "    }\n",
              "\n",
              "    [theme=dark] .colab-df-convert {\n",
              "      background-color: #3B4455;\n",
              "      fill: #D2E3FC;\n",
              "    }\n",
              "\n",
              "    [theme=dark] .colab-df-convert:hover {\n",
              "      background-color: #434B5C;\n",
              "      box-shadow: 0px 1px 3px 1px rgba(0, 0, 0, 0.15);\n",
              "      filter: drop-shadow(0px 1px 2px rgba(0, 0, 0, 0.3));\n",
              "      fill: #FFFFFF;\n",
              "    }\n",
              "  </style>\n",
              "\n",
              "      <script>\n",
              "        const buttonEl =\n",
              "          document.querySelector('#df-7d38aba3-736f-4375-ae3b-508b09d889fd button.colab-df-convert');\n",
              "        buttonEl.style.display =\n",
              "          google.colab.kernel.accessAllowed ? 'block' : 'none';\n",
              "\n",
              "        async function convertToInteractive(key) {\n",
              "          const element = document.querySelector('#df-7d38aba3-736f-4375-ae3b-508b09d889fd');\n",
              "          const dataTable =\n",
              "            await google.colab.kernel.invokeFunction('convertToInteractive',\n",
              "                                                     [key], {});\n",
              "          if (!dataTable) return;\n",
              "\n",
              "          const docLinkHtml = 'Like what you see? Visit the ' +\n",
              "            '<a target=\"_blank\" href=https://colab.research.google.com/notebooks/data_table.ipynb>data table notebook</a>'\n",
              "            + ' to learn more about interactive tables.';\n",
              "          element.innerHTML = '';\n",
              "          dataTable['output_type'] = 'display_data';\n",
              "          await google.colab.output.renderOutput(dataTable, element);\n",
              "          const docLink = document.createElement('div');\n",
              "          docLink.innerHTML = docLinkHtml;\n",
              "          element.appendChild(docLink);\n",
              "        }\n",
              "      </script>\n",
              "    </div>\n",
              "  </div>\n",
              "  "
            ]
          },
          "metadata": {},
          "execution_count": 99
        }
      ],
      "source": [
        "# Data kategori\n",
        "categorical = [\"Brand\"]\n",
        "df_categorical = df[categorical]\n",
        "df_categorical.head()"
      ]
    },
    {
      "cell_type": "markdown",
      "metadata": {
        "id": "LlIjc1XzX-VQ"
      },
      "source": [
        "> **Dalam materi ini, data preprocessing seperti cek missing value, duplicate data, data type tidak akan dilakukan, karena fokus dari materi adalah pada clustering. Anda dapat membuka kembali materi sebelumnya dan menerapkankan sendiri dalam materi ini jika ingin menganalisis secara lengkap.**"
      ]
    },
    {
      "cell_type": "markdown",
      "metadata": {
        "id": "qdUBusj8kE8k"
      },
      "source": [
        "## Exploratory Data Analysis (EDA)"
      ]
    },
    {
      "cell_type": "code",
      "execution_count": 100,
      "metadata": {
        "colab": {
          "base_uri": "https://localhost:8080/"
        },
        "id": "gAwvpmntq3yH",
        "outputId": "d9925317-faf2-4594-b75e-2831e0d606c0"
      },
      "outputs": [
        {
          "output_type": "stream",
          "name": "stdout",
          "text": [
            "<class 'pandas.core.frame.DataFrame'>\n",
            "RangeIndex: 3268 entries, 0 to 3267\n",
            "Data columns (total 10 columns):\n",
            " #   Column         Non-Null Count  Dtype  \n",
            "---  ------         --------------  -----  \n",
            " 0   Product Name   3268 non-null   object \n",
            " 1   Product ID     3268 non-null   object \n",
            " 2   Listing Price  3268 non-null   int64  \n",
            " 3   Sale Price     3268 non-null   int64  \n",
            " 4   Discount       3268 non-null   int64  \n",
            " 5   Brand          3268 non-null   object \n",
            " 6   Description    3265 non-null   object \n",
            " 7   Rating         3268 non-null   float64\n",
            " 8   Reviews        3268 non-null   int64  \n",
            " 9   Last Visited\t  3268 non-null   object \n",
            "dtypes: float64(1), int64(4), object(5)\n",
            "memory usage: 255.4+ KB\n"
          ]
        }
      ],
      "source": [
        "# Cek informasi yang terdapat di data\n",
        "df.info()"
      ]
    },
    {
      "cell_type": "code",
      "execution_count": 101,
      "metadata": {
        "colab": {
          "base_uri": "https://localhost:8080/",
          "height": 300
        },
        "id": "s4JAonV-hZmL",
        "outputId": "52ba3d2d-2887-4aa1-de90-977ee76fef1e"
      },
      "outputs": [
        {
          "output_type": "execute_result",
          "data": {
            "text/plain": [
              "       Listing Price    Sale Price     Discount       Rating      Reviews\n",
              "count    3268.000000   3268.000000  3268.000000  3268.000000  3268.000000\n",
              "mean     6868.020196   6134.265606    26.875765     3.242105    40.551714\n",
              "std      4724.659386   4293.247581    22.633487     1.428856    31.543491\n",
              "min         0.000000    449.000000     0.000000     0.000000     0.000000\n",
              "25%      4299.000000   2999.000000     0.000000     2.600000    10.000000\n",
              "50%      5999.000000   4799.000000    40.000000     3.500000    37.000000\n",
              "75%      8999.000000   7995.000000    50.000000     4.400000    68.000000\n",
              "max     29999.000000  36500.000000    60.000000     5.000000   223.000000"
            ],
            "text/html": [
              "\n",
              "  <div id=\"df-ea5b019a-2b3f-4699-a098-01ec9a3c6e97\">\n",
              "    <div class=\"colab-df-container\">\n",
              "      <div>\n",
              "<style scoped>\n",
              "    .dataframe tbody tr th:only-of-type {\n",
              "        vertical-align: middle;\n",
              "    }\n",
              "\n",
              "    .dataframe tbody tr th {\n",
              "        vertical-align: top;\n",
              "    }\n",
              "\n",
              "    .dataframe thead th {\n",
              "        text-align: right;\n",
              "    }\n",
              "</style>\n",
              "<table border=\"1\" class=\"dataframe\">\n",
              "  <thead>\n",
              "    <tr style=\"text-align: right;\">\n",
              "      <th></th>\n",
              "      <th>Listing Price</th>\n",
              "      <th>Sale Price</th>\n",
              "      <th>Discount</th>\n",
              "      <th>Rating</th>\n",
              "      <th>Reviews</th>\n",
              "    </tr>\n",
              "  </thead>\n",
              "  <tbody>\n",
              "    <tr>\n",
              "      <th>count</th>\n",
              "      <td>3268.000000</td>\n",
              "      <td>3268.000000</td>\n",
              "      <td>3268.000000</td>\n",
              "      <td>3268.000000</td>\n",
              "      <td>3268.000000</td>\n",
              "    </tr>\n",
              "    <tr>\n",
              "      <th>mean</th>\n",
              "      <td>6868.020196</td>\n",
              "      <td>6134.265606</td>\n",
              "      <td>26.875765</td>\n",
              "      <td>3.242105</td>\n",
              "      <td>40.551714</td>\n",
              "    </tr>\n",
              "    <tr>\n",
              "      <th>std</th>\n",
              "      <td>4724.659386</td>\n",
              "      <td>4293.247581</td>\n",
              "      <td>22.633487</td>\n",
              "      <td>1.428856</td>\n",
              "      <td>31.543491</td>\n",
              "    </tr>\n",
              "    <tr>\n",
              "      <th>min</th>\n",
              "      <td>0.000000</td>\n",
              "      <td>449.000000</td>\n",
              "      <td>0.000000</td>\n",
              "      <td>0.000000</td>\n",
              "      <td>0.000000</td>\n",
              "    </tr>\n",
              "    <tr>\n",
              "      <th>25%</th>\n",
              "      <td>4299.000000</td>\n",
              "      <td>2999.000000</td>\n",
              "      <td>0.000000</td>\n",
              "      <td>2.600000</td>\n",
              "      <td>10.000000</td>\n",
              "    </tr>\n",
              "    <tr>\n",
              "      <th>50%</th>\n",
              "      <td>5999.000000</td>\n",
              "      <td>4799.000000</td>\n",
              "      <td>40.000000</td>\n",
              "      <td>3.500000</td>\n",
              "      <td>37.000000</td>\n",
              "    </tr>\n",
              "    <tr>\n",
              "      <th>75%</th>\n",
              "      <td>8999.000000</td>\n",
              "      <td>7995.000000</td>\n",
              "      <td>50.000000</td>\n",
              "      <td>4.400000</td>\n",
              "      <td>68.000000</td>\n",
              "    </tr>\n",
              "    <tr>\n",
              "      <th>max</th>\n",
              "      <td>29999.000000</td>\n",
              "      <td>36500.000000</td>\n",
              "      <td>60.000000</td>\n",
              "      <td>5.000000</td>\n",
              "      <td>223.000000</td>\n",
              "    </tr>\n",
              "  </tbody>\n",
              "</table>\n",
              "</div>\n",
              "      <button class=\"colab-df-convert\" onclick=\"convertToInteractive('df-ea5b019a-2b3f-4699-a098-01ec9a3c6e97')\"\n",
              "              title=\"Convert this dataframe to an interactive table.\"\n",
              "              style=\"display:none;\">\n",
              "        \n",
              "  <svg xmlns=\"http://www.w3.org/2000/svg\" height=\"24px\"viewBox=\"0 0 24 24\"\n",
              "       width=\"24px\">\n",
              "    <path d=\"M0 0h24v24H0V0z\" fill=\"none\"/>\n",
              "    <path d=\"M18.56 5.44l.94 2.06.94-2.06 2.06-.94-2.06-.94-.94-2.06-.94 2.06-2.06.94zm-11 1L8.5 8.5l.94-2.06 2.06-.94-2.06-.94L8.5 2.5l-.94 2.06-2.06.94zm10 10l.94 2.06.94-2.06 2.06-.94-2.06-.94-.94-2.06-.94 2.06-2.06.94z\"/><path d=\"M17.41 7.96l-1.37-1.37c-.4-.4-.92-.59-1.43-.59-.52 0-1.04.2-1.43.59L10.3 9.45l-7.72 7.72c-.78.78-.78 2.05 0 2.83L4 21.41c.39.39.9.59 1.41.59.51 0 1.02-.2 1.41-.59l7.78-7.78 2.81-2.81c.8-.78.8-2.07 0-2.86zM5.41 20L4 18.59l7.72-7.72 1.47 1.35L5.41 20z\"/>\n",
              "  </svg>\n",
              "      </button>\n",
              "      \n",
              "  <style>\n",
              "    .colab-df-container {\n",
              "      display:flex;\n",
              "      flex-wrap:wrap;\n",
              "      gap: 12px;\n",
              "    }\n",
              "\n",
              "    .colab-df-convert {\n",
              "      background-color: #E8F0FE;\n",
              "      border: none;\n",
              "      border-radius: 50%;\n",
              "      cursor: pointer;\n",
              "      display: none;\n",
              "      fill: #1967D2;\n",
              "      height: 32px;\n",
              "      padding: 0 0 0 0;\n",
              "      width: 32px;\n",
              "    }\n",
              "\n",
              "    .colab-df-convert:hover {\n",
              "      background-color: #E2EBFA;\n",
              "      box-shadow: 0px 1px 2px rgba(60, 64, 67, 0.3), 0px 1px 3px 1px rgba(60, 64, 67, 0.15);\n",
              "      fill: #174EA6;\n",
              "    }\n",
              "\n",
              "    [theme=dark] .colab-df-convert {\n",
              "      background-color: #3B4455;\n",
              "      fill: #D2E3FC;\n",
              "    }\n",
              "\n",
              "    [theme=dark] .colab-df-convert:hover {\n",
              "      background-color: #434B5C;\n",
              "      box-shadow: 0px 1px 3px 1px rgba(0, 0, 0, 0.15);\n",
              "      filter: drop-shadow(0px 1px 2px rgba(0, 0, 0, 0.3));\n",
              "      fill: #FFFFFF;\n",
              "    }\n",
              "  </style>\n",
              "\n",
              "      <script>\n",
              "        const buttonEl =\n",
              "          document.querySelector('#df-ea5b019a-2b3f-4699-a098-01ec9a3c6e97 button.colab-df-convert');\n",
              "        buttonEl.style.display =\n",
              "          google.colab.kernel.accessAllowed ? 'block' : 'none';\n",
              "\n",
              "        async function convertToInteractive(key) {\n",
              "          const element = document.querySelector('#df-ea5b019a-2b3f-4699-a098-01ec9a3c6e97');\n",
              "          const dataTable =\n",
              "            await google.colab.kernel.invokeFunction('convertToInteractive',\n",
              "                                                     [key], {});\n",
              "          if (!dataTable) return;\n",
              "\n",
              "          const docLinkHtml = 'Like what you see? Visit the ' +\n",
              "            '<a target=\"_blank\" href=https://colab.research.google.com/notebooks/data_table.ipynb>data table notebook</a>'\n",
              "            + ' to learn more about interactive tables.';\n",
              "          element.innerHTML = '';\n",
              "          dataTable['output_type'] = 'display_data';\n",
              "          await google.colab.output.renderOutput(dataTable, element);\n",
              "          const docLink = document.createElement('div');\n",
              "          docLink.innerHTML = docLinkHtml;\n",
              "          element.appendChild(docLink);\n",
              "        }\n",
              "      </script>\n",
              "    </div>\n",
              "  </div>\n",
              "  "
            ]
          },
          "metadata": {},
          "execution_count": 101
        }
      ],
      "source": [
        "# Analisa deskriptif\n",
        "df.describe()"
      ]
    },
    {
      "cell_type": "code",
      "source": [
        "df = df.rename(columns={'Listing Price': 'Listing_Price'})\n",
        "df = df.rename(columns={'Sale Price': 'Sale_Price'})"
      ],
      "metadata": {
        "id": "p05G-MJnwh3I"
      },
      "execution_count": 102,
      "outputs": []
    },
    {
      "cell_type": "code",
      "source": [
        "# Analisa deskriptif\n",
        "df.describe()"
      ],
      "metadata": {
        "colab": {
          "base_uri": "https://localhost:8080/",
          "height": 300
        },
        "id": "497-9lHnw2SL",
        "outputId": "856a60f0-2adb-47e6-e20a-a4ad3b3a715c"
      },
      "execution_count": 103,
      "outputs": [
        {
          "output_type": "execute_result",
          "data": {
            "text/plain": [
              "       Listing_Price    Sale_Price     Discount       Rating      Reviews\n",
              "count    3268.000000   3268.000000  3268.000000  3268.000000  3268.000000\n",
              "mean     6868.020196   6134.265606    26.875765     3.242105    40.551714\n",
              "std      4724.659386   4293.247581    22.633487     1.428856    31.543491\n",
              "min         0.000000    449.000000     0.000000     0.000000     0.000000\n",
              "25%      4299.000000   2999.000000     0.000000     2.600000    10.000000\n",
              "50%      5999.000000   4799.000000    40.000000     3.500000    37.000000\n",
              "75%      8999.000000   7995.000000    50.000000     4.400000    68.000000\n",
              "max     29999.000000  36500.000000    60.000000     5.000000   223.000000"
            ],
            "text/html": [
              "\n",
              "  <div id=\"df-dca4d0b6-73b4-4845-b8de-a892389360b6\">\n",
              "    <div class=\"colab-df-container\">\n",
              "      <div>\n",
              "<style scoped>\n",
              "    .dataframe tbody tr th:only-of-type {\n",
              "        vertical-align: middle;\n",
              "    }\n",
              "\n",
              "    .dataframe tbody tr th {\n",
              "        vertical-align: top;\n",
              "    }\n",
              "\n",
              "    .dataframe thead th {\n",
              "        text-align: right;\n",
              "    }\n",
              "</style>\n",
              "<table border=\"1\" class=\"dataframe\">\n",
              "  <thead>\n",
              "    <tr style=\"text-align: right;\">\n",
              "      <th></th>\n",
              "      <th>Listing_Price</th>\n",
              "      <th>Sale_Price</th>\n",
              "      <th>Discount</th>\n",
              "      <th>Rating</th>\n",
              "      <th>Reviews</th>\n",
              "    </tr>\n",
              "  </thead>\n",
              "  <tbody>\n",
              "    <tr>\n",
              "      <th>count</th>\n",
              "      <td>3268.000000</td>\n",
              "      <td>3268.000000</td>\n",
              "      <td>3268.000000</td>\n",
              "      <td>3268.000000</td>\n",
              "      <td>3268.000000</td>\n",
              "    </tr>\n",
              "    <tr>\n",
              "      <th>mean</th>\n",
              "      <td>6868.020196</td>\n",
              "      <td>6134.265606</td>\n",
              "      <td>26.875765</td>\n",
              "      <td>3.242105</td>\n",
              "      <td>40.551714</td>\n",
              "    </tr>\n",
              "    <tr>\n",
              "      <th>std</th>\n",
              "      <td>4724.659386</td>\n",
              "      <td>4293.247581</td>\n",
              "      <td>22.633487</td>\n",
              "      <td>1.428856</td>\n",
              "      <td>31.543491</td>\n",
              "    </tr>\n",
              "    <tr>\n",
              "      <th>min</th>\n",
              "      <td>0.000000</td>\n",
              "      <td>449.000000</td>\n",
              "      <td>0.000000</td>\n",
              "      <td>0.000000</td>\n",
              "      <td>0.000000</td>\n",
              "    </tr>\n",
              "    <tr>\n",
              "      <th>25%</th>\n",
              "      <td>4299.000000</td>\n",
              "      <td>2999.000000</td>\n",
              "      <td>0.000000</td>\n",
              "      <td>2.600000</td>\n",
              "      <td>10.000000</td>\n",
              "    </tr>\n",
              "    <tr>\n",
              "      <th>50%</th>\n",
              "      <td>5999.000000</td>\n",
              "      <td>4799.000000</td>\n",
              "      <td>40.000000</td>\n",
              "      <td>3.500000</td>\n",
              "      <td>37.000000</td>\n",
              "    </tr>\n",
              "    <tr>\n",
              "      <th>75%</th>\n",
              "      <td>8999.000000</td>\n",
              "      <td>7995.000000</td>\n",
              "      <td>50.000000</td>\n",
              "      <td>4.400000</td>\n",
              "      <td>68.000000</td>\n",
              "    </tr>\n",
              "    <tr>\n",
              "      <th>max</th>\n",
              "      <td>29999.000000</td>\n",
              "      <td>36500.000000</td>\n",
              "      <td>60.000000</td>\n",
              "      <td>5.000000</td>\n",
              "      <td>223.000000</td>\n",
              "    </tr>\n",
              "  </tbody>\n",
              "</table>\n",
              "</div>\n",
              "      <button class=\"colab-df-convert\" onclick=\"convertToInteractive('df-dca4d0b6-73b4-4845-b8de-a892389360b6')\"\n",
              "              title=\"Convert this dataframe to an interactive table.\"\n",
              "              style=\"display:none;\">\n",
              "        \n",
              "  <svg xmlns=\"http://www.w3.org/2000/svg\" height=\"24px\"viewBox=\"0 0 24 24\"\n",
              "       width=\"24px\">\n",
              "    <path d=\"M0 0h24v24H0V0z\" fill=\"none\"/>\n",
              "    <path d=\"M18.56 5.44l.94 2.06.94-2.06 2.06-.94-2.06-.94-.94-2.06-.94 2.06-2.06.94zm-11 1L8.5 8.5l.94-2.06 2.06-.94-2.06-.94L8.5 2.5l-.94 2.06-2.06.94zm10 10l.94 2.06.94-2.06 2.06-.94-2.06-.94-.94-2.06-.94 2.06-2.06.94z\"/><path d=\"M17.41 7.96l-1.37-1.37c-.4-.4-.92-.59-1.43-.59-.52 0-1.04.2-1.43.59L10.3 9.45l-7.72 7.72c-.78.78-.78 2.05 0 2.83L4 21.41c.39.39.9.59 1.41.59.51 0 1.02-.2 1.41-.59l7.78-7.78 2.81-2.81c.8-.78.8-2.07 0-2.86zM5.41 20L4 18.59l7.72-7.72 1.47 1.35L5.41 20z\"/>\n",
              "  </svg>\n",
              "      </button>\n",
              "      \n",
              "  <style>\n",
              "    .colab-df-container {\n",
              "      display:flex;\n",
              "      flex-wrap:wrap;\n",
              "      gap: 12px;\n",
              "    }\n",
              "\n",
              "    .colab-df-convert {\n",
              "      background-color: #E8F0FE;\n",
              "      border: none;\n",
              "      border-radius: 50%;\n",
              "      cursor: pointer;\n",
              "      display: none;\n",
              "      fill: #1967D2;\n",
              "      height: 32px;\n",
              "      padding: 0 0 0 0;\n",
              "      width: 32px;\n",
              "    }\n",
              "\n",
              "    .colab-df-convert:hover {\n",
              "      background-color: #E2EBFA;\n",
              "      box-shadow: 0px 1px 2px rgba(60, 64, 67, 0.3), 0px 1px 3px 1px rgba(60, 64, 67, 0.15);\n",
              "      fill: #174EA6;\n",
              "    }\n",
              "\n",
              "    [theme=dark] .colab-df-convert {\n",
              "      background-color: #3B4455;\n",
              "      fill: #D2E3FC;\n",
              "    }\n",
              "\n",
              "    [theme=dark] .colab-df-convert:hover {\n",
              "      background-color: #434B5C;\n",
              "      box-shadow: 0px 1px 3px 1px rgba(0, 0, 0, 0.15);\n",
              "      filter: drop-shadow(0px 1px 2px rgba(0, 0, 0, 0.3));\n",
              "      fill: #FFFFFF;\n",
              "    }\n",
              "  </style>\n",
              "\n",
              "      <script>\n",
              "        const buttonEl =\n",
              "          document.querySelector('#df-dca4d0b6-73b4-4845-b8de-a892389360b6 button.colab-df-convert');\n",
              "        buttonEl.style.display =\n",
              "          google.colab.kernel.accessAllowed ? 'block' : 'none';\n",
              "\n",
              "        async function convertToInteractive(key) {\n",
              "          const element = document.querySelector('#df-dca4d0b6-73b4-4845-b8de-a892389360b6');\n",
              "          const dataTable =\n",
              "            await google.colab.kernel.invokeFunction('convertToInteractive',\n",
              "                                                     [key], {});\n",
              "          if (!dataTable) return;\n",
              "\n",
              "          const docLinkHtml = 'Like what you see? Visit the ' +\n",
              "            '<a target=\"_blank\" href=https://colab.research.google.com/notebooks/data_table.ipynb>data table notebook</a>'\n",
              "            + ' to learn more about interactive tables.';\n",
              "          element.innerHTML = '';\n",
              "          dataTable['output_type'] = 'display_data';\n",
              "          await google.colab.output.renderOutput(dataTable, element);\n",
              "          const docLink = document.createElement('div');\n",
              "          docLink.innerHTML = docLinkHtml;\n",
              "          element.appendChild(docLink);\n",
              "        }\n",
              "      </script>\n",
              "    </div>\n",
              "  </div>\n",
              "  "
            ]
          },
          "metadata": {},
          "execution_count": 103
        }
      ]
    },
    {
      "cell_type": "code",
      "source": [
        "# Persebaran\n",
        "fig, ax = plt.subplots(2,3, figsize=(15,12))\n",
        "sns.boxplot(df[\"Listing_Price\"],ax=ax[0,0])\n",
        "ax[0, 0].title.set_text('Listing_Price')\n",
        "sns.boxplot(df[\"Sale_Price\"], ax=ax[0,1])\n",
        "ax[0, 1].title.set_text('Sale_Price')\n",
        "sns.boxplot(df[\"Discount\"], ax=ax[0,2])\n",
        "ax[0, 2].title.set_text('Discount')\n",
        "sns.boxplot(df[\"Rating\"], ax=ax[1,0])\n",
        "ax[1, 0].title.set_text('Rating')\n",
        "sns.boxplot(df[\"Reviews\"], ax=ax[1,1])\n",
        "ax[1, 1].title.set_text('Reviews')\n",
        "\n",
        "plt.show()"
      ],
      "metadata": {
        "colab": {
          "base_uri": "https://localhost:8080/",
          "height": 1000
        },
        "id": "nF19kZ0kaKM_",
        "outputId": "0ed04811-e01a-44c9-a59c-c1b206554494"
      },
      "execution_count": 104,
      "outputs": [
        {
          "output_type": "display_data",
          "data": {
            "text/plain": [
              "<Figure size 1500x1200 with 6 Axes>"
            ],
            "image/png": "[encoded data removed]"
          },
          "metadata": {}
        }
      ]
    },
    {
      "cell_type": "markdown",
      "source": [
        "Dari detect outlier menggunakan bloxplot diatas didapat\n",
        "1. Terdapat outliers pada data Listing Price, Sale Price, Reviews\n",
        "2. Tidak terdapat outliers pada data Discount dan Rating"
      ],
      "metadata": {
        "id": "2J7YC_9ZfM4l"
      }
    },
    {
      "cell_type": "markdown",
      "source": [
        "1. Handling Outliers pada Listing Price"
      ],
      "metadata": {
        "id": "D5sVkJ3EvNO3"
      }
    },
    {
      "cell_type": "code",
      "source": [
        "# Deteksi dengan boxplot\n",
        "plt.boxplot(list(df.Listing_Price), vert=False)\n",
        "plt.title(\"Detecting outliers using Boxplot\")\n",
        "plt.xlabel('Listing Price')"
      ],
      "metadata": {
        "colab": {
          "base_uri": "https://localhost:8080/",
          "height": 489
        },
        "id": "rTV5xq6GvSS1",
        "outputId": "78cfebab-12ba-4eac-e9cb-991221ec4651"
      },
      "execution_count": 105,
      "outputs": [
        {
          "output_type": "execute_result",
          "data": {
            "text/plain": [
              "Text(0.5, 0, 'Listing Price')"
            ]
          },
          "metadata": {},
          "execution_count": 105
        },
        {
          "output_type": "display_data",
          "data": {
            "text/plain": [
              "<Figure size 640x480 with 1 Axes>"
            ],
            "image/png": "[encoded data removed]"
          },
          "metadata": {}
        }
      ]
    },
    {
      "cell_type": "code",
      "source": [
        "# Fungsi Pendeteksian Outlier dengan IQR\n",
        "def detect_outliers_iqr(data):\n",
        "    outliers = []\n",
        "    data = sorted(data)\n",
        "    q1 = np.percentile(data, 25)\n",
        "    q3 = np.percentile(data, 75)\n",
        "\n",
        "    IQR = q3-q1\n",
        "    lwr_bound = q1-(1.5*IQR)\n",
        "    upr_bound = q3+(1.5*IQR)\n",
        "\n",
        "    for i in data: \n",
        "        if (i<lwr_bound or i>upr_bound):\n",
        "            outliers.append(i)\n",
        "    return outliers\n",
        "sample_outliers = detect_outliers_iqr(df.Listing_Price)\n",
        "print(\"Outliers from IQR method: \", sample_outliers)"
      ],
      "metadata": {
        "colab": {
          "base_uri": "https://localhost:8080/"
        },
        "id": "SP_E76oxxEHx",
        "outputId": "5c8557e8-3382-49df-fdde-fc1351495a80"
      },
      "execution_count": 106,
      "outputs": [
        {
          "output_type": "stream",
          "name": "stdout",
          "text": [
            "Outliers from IQR method:  [16995, 16995, 16995, 16995, 16995, 16995, 16995, 16995, 16995, 16995, 16995, 16995, 16995, 16995, 16995, 16999, 16999, 16999, 16999, 16999, 16999, 16999, 16999, 16999, 16999, 16999, 16999, 16999, 16999, 16999, 16999, 16999, 16999, 16999, 16999, 16999, 16999, 16999, 16999, 16999, 16999, 16999, 17995, 17995, 17995, 17995, 17999, 17999, 17999, 17999, 17999, 17999, 17999, 17999, 17999, 17999, 17999, 17999, 17999, 17999, 17999, 17999, 17999, 17999, 17999, 17999, 17999, 17999, 17999, 17999, 17999, 17999, 17999, 17999, 17999, 17999, 17999, 17999, 17999, 17999, 17999, 18995, 18995, 18999, 18999, 18999, 18999, 18999, 18999, 18999, 19995, 19999, 19999, 19999, 19999, 19999, 19999, 19999, 19999, 19999, 19999, 19999, 21999, 21999, 21999, 21999, 21999, 21999, 21999, 21999, 21999, 21999, 21999, 22999, 22999, 22999, 22999, 22999, 22999, 22999, 22999, 23999, 23999, 23999, 23999, 23999, 27999, 27999, 27999, 27999, 29999, 29999]\n"
          ]
        }
      ]
    },
    {
      "cell_type": "code",
      "source": [
        "# Deteksi outlier dengan IQR\n",
        "outliers = detect_outliers_iqr(list(df.Listing_Price))\n",
        "print(\"Outliers Overs from IQR method: \", outliers)\n",
        "print(\"Banyaknya outlier: \",len(outliers))"
      ],
      "metadata": {
        "colab": {
          "base_uri": "https://localhost:8080/"
        },
        "id": "EWR8xylPxLDG",
        "outputId": "b605799c-c6b7-46be-c310-bcacbcbbf03f"
      },
      "execution_count": 107,
      "outputs": [
        {
          "output_type": "stream",
          "name": "stdout",
          "text": [
            "Outliers Overs from IQR method:  [16995, 16995, 16995, 16995, 16995, 16995, 16995, 16995, 16995, 16995, 16995, 16995, 16995, 16995, 16995, 16999, 16999, 16999, 16999, 16999, 16999, 16999, 16999, 16999, 16999, 16999, 16999, 16999, 16999, 16999, 16999, 16999, 16999, 16999, 16999, 16999, 16999, 16999, 16999, 16999, 16999, 16999, 17995, 17995, 17995, 17995, 17999, 17999, 17999, 17999, 17999, 17999, 17999, 17999, 17999, 17999, 17999, 17999, 17999, 17999, 17999, 17999, 17999, 17999, 17999, 17999, 17999, 17999, 17999, 17999, 17999, 17999, 17999, 17999, 17999, 17999, 17999, 17999, 17999, 17999, 17999, 18995, 18995, 18999, 18999, 18999, 18999, 18999, 18999, 18999, 19995, 19999, 19999, 19999, 19999, 19999, 19999, 19999, 19999, 19999, 19999, 19999, 21999, 21999, 21999, 21999, 21999, 21999, 21999, 21999, 21999, 21999, 21999, 22999, 22999, 22999, 22999, 22999, 22999, 22999, 22999, 23999, 23999, 23999, 23999, 23999, 27999, 27999, 27999, 27999, 29999, 29999]\n",
            "Banyaknya outlier:  132\n"
          ]
        }
      ]
    },
    {
      "cell_type": "markdown",
      "source": [
        "Replace dengan median data"
      ],
      "metadata": {
        "id": "nXzqLHqBxR1M"
      }
    },
    {
      "cell_type": "code",
      "source": [
        "e = []\n",
        "for y in list(df.Listing_Price):\n",
        "    ff = y in outliers\n",
        "    if ff is True:\n",
        "        y=statistics.median(list(df.Listing_Price))\n",
        "    else:\n",
        "        y=y\n",
        "    e.append(y)"
      ],
      "metadata": {
        "id": "WebmqZylxTba"
      },
      "execution_count": 108,
      "outputs": []
    },
    {
      "cell_type": "code",
      "source": [
        "# Menghitung nilai mean dan median data\n",
        "print(\"Mean data : \",statistics.mean(list(df.Listing_Price)))\n",
        "print(\"Median data : \",statistics.median(list(df.Listing_Price)))\n",
        "print(\"Mean data setelah replacing median : \",statistics.mean(e))\n",
        "print(\"Median data setelah replacing median: \",statistics.median(e))"
      ],
      "metadata": {
        "colab": {
          "base_uri": "https://localhost:8080/"
        },
        "id": "jcKv3UySxV5x",
        "outputId": "c079aa4a-2abc-4d20-aa04-d636c44ac2ca"
      },
      "execution_count": 109,
      "outputs": [
        {
          "output_type": "stream",
          "name": "stdout",
          "text": [
            "Mean data :  6868.020195838433\n",
            "Median data :  5999.0\n",
            "Mean data setelah replacing median :  6331.63341493268\n",
            "Median data setelah replacing median:  5999.0\n"
          ]
        }
      ]
    },
    {
      "cell_type": "code",
      "source": [
        "# Boxplot setelah replace median\n",
        "plt.boxplot(e, vert=False)\n",
        "plt.title(\"Boxplot after Handling Outlier\")\n",
        "plt.xlabel('Listing Price')"
      ],
      "metadata": {
        "colab": {
          "base_uri": "https://localhost:8080/",
          "height": 489
        },
        "id": "bxlRHlj5xY6T",
        "outputId": "f5754419-e70a-43c4-fc0f-9c16f90e1f8c"
      },
      "execution_count": 110,
      "outputs": [
        {
          "output_type": "execute_result",
          "data": {
            "text/plain": [
              "Text(0.5, 0, 'Listing Price')"
            ]
          },
          "metadata": {},
          "execution_count": 110
        },
        {
          "output_type": "display_data",
          "data": {
            "text/plain": [
              "<Figure size 640x480 with 1 Axes>"
            ],
            "image/png": "[encoded data removed]"
          },
          "metadata": {}
        }
      ]
    },
    {
      "cell_type": "markdown",
      "source": [
        "2. Handling Outliers pada Sale Price"
      ],
      "metadata": {
        "id": "GCjIQcJMy8j1"
      }
    },
    {
      "cell_type": "code",
      "source": [
        "# Deteksi dengan boxplot\n",
        "plt.boxplot(list(df.Sale_Price), vert=False)\n",
        "plt.title(\"Detecting outliers using Boxplot\")\n",
        "plt.xlabel('Sale Price')"
      ],
      "metadata": {
        "colab": {
          "base_uri": "https://localhost:8080/",
          "height": 489
        },
        "id": "gUR4uXPfzCJ5",
        "outputId": "870e8063-1b4c-41ea-97b9-df017a042f9b"
      },
      "execution_count": 111,
      "outputs": [
        {
          "output_type": "execute_result",
          "data": {
            "text/plain": [
              "Text(0.5, 0, 'Sale Price')"
            ]
          },
          "metadata": {},
          "execution_count": 111
        },
        {
          "output_type": "display_data",
          "data": {
            "text/plain": [
              "<Figure size 640x480 with 1 Axes>"
            ],
            "image/png": "[encoded data removed]"
          },
          "metadata": {}
        }
      ]
    },
    {
      "cell_type": "code",
      "source": [
        "# Fungsi Pendeteksian Outlier dengan IQR\n",
        "def detect_outliers_iqr(data):\n",
        "    outliers = []\n",
        "    data = sorted(data)\n",
        "    q1 = np.percentile(data, 25)\n",
        "    q3 = np.percentile(data, 75)\n",
        "\n",
        "    IQR = q3-q1\n",
        "    lwr_bound = q1-(1.5*IQR)\n",
        "    upr_bound = q3+(1.5*IQR)\n",
        "\n",
        "    for i in data: \n",
        "        if (i<lwr_bound or i>upr_bound):\n",
        "            outliers.append(i)\n",
        "    return outliers\n",
        "sample_outliers = detect_outliers_iqr(df.Sale_Price)\n",
        "print(\"Outliers from IQR method: \", sample_outliers)"
      ],
      "metadata": {
        "colab": {
          "base_uri": "https://localhost:8080/"
        },
        "id": "6buSbfn2191b",
        "outputId": "98d81b7e-8dc8-486f-c876-137e78aca65e"
      },
      "execution_count": 112,
      "outputs": [
        {
          "output_type": "stream",
          "name": "stdout",
          "text": [
            "Outliers from IQR method:  [15995, 15995, 15995, 15995, 15995, 15995, 15995, 15995, 15995, 15995, 15995, 15995, 15995, 15995, 15995, 15995, 15995, 15995, 15995, 15995, 15995, 15995, 15995, 15995, 15995, 15995, 15995, 15995, 15995, 15995, 15995, 15995, 15995, 15995, 15995, 15997, 15999, 15999, 15999, 16995, 16995, 16995, 16995, 16995, 16995, 16995, 16995, 16995, 16995, 16995, 16995, 16995, 16995, 16995, 16995, 16995, 16999, 16999, 16999, 16999, 16999, 16999, 16999, 16999, 16999, 17995, 17999, 17999, 17999, 17999, 17999, 17999, 17999, 17999, 17999, 17999, 17999, 17999, 17999, 17999, 17999, 17999, 17999, 17999, 18995, 18995, 18995, 18995, 18995, 18995, 18995, 18995, 18999, 18999, 19995, 19995, 19995, 19995, 19999, 19999, 19999, 19999, 19999, 19999, 19999, 20995, 20995, 21995, 21995, 21995, 21995, 21995, 21999, 21999, 21999, 21999, 22995, 22995, 22995, 22995, 22995, 22995, 22995, 22995, 22999, 23999, 23999, 23999, 23999, 23999, 24995, 24995, 24995, 24995, 27999, 27999, 27999, 27999, 29999, 29999, 36500]\n"
          ]
        }
      ]
    },
    {
      "cell_type": "code",
      "source": [
        "# Deteksi outlier dengan IQR\n",
        "outliers = detect_outliers_iqr(list(df.Sale_Price))\n",
        "print(\"Outliers Overs from IQR method: \", outliers)\n",
        "print(\"Banyaknya outlier: \",len(outliers))"
      ],
      "metadata": {
        "colab": {
          "base_uri": "https://localhost:8080/"
        },
        "id": "0ZH7EzRa1-aW",
        "outputId": "4c543155-5b28-4561-d1c0-d9e01a169740"
      },
      "execution_count": 113,
      "outputs": [
        {
          "output_type": "stream",
          "name": "stdout",
          "text": [
            "Outliers Overs from IQR method:  [15995, 15995, 15995, 15995, 15995, 15995, 15995, 15995, 15995, 15995, 15995, 15995, 15995, 15995, 15995, 15995, 15995, 15995, 15995, 15995, 15995, 15995, 15995, 15995, 15995, 15995, 15995, 15995, 15995, 15995, 15995, 15995, 15995, 15995, 15995, 15997, 15999, 15999, 15999, 16995, 16995, 16995, 16995, 16995, 16995, 16995, 16995, 16995, 16995, 16995, 16995, 16995, 16995, 16995, 16995, 16995, 16999, 16999, 16999, 16999, 16999, 16999, 16999, 16999, 16999, 17995, 17999, 17999, 17999, 17999, 17999, 17999, 17999, 17999, 17999, 17999, 17999, 17999, 17999, 17999, 17999, 17999, 17999, 17999, 18995, 18995, 18995, 18995, 18995, 18995, 18995, 18995, 18999, 18999, 19995, 19995, 19995, 19995, 19999, 19999, 19999, 19999, 19999, 19999, 19999, 20995, 20995, 21995, 21995, 21995, 21995, 21995, 21999, 21999, 21999, 21999, 22995, 22995, 22995, 22995, 22995, 22995, 22995, 22995, 22999, 23999, 23999, 23999, 23999, 23999, 24995, 24995, 24995, 24995, 27999, 27999, 27999, 27999, 29999, 29999, 36500]\n",
            "Banyaknya outlier:  141\n"
          ]
        }
      ]
    },
    {
      "cell_type": "markdown",
      "source": [
        "Replace dengan median data"
      ],
      "metadata": {
        "id": "oEeGXY3SzWci"
      }
    },
    {
      "cell_type": "code",
      "source": [
        "e = []\n",
        "for y in list(df.Sale_Price):\n",
        "    ff = y in outliers\n",
        "    if ff is True:\n",
        "        y=statistics.median(list(df.Sale_Price))\n",
        "    else:\n",
        "        y=y\n",
        "    e.append(y)"
      ],
      "metadata": {
        "id": "gcauL6LPzXCH"
      },
      "execution_count": 114,
      "outputs": []
    },
    {
      "cell_type": "code",
      "source": [
        "# Menghitung nilai mean dan median data\n",
        "print(\"Mean data : \",statistics.mean(list(df.Sale_Price)))\n",
        "print(\"Median data : \",statistics.median(list(df.Sale_Price)))\n",
        "print(\"Mean data setelah replacing median : \",statistics.mean(e))\n",
        "print(\"Median data setelah replacing median: \",statistics.median(e))"
      ],
      "metadata": {
        "colab": {
          "base_uri": "https://localhost:8080/"
        },
        "id": "9uuOPmvFzgI2",
        "outputId": "dafde59d-796b-4f90-a2ae-eb74b17159fa"
      },
      "execution_count": 115,
      "outputs": [
        {
          "output_type": "stream",
          "name": "stdout",
          "text": [
            "Mean data :  6134.265605875153\n",
            "Median data :  4799.0\n",
            "Mean data setelah replacing median :  5517.263463892289\n",
            "Median data setelah replacing median:  4799.0\n"
          ]
        }
      ]
    },
    {
      "cell_type": "code",
      "source": [
        "# Boxplot setelah replace median\n",
        "plt.boxplot(e, vert=False)\n",
        "plt.title(\"Boxplot after Handling Outlier\")\n",
        "plt.xlabel('Sale Price')"
      ],
      "metadata": {
        "colab": {
          "base_uri": "https://localhost:8080/",
          "height": 489
        },
        "id": "DIyZfJGnzi0Q",
        "outputId": "60c430eb-40af-48e0-ecd9-55ff20072862"
      },
      "execution_count": 116,
      "outputs": [
        {
          "output_type": "execute_result",
          "data": {
            "text/plain": [
              "Text(0.5, 0, 'Sale Price')"
            ]
          },
          "metadata": {},
          "execution_count": 116
        },
        {
          "output_type": "display_data",
          "data": {
            "text/plain": [
              "<Figure size 640x480 with 1 Axes>"
            ],
            "image/png": "[encoded data removed]"
          },
          "metadata": {}
        }
      ]
    },
    {
      "cell_type": "markdown",
      "source": [
        "3. Handling Outliers pada Reviews"
      ],
      "metadata": {
        "id": "0N82_29Xz8xF"
      }
    },
    {
      "cell_type": "code",
      "source": [
        "# Deteksi dengan boxplot\n",
        "plt.boxplot(list(df.Reviews), vert=False)\n",
        "plt.title(\"Detecting outliers using Boxplot\")\n",
        "plt.xlabel('Reviews')"
      ],
      "metadata": {
        "colab": {
          "base_uri": "https://localhost:8080/",
          "height": 489
        },
        "id": "N-RpJqWBz_Kc",
        "outputId": "e02e2fe9-0d2c-40b9-80c7-f924f0383224"
      },
      "execution_count": 117,
      "outputs": [
        {
          "output_type": "execute_result",
          "data": {
            "text/plain": [
              "Text(0.5, 0, 'Reviews')"
            ]
          },
          "metadata": {},
          "execution_count": 117
        },
        {
          "output_type": "display_data",
          "data": {
            "text/plain": [
              "<Figure size 640x480 with 1 Axes>"
            ],
            "image/png": "[encoded data removed]"
          },
          "metadata": {}
        }
      ]
    },
    {
      "cell_type": "code",
      "source": [
        "# Fungsi Pendeteksian Outlier dengan IQR\n",
        "def detect_outliers_iqr(data):\n",
        "    outliers = []\n",
        "    data = sorted(data)\n",
        "    q1 = np.percentile(data, 25)\n",
        "    q3 = np.percentile(data, 75)\n",
        "\n",
        "    IQR = q3-q1\n",
        "    lwr_bound = q1-(1.5*IQR)\n",
        "    upr_bound = q3+(1.5*IQR)\n",
        "\n",
        "    for i in data: \n",
        "        if (i<lwr_bound or i>upr_bound):\n",
        "            outliers.append(i)\n",
        "    return outliers\n",
        "sample_outliers = detect_outliers_iqr(df.Reviews)\n",
        "print(\"Outliers from IQR method: \", sample_outliers)"
      ],
      "metadata": {
        "colab": {
          "base_uri": "https://localhost:8080/"
        },
        "id": "vA2hInPk2CYx",
        "outputId": "3ebe6f30-2f84-4ffc-a942-5858250b8585"
      },
      "execution_count": 118,
      "outputs": [
        {
          "output_type": "stream",
          "name": "stdout",
          "text": [
            "Outliers from IQR method:  [223]\n"
          ]
        }
      ]
    },
    {
      "cell_type": "code",
      "source": [
        "# Deteksi outlier dengan IQR\n",
        "outliers = detect_outliers_iqr(list(df.Reviews))\n",
        "print(\"Outliers Overs from IQR method: \", outliers)\n",
        "print(\"Banyaknya outlier: \",len(outliers))"
      ],
      "metadata": {
        "colab": {
          "base_uri": "https://localhost:8080/"
        },
        "id": "Rv9-tIQa2FEN",
        "outputId": "b0259528-febf-4d5d-e79e-74894586e874"
      },
      "execution_count": 119,
      "outputs": [
        {
          "output_type": "stream",
          "name": "stdout",
          "text": [
            "Outliers Overs from IQR method:  [223]\n",
            "Banyaknya outlier:  1\n"
          ]
        }
      ]
    },
    {
      "cell_type": "markdown",
      "source": [
        "hapus outliers"
      ],
      "metadata": {
        "id": "qmcDlPIw2IfY"
      }
    },
    {
      "cell_type": "code",
      "source": [
        "# Deleting\n",
        "tr = []\n",
        "for j in list(df.Reviews):\n",
        "    f = j in outliers\n",
        "    if f is False:\n",
        "        tr.append(j)"
      ],
      "metadata": {
        "id": "Wahn9rOP0HaM"
      },
      "execution_count": 120,
      "outputs": []
    },
    {
      "cell_type": "code",
      "source": [
        "print(\"Banyaknya data sebelum diatasi outlier: \",len(list(df.Reviews)))\n",
        "print(\"Banyaknya data setelah diatasi outlier: \",len(tr))"
      ],
      "metadata": {
        "colab": {
          "base_uri": "https://localhost:8080/"
        },
        "id": "XJP-kc9u0J-J",
        "outputId": "b86741d5-d13d-46d9-9345-5ea67ab10eed"
      },
      "execution_count": 121,
      "outputs": [
        {
          "output_type": "stream",
          "name": "stdout",
          "text": [
            "Banyaknya data sebelum diatasi outlier:  3268\n",
            "Banyaknya data setelah diatasi outlier:  3267\n"
          ]
        }
      ]
    },
    {
      "cell_type": "code",
      "source": [
        "# Boxplot setelah penghapusan data\n",
        "plt.boxplot(tr, vert=False)\n",
        "plt.title(\"Boxplot after Deleting Outlier\")\n",
        "plt.xlabel('Reviews')"
      ],
      "metadata": {
        "colab": {
          "base_uri": "https://localhost:8080/",
          "height": 489
        },
        "id": "xBBdfYin0MC6",
        "outputId": "23df7094-9073-42a3-d441-4e5a0e4a8baf"
      },
      "execution_count": 122,
      "outputs": [
        {
          "output_type": "execute_result",
          "data": {
            "text/plain": [
              "Text(0.5, 0, 'Reviews')"
            ]
          },
          "metadata": {},
          "execution_count": 122
        },
        {
          "output_type": "display_data",
          "data": {
            "text/plain": [
              "<Figure size 640x480 with 1 Axes>"
            ],
            "image/png": "[encoded data removed]"
          },
          "metadata": {}
        }
      ]
    },
    {
      "cell_type": "markdown",
      "metadata": {
        "id": "ybN-zvjYkE8l"
      },
      "source": [
        "## Data Preprocessing"
      ]
    },
    {
      "cell_type": "markdown",
      "source": [
        "Dari info data diatas, sudah terlihat bahwa tidak terdapat missing value pada data, sehingga lanngsung ke tahap encode categorical."
      ],
      "metadata": {
        "id": "JvEl7JTToxXQ"
      }
    },
    {
      "cell_type": "markdown",
      "metadata": {
        "id": "6xBG2GAySAFw"
      },
      "source": [
        "### Encode Categorical"
      ]
    },
    {
      "cell_type": "code",
      "execution_count": 123,
      "metadata": {
        "colab": {
          "base_uri": "https://localhost:8080/",
          "height": 206
        },
        "id": "yDTruWDvq6MB",
        "outputId": "c7f865d6-e7d7-4d7f-f764-5a9579013c71"
      },
      "outputs": [
        {
          "output_type": "execute_result",
          "data": {
            "text/plain": [
              "   Brand  Listing_Price  Sale_Price  Discount  Reviews\n",
              "0      1          14999        7499        50       41\n",
              "1      1           7599        3799        50       24\n",
              "2      0            999         599        40       37\n",
              "3      0           6999        3499        50       35\n",
              "4      1           7999        3999        50       72"
            ],
            "text/html": [
              "\n",
              "  <div id=\"df-0c552de8-7447-4e7f-af0c-17d7737e6a46\">\n",
              "    <div class=\"colab-df-container\">\n",
              "      <div>\n",
              "<style scoped>\n",
              "    .dataframe tbody tr th:only-of-type {\n",
              "        vertical-align: middle;\n",
              "    }\n",
              "\n",
              "    .dataframe tbody tr th {\n",
              "        vertical-align: top;\n",
              "    }\n",
              "\n",
              "    .dataframe thead th {\n",
              "        text-align: right;\n",
              "    }\n",
              "</style>\n",
              "<table border=\"1\" class=\"dataframe\">\n",
              "  <thead>\n",
              "    <tr style=\"text-align: right;\">\n",
              "      <th></th>\n",
              "      <th>Brand</th>\n",
              "      <th>Listing_Price</th>\n",
              "      <th>Sale_Price</th>\n",
              "      <th>Discount</th>\n",
              "      <th>Reviews</th>\n",
              "    </tr>\n",
              "  </thead>\n",
              "  <tbody>\n",
              "    <tr>\n",
              "      <th>0</th>\n",
              "      <td>1</td>\n",
              "      <td>14999</td>\n",
              "      <td>7499</td>\n",
              "      <td>50</td>\n",
              "      <td>41</td>\n",
              "    </tr>\n",
              "    <tr>\n",
              "      <th>1</th>\n",
              "      <td>1</td>\n",
              "      <td>7599</td>\n",
              "      <td>3799</td>\n",
              "      <td>50</td>\n",
              "      <td>24</td>\n",
              "    </tr>\n",
              "    <tr>\n",
              "      <th>2</th>\n",
              "      <td>0</td>\n",
              "      <td>999</td>\n",
              "      <td>599</td>\n",
              "      <td>40</td>\n",
              "      <td>37</td>\n",
              "    </tr>\n",
              "    <tr>\n",
              "      <th>3</th>\n",
              "      <td>0</td>\n",
              "      <td>6999</td>\n",
              "      <td>3499</td>\n",
              "      <td>50</td>\n",
              "      <td>35</td>\n",
              "    </tr>\n",
              "    <tr>\n",
              "      <th>4</th>\n",
              "      <td>1</td>\n",
              "      <td>7999</td>\n",
              "      <td>3999</td>\n",
              "      <td>50</td>\n",
              "      <td>72</td>\n",
              "    </tr>\n",
              "  </tbody>\n",
              "</table>\n",
              "</div>\n",
              "      <button class=\"colab-df-convert\" onclick=\"convertToInteractive('df-0c552de8-7447-4e7f-af0c-17d7737e6a46')\"\n",
              "              title=\"Convert this dataframe to an interactive table.\"\n",
              "              style=\"display:none;\">\n",
              "        \n",
              "  <svg xmlns=\"http://www.w3.org/2000/svg\" height=\"24px\"viewBox=\"0 0 24 24\"\n",
              "       width=\"24px\">\n",
              "    <path d=\"M0 0h24v24H0V0z\" fill=\"none\"/>\n",
              "    <path d=\"M18.56 5.44l.94 2.06.94-2.06 2.06-.94-2.06-.94-.94-2.06-.94 2.06-2.06.94zm-11 1L8.5 8.5l.94-2.06 2.06-.94-2.06-.94L8.5 2.5l-.94 2.06-2.06.94zm10 10l.94 2.06.94-2.06 2.06-.94-2.06-.94-.94-2.06-.94 2.06-2.06.94z\"/><path d=\"M17.41 7.96l-1.37-1.37c-.4-.4-.92-.59-1.43-.59-.52 0-1.04.2-1.43.59L10.3 9.45l-7.72 7.72c-.78.78-.78 2.05 0 2.83L4 21.41c.39.39.9.59 1.41.59.51 0 1.02-.2 1.41-.59l7.78-7.78 2.81-2.81c.8-.78.8-2.07 0-2.86zM5.41 20L4 18.59l7.72-7.72 1.47 1.35L5.41 20z\"/>\n",
              "  </svg>\n",
              "      </button>\n",
              "      \n",
              "  <style>\n",
              "    .colab-df-container {\n",
              "      display:flex;\n",
              "      flex-wrap:wrap;\n",
              "      gap: 12px;\n",
              "    }\n",
              "\n",
              "    .colab-df-convert {\n",
              "      background-color: #E8F0FE;\n",
              "      border: none;\n",
              "      border-radius: 50%;\n",
              "      cursor: pointer;\n",
              "      display: none;\n",
              "      fill: #1967D2;\n",
              "      height: 32px;\n",
              "      padding: 0 0 0 0;\n",
              "      width: 32px;\n",
              "    }\n",
              "\n",
              "    .colab-df-convert:hover {\n",
              "      background-color: #E2EBFA;\n",
              "      box-shadow: 0px 1px 2px rgba(60, 64, 67, 0.3), 0px 1px 3px 1px rgba(60, 64, 67, 0.15);\n",
              "      fill: #174EA6;\n",
              "    }\n",
              "\n",
              "    [theme=dark] .colab-df-convert {\n",
              "      background-color: #3B4455;\n",
              "      fill: #D2E3FC;\n",
              "    }\n",
              "\n",
              "    [theme=dark] .colab-df-convert:hover {\n",
              "      background-color: #434B5C;\n",
              "      box-shadow: 0px 1px 3px 1px rgba(0, 0, 0, 0.15);\n",
              "      filter: drop-shadow(0px 1px 2px rgba(0, 0, 0, 0.3));\n",
              "      fill: #FFFFFF;\n",
              "    }\n",
              "  </style>\n",
              "\n",
              "      <script>\n",
              "        const buttonEl =\n",
              "          document.querySelector('#df-0c552de8-7447-4e7f-af0c-17d7737e6a46 button.colab-df-convert');\n",
              "        buttonEl.style.display =\n",
              "          google.colab.kernel.accessAllowed ? 'block' : 'none';\n",
              "\n",
              "        async function convertToInteractive(key) {\n",
              "          const element = document.querySelector('#df-0c552de8-7447-4e7f-af0c-17d7737e6a46');\n",
              "          const dataTable =\n",
              "            await google.colab.kernel.invokeFunction('convertToInteractive',\n",
              "                                                     [key], {});\n",
              "          if (!dataTable) return;\n",
              "\n",
              "          const docLinkHtml = 'Like what you see? Visit the ' +\n",
              "            '<a target=\"_blank\" href=https://colab.research.google.com/notebooks/data_table.ipynb>data table notebook</a>'\n",
              "            + ' to learn more about interactive tables.';\n",
              "          element.innerHTML = '';\n",
              "          dataTable['output_type'] = 'display_data';\n",
              "          await google.colab.output.renderOutput(dataTable, element);\n",
              "          const docLink = document.createElement('div');\n",
              "          docLink.innerHTML = docLinkHtml;\n",
              "          element.appendChild(docLink);\n",
              "        }\n",
              "      </script>\n",
              "    </div>\n",
              "  </div>\n",
              "  "
            ]
          },
          "metadata": {},
          "execution_count": 123
        }
      ],
      "source": [
        "# Merubah data kategori menjadi numerik\n",
        "label_encoder = LabelEncoder()\n",
        "encoded_data = df[categorical].apply(label_encoder.fit_transform)\n",
        "\n",
        "# Menggabungkan kolom umur dan nilai belanja setahun dengan data kategori\n",
        "cluster_data = pd.concat([encoded_data, df[[\"Listing_Price\", \"Sale_Price\",\"Discount\",\"Reviews\"]]], axis=1)\n",
        "\n",
        "cluster_data.head()"
      ]
    },
    {
      "cell_type": "markdown",
      "metadata": {
        "id": "X2WIXGEsS3Z7"
      },
      "source": [
        "### Features Selection\n",
        "Dalam proses ini akan dipilih variabel yang memiliki pengaruh besar dalam penentuan cluster data."
      ]
    },
    {
      "cell_type": "code",
      "execution_count": 124,
      "metadata": {
        "colab": {
          "base_uri": "https://localhost:8080/",
          "height": 553
        },
        "id": "Z2moUSNpq7YW",
        "outputId": "7e2c93d6-fbc3-44c2-adf7-252b34085475"
      },
      "outputs": [
        {
          "output_type": "display_data",
          "data": {
            "text/plain": [
              "<Figure size 800x600 with 2 Axes>"
            ],
            "image/png": "[encoded data removed]"
          },
          "metadata": {}
        }
      ],
      "source": [
        "# Features Selection\n",
        "plt.figure(figsize=(8,6))\n",
        "sns.heatmap(cluster_data.corr(), cmap = 'PuBuGn', annot = True)\n",
        "plt.title('Heatmap Data', fontsize = 20)\n",
        "plt.show()"
      ]
    },
    {
      "cell_type": "markdown",
      "metadata": {
        "id": "iAQOmElkxKXG"
      },
      "source": [
        "Dari hasil heatmap diatas diketahui bahwa korelasi terbesar dimiliki oleh variabel Sale Price dan juga Brand, selanjutnya disusul oleh Listing Price dan Sale Price, serta Diskon dan Reviews, akan tetapi nilainya cukup rendah. Oleh karena itu, untuk selanjutnya akan digunakan 2 variabel dalam menentukan cluster dari data Sale Price, dan Brand."
      ]
    },
    {
      "cell_type": "code",
      "execution_count": 125,
      "metadata": {
        "colab": {
          "base_uri": "https://localhost:8080/",
          "height": 206
        },
        "id": "CZ9zh0RSzrBn",
        "outputId": "5cad3e81-52d8-4c5c-adac-de1153025853"
      },
      "outputs": [
        {
          "output_type": "execute_result",
          "data": {
            "text/plain": [
              "   Brand  Sale_Price\n",
              "0      1        7499\n",
              "1      1        3799\n",
              "2      0         599\n",
              "3      0        3499\n",
              "4      1        3999"
            ],
            "text/html": [
              "\n",
              "  <div id=\"df-3e5b6bca-d9be-422a-867b-490c94ebaa45\">\n",
              "    <div class=\"colab-df-container\">\n",
              "      <div>\n",
              "<style scoped>\n",
              "    .dataframe tbody tr th:only-of-type {\n",
              "        vertical-align: middle;\n",
              "    }\n",
              "\n",
              "    .dataframe tbody tr th {\n",
              "        vertical-align: top;\n",
              "    }\n",
              "\n",
              "    .dataframe thead th {\n",
              "        text-align: right;\n",
              "    }\n",
              "</style>\n",
              "<table border=\"1\" class=\"dataframe\">\n",
              "  <thead>\n",
              "    <tr style=\"text-align: right;\">\n",
              "      <th></th>\n",
              "      <th>Brand</th>\n",
              "      <th>Sale_Price</th>\n",
              "    </tr>\n",
              "  </thead>\n",
              "  <tbody>\n",
              "    <tr>\n",
              "      <th>0</th>\n",
              "      <td>1</td>\n",
              "      <td>7499</td>\n",
              "    </tr>\n",
              "    <tr>\n",
              "      <th>1</th>\n",
              "      <td>1</td>\n",
              "      <td>3799</td>\n",
              "    </tr>\n",
              "    <tr>\n",
              "      <th>2</th>\n",
              "      <td>0</td>\n",
              "      <td>599</td>\n",
              "    </tr>\n",
              "    <tr>\n",
              "      <th>3</th>\n",
              "      <td>0</td>\n",
              "      <td>3499</td>\n",
              "    </tr>\n",
              "    <tr>\n",
              "      <th>4</th>\n",
              "      <td>1</td>\n",
              "      <td>3999</td>\n",
              "    </tr>\n",
              "  </tbody>\n",
              "</table>\n",
              "</div>\n",
              "      <button class=\"colab-df-convert\" onclick=\"convertToInteractive('df-3e5b6bca-d9be-422a-867b-490c94ebaa45')\"\n",
              "              title=\"Convert this dataframe to an interactive table.\"\n",
              "              style=\"display:none;\">\n",
              "        \n",
              "  <svg xmlns=\"http://www.w3.org/2000/svg\" height=\"24px\"viewBox=\"0 0 24 24\"\n",
              "       width=\"24px\">\n",
              "    <path d=\"M0 0h24v24H0V0z\" fill=\"none\"/>\n",
              "    <path d=\"M18.56 5.44l.94 2.06.94-2.06 2.06-.94-2.06-.94-.94-2.06-.94 2.06-2.06.94zm-11 1L8.5 8.5l.94-2.06 2.06-.94-2.06-.94L8.5 2.5l-.94 2.06-2.06.94zm10 10l.94 2.06.94-2.06 2.06-.94-2.06-.94-.94-2.06-.94 2.06-2.06.94z\"/><path d=\"M17.41 7.96l-1.37-1.37c-.4-.4-.92-.59-1.43-.59-.52 0-1.04.2-1.43.59L10.3 9.45l-7.72 7.72c-.78.78-.78 2.05 0 2.83L4 21.41c.39.39.9.59 1.41.59.51 0 1.02-.2 1.41-.59l7.78-7.78 2.81-2.81c.8-.78.8-2.07 0-2.86zM5.41 20L4 18.59l7.72-7.72 1.47 1.35L5.41 20z\"/>\n",
              "  </svg>\n",
              "      </button>\n",
              "      \n",
              "  <style>\n",
              "    .colab-df-container {\n",
              "      display:flex;\n",
              "      flex-wrap:wrap;\n",
              "      gap: 12px;\n",
              "    }\n",
              "\n",
              "    .colab-df-convert {\n",
              "      background-color: #E8F0FE;\n",
              "      border: none;\n",
              "      border-radius: 50%;\n",
              "      cursor: pointer;\n",
              "      display: none;\n",
              "      fill: #1967D2;\n",
              "      height: 32px;\n",
              "      padding: 0 0 0 0;\n",
              "      width: 32px;\n",
              "    }\n",
              "\n",
              "    .colab-df-convert:hover {\n",
              "      background-color: #E2EBFA;\n",
              "      box-shadow: 0px 1px 2px rgba(60, 64, 67, 0.3), 0px 1px 3px 1px rgba(60, 64, 67, 0.15);\n",
              "      fill: #174EA6;\n",
              "    }\n",
              "\n",
              "    [theme=dark] .colab-df-convert {\n",
              "      background-color: #3B4455;\n",
              "      fill: #D2E3FC;\n",
              "    }\n",
              "\n",
              "    [theme=dark] .colab-df-convert:hover {\n",
              "      background-color: #434B5C;\n",
              "      box-shadow: 0px 1px 3px 1px rgba(0, 0, 0, 0.15);\n",
              "      filter: drop-shadow(0px 1px 2px rgba(0, 0, 0, 0.3));\n",
              "      fill: #FFFFFF;\n",
              "    }\n",
              "  </style>\n",
              "\n",
              "      <script>\n",
              "        const buttonEl =\n",
              "          document.querySelector('#df-3e5b6bca-d9be-422a-867b-490c94ebaa45 button.colab-df-convert');\n",
              "        buttonEl.style.display =\n",
              "          google.colab.kernel.accessAllowed ? 'block' : 'none';\n",
              "\n",
              "        async function convertToInteractive(key) {\n",
              "          const element = document.querySelector('#df-3e5b6bca-d9be-422a-867b-490c94ebaa45');\n",
              "          const dataTable =\n",
              "            await google.colab.kernel.invokeFunction('convertToInteractive',\n",
              "                                                     [key], {});\n",
              "          if (!dataTable) return;\n",
              "\n",
              "          const docLinkHtml = 'Like what you see? Visit the ' +\n",
              "            '<a target=\"_blank\" href=https://colab.research.google.com/notebooks/data_table.ipynb>data table notebook</a>'\n",
              "            + ' to learn more about interactive tables.';\n",
              "          element.innerHTML = '';\n",
              "          dataTable['output_type'] = 'display_data';\n",
              "          await google.colab.output.renderOutput(dataTable, element);\n",
              "          const docLink = document.createElement('div');\n",
              "          docLink.innerHTML = docLinkHtml;\n",
              "          element.appendChild(docLink);\n",
              "        }\n",
              "      </script>\n",
              "    </div>\n",
              "  </div>\n",
              "  "
            ]
          },
          "metadata": {},
          "execution_count": 125
        }
      ],
      "source": [
        "# Drop variabel yang tidak dibutuhkan\n",
        "cluster_data = cluster_data.drop([\"Listing_Price\", \n",
        "                                  \"Discount\",\"Reviews\"], axis = 1)\n",
        "cluster_data.head()"
      ]
    },
    {
      "cell_type": "markdown",
      "metadata": {
        "id": "VlB-wxEwUto7"
      },
      "source": [
        "### Scaling Data\n",
        "Dalam clustering penggunaan scaling data juga diperlukan, hal ini akan membantu mengatasi permasalahan gap pada tiap kolom."
      ]
    },
    {
      "cell_type": "code",
      "execution_count": 126,
      "metadata": {
        "colab": {
          "base_uri": "https://localhost:8080/",
          "height": 206
        },
        "id": "ISmsxR-hq-Nw",
        "outputId": "a661f3d8-1303-4865-abad-34d735630aa7"
      },
      "outputs": [
        {
          "output_type": "execute_result",
          "data": {
            "text/plain": [
              "      Brand  Sale_Price\n",
              "0 -0.213301    0.317928\n",
              "1 -0.213301   -0.544022\n",
              "2 -1.105835   -1.289493\n",
              "3 -1.105835   -0.613910\n",
              "4 -0.213301   -0.497431"
            ],
            "text/html": [
              "\n",
              "  <div id=\"df-ad739903-a47d-4e61-b42d-c2f7fe02caae\">\n",
              "    <div class=\"colab-df-container\">\n",
              "      <div>\n",
              "<style scoped>\n",
              "    .dataframe tbody tr th:only-of-type {\n",
              "        vertical-align: middle;\n",
              "    }\n",
              "\n",
              "    .dataframe tbody tr th {\n",
              "        vertical-align: top;\n",
              "    }\n",
              "\n",
              "    .dataframe thead th {\n",
              "        text-align: right;\n",
              "    }\n",
              "</style>\n",
              "<table border=\"1\" class=\"dataframe\">\n",
              "  <thead>\n",
              "    <tr style=\"text-align: right;\">\n",
              "      <th></th>\n",
              "      <th>Brand</th>\n",
              "      <th>Sale_Price</th>\n",
              "    </tr>\n",
              "  </thead>\n",
              "  <tbody>\n",
              "    <tr>\n",
              "      <th>0</th>\n",
              "      <td>-0.213301</td>\n",
              "      <td>0.317928</td>\n",
              "    </tr>\n",
              "    <tr>\n",
              "      <th>1</th>\n",
              "      <td>-0.213301</td>\n",
              "      <td>-0.544022</td>\n",
              "    </tr>\n",
              "    <tr>\n",
              "      <th>2</th>\n",
              "      <td>-1.105835</td>\n",
              "      <td>-1.289493</td>\n",
              "    </tr>\n",
              "    <tr>\n",
              "      <th>3</th>\n",
              "      <td>-1.105835</td>\n",
              "      <td>-0.613910</td>\n",
              "    </tr>\n",
              "    <tr>\n",
              "      <th>4</th>\n",
              "      <td>-0.213301</td>\n",
              "      <td>-0.497431</td>\n",
              "    </tr>\n",
              "  </tbody>\n",
              "</table>\n",
              "</div>\n",
              "      <button class=\"colab-df-convert\" onclick=\"convertToInteractive('df-ad739903-a47d-4e61-b42d-c2f7fe02caae')\"\n",
              "              title=\"Convert this dataframe to an interactive table.\"\n",
              "              style=\"display:none;\">\n",
              "        \n",
              "  <svg xmlns=\"http://www.w3.org/2000/svg\" height=\"24px\"viewBox=\"0 0 24 24\"\n",
              "       width=\"24px\">\n",
              "    <path d=\"M0 0h24v24H0V0z\" fill=\"none\"/>\n",
              "    <path d=\"M18.56 5.44l.94 2.06.94-2.06 2.06-.94-2.06-.94-.94-2.06-.94 2.06-2.06.94zm-11 1L8.5 8.5l.94-2.06 2.06-.94-2.06-.94L8.5 2.5l-.94 2.06-2.06.94zm10 10l.94 2.06.94-2.06 2.06-.94-2.06-.94-.94-2.06-.94 2.06-2.06.94z\"/><path d=\"M17.41 7.96l-1.37-1.37c-.4-.4-.92-.59-1.43-.59-.52 0-1.04.2-1.43.59L10.3 9.45l-7.72 7.72c-.78.78-.78 2.05 0 2.83L4 21.41c.39.39.9.59 1.41.59.51 0 1.02-.2 1.41-.59l7.78-7.78 2.81-2.81c.8-.78.8-2.07 0-2.86zM5.41 20L4 18.59l7.72-7.72 1.47 1.35L5.41 20z\"/>\n",
              "  </svg>\n",
              "      </button>\n",
              "      \n",
              "  <style>\n",
              "    .colab-df-container {\n",
              "      display:flex;\n",
              "      flex-wrap:wrap;\n",
              "      gap: 12px;\n",
              "    }\n",
              "\n",
              "    .colab-df-convert {\n",
              "      background-color: #E8F0FE;\n",
              "      border: none;\n",
              "      border-radius: 50%;\n",
              "      cursor: pointer;\n",
              "      display: none;\n",
              "      fill: #1967D2;\n",
              "      height: 32px;\n",
              "      padding: 0 0 0 0;\n",
              "      width: 32px;\n",
              "    }\n",
              "\n",
              "    .colab-df-convert:hover {\n",
              "      background-color: #E2EBFA;\n",
              "      box-shadow: 0px 1px 2px rgba(60, 64, 67, 0.3), 0px 1px 3px 1px rgba(60, 64, 67, 0.15);\n",
              "      fill: #174EA6;\n",
              "    }\n",
              "\n",
              "    [theme=dark] .colab-df-convert {\n",
              "      background-color: #3B4455;\n",
              "      fill: #D2E3FC;\n",
              "    }\n",
              "\n",
              "    [theme=dark] .colab-df-convert:hover {\n",
              "      background-color: #434B5C;\n",
              "      box-shadow: 0px 1px 3px 1px rgba(0, 0, 0, 0.15);\n",
              "      filter: drop-shadow(0px 1px 2px rgba(0, 0, 0, 0.3));\n",
              "      fill: #FFFFFF;\n",
              "    }\n",
              "  </style>\n",
              "\n",
              "      <script>\n",
              "        const buttonEl =\n",
              "          document.querySelector('#df-ad739903-a47d-4e61-b42d-c2f7fe02caae button.colab-df-convert');\n",
              "        buttonEl.style.display =\n",
              "          google.colab.kernel.accessAllowed ? 'block' : 'none';\n",
              "\n",
              "        async function convertToInteractive(key) {\n",
              "          const element = document.querySelector('#df-ad739903-a47d-4e61-b42d-c2f7fe02caae');\n",
              "          const dataTable =\n",
              "            await google.colab.kernel.invokeFunction('convertToInteractive',\n",
              "                                                     [key], {});\n",
              "          if (!dataTable) return;\n",
              "\n",
              "          const docLinkHtml = 'Like what you see? Visit the ' +\n",
              "            '<a target=\"_blank\" href=https://colab.research.google.com/notebooks/data_table.ipynb>data table notebook</a>'\n",
              "            + ' to learn more about interactive tables.';\n",
              "          element.innerHTML = '';\n",
              "          dataTable['output_type'] = 'display_data';\n",
              "          await google.colab.output.renderOutput(dataTable, element);\n",
              "          const docLink = document.createElement('div');\n",
              "          docLink.innerHTML = docLinkHtml;\n",
              "          element.appendChild(docLink);\n",
              "        }\n",
              "      </script>\n",
              "    </div>\n",
              "  </div>\n",
              "  "
            ]
          },
          "metadata": {},
          "execution_count": 126
        }
      ],
      "source": [
        "# Data Scaling\n",
        "scaler = StandardScaler()\n",
        "cluster_data[[\"Brand\", \"Sale_Price\"]] = scaler.fit_transform(cluster_data[[\"Brand\", \"Sale_Price\"]])\n",
        "cluster_data.head()"
      ]
    },
    {
      "cell_type": "markdown",
      "metadata": {
        "id": "Tug83Iq_kE8m"
      },
      "source": [
        "## KMeans Cluster"
      ]
    },
    {
      "cell_type": "code",
      "execution_count": 127,
      "metadata": {
        "colab": {
          "base_uri": "https://localhost:8080/",
          "height": 129
        },
        "id": "mYiae46U2Jod",
        "outputId": "aea909e2-9ec8-4a79-a531-a4e23eb34a31"
      },
      "outputs": [
        {
          "output_type": "stream",
          "name": "stderr",
          "text": [
            "/usr/local/lib/python3.9/dist-packages/sklearn/cluster/_kmeans.py:870: FutureWarning: The default value of `n_init` will change from 10 to 'auto' in 1.4. Set the value of `n_init` explicitly to suppress the warning\n",
            "  warnings.warn(\n"
          ]
        },
        {
          "output_type": "execute_result",
          "data": {
            "text/plain": [
              "KMeans(n_clusters=2)"
            ],
            "text/html": [
              "<style>#sk-container-id-3 {color: black;background-color: white;}#sk-container-id-3 pre{padding: 0;}#sk-container-id-3 div.sk-toggleable {background-color: white;}#sk-container-id-3 label.sk-toggleable__label {cursor: pointer;display: block;width: 100%;margin-bottom: 0;padding: 0.3em;box-sizing: border-box;text-align: center;}#sk-container-id-3 label.sk-toggleable__label-arrow:before {content: \"▸\";float: left;margin-right: 0.25em;color: #696969;}#sk-container-id-3 label.sk-toggleable__label-arrow:hover:before {color: black;}#sk-container-id-3 div.sk-estimator:hover label.sk-toggleable__label-arrow:before {color: black;}#sk-container-id-3 div.sk-toggleable__content {max-height: 0;max-width: 0;overflow: hidden;text-align: left;background-color: #f0f8ff;}#sk-container-id-3 div.sk-toggleable__content pre {margin: 0.2em;color: black;border-radius: 0.25em;background-color: #f0f8ff;}#sk-container-id-3 input.sk-toggleable__control:checked~div.sk-toggleable__content {max-height: 200px;max-width: 100%;overflow: auto;}#sk-container-id-3 input.sk-toggleable__control:checked~label.sk-toggleable__label-arrow:before {content: \"▾\";}#sk-container-id-3 div.sk-estimator input.sk-toggleable__control:checked~label.sk-toggleable__label {background-color: #d4ebff;}#sk-container-id-3 div.sk-label input.sk-toggleable__control:checked~label.sk-toggleable__label {background-color: #d4ebff;}#sk-container-id-3 input.sk-hidden--visually {border: 0;clip: rect(1px 1px 1px 1px);clip: rect(1px, 1px, 1px, 1px);height: 1px;margin: -1px;overflow: hidden;padding: 0;position: absolute;width: 1px;}#sk-container-id-3 div.sk-estimator {font-family: monospace;background-color: #f0f8ff;border: 1px dotted black;border-radius: 0.25em;box-sizing: border-box;margin-bottom: 0.5em;}#sk-container-id-3 div.sk-estimator:hover {background-color: #d4ebff;}#sk-container-id-3 div.sk-parallel-item::after {content: \"\";width: 100%;border-bottom: 1px solid gray;flex-grow: 1;}#sk-container-id-3 div.sk-label:hover label.sk-toggleable__label {background-color: #d4ebff;}#sk-container-id-3 div.sk-serial::before {content: \"\";position: absolute;border-left: 1px solid gray;box-sizing: border-box;top: 0;bottom: 0;left: 50%;z-index: 0;}#sk-container-id-3 div.sk-serial {display: flex;flex-direction: column;align-items: center;background-color: white;padding-right: 0.2em;padding-left: 0.2em;position: relative;}#sk-container-id-3 div.sk-item {position: relative;z-index: 1;}#sk-container-id-3 div.sk-parallel {display: flex;align-items: stretch;justify-content: center;background-color: white;position: relative;}#sk-container-id-3 div.sk-item::before, #sk-container-id-3 div.sk-parallel-item::before {content: \"\";position: absolute;border-left: 1px solid gray;box-sizing: border-box;top: 0;bottom: 0;left: 50%;z-index: -1;}#sk-container-id-3 div.sk-parallel-item {display: flex;flex-direction: column;z-index: 1;position: relative;background-color: white;}#sk-container-id-3 div.sk-parallel-item:first-child::after {align-self: flex-end;width: 50%;}#sk-container-id-3 div.sk-parallel-item:last-child::after {align-self: flex-start;width: 50%;}#sk-container-id-3 div.sk-parallel-item:only-child::after {width: 0;}#sk-container-id-3 div.sk-dashed-wrapped {border: 1px dashed gray;margin: 0 0.4em 0.5em 0.4em;box-sizing: border-box;padding-bottom: 0.4em;background-color: white;}#sk-container-id-3 div.sk-label label {font-family: monospace;font-weight: bold;display: inline-block;line-height: 1.2em;}#sk-container-id-3 div.sk-label-container {text-align: center;}#sk-container-id-3 div.sk-container {/* jupyter's `normalize.less` sets `[hidden] { display: none; }` but bootstrap.min.css set `[hidden] { display: none !important; }` so we also need the `!important` here to be able to override the default hidden behavior on the sphinx rendered scikit-learn.org. See: https://github.com/scikit-learn/scikit-learn/issues/21755 */display: inline-block !important;position: relative;}#sk-container-id-3 div.sk-text-repr-fallback {display: none;}</style><div id=\"sk-container-id-3\" class=\"sk-top-container\"><div class=\"sk-text-repr-fallback\"><pre>KMeans(n_clusters=2)</pre><b>In a Jupyter environment, please rerun this cell to show the HTML representation or trust the notebook. <br />On GitHub, the HTML representation is unable to render, please try loading this page with nbviewer.org.</b></div><div class=\"sk-container\" hidden><div class=\"sk-item\"><div class=\"sk-estimator sk-toggleable\"><input class=\"sk-toggleable__control sk-hidden--visually\" id=\"sk-estimator-id-3\" type=\"checkbox\" checked><label for=\"sk-estimator-id-3\" class=\"sk-toggleable__label sk-toggleable__label-arrow\">KMeans</label><div class=\"sk-toggleable__content\"><pre>KMeans(n_clusters=2)</pre></div></div></div></div></div>"
            ]
          },
          "metadata": {},
          "execution_count": 127
        }
      ],
      "source": [
        "# Memodelkan data dengan cluster yang sudah ditentukan yaitu 2\n",
        "cluster = KMeans(n_clusters=2)\n",
        "cluster.fit(cluster_data)"
      ]
    },
    {
      "cell_type": "code",
      "execution_count": 128,
      "metadata": {
        "id": "aaiYybwV2Nxg"
      },
      "outputs": [],
      "source": [
        "# Menambahkan kolom baru berupa hasil segmentasi pelanggan\n",
        "segment = pd.Series(cluster.labels_, name=\"segment\")"
      ]
    },
    {
      "cell_type": "code",
      "source": [
        "# Menggabungkan data awal dengan data hasil segmentasi pelanggan\n",
        "pd.concat([df, segment], axis=1)"
      ],
      "metadata": {
        "colab": {
          "base_uri": "https://localhost:8080/",
          "height": 658
        },
        "id": "3VQwZO1aRcs0",
        "outputId": "f45cc587-b57a-4332-f64c-5dc47815f6f9"
      },
      "execution_count": 129,
      "outputs": [
        {
          "output_type": "execute_result",
          "data": {
            "text/plain": [
              "                                           Product Name  Product ID  \\\n",
              "0     Women's adidas Originals NMD_Racer Primeknit S...      AH2430   \n",
              "1                  Women's adidas Originals Sleek Shoes      G27341   \n",
              "2                     Women's adidas Swim Puka Slippers      CM0081   \n",
              "3      Women's adidas Sport Inspired Questar Ride Shoes      B44832   \n",
              "4              Women's adidas Originals Taekwondo Shoes      D98205   \n",
              "...                                                 ...         ...   \n",
              "3263                                 Air Jordan 8 Retro  CI1236-100   \n",
              "3264                         Nike Phantom Venom Club IC  AO0578-717   \n",
              "3265               Nike Mercurial Superfly 7 Academy TF  AT7978-414   \n",
              "3266                                    Nike Air Max 98  AH6799-300   \n",
              "3267                                     Nike P-6000 SE  CJ9585-600   \n",
              "\n",
              "      Listing_Price  Sale_Price  Discount              Brand  \\\n",
              "0             14999        7499        50   Adidas ORIGINALS   \n",
              "1              7599        3799        50   Adidas ORIGINALS   \n",
              "2               999         599        40  Adidas CORE / NEO   \n",
              "3              6999        3499        50  Adidas CORE / NEO   \n",
              "4              7999        3999        50   Adidas ORIGINALS   \n",
              "...             ...         ...       ...                ...   \n",
              "3263          15995       12797         0               Nike   \n",
              "3264           4995        3497         0               Nike   \n",
              "3265           8495        5947         0               Nike   \n",
              "3266              0       16995         0               Nike   \n",
              "3267           8995        6297         0               Nike   \n",
              "\n",
              "                                            Description  Rating  Reviews  \\\n",
              "0     Channeling the streamlined look of an '80s rac...     4.8       41   \n",
              "1     A modern take on adidas sport heritage, tailor...     3.3       24   \n",
              "2     These adidas Puka slippers for women's come wi...     2.6       37   \n",
              "3     Inspired by modern tech runners, these women's...     4.1       35   \n",
              "4     This design is inspired by vintage Taekwondo s...     3.5       72   \n",
              "...                                                 ...     ...      ...   \n",
              "3263  The Air Jordan 8 Retro recaptures the memorabl...     5.0        1   \n",
              "3264  The Nike Phantom Venom Club IC is engineered f...     0.0        0   \n",
              "3265  The soft upper of the Nike Mercurial Superfly ...     5.0        1   \n",
              "3266  The Nike Air Max 98 features the OG design lin...     4.0        4   \n",
              "3267  A mash-up of Pegasus' past, the Nike P-6000 SE...     0.0        0   \n",
              "\n",
              "             Last Visited\\t  segment  \n",
              "0     2020-04-13T15:06:14\\t        0  \n",
              "1     2020-04-13T15:06:15\\t        0  \n",
              "2     2020-04-13T15:06:15\\t        0  \n",
              "3     2020-04-13T15:06:15\\t        0  \n",
              "4     2020-04-13T15:06:15\\t        0  \n",
              "...                     ...      ...  \n",
              "3263  2020-04-13T15:41:01\\t        1  \n",
              "3264  2020-04-13T15:41:03\\t        1  \n",
              "3265  2020-04-13T15:41:07\\t        1  \n",
              "3266  2020-04-13T15:41:19\\t        1  \n",
              "3267  2020-04-13T15:42:57\\t        1  \n",
              "\n",
              "[3268 rows x 11 columns]"
            ],
            "text/html": [
              "\n",
              "  <div id=\"df-8b44e9f1-e035-47ea-b78c-e007e6d2f871\">\n",
              "    <div class=\"colab-df-container\">\n",
              "      <div>\n",
              "<style scoped>\n",
              "    .dataframe tbody tr th:only-of-type {\n",
              "        vertical-align: middle;\n",
              "    }\n",
              "\n",
              "    .dataframe tbody tr th {\n",
              "        vertical-align: top;\n",
              "    }\n",
              "\n",
              "    .dataframe thead th {\n",
              "        text-align: right;\n",
              "    }\n",
              "</style>\n",
              "<table border=\"1\" class=\"dataframe\">\n",
              "  <thead>\n",
              "    <tr style=\"text-align: right;\">\n",
              "      <th></th>\n",
              "      <th>Product Name</th>\n",
              "      <th>Product ID</th>\n",
              "      <th>Listing_Price</th>\n",
              "      <th>Sale_Price</th>\n",
              "      <th>Discount</th>\n",
              "      <th>Brand</th>\n",
              "      <th>Description</th>\n",
              "      <th>Rating</th>\n",
              "      <th>Reviews</th>\n",
              "      <th>Last Visited\\t</th>\n",
              "      <th>segment</th>\n",
              "    </tr>\n",
              "  </thead>\n",
              "  <tbody>\n",
              "    <tr>\n",
              "      <th>0</th>\n",
              "      <td>Women's adidas Originals NMD_Racer Primeknit S...</td>\n",
              "      <td>AH2430</td>\n",
              "      <td>14999</td>\n",
              "      <td>7499</td>\n",
              "      <td>50</td>\n",
              "      <td>Adidas ORIGINALS</td>\n",
              "      <td>Channeling the streamlined look of an '80s rac...</td>\n",
              "      <td>4.8</td>\n",
              "      <td>41</td>\n",
              "      <td>2020-04-13T15:06:14\\t</td>\n",
              "      <td>0</td>\n",
              "    </tr>\n",
              "    <tr>\n",
              "      <th>1</th>\n",
              "      <td>Women's adidas Originals Sleek Shoes</td>\n",
              "      <td>G27341</td>\n",
              "      <td>7599</td>\n",
              "      <td>3799</td>\n",
              "      <td>50</td>\n",
              "      <td>Adidas ORIGINALS</td>\n",
              "      <td>A modern take on adidas sport heritage, tailor...</td>\n",
              "      <td>3.3</td>\n",
              "      <td>24</td>\n",
              "      <td>2020-04-13T15:06:15\\t</td>\n",
              "      <td>0</td>\n",
              "    </tr>\n",
              "    <tr>\n",
              "      <th>2</th>\n",
              "      <td>Women's adidas Swim Puka Slippers</td>\n",
              "      <td>CM0081</td>\n",
              "      <td>999</td>\n",
              "      <td>599</td>\n",
              "      <td>40</td>\n",
              "      <td>Adidas CORE / NEO</td>\n",
              "      <td>These adidas Puka slippers for women's come wi...</td>\n",
              "      <td>2.6</td>\n",
              "      <td>37</td>\n",
              "      <td>2020-04-13T15:06:15\\t</td>\n",
              "      <td>0</td>\n",
              "    </tr>\n",
              "    <tr>\n",
              "      <th>3</th>\n",
              "      <td>Women's adidas Sport Inspired Questar Ride Shoes</td>\n",
              "      <td>B44832</td>\n",
              "      <td>6999</td>\n",
              "      <td>3499</td>\n",
              "      <td>50</td>\n",
              "      <td>Adidas CORE / NEO</td>\n",
              "      <td>Inspired by modern tech runners, these women's...</td>\n",
              "      <td>4.1</td>\n",
              "      <td>35</td>\n",
              "      <td>2020-04-13T15:06:15\\t</td>\n",
              "      <td>0</td>\n",
              "    </tr>\n",
              "    <tr>\n",
              "      <th>4</th>\n",
              "      <td>Women's adidas Originals Taekwondo Shoes</td>\n",
              "      <td>D98205</td>\n",
              "      <td>7999</td>\n",
              "      <td>3999</td>\n",
              "      <td>50</td>\n",
              "      <td>Adidas ORIGINALS</td>\n",
              "      <td>This design is inspired by vintage Taekwondo s...</td>\n",
              "      <td>3.5</td>\n",
              "      <td>72</td>\n",
              "      <td>2020-04-13T15:06:15\\t</td>\n",
              "      <td>0</td>\n",
              "    </tr>\n",
              "    <tr>\n",
              "      <th>...</th>\n",
              "      <td>...</td>\n",
              "      <td>...</td>\n",
              "      <td>...</td>\n",
              "      <td>...</td>\n",
              "      <td>...</td>\n",
              "      <td>...</td>\n",
              "      <td>...</td>\n",
              "      <td>...</td>\n",
              "      <td>...</td>\n",
              "      <td>...</td>\n",
              "      <td>...</td>\n",
              "    </tr>\n",
              "    <tr>\n",
              "      <th>3263</th>\n",
              "      <td>Air Jordan 8 Retro</td>\n",
              "      <td>CI1236-100</td>\n",
              "      <td>15995</td>\n",
              "      <td>12797</td>\n",
              "      <td>0</td>\n",
              "      <td>Nike</td>\n",
              "      <td>The Air Jordan 8 Retro recaptures the memorabl...</td>\n",
              "      <td>5.0</td>\n",
              "      <td>1</td>\n",
              "      <td>2020-04-13T15:41:01\\t</td>\n",
              "      <td>1</td>\n",
              "    </tr>\n",
              "    <tr>\n",
              "      <th>3264</th>\n",
              "      <td>Nike Phantom Venom Club IC</td>\n",
              "      <td>AO0578-717</td>\n",
              "      <td>4995</td>\n",
              "      <td>3497</td>\n",
              "      <td>0</td>\n",
              "      <td>Nike</td>\n",
              "      <td>The Nike Phantom Venom Club IC is engineered f...</td>\n",
              "      <td>0.0</td>\n",
              "      <td>0</td>\n",
              "      <td>2020-04-13T15:41:03\\t</td>\n",
              "      <td>1</td>\n",
              "    </tr>\n",
              "    <tr>\n",
              "      <th>3265</th>\n",
              "      <td>Nike Mercurial Superfly 7 Academy TF</td>\n",
              "      <td>AT7978-414</td>\n",
              "      <td>8495</td>\n",
              "      <td>5947</td>\n",
              "      <td>0</td>\n",
              "      <td>Nike</td>\n",
              "      <td>The soft upper of the Nike Mercurial Superfly ...</td>\n",
              "      <td>5.0</td>\n",
              "      <td>1</td>\n",
              "      <td>2020-04-13T15:41:07\\t</td>\n",
              "      <td>1</td>\n",
              "    </tr>\n",
              "    <tr>\n",
              "      <th>3266</th>\n",
              "      <td>Nike Air Max 98</td>\n",
              "      <td>AH6799-300</td>\n",
              "      <td>0</td>\n",
              "      <td>16995</td>\n",
              "      <td>0</td>\n",
              "      <td>Nike</td>\n",
              "      <td>The Nike Air Max 98 features the OG design lin...</td>\n",
              "      <td>4.0</td>\n",
              "      <td>4</td>\n",
              "      <td>2020-04-13T15:41:19\\t</td>\n",
              "      <td>1</td>\n",
              "    </tr>\n",
              "    <tr>\n",
              "      <th>3267</th>\n",
              "      <td>Nike P-6000 SE</td>\n",
              "      <td>CJ9585-600</td>\n",
              "      <td>8995</td>\n",
              "      <td>6297</td>\n",
              "      <td>0</td>\n",
              "      <td>Nike</td>\n",
              "      <td>A mash-up of Pegasus' past, the Nike P-6000 SE...</td>\n",
              "      <td>0.0</td>\n",
              "      <td>0</td>\n",
              "      <td>2020-04-13T15:42:57\\t</td>\n",
              "      <td>1</td>\n",
              "    </tr>\n",
              "  </tbody>\n",
              "</table>\n",
              "<p>3268 rows × 11 columns</p>\n",
              "</div>\n",
              "      <button class=\"colab-df-convert\" onclick=\"convertToInteractive('df-8b44e9f1-e035-47ea-b78c-e007e6d2f871')\"\n",
              "              title=\"Convert this dataframe to an interactive table.\"\n",
              "              style=\"display:none;\">\n",
              "        \n",
              "  <svg xmlns=\"http://www.w3.org/2000/svg\" height=\"24px\"viewBox=\"0 0 24 24\"\n",
              "       width=\"24px\">\n",
              "    <path d=\"M0 0h24v24H0V0z\" fill=\"none\"/>\n",
              "    <path d=\"M18.56 5.44l.94 2.06.94-2.06 2.06-.94-2.06-.94-.94-2.06-.94 2.06-2.06.94zm-11 1L8.5 8.5l.94-2.06 2.06-.94-2.06-.94L8.5 2.5l-.94 2.06-2.06.94zm10 10l.94 2.06.94-2.06 2.06-.94-2.06-.94-.94-2.06-.94 2.06-2.06.94z\"/><path d=\"M17.41 7.96l-1.37-1.37c-.4-.4-.92-.59-1.43-.59-.52 0-1.04.2-1.43.59L10.3 9.45l-7.72 7.72c-.78.78-.78 2.05 0 2.83L4 21.41c.39.39.9.59 1.41.59.51 0 1.02-.2 1.41-.59l7.78-7.78 2.81-2.81c.8-.78.8-2.07 0-2.86zM5.41 20L4 18.59l7.72-7.72 1.47 1.35L5.41 20z\"/>\n",
              "  </svg>\n",
              "      </button>\n",
              "      \n",
              "  <style>\n",
              "    .colab-df-container {\n",
              "      display:flex;\n",
              "      flex-wrap:wrap;\n",
              "      gap: 12px;\n",
              "    }\n",
              "\n",
              "    .colab-df-convert {\n",
              "      background-color: #E8F0FE;\n",
              "      border: none;\n",
              "      border-radius: 50%;\n",
              "      cursor: pointer;\n",
              "      display: none;\n",
              "      fill: #1967D2;\n",
              "      height: 32px;\n",
              "      padding: 0 0 0 0;\n",
              "      width: 32px;\n",
              "    }\n",
              "\n",
              "    .colab-df-convert:hover {\n",
              "      background-color: #E2EBFA;\n",
              "      box-shadow: 0px 1px 2px rgba(60, 64, 67, 0.3), 0px 1px 3px 1px rgba(60, 64, 67, 0.15);\n",
              "      fill: #174EA6;\n",
              "    }\n",
              "\n",
              "    [theme=dark] .colab-df-convert {\n",
              "      background-color: #3B4455;\n",
              "      fill: #D2E3FC;\n",
              "    }\n",
              "\n",
              "    [theme=dark] .colab-df-convert:hover {\n",
              "      background-color: #434B5C;\n",
              "      box-shadow: 0px 1px 3px 1px rgba(0, 0, 0, 0.15);\n",
              "      filter: drop-shadow(0px 1px 2px rgba(0, 0, 0, 0.3));\n",
              "      fill: #FFFFFF;\n",
              "    }\n",
              "  </style>\n",
              "\n",
              "      <script>\n",
              "        const buttonEl =\n",
              "          document.querySelector('#df-8b44e9f1-e035-47ea-b78c-e007e6d2f871 button.colab-df-convert');\n",
              "        buttonEl.style.display =\n",
              "          google.colab.kernel.accessAllowed ? 'block' : 'none';\n",
              "\n",
              "        async function convertToInteractive(key) {\n",
              "          const element = document.querySelector('#df-8b44e9f1-e035-47ea-b78c-e007e6d2f871');\n",
              "          const dataTable =\n",
              "            await google.colab.kernel.invokeFunction('convertToInteractive',\n",
              "                                                     [key], {});\n",
              "          if (!dataTable) return;\n",
              "\n",
              "          const docLinkHtml = 'Like what you see? Visit the ' +\n",
              "            '<a target=\"_blank\" href=https://colab.research.google.com/notebooks/data_table.ipynb>data table notebook</a>'\n",
              "            + ' to learn more about interactive tables.';\n",
              "          element.innerHTML = '';\n",
              "          dataTable['output_type'] = 'display_data';\n",
              "          await google.colab.output.renderOutput(dataTable, element);\n",
              "          const docLink = document.createElement('div');\n",
              "          docLink.innerHTML = docLinkHtml;\n",
              "          element.appendChild(docLink);\n",
              "        }\n",
              "      </script>\n",
              "    </div>\n",
              "  </div>\n",
              "  "
            ]
          },
          "metadata": {},
          "execution_count": 129
        }
      ]
    },
    {
      "cell_type": "markdown",
      "metadata": {
        "id": "7FKuFeKokE8m"
      },
      "source": [
        "### Menentukan Nilai Optimal K (kelompok)"
      ]
    },
    {
      "cell_type": "markdown",
      "metadata": {
        "id": "MzEt-iwgkE8n"
      },
      "source": [
        "Akan digunakan metode Elbow untuk menentukan jumlah k optimal."
      ]
    },
    {
      "cell_type": "code",
      "execution_count": 130,
      "metadata": {
        "colab": {
          "base_uri": "https://localhost:8080/"
        },
        "id": "P0WDy-x0rAFQ",
        "outputId": "8f4ab559-713f-47d8-ab62-7ae7f5563d84"
      },
      "outputs": [
        {
          "output_type": "stream",
          "name": "stderr",
          "text": [
            "/usr/local/lib/python3.9/dist-packages/sklearn/cluster/_kmeans.py:870: FutureWarning: The default value of `n_init` will change from 10 to 'auto' in 1.4. Set the value of `n_init` explicitly to suppress the warning\n",
            "  warnings.warn(\n",
            "/usr/local/lib/python3.9/dist-packages/sklearn/cluster/_kmeans.py:870: FutureWarning: The default value of `n_init` will change from 10 to 'auto' in 1.4. Set the value of `n_init` explicitly to suppress the warning\n",
            "  warnings.warn(\n",
            "/usr/local/lib/python3.9/dist-packages/sklearn/cluster/_kmeans.py:870: FutureWarning: The default value of `n_init` will change from 10 to 'auto' in 1.4. Set the value of `n_init` explicitly to suppress the warning\n",
            "  warnings.warn(\n",
            "/usr/local/lib/python3.9/dist-packages/sklearn/cluster/_kmeans.py:870: FutureWarning: The default value of `n_init` will change from 10 to 'auto' in 1.4. Set the value of `n_init` explicitly to suppress the warning\n",
            "  warnings.warn(\n",
            "/usr/local/lib/python3.9/dist-packages/sklearn/cluster/_kmeans.py:870: FutureWarning: The default value of `n_init` will change from 10 to 'auto' in 1.4. Set the value of `n_init` explicitly to suppress the warning\n",
            "  warnings.warn(\n",
            "/usr/local/lib/python3.9/dist-packages/sklearn/cluster/_kmeans.py:870: FutureWarning: The default value of `n_init` will change from 10 to 'auto' in 1.4. Set the value of `n_init` explicitly to suppress the warning\n",
            "  warnings.warn(\n",
            "/usr/local/lib/python3.9/dist-packages/sklearn/cluster/_kmeans.py:870: FutureWarning: The default value of `n_init` will change from 10 to 'auto' in 1.4. Set the value of `n_init` explicitly to suppress the warning\n",
            "  warnings.warn(\n",
            "/usr/local/lib/python3.9/dist-packages/sklearn/cluster/_kmeans.py:870: FutureWarning: The default value of `n_init` will change from 10 to 'auto' in 1.4. Set the value of `n_init` explicitly to suppress the warning\n",
            "  warnings.warn(\n"
          ]
        }
      ],
      "source": [
        "# Perulangan ini digunakan untuk mengeksekusi nilai k dengan data \n",
        "# Selanjutkan akan dicari SSE\n",
        "\n",
        "Sum_of_squared_error = []\n",
        "K = range(2,10)\n",
        "for k in K:\n",
        "    km = KMeans(n_clusters=k)\n",
        "    km = km.fit(cluster_data)\n",
        "    Sum_of_squared_error.append(km.inertia_)"
      ]
    },
    {
      "cell_type": "code",
      "execution_count": 131,
      "metadata": {
        "colab": {
          "base_uri": "https://localhost:8080/",
          "height": 472
        },
        "id": "XgLijNR12eIn",
        "outputId": "c4ab1c69-4a3b-4892-ac67-8f00ee899265"
      },
      "outputs": [
        {
          "output_type": "display_data",
          "data": {
            "text/plain": [
              "<Figure size 640x480 with 1 Axes>"
            ],
            "image/png": "[encoded data removed]"
          },
          "metadata": {}
        }
      ],
      "source": [
        "plt.plot(K, Sum_of_squared_error, 'bx-')\n",
        "plt.xlabel('k')\n",
        "plt.ylabel('SSE')\n",
        "plt.title('Elbow Method For Optimal k')\n",
        "plt.show()"
      ]
    },
    {
      "cell_type": "markdown",
      "source": [
        "Berdasarkan metode elbow pada titik siku-siku diperoleh di k=3 atau k=4, dalam pengaplikasian metode elbow pemilihan k optimal dipilih ketika jarak antara jumlah 1 dan yang lain tidak berbeda secara signifikan. Pada kasus ini nilai k yang optimal adalah 4 dikarenakan jarak antara 2 dan 3 terlalu jauh. Namun untuk memastikan, akan dievaluasi dengan menggunakan silhouette score."
      ],
      "metadata": {
        "id": "OEXS_XpKWHz2"
      }
    },
    {
      "cell_type": "markdown",
      "metadata": {
        "id": "djLPH69aGc5N"
      },
      "source": [
        "### Evaluation Model"
      ]
    },
    {
      "cell_type": "markdown",
      "metadata": {
        "id": "73QAXqgFGjxx"
      },
      "source": [
        "Menggunakan silhouette score untuk konfirmasi k-kluster"
      ]
    },
    {
      "cell_type": "code",
      "execution_count": 132,
      "metadata": {
        "colab": {
          "base_uri": "https://localhost:8080/"
        },
        "id": "59_1pggcrDGF",
        "outputId": "2f2a13c8-5225-419a-b22a-e25f2f333724"
      },
      "outputs": [
        {
          "output_type": "stream",
          "name": "stderr",
          "text": [
            "/usr/local/lib/python3.9/dist-packages/sklearn/cluster/_kmeans.py:870: FutureWarning: The default value of `n_init` will change from 10 to 'auto' in 1.4. Set the value of `n_init` explicitly to suppress the warning\n",
            "  warnings.warn(\n"
          ]
        },
        {
          "output_type": "stream",
          "name": "stdout",
          "text": [
            "For n_clusters = 2, silhouette score is 0.52311466263303\n"
          ]
        },
        {
          "output_type": "stream",
          "name": "stderr",
          "text": [
            "/usr/local/lib/python3.9/dist-packages/sklearn/cluster/_kmeans.py:870: FutureWarning: The default value of `n_init` will change from 10 to 'auto' in 1.4. Set the value of `n_init` explicitly to suppress the warning\n",
            "  warnings.warn(\n"
          ]
        },
        {
          "output_type": "stream",
          "name": "stdout",
          "text": [
            "For n_clusters = 3, silhouette score is 0.5069809199346808\n"
          ]
        },
        {
          "output_type": "stream",
          "name": "stderr",
          "text": [
            "/usr/local/lib/python3.9/dist-packages/sklearn/cluster/_kmeans.py:870: FutureWarning: The default value of `n_init` will change from 10 to 'auto' in 1.4. Set the value of `n_init` explicitly to suppress the warning\n",
            "  warnings.warn(\n"
          ]
        },
        {
          "output_type": "stream",
          "name": "stdout",
          "text": [
            "For n_clusters = 4, silhouette score is 0.5078796959670545\n"
          ]
        },
        {
          "output_type": "stream",
          "name": "stderr",
          "text": [
            "/usr/local/lib/python3.9/dist-packages/sklearn/cluster/_kmeans.py:870: FutureWarning: The default value of `n_init` will change from 10 to 'auto' in 1.4. Set the value of `n_init` explicitly to suppress the warning\n",
            "  warnings.warn(\n"
          ]
        },
        {
          "output_type": "stream",
          "name": "stdout",
          "text": [
            "For n_clusters = 5, silhouette score is 0.5379208868338747\n"
          ]
        },
        {
          "output_type": "stream",
          "name": "stderr",
          "text": [
            "/usr/local/lib/python3.9/dist-packages/sklearn/cluster/_kmeans.py:870: FutureWarning: The default value of `n_init` will change from 10 to 'auto' in 1.4. Set the value of `n_init` explicitly to suppress the warning\n",
            "  warnings.warn(\n"
          ]
        },
        {
          "output_type": "stream",
          "name": "stdout",
          "text": [
            "For n_clusters = 6, silhouette score is 0.5487480914250895\n"
          ]
        },
        {
          "output_type": "stream",
          "name": "stderr",
          "text": [
            "/usr/local/lib/python3.9/dist-packages/sklearn/cluster/_kmeans.py:870: FutureWarning: The default value of `n_init` will change from 10 to 'auto' in 1.4. Set the value of `n_init` explicitly to suppress the warning\n",
            "  warnings.warn(\n"
          ]
        },
        {
          "output_type": "stream",
          "name": "stdout",
          "text": [
            "For n_clusters = 7, silhouette score is 0.5681519673133251\n"
          ]
        },
        {
          "output_type": "stream",
          "name": "stderr",
          "text": [
            "/usr/local/lib/python3.9/dist-packages/sklearn/cluster/_kmeans.py:870: FutureWarning: The default value of `n_init` will change from 10 to 'auto' in 1.4. Set the value of `n_init` explicitly to suppress the warning\n",
            "  warnings.warn(\n"
          ]
        },
        {
          "output_type": "stream",
          "name": "stdout",
          "text": [
            "For n_clusters = 8, silhouette score is 0.5908260535614022\n"
          ]
        },
        {
          "output_type": "stream",
          "name": "stderr",
          "text": [
            "/usr/local/lib/python3.9/dist-packages/sklearn/cluster/_kmeans.py:870: FutureWarning: The default value of `n_init` will change from 10 to 'auto' in 1.4. Set the value of `n_init` explicitly to suppress the warning\n",
            "  warnings.warn(\n"
          ]
        },
        {
          "output_type": "stream",
          "name": "stdout",
          "text": [
            "For n_clusters = 9, silhouette score is 0.60878880789845\n"
          ]
        }
      ],
      "source": [
        "range_n_clusters = range(2,10)\n",
        "for n_clusters in range_n_clusters:\n",
        "    clusterer = KMeans(n_clusters)\n",
        "    preds = clusterer.fit_predict(cluster_data)\n",
        "    centers = clusterer.cluster_centers_\n",
        "\n",
        "    score = silhouette_score(cluster_data, preds)\n",
        "    print(\"For n_clusters = {}, silhouette score is {}\".format(n_clusters, score))"
      ]
    },
    {
      "cell_type": "markdown",
      "metadata": {
        "id": "e3ln4EVR-uGw"
      },
      "source": [
        "Dari silhouette model didapat k-kluster yang optimum adalah 4, sama seperti pemilihan cluster dengan elbow method. Oleh karena itu, untuk kedepannya akan digunakan k=4 yang artinya customer akan dibagi kedalam 4 kelompok."
      ]
    },
    {
      "cell_type": "code",
      "execution_count": 133,
      "metadata": {
        "colab": {
          "base_uri": "https://localhost:8080/",
          "height": 129
        },
        "id": "Hxve05CO--Dm",
        "outputId": "21eb26a3-9584-47c3-9ed4-2397f8a1c491"
      },
      "outputs": [
        {
          "output_type": "stream",
          "name": "stderr",
          "text": [
            "/usr/local/lib/python3.9/dist-packages/sklearn/cluster/_kmeans.py:870: FutureWarning: The default value of `n_init` will change from 10 to 'auto' in 1.4. Set the value of `n_init` explicitly to suppress the warning\n",
            "  warnings.warn(\n"
          ]
        },
        {
          "output_type": "execute_result",
          "data": {
            "text/plain": [
              "KMeans(n_clusters=4)"
            ],
            "text/html": [
              "<style>#sk-container-id-4 {color: black;background-color: white;}#sk-container-id-4 pre{padding: 0;}#sk-container-id-4 div.sk-toggleable {background-color: white;}#sk-container-id-4 label.sk-toggleable__label {cursor: pointer;display: block;width: 100%;margin-bottom: 0;padding: 0.3em;box-sizing: border-box;text-align: center;}#sk-container-id-4 label.sk-toggleable__label-arrow:before {content: \"▸\";float: left;margin-right: 0.25em;color: #696969;}#sk-container-id-4 label.sk-toggleable__label-arrow:hover:before {color: black;}#sk-container-id-4 div.sk-estimator:hover label.sk-toggleable__label-arrow:before {color: black;}#sk-container-id-4 div.sk-toggleable__content {max-height: 0;max-width: 0;overflow: hidden;text-align: left;background-color: #f0f8ff;}#sk-container-id-4 div.sk-toggleable__content pre {margin: 0.2em;color: black;border-radius: 0.25em;background-color: #f0f8ff;}#sk-container-id-4 input.sk-toggleable__control:checked~div.sk-toggleable__content {max-height: 200px;max-width: 100%;overflow: auto;}#sk-container-id-4 input.sk-toggleable__control:checked~label.sk-toggleable__label-arrow:before {content: \"▾\";}#sk-container-id-4 div.sk-estimator input.sk-toggleable__control:checked~label.sk-toggleable__label {background-color: #d4ebff;}#sk-container-id-4 div.sk-label input.sk-toggleable__control:checked~label.sk-toggleable__label {background-color: #d4ebff;}#sk-container-id-4 input.sk-hidden--visually {border: 0;clip: rect(1px 1px 1px 1px);clip: rect(1px, 1px, 1px, 1px);height: 1px;margin: -1px;overflow: hidden;padding: 0;position: absolute;width: 1px;}#sk-container-id-4 div.sk-estimator {font-family: monospace;background-color: #f0f8ff;border: 1px dotted black;border-radius: 0.25em;box-sizing: border-box;margin-bottom: 0.5em;}#sk-container-id-4 div.sk-estimator:hover {background-color: #d4ebff;}#sk-container-id-4 div.sk-parallel-item::after {content: \"\";width: 100%;border-bottom: 1px solid gray;flex-grow: 1;}#sk-container-id-4 div.sk-label:hover label.sk-toggleable__label {background-color: #d4ebff;}#sk-container-id-4 div.sk-serial::before {content: \"\";position: absolute;border-left: 1px solid gray;box-sizing: border-box;top: 0;bottom: 0;left: 50%;z-index: 0;}#sk-container-id-4 div.sk-serial {display: flex;flex-direction: column;align-items: center;background-color: white;padding-right: 0.2em;padding-left: 0.2em;position: relative;}#sk-container-id-4 div.sk-item {position: relative;z-index: 1;}#sk-container-id-4 div.sk-parallel {display: flex;align-items: stretch;justify-content: center;background-color: white;position: relative;}#sk-container-id-4 div.sk-item::before, #sk-container-id-4 div.sk-parallel-item::before {content: \"\";position: absolute;border-left: 1px solid gray;box-sizing: border-box;top: 0;bottom: 0;left: 50%;z-index: -1;}#sk-container-id-4 div.sk-parallel-item {display: flex;flex-direction: column;z-index: 1;position: relative;background-color: white;}#sk-container-id-4 div.sk-parallel-item:first-child::after {align-self: flex-end;width: 50%;}#sk-container-id-4 div.sk-parallel-item:last-child::after {align-self: flex-start;width: 50%;}#sk-container-id-4 div.sk-parallel-item:only-child::after {width: 0;}#sk-container-id-4 div.sk-dashed-wrapped {border: 1px dashed gray;margin: 0 0.4em 0.5em 0.4em;box-sizing: border-box;padding-bottom: 0.4em;background-color: white;}#sk-container-id-4 div.sk-label label {font-family: monospace;font-weight: bold;display: inline-block;line-height: 1.2em;}#sk-container-id-4 div.sk-label-container {text-align: center;}#sk-container-id-4 div.sk-container {/* jupyter's `normalize.less` sets `[hidden] { display: none; }` but bootstrap.min.css set `[hidden] { display: none !important; }` so we also need the `!important` here to be able to override the default hidden behavior on the sphinx rendered scikit-learn.org. See: https://github.com/scikit-learn/scikit-learn/issues/21755 */display: inline-block !important;position: relative;}#sk-container-id-4 div.sk-text-repr-fallback {display: none;}</style><div id=\"sk-container-id-4\" class=\"sk-top-container\"><div class=\"sk-text-repr-fallback\"><pre>KMeans(n_clusters=4)</pre><b>In a Jupyter environment, please rerun this cell to show the HTML representation or trust the notebook. <br />On GitHub, the HTML representation is unable to render, please try loading this page with nbviewer.org.</b></div><div class=\"sk-container\" hidden><div class=\"sk-item\"><div class=\"sk-estimator sk-toggleable\"><input class=\"sk-toggleable__control sk-hidden--visually\" id=\"sk-estimator-id-4\" type=\"checkbox\" checked><label for=\"sk-estimator-id-4\" class=\"sk-toggleable__label sk-toggleable__label-arrow\">KMeans</label><div class=\"sk-toggleable__content\"><pre>KMeans(n_clusters=4)</pre></div></div></div></div></div>"
            ]
          },
          "metadata": {},
          "execution_count": 133
        }
      ],
      "source": [
        "# Memodelkan data dengan k-means\n",
        "cluster = KMeans(n_clusters=4)\n",
        "cluster.fit(cluster_data)"
      ]
    },
    {
      "cell_type": "code",
      "execution_count": 134,
      "metadata": {
        "id": "mCSH19ax_CYo"
      },
      "outputs": [],
      "source": [
        "# Membuat kolom baru berdasarkan hasil clustering\n",
        "segment = pd.Series(cluster.labels_, name=\"segment\")"
      ]
    },
    {
      "cell_type": "code",
      "source": [
        "# Menggabungkan data dengan hasil cluster\n",
        "results = pd.concat([df, segment], axis=1)\n",
        "results.head()"
      ],
      "metadata": {
        "colab": {
          "base_uri": "https://localhost:8080/",
          "height": 354
        },
        "id": "BUfujY5DR81u",
        "outputId": "a90fbd89-8fdf-45fd-e820-853ae1d90985"
      },
      "execution_count": 135,
      "outputs": [
        {
          "output_type": "execute_result",
          "data": {
            "text/plain": [
              "                                        Product Name Product ID  \\\n",
              "0  Women's adidas Originals NMD_Racer Primeknit S...     AH2430   \n",
              "1               Women's adidas Originals Sleek Shoes     G27341   \n",
              "2                  Women's adidas Swim Puka Slippers     CM0081   \n",
              "3   Women's adidas Sport Inspired Questar Ride Shoes     B44832   \n",
              "4           Women's adidas Originals Taekwondo Shoes     D98205   \n",
              "\n",
              "   Listing_Price  Sale_Price  Discount              Brand  \\\n",
              "0          14999        7499        50   Adidas ORIGINALS   \n",
              "1           7599        3799        50   Adidas ORIGINALS   \n",
              "2            999         599        40  Adidas CORE / NEO   \n",
              "3           6999        3499        50  Adidas CORE / NEO   \n",
              "4           7999        3999        50   Adidas ORIGINALS   \n",
              "\n",
              "                                         Description  Rating  Reviews  \\\n",
              "0  Channeling the streamlined look of an '80s rac...     4.8       41   \n",
              "1  A modern take on adidas sport heritage, tailor...     3.3       24   \n",
              "2  These adidas Puka slippers for women's come wi...     2.6       37   \n",
              "3  Inspired by modern tech runners, these women's...     4.1       35   \n",
              "4  This design is inspired by vintage Taekwondo s...     3.5       72   \n",
              "\n",
              "          Last Visited\\t  segment  \n",
              "0  2020-04-13T15:06:14\\t        3  \n",
              "1  2020-04-13T15:06:15\\t        3  \n",
              "2  2020-04-13T15:06:15\\t        0  \n",
              "3  2020-04-13T15:06:15\\t        0  \n",
              "4  2020-04-13T15:06:15\\t        3  "
            ],
            "text/html": [
              "\n",
              "  <div id=\"df-fa0623d7-4a69-4509-bc56-2e28d345d326\">\n",
              "    <div class=\"colab-df-container\">\n",
              "      <div>\n",
              "<style scoped>\n",
              "    .dataframe tbody tr th:only-of-type {\n",
              "        vertical-align: middle;\n",
              "    }\n",
              "\n",
              "    .dataframe tbody tr th {\n",
              "        vertical-align: top;\n",
              "    }\n",
              "\n",
              "    .dataframe thead th {\n",
              "        text-align: right;\n",
              "    }\n",
              "</style>\n",
              "<table border=\"1\" class=\"dataframe\">\n",
              "  <thead>\n",
              "    <tr style=\"text-align: right;\">\n",
              "      <th></th>\n",
              "      <th>Product Name</th>\n",
              "      <th>Product ID</th>\n",
              "      <th>Listing_Price</th>\n",
              "      <th>Sale_Price</th>\n",
              "      <th>Discount</th>\n",
              "      <th>Brand</th>\n",
              "      <th>Description</th>\n",
              "      <th>Rating</th>\n",
              "      <th>Reviews</th>\n",
              "      <th>Last Visited\\t</th>\n",
              "      <th>segment</th>\n",
              "    </tr>\n",
              "  </thead>\n",
              "  <tbody>\n",
              "    <tr>\n",
              "      <th>0</th>\n",
              "      <td>Women's adidas Originals NMD_Racer Primeknit S...</td>\n",
              "      <td>AH2430</td>\n",
              "      <td>14999</td>\n",
              "      <td>7499</td>\n",
              "      <td>50</td>\n",
              "      <td>Adidas ORIGINALS</td>\n",
              "      <td>Channeling the streamlined look of an '80s rac...</td>\n",
              "      <td>4.8</td>\n",
              "      <td>41</td>\n",
              "      <td>2020-04-13T15:06:14\\t</td>\n",
              "      <td>3</td>\n",
              "    </tr>\n",
              "    <tr>\n",
              "      <th>1</th>\n",
              "      <td>Women's adidas Originals Sleek Shoes</td>\n",
              "      <td>G27341</td>\n",
              "      <td>7599</td>\n",
              "      <td>3799</td>\n",
              "      <td>50</td>\n",
              "      <td>Adidas ORIGINALS</td>\n",
              "      <td>A modern take on adidas sport heritage, tailor...</td>\n",
              "      <td>3.3</td>\n",
              "      <td>24</td>\n",
              "      <td>2020-04-13T15:06:15\\t</td>\n",
              "      <td>3</td>\n",
              "    </tr>\n",
              "    <tr>\n",
              "      <th>2</th>\n",
              "      <td>Women's adidas Swim Puka Slippers</td>\n",
              "      <td>CM0081</td>\n",
              "      <td>999</td>\n",
              "      <td>599</td>\n",
              "      <td>40</td>\n",
              "      <td>Adidas CORE / NEO</td>\n",
              "      <td>These adidas Puka slippers for women's come wi...</td>\n",
              "      <td>2.6</td>\n",
              "      <td>37</td>\n",
              "      <td>2020-04-13T15:06:15\\t</td>\n",
              "      <td>0</td>\n",
              "    </tr>\n",
              "    <tr>\n",
              "      <th>3</th>\n",
              "      <td>Women's adidas Sport Inspired Questar Ride Shoes</td>\n",
              "      <td>B44832</td>\n",
              "      <td>6999</td>\n",
              "      <td>3499</td>\n",
              "      <td>50</td>\n",
              "      <td>Adidas CORE / NEO</td>\n",
              "      <td>Inspired by modern tech runners, these women's...</td>\n",
              "      <td>4.1</td>\n",
              "      <td>35</td>\n",
              "      <td>2020-04-13T15:06:15\\t</td>\n",
              "      <td>0</td>\n",
              "    </tr>\n",
              "    <tr>\n",
              "      <th>4</th>\n",
              "      <td>Women's adidas Originals Taekwondo Shoes</td>\n",
              "      <td>D98205</td>\n",
              "      <td>7999</td>\n",
              "      <td>3999</td>\n",
              "      <td>50</td>\n",
              "      <td>Adidas ORIGINALS</td>\n",
              "      <td>This design is inspired by vintage Taekwondo s...</td>\n",
              "      <td>3.5</td>\n",
              "      <td>72</td>\n",
              "      <td>2020-04-13T15:06:15\\t</td>\n",
              "      <td>3</td>\n",
              "    </tr>\n",
              "  </tbody>\n",
              "</table>\n",
              "</div>\n",
              "      <button class=\"colab-df-convert\" onclick=\"convertToInteractive('df-fa0623d7-4a69-4509-bc56-2e28d345d326')\"\n",
              "              title=\"Convert this dataframe to an interactive table.\"\n",
              "              style=\"display:none;\">\n",
              "        \n",
              "  <svg xmlns=\"http://www.w3.org/2000/svg\" height=\"24px\"viewBox=\"0 0 24 24\"\n",
              "       width=\"24px\">\n",
              "    <path d=\"M0 0h24v24H0V0z\" fill=\"none\"/>\n",
              "    <path d=\"M18.56 5.44l.94 2.06.94-2.06 2.06-.94-2.06-.94-.94-2.06-.94 2.06-2.06.94zm-11 1L8.5 8.5l.94-2.06 2.06-.94-2.06-.94L8.5 2.5l-.94 2.06-2.06.94zm10 10l.94 2.06.94-2.06 2.06-.94-2.06-.94-.94-2.06-.94 2.06-2.06.94z\"/><path d=\"M17.41 7.96l-1.37-1.37c-.4-.4-.92-.59-1.43-.59-.52 0-1.04.2-1.43.59L10.3 9.45l-7.72 7.72c-.78.78-.78 2.05 0 2.83L4 21.41c.39.39.9.59 1.41.59.51 0 1.02-.2 1.41-.59l7.78-7.78 2.81-2.81c.8-.78.8-2.07 0-2.86zM5.41 20L4 18.59l7.72-7.72 1.47 1.35L5.41 20z\"/>\n",
              "  </svg>\n",
              "      </button>\n",
              "      \n",
              "  <style>\n",
              "    .colab-df-container {\n",
              "      display:flex;\n",
              "      flex-wrap:wrap;\n",
              "      gap: 12px;\n",
              "    }\n",
              "\n",
              "    .colab-df-convert {\n",
              "      background-color: #E8F0FE;\n",
              "      border: none;\n",
              "      border-radius: 50%;\n",
              "      cursor: pointer;\n",
              "      display: none;\n",
              "      fill: #1967D2;\n",
              "      height: 32px;\n",
              "      padding: 0 0 0 0;\n",
              "      width: 32px;\n",
              "    }\n",
              "\n",
              "    .colab-df-convert:hover {\n",
              "      background-color: #E2EBFA;\n",
              "      box-shadow: 0px 1px 2px rgba(60, 64, 67, 0.3), 0px 1px 3px 1px rgba(60, 64, 67, 0.15);\n",
              "      fill: #174EA6;\n",
              "    }\n",
              "\n",
              "    [theme=dark] .colab-df-convert {\n",
              "      background-color: #3B4455;\n",
              "      fill: #D2E3FC;\n",
              "    }\n",
              "\n",
              "    [theme=dark] .colab-df-convert:hover {\n",
              "      background-color: #434B5C;\n",
              "      box-shadow: 0px 1px 3px 1px rgba(0, 0, 0, 0.15);\n",
              "      filter: drop-shadow(0px 1px 2px rgba(0, 0, 0, 0.3));\n",
              "      fill: #FFFFFF;\n",
              "    }\n",
              "  </style>\n",
              "\n",
              "      <script>\n",
              "        const buttonEl =\n",
              "          document.querySelector('#df-fa0623d7-4a69-4509-bc56-2e28d345d326 button.colab-df-convert');\n",
              "        buttonEl.style.display =\n",
              "          google.colab.kernel.accessAllowed ? 'block' : 'none';\n",
              "\n",
              "        async function convertToInteractive(key) {\n",
              "          const element = document.querySelector('#df-fa0623d7-4a69-4509-bc56-2e28d345d326');\n",
              "          const dataTable =\n",
              "            await google.colab.kernel.invokeFunction('convertToInteractive',\n",
              "                                                     [key], {});\n",
              "          if (!dataTable) return;\n",
              "\n",
              "          const docLinkHtml = 'Like what you see? Visit the ' +\n",
              "            '<a target=\"_blank\" href=https://colab.research.google.com/notebooks/data_table.ipynb>data table notebook</a>'\n",
              "            + ' to learn more about interactive tables.';\n",
              "          element.innerHTML = '';\n",
              "          dataTable['output_type'] = 'display_data';\n",
              "          await google.colab.output.renderOutput(dataTable, element);\n",
              "          const docLink = document.createElement('div');\n",
              "          docLink.innerHTML = docLinkHtml;\n",
              "          element.appendChild(docLink);\n",
              "        }\n",
              "      </script>\n",
              "    </div>\n",
              "  </div>\n",
              "  "
            ]
          },
          "metadata": {},
          "execution_count": 135
        }
      ]
    },
    {
      "cell_type": "code",
      "execution_count": 136,
      "metadata": {
        "colab": {
          "base_uri": "https://localhost:8080/",
          "height": 354
        },
        "id": "JJcfi8H2_K79",
        "outputId": "4d607932-fffd-45cb-8409-4e522713b669"
      },
      "outputs": [
        {
          "output_type": "execute_result",
          "data": {
            "text/plain": [
              "                                        Product Name Product ID  \\\n",
              "2                  Women's adidas Swim Puka Slippers     CM0081   \n",
              "3   Women's adidas Sport Inspired Questar Ride Shoes     B44832   \n",
              "5  Women's adidas Sport Inspired Duramo Lite 2.0 ...     B75586   \n",
              "6  Women's adidas Sport Inspired Duramo Lite 2.0 ...     CG4051   \n",
              "7                  Women's adidas Swim Puka Slippers     CM0080   \n",
              "\n",
              "   Listing_Price  Sale_Price  Discount              Brand  \\\n",
              "2            999         599        40  Adidas CORE / NEO   \n",
              "3           6999        3499        50  Adidas CORE / NEO   \n",
              "5           4799        1920        60  Adidas CORE / NEO   \n",
              "6           4799        2399        50  Adidas CORE / NEO   \n",
              "7            999         599        40  Adidas CORE / NEO   \n",
              "\n",
              "                                         Description  Rating  Reviews  \\\n",
              "2  These adidas Puka slippers for women's come wi...     2.6       37   \n",
              "3  Inspired by modern tech runners, these women's...     4.1       35   \n",
              "5  Refine your interval training in these women's...     1.0       45   \n",
              "6  Refine your interval training in these women's...     4.4        2   \n",
              "7  These adidas Puka slippers for women's come wi...     2.8        7   \n",
              "\n",
              "          Last Visited\\t  segment  \n",
              "2  2020-04-13T15:06:15\\t        0  \n",
              "3  2020-04-13T15:06:15\\t        0  \n",
              "5  2020-04-13T15:06:15\\t        0  \n",
              "6  2020-04-13T15:06:15\\t        0  \n",
              "7  2020-04-13T15:06:15\\t        0  "
            ],
            "text/html": [
              "\n",
              "  <div id=\"df-bce29a67-b711-480d-80fa-62f6b476aab7\">\n",
              "    <div class=\"colab-df-container\">\n",
              "      <div>\n",
              "<style scoped>\n",
              "    .dataframe tbody tr th:only-of-type {\n",
              "        vertical-align: middle;\n",
              "    }\n",
              "\n",
              "    .dataframe tbody tr th {\n",
              "        vertical-align: top;\n",
              "    }\n",
              "\n",
              "    .dataframe thead th {\n",
              "        text-align: right;\n",
              "    }\n",
              "</style>\n",
              "<table border=\"1\" class=\"dataframe\">\n",
              "  <thead>\n",
              "    <tr style=\"text-align: right;\">\n",
              "      <th></th>\n",
              "      <th>Product Name</th>\n",
              "      <th>Product ID</th>\n",
              "      <th>Listing_Price</th>\n",
              "      <th>Sale_Price</th>\n",
              "      <th>Discount</th>\n",
              "      <th>Brand</th>\n",
              "      <th>Description</th>\n",
              "      <th>Rating</th>\n",
              "      <th>Reviews</th>\n",
              "      <th>Last Visited\\t</th>\n",
              "      <th>segment</th>\n",
              "    </tr>\n",
              "  </thead>\n",
              "  <tbody>\n",
              "    <tr>\n",
              "      <th>2</th>\n",
              "      <td>Women's adidas Swim Puka Slippers</td>\n",
              "      <td>CM0081</td>\n",
              "      <td>999</td>\n",
              "      <td>599</td>\n",
              "      <td>40</td>\n",
              "      <td>Adidas CORE / NEO</td>\n",
              "      <td>These adidas Puka slippers for women's come wi...</td>\n",
              "      <td>2.6</td>\n",
              "      <td>37</td>\n",
              "      <td>2020-04-13T15:06:15\\t</td>\n",
              "      <td>0</td>\n",
              "    </tr>\n",
              "    <tr>\n",
              "      <th>3</th>\n",
              "      <td>Women's adidas Sport Inspired Questar Ride Shoes</td>\n",
              "      <td>B44832</td>\n",
              "      <td>6999</td>\n",
              "      <td>3499</td>\n",
              "      <td>50</td>\n",
              "      <td>Adidas CORE / NEO</td>\n",
              "      <td>Inspired by modern tech runners, these women's...</td>\n",
              "      <td>4.1</td>\n",
              "      <td>35</td>\n",
              "      <td>2020-04-13T15:06:15\\t</td>\n",
              "      <td>0</td>\n",
              "    </tr>\n",
              "    <tr>\n",
              "      <th>5</th>\n",
              "      <td>Women's adidas Sport Inspired Duramo Lite 2.0 ...</td>\n",
              "      <td>B75586</td>\n",
              "      <td>4799</td>\n",
              "      <td>1920</td>\n",
              "      <td>60</td>\n",
              "      <td>Adidas CORE / NEO</td>\n",
              "      <td>Refine your interval training in these women's...</td>\n",
              "      <td>1.0</td>\n",
              "      <td>45</td>\n",
              "      <td>2020-04-13T15:06:15\\t</td>\n",
              "      <td>0</td>\n",
              "    </tr>\n",
              "    <tr>\n",
              "      <th>6</th>\n",
              "      <td>Women's adidas Sport Inspired Duramo Lite 2.0 ...</td>\n",
              "      <td>CG4051</td>\n",
              "      <td>4799</td>\n",
              "      <td>2399</td>\n",
              "      <td>50</td>\n",
              "      <td>Adidas CORE / NEO</td>\n",
              "      <td>Refine your interval training in these women's...</td>\n",
              "      <td>4.4</td>\n",
              "      <td>2</td>\n",
              "      <td>2020-04-13T15:06:15\\t</td>\n",
              "      <td>0</td>\n",
              "    </tr>\n",
              "    <tr>\n",
              "      <th>7</th>\n",
              "      <td>Women's adidas Swim Puka Slippers</td>\n",
              "      <td>CM0080</td>\n",
              "      <td>999</td>\n",
              "      <td>599</td>\n",
              "      <td>40</td>\n",
              "      <td>Adidas CORE / NEO</td>\n",
              "      <td>These adidas Puka slippers for women's come wi...</td>\n",
              "      <td>2.8</td>\n",
              "      <td>7</td>\n",
              "      <td>2020-04-13T15:06:15\\t</td>\n",
              "      <td>0</td>\n",
              "    </tr>\n",
              "  </tbody>\n",
              "</table>\n",
              "</div>\n",
              "      <button class=\"colab-df-convert\" onclick=\"convertToInteractive('df-bce29a67-b711-480d-80fa-62f6b476aab7')\"\n",
              "              title=\"Convert this dataframe to an interactive table.\"\n",
              "              style=\"display:none;\">\n",
              "        \n",
              "  <svg xmlns=\"http://www.w3.org/2000/svg\" height=\"24px\"viewBox=\"0 0 24 24\"\n",
              "       width=\"24px\">\n",
              "    <path d=\"M0 0h24v24H0V0z\" fill=\"none\"/>\n",
              "    <path d=\"M18.56 5.44l.94 2.06.94-2.06 2.06-.94-2.06-.94-.94-2.06-.94 2.06-2.06.94zm-11 1L8.5 8.5l.94-2.06 2.06-.94-2.06-.94L8.5 2.5l-.94 2.06-2.06.94zm10 10l.94 2.06.94-2.06 2.06-.94-2.06-.94-.94-2.06-.94 2.06-2.06.94z\"/><path d=\"M17.41 7.96l-1.37-1.37c-.4-.4-.92-.59-1.43-.59-.52 0-1.04.2-1.43.59L10.3 9.45l-7.72 7.72c-.78.78-.78 2.05 0 2.83L4 21.41c.39.39.9.59 1.41.59.51 0 1.02-.2 1.41-.59l7.78-7.78 2.81-2.81c.8-.78.8-2.07 0-2.86zM5.41 20L4 18.59l7.72-7.72 1.47 1.35L5.41 20z\"/>\n",
              "  </svg>\n",
              "      </button>\n",
              "      \n",
              "  <style>\n",
              "    .colab-df-container {\n",
              "      display:flex;\n",
              "      flex-wrap:wrap;\n",
              "      gap: 12px;\n",
              "    }\n",
              "\n",
              "    .colab-df-convert {\n",
              "      background-color: #E8F0FE;\n",
              "      border: none;\n",
              "      border-radius: 50%;\n",
              "      cursor: pointer;\n",
              "      display: none;\n",
              "      fill: #1967D2;\n",
              "      height: 32px;\n",
              "      padding: 0 0 0 0;\n",
              "      width: 32px;\n",
              "    }\n",
              "\n",
              "    .colab-df-convert:hover {\n",
              "      background-color: #E2EBFA;\n",
              "      box-shadow: 0px 1px 2px rgba(60, 64, 67, 0.3), 0px 1px 3px 1px rgba(60, 64, 67, 0.15);\n",
              "      fill: #174EA6;\n",
              "    }\n",
              "\n",
              "    [theme=dark] .colab-df-convert {\n",
              "      background-color: #3B4455;\n",
              "      fill: #D2E3FC;\n",
              "    }\n",
              "\n",
              "    [theme=dark] .colab-df-convert:hover {\n",
              "      background-color: #434B5C;\n",
              "      box-shadow: 0px 1px 3px 1px rgba(0, 0, 0, 0.15);\n",
              "      filter: drop-shadow(0px 1px 2px rgba(0, 0, 0, 0.3));\n",
              "      fill: #FFFFFF;\n",
              "    }\n",
              "  </style>\n",
              "\n",
              "      <script>\n",
              "        const buttonEl =\n",
              "          document.querySelector('#df-bce29a67-b711-480d-80fa-62f6b476aab7 button.colab-df-convert');\n",
              "        buttonEl.style.display =\n",
              "          google.colab.kernel.accessAllowed ? 'block' : 'none';\n",
              "\n",
              "        async function convertToInteractive(key) {\n",
              "          const element = document.querySelector('#df-bce29a67-b711-480d-80fa-62f6b476aab7');\n",
              "          const dataTable =\n",
              "            await google.colab.kernel.invokeFunction('convertToInteractive',\n",
              "                                                     [key], {});\n",
              "          if (!dataTable) return;\n",
              "\n",
              "          const docLinkHtml = 'Like what you see? Visit the ' +\n",
              "            '<a target=\"_blank\" href=https://colab.research.google.com/notebooks/data_table.ipynb>data table notebook</a>'\n",
              "            + ' to learn more about interactive tables.';\n",
              "          element.innerHTML = '';\n",
              "          dataTable['output_type'] = 'display_data';\n",
              "          await google.colab.output.renderOutput(dataTable, element);\n",
              "          const docLink = document.createElement('div');\n",
              "          docLink.innerHTML = docLinkHtml;\n",
              "          element.appendChild(docLink);\n",
              "        }\n",
              "      </script>\n",
              "    </div>\n",
              "  </div>\n",
              "  "
            ]
          },
          "metadata": {},
          "execution_count": 136
        }
      ],
      "source": [
        "# Menampilkan 5 data teratas dari cluster 0\n",
        "results[results[\"segment\"]==0][:5]"
      ]
    },
    {
      "cell_type": "code",
      "execution_count": 137,
      "metadata": {
        "colab": {
          "base_uri": "https://localhost:8080/",
          "height": 354
        },
        "id": "1VndOyvq_P7g",
        "outputId": "57cd3d68-7005-4b67-cb75-ae45495ea7c8"
      },
      "outputs": [
        {
          "output_type": "execute_result",
          "data": {
            "text/plain": [
              "                                          Product Name Product ID  \\\n",
              "767  Women's adidas by Stella Mccartney PureBoost T...     F36389   \n",
              "911          Men's adidas Running Solar Glide 19 Shoes     G28062   \n",
              "915          Men's adidas Running Solar Glide 19 Shoes     F34099   \n",
              "917          Men's adidas Running Solar Boost 19 Shoes     G28058   \n",
              "921           Men's adidas Running AlphaBoost BF Shoes     EF1164   \n",
              "\n",
              "     Listing_Price  Sale_Price  Discount                     Brand  \\\n",
              "767          14999        7499        50  Adidas SPORT PERFORMANCE   \n",
              "911          13999        8399        40  Adidas SPORT PERFORMANCE   \n",
              "915          13999        8399        40  Adidas SPORT PERFORMANCE   \n",
              "917          15999        9599        40  Adidas SPORT PERFORMANCE   \n",
              "921          14999        8999        40  Adidas SPORT PERFORMANCE   \n",
              "\n",
              "                                           Description  Rating  Reviews  \\\n",
              "767  Stella's innovative approach to design steps o...     2.5       14   \n",
              "911  Reach your goals in these shoes designed for l...     3.4       62   \n",
              "915  Reach your goals in these shoes designed for l...     5.0       20   \n",
              "917  There's no such thing as an ordinary run. Thes...     4.8       21   \n",
              "921  Designed for athletes looking to step up their...     2.4       18   \n",
              "\n",
              "            Last Visited\\t  segment  \n",
              "767  2020-04-13T15:06:45\\t        1  \n",
              "911  2020-04-13T15:06:50\\t        1  \n",
              "915  2020-04-13T15:06:50\\t        1  \n",
              "917  2020-04-13T15:06:51\\t        1  \n",
              "921  2020-04-13T15:06:51\\t        1  "
            ],
            "text/html": [
              "\n",
              "  <div id=\"df-d6e0676c-c3fb-4423-bd80-29c5c6436bec\">\n",
              "    <div class=\"colab-df-container\">\n",
              "      <div>\n",
              "<style scoped>\n",
              "    .dataframe tbody tr th:only-of-type {\n",
              "        vertical-align: middle;\n",
              "    }\n",
              "\n",
              "    .dataframe tbody tr th {\n",
              "        vertical-align: top;\n",
              "    }\n",
              "\n",
              "    .dataframe thead th {\n",
              "        text-align: right;\n",
              "    }\n",
              "</style>\n",
              "<table border=\"1\" class=\"dataframe\">\n",
              "  <thead>\n",
              "    <tr style=\"text-align: right;\">\n",
              "      <th></th>\n",
              "      <th>Product Name</th>\n",
              "      <th>Product ID</th>\n",
              "      <th>Listing_Price</th>\n",
              "      <th>Sale_Price</th>\n",
              "      <th>Discount</th>\n",
              "      <th>Brand</th>\n",
              "      <th>Description</th>\n",
              "      <th>Rating</th>\n",
              "      <th>Reviews</th>\n",
              "      <th>Last Visited\\t</th>\n",
              "      <th>segment</th>\n",
              "    </tr>\n",
              "  </thead>\n",
              "  <tbody>\n",
              "    <tr>\n",
              "      <th>767</th>\n",
              "      <td>Women's adidas by Stella Mccartney PureBoost T...</td>\n",
              "      <td>F36389</td>\n",
              "      <td>14999</td>\n",
              "      <td>7499</td>\n",
              "      <td>50</td>\n",
              "      <td>Adidas SPORT PERFORMANCE</td>\n",
              "      <td>Stella's innovative approach to design steps o...</td>\n",
              "      <td>2.5</td>\n",
              "      <td>14</td>\n",
              "      <td>2020-04-13T15:06:45\\t</td>\n",
              "      <td>1</td>\n",
              "    </tr>\n",
              "    <tr>\n",
              "      <th>911</th>\n",
              "      <td>Men's adidas Running Solar Glide 19 Shoes</td>\n",
              "      <td>G28062</td>\n",
              "      <td>13999</td>\n",
              "      <td>8399</td>\n",
              "      <td>40</td>\n",
              "      <td>Adidas SPORT PERFORMANCE</td>\n",
              "      <td>Reach your goals in these shoes designed for l...</td>\n",
              "      <td>3.4</td>\n",
              "      <td>62</td>\n",
              "      <td>2020-04-13T15:06:50\\t</td>\n",
              "      <td>1</td>\n",
              "    </tr>\n",
              "    <tr>\n",
              "      <th>915</th>\n",
              "      <td>Men's adidas Running Solar Glide 19 Shoes</td>\n",
              "      <td>F34099</td>\n",
              "      <td>13999</td>\n",
              "      <td>8399</td>\n",
              "      <td>40</td>\n",
              "      <td>Adidas SPORT PERFORMANCE</td>\n",
              "      <td>Reach your goals in these shoes designed for l...</td>\n",
              "      <td>5.0</td>\n",
              "      <td>20</td>\n",
              "      <td>2020-04-13T15:06:50\\t</td>\n",
              "      <td>1</td>\n",
              "    </tr>\n",
              "    <tr>\n",
              "      <th>917</th>\n",
              "      <td>Men's adidas Running Solar Boost 19 Shoes</td>\n",
              "      <td>G28058</td>\n",
              "      <td>15999</td>\n",
              "      <td>9599</td>\n",
              "      <td>40</td>\n",
              "      <td>Adidas SPORT PERFORMANCE</td>\n",
              "      <td>There's no such thing as an ordinary run. Thes...</td>\n",
              "      <td>4.8</td>\n",
              "      <td>21</td>\n",
              "      <td>2020-04-13T15:06:51\\t</td>\n",
              "      <td>1</td>\n",
              "    </tr>\n",
              "    <tr>\n",
              "      <th>921</th>\n",
              "      <td>Men's adidas Running AlphaBoost BF Shoes</td>\n",
              "      <td>EF1164</td>\n",
              "      <td>14999</td>\n",
              "      <td>8999</td>\n",
              "      <td>40</td>\n",
              "      <td>Adidas SPORT PERFORMANCE</td>\n",
              "      <td>Designed for athletes looking to step up their...</td>\n",
              "      <td>2.4</td>\n",
              "      <td>18</td>\n",
              "      <td>2020-04-13T15:06:51\\t</td>\n",
              "      <td>1</td>\n",
              "    </tr>\n",
              "  </tbody>\n",
              "</table>\n",
              "</div>\n",
              "      <button class=\"colab-df-convert\" onclick=\"convertToInteractive('df-d6e0676c-c3fb-4423-bd80-29c5c6436bec')\"\n",
              "              title=\"Convert this dataframe to an interactive table.\"\n",
              "              style=\"display:none;\">\n",
              "        \n",
              "  <svg xmlns=\"http://www.w3.org/2000/svg\" height=\"24px\"viewBox=\"0 0 24 24\"\n",
              "       width=\"24px\">\n",
              "    <path d=\"M0 0h24v24H0V0z\" fill=\"none\"/>\n",
              "    <path d=\"M18.56 5.44l.94 2.06.94-2.06 2.06-.94-2.06-.94-.94-2.06-.94 2.06-2.06.94zm-11 1L8.5 8.5l.94-2.06 2.06-.94-2.06-.94L8.5 2.5l-.94 2.06-2.06.94zm10 10l.94 2.06.94-2.06 2.06-.94-2.06-.94-.94-2.06-.94 2.06-2.06.94z\"/><path d=\"M17.41 7.96l-1.37-1.37c-.4-.4-.92-.59-1.43-.59-.52 0-1.04.2-1.43.59L10.3 9.45l-7.72 7.72c-.78.78-.78 2.05 0 2.83L4 21.41c.39.39.9.59 1.41.59.51 0 1.02-.2 1.41-.59l7.78-7.78 2.81-2.81c.8-.78.8-2.07 0-2.86zM5.41 20L4 18.59l7.72-7.72 1.47 1.35L5.41 20z\"/>\n",
              "  </svg>\n",
              "      </button>\n",
              "      \n",
              "  <style>\n",
              "    .colab-df-container {\n",
              "      display:flex;\n",
              "      flex-wrap:wrap;\n",
              "      gap: 12px;\n",
              "    }\n",
              "\n",
              "    .colab-df-convert {\n",
              "      background-color: #E8F0FE;\n",
              "      border: none;\n",
              "      border-radius: 50%;\n",
              "      cursor: pointer;\n",
              "      display: none;\n",
              "      fill: #1967D2;\n",
              "      height: 32px;\n",
              "      padding: 0 0 0 0;\n",
              "      width: 32px;\n",
              "    }\n",
              "\n",
              "    .colab-df-convert:hover {\n",
              "      background-color: #E2EBFA;\n",
              "      box-shadow: 0px 1px 2px rgba(60, 64, 67, 0.3), 0px 1px 3px 1px rgba(60, 64, 67, 0.15);\n",
              "      fill: #174EA6;\n",
              "    }\n",
              "\n",
              "    [theme=dark] .colab-df-convert {\n",
              "      background-color: #3B4455;\n",
              "      fill: #D2E3FC;\n",
              "    }\n",
              "\n",
              "    [theme=dark] .colab-df-convert:hover {\n",
              "      background-color: #434B5C;\n",
              "      box-shadow: 0px 1px 3px 1px rgba(0, 0, 0, 0.15);\n",
              "      filter: drop-shadow(0px 1px 2px rgba(0, 0, 0, 0.3));\n",
              "      fill: #FFFFFF;\n",
              "    }\n",
              "  </style>\n",
              "\n",
              "      <script>\n",
              "        const buttonEl =\n",
              "          document.querySelector('#df-d6e0676c-c3fb-4423-bd80-29c5c6436bec button.colab-df-convert');\n",
              "        buttonEl.style.display =\n",
              "          google.colab.kernel.accessAllowed ? 'block' : 'none';\n",
              "\n",
              "        async function convertToInteractive(key) {\n",
              "          const element = document.querySelector('#df-d6e0676c-c3fb-4423-bd80-29c5c6436bec');\n",
              "          const dataTable =\n",
              "            await google.colab.kernel.invokeFunction('convertToInteractive',\n",
              "                                                     [key], {});\n",
              "          if (!dataTable) return;\n",
              "\n",
              "          const docLinkHtml = 'Like what you see? Visit the ' +\n",
              "            '<a target=\"_blank\" href=https://colab.research.google.com/notebooks/data_table.ipynb>data table notebook</a>'\n",
              "            + ' to learn more about interactive tables.';\n",
              "          element.innerHTML = '';\n",
              "          dataTable['output_type'] = 'display_data';\n",
              "          await google.colab.output.renderOutput(dataTable, element);\n",
              "          const docLink = document.createElement('div');\n",
              "          docLink.innerHTML = docLinkHtml;\n",
              "          element.appendChild(docLink);\n",
              "        }\n",
              "      </script>\n",
              "    </div>\n",
              "  </div>\n",
              "  "
            ]
          },
          "metadata": {},
          "execution_count": 137
        }
      ],
      "source": [
        "# Menampilkan 5 data teratas dari cluster 1\n",
        "results[results[\"segment\"]==1][:5]"
      ]
    },
    {
      "cell_type": "code",
      "source": [
        "# Menampilkan 5 data teratas dari cluster 2\n",
        "results[results[\"segment\"]==2][:5]"
      ],
      "metadata": {
        "colab": {
          "base_uri": "https://localhost:8080/",
          "height": 354
        },
        "id": "Y-zlIMZHSKS0",
        "outputId": "a898c01b-3104-493d-c2a6-2dbcda4b55c4"
      },
      "execution_count": 138,
      "outputs": [
        {
          "output_type": "execute_result",
          "data": {
            "text/plain": [
              "                                     Product Name Product ID  Listing_Price  \\\n",
              "505     Women's adidas Originals ZX Torsion Shoes     EF4375          11999   \n",
              "531     Women's adidas Originals ZX Torsion Shoes     EF4374          11999   \n",
              "598  Women's adidas Originals Supercourt RX Shoes     FV3671          13999   \n",
              "600  Women's adidas Originals Supercourt RX Shoes     FV3675          12999   \n",
              "614         Women's adidas Originals NMD_R1 Shoes     FU9352          12999   \n",
              "\n",
              "     Sale_Price  Discount             Brand  \\\n",
              "505       11999         0  Adidas ORIGINALS   \n",
              "531       11999         0  Adidas ORIGINALS   \n",
              "598       13999         0  Adidas ORIGINALS   \n",
              "600       12999         0  Adidas ORIGINALS   \n",
              "614       12999         0  Adidas ORIGINALS   \n",
              "\n",
              "                                           Description  Rating  Reviews  \\\n",
              "505  Refuse to blend in. The '80s style of ZX colli...     2.5       17   \n",
              "531  ZX has always stood for innovation. These wome...     4.2       93   \n",
              "598  The Supercourt RX serves up court style with a...     4.9       87   \n",
              "600  The Supercourt RX serves up court style with a...     3.7        2   \n",
              "614  Don't be afraid to shine. These shoes have the...     2.7       80   \n",
              "\n",
              "            Last Visited\\t  segment  \n",
              "505  2020-04-13T15:06:36\\t        2  \n",
              "531  2020-04-13T15:06:37\\t        2  \n",
              "598  2020-04-13T15:06:39\\t        2  \n",
              "600  2020-04-13T15:06:39\\t        2  \n",
              "614  2020-04-13T15:06:40\\t        2  "
            ],
            "text/html": [
              "\n",
              "  <div id=\"df-c39737c9-d9ac-4cc0-8703-f2c7512336e6\">\n",
              "    <div class=\"colab-df-container\">\n",
              "      <div>\n",
              "<style scoped>\n",
              "    .dataframe tbody tr th:only-of-type {\n",
              "        vertical-align: middle;\n",
              "    }\n",
              "\n",
              "    .dataframe tbody tr th {\n",
              "        vertical-align: top;\n",
              "    }\n",
              "\n",
              "    .dataframe thead th {\n",
              "        text-align: right;\n",
              "    }\n",
              "</style>\n",
              "<table border=\"1\" class=\"dataframe\">\n",
              "  <thead>\n",
              "    <tr style=\"text-align: right;\">\n",
              "      <th></th>\n",
              "      <th>Product Name</th>\n",
              "      <th>Product ID</th>\n",
              "      <th>Listing_Price</th>\n",
              "      <th>Sale_Price</th>\n",
              "      <th>Discount</th>\n",
              "      <th>Brand</th>\n",
              "      <th>Description</th>\n",
              "      <th>Rating</th>\n",
              "      <th>Reviews</th>\n",
              "      <th>Last Visited\\t</th>\n",
              "      <th>segment</th>\n",
              "    </tr>\n",
              "  </thead>\n",
              "  <tbody>\n",
              "    <tr>\n",
              "      <th>505</th>\n",
              "      <td>Women's adidas Originals ZX Torsion Shoes</td>\n",
              "      <td>EF4375</td>\n",
              "      <td>11999</td>\n",
              "      <td>11999</td>\n",
              "      <td>0</td>\n",
              "      <td>Adidas ORIGINALS</td>\n",
              "      <td>Refuse to blend in. The '80s style of ZX colli...</td>\n",
              "      <td>2.5</td>\n",
              "      <td>17</td>\n",
              "      <td>2020-04-13T15:06:36\\t</td>\n",
              "      <td>2</td>\n",
              "    </tr>\n",
              "    <tr>\n",
              "      <th>531</th>\n",
              "      <td>Women's adidas Originals ZX Torsion Shoes</td>\n",
              "      <td>EF4374</td>\n",
              "      <td>11999</td>\n",
              "      <td>11999</td>\n",
              "      <td>0</td>\n",
              "      <td>Adidas ORIGINALS</td>\n",
              "      <td>ZX has always stood for innovation. These wome...</td>\n",
              "      <td>4.2</td>\n",
              "      <td>93</td>\n",
              "      <td>2020-04-13T15:06:37\\t</td>\n",
              "      <td>2</td>\n",
              "    </tr>\n",
              "    <tr>\n",
              "      <th>598</th>\n",
              "      <td>Women's adidas Originals Supercourt RX Shoes</td>\n",
              "      <td>FV3671</td>\n",
              "      <td>13999</td>\n",
              "      <td>13999</td>\n",
              "      <td>0</td>\n",
              "      <td>Adidas ORIGINALS</td>\n",
              "      <td>The Supercourt RX serves up court style with a...</td>\n",
              "      <td>4.9</td>\n",
              "      <td>87</td>\n",
              "      <td>2020-04-13T15:06:39\\t</td>\n",
              "      <td>2</td>\n",
              "    </tr>\n",
              "    <tr>\n",
              "      <th>600</th>\n",
              "      <td>Women's adidas Originals Supercourt RX Shoes</td>\n",
              "      <td>FV3675</td>\n",
              "      <td>12999</td>\n",
              "      <td>12999</td>\n",
              "      <td>0</td>\n",
              "      <td>Adidas ORIGINALS</td>\n",
              "      <td>The Supercourt RX serves up court style with a...</td>\n",
              "      <td>3.7</td>\n",
              "      <td>2</td>\n",
              "      <td>2020-04-13T15:06:39\\t</td>\n",
              "      <td>2</td>\n",
              "    </tr>\n",
              "    <tr>\n",
              "      <th>614</th>\n",
              "      <td>Women's adidas Originals NMD_R1 Shoes</td>\n",
              "      <td>FU9352</td>\n",
              "      <td>12999</td>\n",
              "      <td>12999</td>\n",
              "      <td>0</td>\n",
              "      <td>Adidas ORIGINALS</td>\n",
              "      <td>Don't be afraid to shine. These shoes have the...</td>\n",
              "      <td>2.7</td>\n",
              "      <td>80</td>\n",
              "      <td>2020-04-13T15:06:40\\t</td>\n",
              "      <td>2</td>\n",
              "    </tr>\n",
              "  </tbody>\n",
              "</table>\n",
              "</div>\n",
              "      <button class=\"colab-df-convert\" onclick=\"convertToInteractive('df-c39737c9-d9ac-4cc0-8703-f2c7512336e6')\"\n",
              "              title=\"Convert this dataframe to an interactive table.\"\n",
              "              style=\"display:none;\">\n",
              "        \n",
              "  <svg xmlns=\"http://www.w3.org/2000/svg\" height=\"24px\"viewBox=\"0 0 24 24\"\n",
              "       width=\"24px\">\n",
              "    <path d=\"M0 0h24v24H0V0z\" fill=\"none\"/>\n",
              "    <path d=\"M18.56 5.44l.94 2.06.94-2.06 2.06-.94-2.06-.94-.94-2.06-.94 2.06-2.06.94zm-11 1L8.5 8.5l.94-2.06 2.06-.94-2.06-.94L8.5 2.5l-.94 2.06-2.06.94zm10 10l.94 2.06.94-2.06 2.06-.94-2.06-.94-.94-2.06-.94 2.06-2.06.94z\"/><path d=\"M17.41 7.96l-1.37-1.37c-.4-.4-.92-.59-1.43-.59-.52 0-1.04.2-1.43.59L10.3 9.45l-7.72 7.72c-.78.78-.78 2.05 0 2.83L4 21.41c.39.39.9.59 1.41.59.51 0 1.02-.2 1.41-.59l7.78-7.78 2.81-2.81c.8-.78.8-2.07 0-2.86zM5.41 20L4 18.59l7.72-7.72 1.47 1.35L5.41 20z\"/>\n",
              "  </svg>\n",
              "      </button>\n",
              "      \n",
              "  <style>\n",
              "    .colab-df-container {\n",
              "      display:flex;\n",
              "      flex-wrap:wrap;\n",
              "      gap: 12px;\n",
              "    }\n",
              "\n",
              "    .colab-df-convert {\n",
              "      background-color: #E8F0FE;\n",
              "      border: none;\n",
              "      border-radius: 50%;\n",
              "      cursor: pointer;\n",
              "      display: none;\n",
              "      fill: #1967D2;\n",
              "      height: 32px;\n",
              "      padding: 0 0 0 0;\n",
              "      width: 32px;\n",
              "    }\n",
              "\n",
              "    .colab-df-convert:hover {\n",
              "      background-color: #E2EBFA;\n",
              "      box-shadow: 0px 1px 2px rgba(60, 64, 67, 0.3), 0px 1px 3px 1px rgba(60, 64, 67, 0.15);\n",
              "      fill: #174EA6;\n",
              "    }\n",
              "\n",
              "    [theme=dark] .colab-df-convert {\n",
              "      background-color: #3B4455;\n",
              "      fill: #D2E3FC;\n",
              "    }\n",
              "\n",
              "    [theme=dark] .colab-df-convert:hover {\n",
              "      background-color: #434B5C;\n",
              "      box-shadow: 0px 1px 3px 1px rgba(0, 0, 0, 0.15);\n",
              "      filter: drop-shadow(0px 1px 2px rgba(0, 0, 0, 0.3));\n",
              "      fill: #FFFFFF;\n",
              "    }\n",
              "  </style>\n",
              "\n",
              "      <script>\n",
              "        const buttonEl =\n",
              "          document.querySelector('#df-c39737c9-d9ac-4cc0-8703-f2c7512336e6 button.colab-df-convert');\n",
              "        buttonEl.style.display =\n",
              "          google.colab.kernel.accessAllowed ? 'block' : 'none';\n",
              "\n",
              "        async function convertToInteractive(key) {\n",
              "          const element = document.querySelector('#df-c39737c9-d9ac-4cc0-8703-f2c7512336e6');\n",
              "          const dataTable =\n",
              "            await google.colab.kernel.invokeFunction('convertToInteractive',\n",
              "                                                     [key], {});\n",
              "          if (!dataTable) return;\n",
              "\n",
              "          const docLinkHtml = 'Like what you see? Visit the ' +\n",
              "            '<a target=\"_blank\" href=https://colab.research.google.com/notebooks/data_table.ipynb>data table notebook</a>'\n",
              "            + ' to learn more about interactive tables.';\n",
              "          element.innerHTML = '';\n",
              "          dataTable['output_type'] = 'display_data';\n",
              "          await google.colab.output.renderOutput(dataTable, element);\n",
              "          const docLink = document.createElement('div');\n",
              "          docLink.innerHTML = docLinkHtml;\n",
              "          element.appendChild(docLink);\n",
              "        }\n",
              "      </script>\n",
              "    </div>\n",
              "  </div>\n",
              "  "
            ]
          },
          "metadata": {},
          "execution_count": 138
        }
      ]
    },
    {
      "cell_type": "code",
      "execution_count": 139,
      "metadata": {
        "colab": {
          "base_uri": "https://localhost:8080/",
          "height": 354
        },
        "id": "tTQ_b8-l_Ujh",
        "outputId": "68536810-c66e-4bfc-aa20-b406d6c1ed3b"
      },
      "outputs": [
        {
          "output_type": "execute_result",
          "data": {
            "text/plain": [
              "                                         Product Name Product ID  \\\n",
              "0   Women's adidas Originals NMD_Racer Primeknit S...     AH2430   \n",
              "1                Women's adidas Originals Sleek Shoes     G27341   \n",
              "4            Women's adidas Originals Taekwondo Shoes     D98205   \n",
              "9           Men's adidas Originals Forest Grove Shoes     EE5761   \n",
              "10           Women's adidas Originals Swift Run Shoes     EE4553   \n",
              "\n",
              "    Listing_Price  Sale_Price  Discount             Brand  \\\n",
              "0           14999        7499        50  Adidas ORIGINALS   \n",
              "1            7599        3799        50  Adidas ORIGINALS   \n",
              "4            7999        3999        50  Adidas ORIGINALS   \n",
              "9            6599        3959        40  Adidas ORIGINALS   \n",
              "10           7599        4559        40  Adidas ORIGINALS   \n",
              "\n",
              "                                          Description  Rating  Reviews  \\\n",
              "0   Channeling the streamlined look of an '80s rac...     4.8       41   \n",
              "1   A modern take on adidas sport heritage, tailor...     3.3       24   \n",
              "4   This design is inspired by vintage Taekwondo s...     3.5       72   \n",
              "9   The Forest Grove brings back the look of the a...     4.0       39   \n",
              "10  The Swift distills decades of adidas heritage ...     2.7       36   \n",
              "\n",
              "           Last Visited\\t  segment  \n",
              "0   2020-04-13T15:06:14\\t        3  \n",
              "1   2020-04-13T15:06:15\\t        3  \n",
              "4   2020-04-13T15:06:15\\t        3  \n",
              "9   2020-04-13T15:06:15\\t        3  \n",
              "10  2020-04-13T15:06:16\\t        3  "
            ],
            "text/html": [
              "\n",
              "  <div id=\"df-07f7308a-92cc-4ad4-93ea-a70545dfac5f\">\n",
              "    <div class=\"colab-df-container\">\n",
              "      <div>\n",
              "<style scoped>\n",
              "    .dataframe tbody tr th:only-of-type {\n",
              "        vertical-align: middle;\n",
              "    }\n",
              "\n",
              "    .dataframe tbody tr th {\n",
              "        vertical-align: top;\n",
              "    }\n",
              "\n",
              "    .dataframe thead th {\n",
              "        text-align: right;\n",
              "    }\n",
              "</style>\n",
              "<table border=\"1\" class=\"dataframe\">\n",
              "  <thead>\n",
              "    <tr style=\"text-align: right;\">\n",
              "      <th></th>\n",
              "      <th>Product Name</th>\n",
              "      <th>Product ID</th>\n",
              "      <th>Listing_Price</th>\n",
              "      <th>Sale_Price</th>\n",
              "      <th>Discount</th>\n",
              "      <th>Brand</th>\n",
              "      <th>Description</th>\n",
              "      <th>Rating</th>\n",
              "      <th>Reviews</th>\n",
              "      <th>Last Visited\\t</th>\n",
              "      <th>segment</th>\n",
              "    </tr>\n",
              "  </thead>\n",
              "  <tbody>\n",
              "    <tr>\n",
              "      <th>0</th>\n",
              "      <td>Women's adidas Originals NMD_Racer Primeknit S...</td>\n",
              "      <td>AH2430</td>\n",
              "      <td>14999</td>\n",
              "      <td>7499</td>\n",
              "      <td>50</td>\n",
              "      <td>Adidas ORIGINALS</td>\n",
              "      <td>Channeling the streamlined look of an '80s rac...</td>\n",
              "      <td>4.8</td>\n",
              "      <td>41</td>\n",
              "      <td>2020-04-13T15:06:14\\t</td>\n",
              "      <td>3</td>\n",
              "    </tr>\n",
              "    <tr>\n",
              "      <th>1</th>\n",
              "      <td>Women's adidas Originals Sleek Shoes</td>\n",
              "      <td>G27341</td>\n",
              "      <td>7599</td>\n",
              "      <td>3799</td>\n",
              "      <td>50</td>\n",
              "      <td>Adidas ORIGINALS</td>\n",
              "      <td>A modern take on adidas sport heritage, tailor...</td>\n",
              "      <td>3.3</td>\n",
              "      <td>24</td>\n",
              "      <td>2020-04-13T15:06:15\\t</td>\n",
              "      <td>3</td>\n",
              "    </tr>\n",
              "    <tr>\n",
              "      <th>4</th>\n",
              "      <td>Women's adidas Originals Taekwondo Shoes</td>\n",
              "      <td>D98205</td>\n",
              "      <td>7999</td>\n",
              "      <td>3999</td>\n",
              "      <td>50</td>\n",
              "      <td>Adidas ORIGINALS</td>\n",
              "      <td>This design is inspired by vintage Taekwondo s...</td>\n",
              "      <td>3.5</td>\n",
              "      <td>72</td>\n",
              "      <td>2020-04-13T15:06:15\\t</td>\n",
              "      <td>3</td>\n",
              "    </tr>\n",
              "    <tr>\n",
              "      <th>9</th>\n",
              "      <td>Men's adidas Originals Forest Grove Shoes</td>\n",
              "      <td>EE5761</td>\n",
              "      <td>6599</td>\n",
              "      <td>3959</td>\n",
              "      <td>40</td>\n",
              "      <td>Adidas ORIGINALS</td>\n",
              "      <td>The Forest Grove brings back the look of the a...</td>\n",
              "      <td>4.0</td>\n",
              "      <td>39</td>\n",
              "      <td>2020-04-13T15:06:15\\t</td>\n",
              "      <td>3</td>\n",
              "    </tr>\n",
              "    <tr>\n",
              "      <th>10</th>\n",
              "      <td>Women's adidas Originals Swift Run Shoes</td>\n",
              "      <td>EE4553</td>\n",
              "      <td>7599</td>\n",
              "      <td>4559</td>\n",
              "      <td>40</td>\n",
              "      <td>Adidas ORIGINALS</td>\n",
              "      <td>The Swift distills decades of adidas heritage ...</td>\n",
              "      <td>2.7</td>\n",
              "      <td>36</td>\n",
              "      <td>2020-04-13T15:06:16\\t</td>\n",
              "      <td>3</td>\n",
              "    </tr>\n",
              "  </tbody>\n",
              "</table>\n",
              "</div>\n",
              "      <button class=\"colab-df-convert\" onclick=\"convertToInteractive('df-07f7308a-92cc-4ad4-93ea-a70545dfac5f')\"\n",
              "              title=\"Convert this dataframe to an interactive table.\"\n",
              "              style=\"display:none;\">\n",
              "        \n",
              "  <svg xmlns=\"http://www.w3.org/2000/svg\" height=\"24px\"viewBox=\"0 0 24 24\"\n",
              "       width=\"24px\">\n",
              "    <path d=\"M0 0h24v24H0V0z\" fill=\"none\"/>\n",
              "    <path d=\"M18.56 5.44l.94 2.06.94-2.06 2.06-.94-2.06-.94-.94-2.06-.94 2.06-2.06.94zm-11 1L8.5 8.5l.94-2.06 2.06-.94-2.06-.94L8.5 2.5l-.94 2.06-2.06.94zm10 10l.94 2.06.94-2.06 2.06-.94-2.06-.94-.94-2.06-.94 2.06-2.06.94z\"/><path d=\"M17.41 7.96l-1.37-1.37c-.4-.4-.92-.59-1.43-.59-.52 0-1.04.2-1.43.59L10.3 9.45l-7.72 7.72c-.78.78-.78 2.05 0 2.83L4 21.41c.39.39.9.59 1.41.59.51 0 1.02-.2 1.41-.59l7.78-7.78 2.81-2.81c.8-.78.8-2.07 0-2.86zM5.41 20L4 18.59l7.72-7.72 1.47 1.35L5.41 20z\"/>\n",
              "  </svg>\n",
              "      </button>\n",
              "      \n",
              "  <style>\n",
              "    .colab-df-container {\n",
              "      display:flex;\n",
              "      flex-wrap:wrap;\n",
              "      gap: 12px;\n",
              "    }\n",
              "\n",
              "    .colab-df-convert {\n",
              "      background-color: #E8F0FE;\n",
              "      border: none;\n",
              "      border-radius: 50%;\n",
              "      cursor: pointer;\n",
              "      display: none;\n",
              "      fill: #1967D2;\n",
              "      height: 32px;\n",
              "      padding: 0 0 0 0;\n",
              "      width: 32px;\n",
              "    }\n",
              "\n",
              "    .colab-df-convert:hover {\n",
              "      background-color: #E2EBFA;\n",
              "      box-shadow: 0px 1px 2px rgba(60, 64, 67, 0.3), 0px 1px 3px 1px rgba(60, 64, 67, 0.15);\n",
              "      fill: #174EA6;\n",
              "    }\n",
              "\n",
              "    [theme=dark] .colab-df-convert {\n",
              "      background-color: #3B4455;\n",
              "      fill: #D2E3FC;\n",
              "    }\n",
              "\n",
              "    [theme=dark] .colab-df-convert:hover {\n",
              "      background-color: #434B5C;\n",
              "      box-shadow: 0px 1px 3px 1px rgba(0, 0, 0, 0.15);\n",
              "      filter: drop-shadow(0px 1px 2px rgba(0, 0, 0, 0.3));\n",
              "      fill: #FFFFFF;\n",
              "    }\n",
              "  </style>\n",
              "\n",
              "      <script>\n",
              "        const buttonEl =\n",
              "          document.querySelector('#df-07f7308a-92cc-4ad4-93ea-a70545dfac5f button.colab-df-convert');\n",
              "        buttonEl.style.display =\n",
              "          google.colab.kernel.accessAllowed ? 'block' : 'none';\n",
              "\n",
              "        async function convertToInteractive(key) {\n",
              "          const element = document.querySelector('#df-07f7308a-92cc-4ad4-93ea-a70545dfac5f');\n",
              "          const dataTable =\n",
              "            await google.colab.kernel.invokeFunction('convertToInteractive',\n",
              "                                                     [key], {});\n",
              "          if (!dataTable) return;\n",
              "\n",
              "          const docLinkHtml = 'Like what you see? Visit the ' +\n",
              "            '<a target=\"_blank\" href=https://colab.research.google.com/notebooks/data_table.ipynb>data table notebook</a>'\n",
              "            + ' to learn more about interactive tables.';\n",
              "          element.innerHTML = '';\n",
              "          dataTable['output_type'] = 'display_data';\n",
              "          await google.colab.output.renderOutput(dataTable, element);\n",
              "          const docLink = document.createElement('div');\n",
              "          docLink.innerHTML = docLinkHtml;\n",
              "          element.appendChild(docLink);\n",
              "        }\n",
              "      </script>\n",
              "    </div>\n",
              "  </div>\n",
              "  "
            ]
          },
          "metadata": {},
          "execution_count": 139
        }
      ],
      "source": [
        "# Menampilkan 5 data teratas dari cluster 3\n",
        "results[results[\"segment\"]==3][:5]"
      ]
    },
    {
      "cell_type": "markdown",
      "metadata": {
        "id": "GRYYM_r0XnjC"
      },
      "source": [
        "## EDA\n"
      ]
    },
    {
      "cell_type": "code",
      "execution_count": 140,
      "metadata": {
        "colab": {
          "base_uri": "https://localhost:8080/",
          "height": 466
        },
        "id": "VQa9oQ8wrIAZ",
        "outputId": "925c4ee2-2e29-4124-96c7-95f9a6326312"
      },
      "outputs": [
        {
          "output_type": "execute_result",
          "data": {
            "text/plain": [
              "<Axes: xlabel='segment', ylabel='Sale_Price'>"
            ]
          },
          "metadata": {},
          "execution_count": 140
        },
        {
          "output_type": "display_data",
          "data": {
            "text/plain": [
              "<Figure size 640x480 with 1 Axes>"
            ],
            "image/png": "[encoded data removed]"
          },
          "metadata": {}
        }
      ],
      "source": [
        "# Pengelompokan customer berdasarkan brand\n",
        "sns.boxplot(x=results[\"segment\"], y=results[\"Sale_Price\"], data=results)"
      ]
    },
    {
      "cell_type": "markdown",
      "source": [
        "Dari Sale Price diketahui bahwa range harga yang paling murah terdapat pada cluster 3 yaitu >10000. Sedangkan range harga yang paling mahal  terletak pada cluster 2, yaitu sekitar 10000 < harga < 35000. Untuk dua cluster sisanya hampir sama, yaitu lumayan murah dengan range >15000.\n",
        "<br>\n",
        "<br>\n",
        "**Lalu bagaimana dengan persebaran Brand pada tiap cluster?**"
      ],
      "metadata": {
        "id": "bGkjgsD6cTAB"
      }
    },
    {
      "cell_type": "code",
      "execution_count": 141,
      "metadata": {
        "colab": {
          "base_uri": "https://localhost:8080/",
          "height": 564
        },
        "id": "gNt0NNYQ_ny5",
        "outputId": "eff59f81-ebe6-463a-9305-a0fc339f10d0"
      },
      "outputs": [
        {
          "output_type": "display_data",
          "data": {
            "text/plain": [
              "<Figure size 1500x600 with 1 Axes>"
            ],
            "image/png": "[encoded data removed]"
          },
          "metadata": {}
        }
      ],
      "source": [
        "plt.figure(figsize=(15,6))\n",
        "sns.countplot(x=\"segment\", data=results, hue=\"Brand\")\n",
        "plt.title(\"Jumlah Cluster Berdasarkan Brand\")\n",
        "plt.xlabel(\"Cluster\")\n",
        "plt.ylabel(\"Sale Price\")\n",
        "plt.show()"
      ]
    },
    {
      "cell_type": "markdown",
      "source": [
        "Ada perbedaan yang cukup mencolok apabila dilihat dari pengaruh Brand. Dari visualisasi diatas diketahui bahwa :\n",
        "- Cluster 0 : Dengan range harga yang cukup murah >15000, brand yang tercatat dalam culster ini adalah Adidas Original dan Adidas Sport/Performance.\n",
        "- Cluster 1 : Dengan range harga yang cukup murah >15000, brand yang tercatat pada Cluster ini adalah Adidas Sport/Performance dan Nike.\n",
        "- Cluster 2 : Dengan range harga yang paling mahal, sekitar 10000 < harga < 35000, brand yang tercatat pada Cluster ini adalah Adidas Original, Adidas Sport/Performance dan Nike .\n",
        "- Cluster 3 : Dalam Cluster ini, satu-satunya Brand yang mendominasi adalah Adidas CORE/NEO, dengan range harga >10000.\n",
        "\n",
        "**Lalu bagaimana dengan persebaran Diskon pada tiap cluster?***"
      ],
      "metadata": {
        "id": "UXx92F-ESb-w"
      }
    },
    {
      "cell_type": "code",
      "source": [
        "# Persebaran diskon pada tiap cluster\n",
        "sns.boxplot(x=results[\"segment\"], y=results[\"Discount\"], data=results)"
      ],
      "metadata": {
        "colab": {
          "base_uri": "https://localhost:8080/",
          "height": 466
        },
        "id": "XJpGUdZ5Se5e",
        "outputId": "a966a9c2-9cd1-447a-befc-ee5c70471a84"
      },
      "execution_count": 142,
      "outputs": [
        {
          "output_type": "execute_result",
          "data": {
            "text/plain": [
              "<Axes: xlabel='segment', ylabel='Discount'>"
            ]
          },
          "metadata": {},
          "execution_count": 142
        },
        {
          "output_type": "display_data",
          "data": {
            "text/plain": [
              "<Figure size 640x480 with 1 Axes>"
            ],
            "image/png": "[encoded data removed]"
          },
          "metadata": {}
        }
      ]
    },
    {
      "cell_type": "markdown",
      "source": [
        "Dari Visualisasi diatas, didapat cluster 0 dan 1 memiliki range diskon antara 0-60. Sedangkan cluster 2 dan 3 memiliki range diskon abtara 0-50"
      ],
      "metadata": {
        "id": "tOp4uvpAnt8d"
      }
    },
    {
      "cell_type": "code",
      "source": [
        "# persebaran listing price pada tiap cluster\n",
        "sns.boxplot(x=results[\"segment\"], y=results[\"Listing_Price\"], data=results)"
      ],
      "metadata": {
        "colab": {
          "base_uri": "https://localhost:8080/",
          "height": 466
        },
        "id": "JywNxg41ksHQ",
        "outputId": "f6ec5f03-d963-4cca-ca30-b691fe5505b7"
      },
      "execution_count": 144,
      "outputs": [
        {
          "output_type": "execute_result",
          "data": {
            "text/plain": [
              "<Axes: xlabel='segment', ylabel='Listing_Price'>"
            ]
          },
          "metadata": {},
          "execution_count": 144
        },
        {
          "output_type": "display_data",
          "data": {
            "text/plain": [
              "<Figure size 640x480 with 1 Axes>"
            ],
            "image/png": "[encoded data removed]"
          },
          "metadata": {}
        }
      ]
    },
    {
      "cell_type": "markdown",
      "source": [
        "Pada visualisasi listing price diatas didaapat,\n",
        "- cluster 0 dan 3 memiliki range listing price > 0 dan < 25000\n",
        "-cluster 1 memiliki range listing price antara0-10000\n",
        "-cluster 2 memiliki range listing price antara 0-30000"
      ],
      "metadata": {
        "id": "C24vqC46oCb1"
      }
    }
  ],
  "metadata": {
    "colab": {
      "provenance": [],
      "include_colab_link": true
    },
    "kernelspec": {
      "display_name": "Python 3",
      "language": "python",
      "name": "python3"
    },
    "language_info": {
      "codemirror_mode": {
        "name": "ipython",
        "version": 3
      },
      "file_extension": ".py",
      "mimetype": "text/x-python",
      "name": "python",
      "nbconvert_exporter": "python",
      "pygments_lexer": "ipython3",
      "version": "3.7.7"
    }
  },
  "nbformat": 4,
  "nbformat_minor": 0
}