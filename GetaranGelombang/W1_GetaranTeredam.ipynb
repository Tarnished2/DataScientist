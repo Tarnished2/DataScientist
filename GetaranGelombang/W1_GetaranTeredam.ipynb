{
  "nbformat": 4,
  "nbformat_minor": 0,
  "metadata": {
    "colab": {
      "provenance": [],
      "authorship_tag": "ABX9TyPPtADlWNP4SWkVheY3ZG03",
      "include_colab_link": true
    },
    "kernelspec": {
      "name": "python3",
      "display_name": "Python 3"
    },
    "language_info": {
      "name": "python"
    }
  },
  "cells": [
    {
      "cell_type": "markdown",
      "metadata": {
        "id": "view-in-github",
        "colab_type": "text"
      },
      "source": [
        "<a href=\"https://colab.research.google.com/github/Tarnished2/DataScientist/blob/main/GetaranGelombang/W1_GetaranTeredam.ipynb\" target=\"_parent\"><img src=\"https://colab.research.google.com/assets/colab-badge.svg\" alt=\"Open In Colab\"/></a>"
      ]
    },
    {
      "cell_type": "markdown",
      "source": [
        "Pramaditya Ardian Saputra\n",
        "- 50012010161"
      ],
      "metadata": {
        "id": "Y3XgR0aU1ZWN"
      }
    },
    {
      "cell_type": "code",
      "execution_count": 359,
      "metadata": {
        "id": "Fumn96-Z1VrH"
      },
      "outputs": [],
      "source": [
        "# import library yang dibutuhkan\n",
        "import math\n",
        "import numpy as np\n",
        "import matplotlib.pyplot as plt\n",
        "import pandas as pd\n",
        "import os"
      ]
    },
    {
      "cell_type": "code",
      "source": [
        "# connect colab ke g drive\n",
        "from google.colab import drive\n",
        "drive.mount('/content/gdrive')"
      ],
      "metadata": {
        "colab": {
          "base_uri": "https://localhost:8080/"
        },
        "id": "xaORqwRk79IL",
        "outputId": "50684fae-cc9e-4580-bb20-0be4003d971a"
      },
      "execution_count": 360,
      "outputs": [
        {
          "output_type": "stream",
          "name": "stdout",
          "text": [
            "Drive already mounted at /content/gdrive; to attempt to forcibly remount, call drive.mount(\"/content/gdrive\", force_remount=True).\n"
          ]
        }
      ]
    },
    {
      "cell_type": "code",
      "source": [
        "# Membuat path untuk mengidentifikasi letak directory\n",
        "path = '/content/gdrive/MyDrive/datafislab/'\n",
        "file_name = 'GetaranTeredam.xlsx'\n",
        "sheet1 = 'udara 0,104'\n",
        "sheet2 = 'udara 0,166'\n",
        "sheet3 = 'air 0,104'\n",
        "sheet4 = 'air 0,166'\n",
        "\n",
        "# Cek directory\n",
        "os.listdir(path)"
      ],
      "metadata": {
        "colab": {
          "base_uri": "https://localhost:8080/"
        },
        "id": "PIsPfsKH796E",
        "outputId": "1f248f58-ee9b-4056-b536-17657e6a3912"
      },
      "execution_count": 361,
      "outputs": [
        {
          "output_type": "execute_result",
          "data": {
            "text/plain": [
              "['GetaranTeredam.xlsx']"
            ]
          },
          "metadata": {},
          "execution_count": 361
        }
      ]
    },
    {
      "cell_type": "markdown",
      "source": [
        "### Udara"
      ],
      "metadata": {
        "id": "obE2S2359OyO"
      }
    },
    {
      "cell_type": "markdown",
      "source": [
        "#### 1. 0.104 kg"
      ],
      "metadata": {
        "id": "p0gZFbwk9UOn"
      }
    },
    {
      "cell_type": "code",
      "source": [
        "m1 = 0.104"
      ],
      "metadata": {
        "id": "Wp52oiLK_4nH"
      },
      "execution_count": 362,
      "outputs": []
    },
    {
      "cell_type": "code",
      "source": [
        "file_path = os.path.join(path, file_name)\n",
        "data = pd.read_excel(file_path, sheet_name=sheet1)\n",
        "data"
      ],
      "metadata": {
        "colab": {
          "base_uri": "https://localhost:8080/",
          "height": 175
        },
        "id": "6bVhc2uJ6u-A",
        "outputId": "72b8a52d-eda5-4b48-dfc3-7eec960c5f69"
      },
      "execution_count": 363,
      "outputs": [
        {
          "output_type": "execute_result",
          "data": {
            "text/plain": [
              "      Ke-  x0 (m)  x1 (m)  x2 (m)  x3 (m)  x4 (m)  x5 (m)  Waktu\n",
              "0       1     0.3   0.280   0.268   0.265   0.260   0.258   1.15\n",
              "1       2     0.3   0.295   0.288   0.280   0.274   0.270   1.11\n",
              "2       3     0.3   0.272   0.266   0.265   0.270   0.268   1.16\n",
              "3  Rerata     0.3   0.284   0.274   0.270   0.268   0.265   1.14"
            ],
            "text/html": [
              "\n",
              "  <div id=\"df-b13a2efe-1b77-4cdb-9f94-f7ec303034c4\">\n",
              "    <div class=\"colab-df-container\">\n",
              "      <div>\n",
              "<style scoped>\n",
              "    .dataframe tbody tr th:only-of-type {\n",
              "        vertical-align: middle;\n",
              "    }\n",
              "\n",
              "    .dataframe tbody tr th {\n",
              "        vertical-align: top;\n",
              "    }\n",
              "\n",
              "    .dataframe thead th {\n",
              "        text-align: right;\n",
              "    }\n",
              "</style>\n",
              "<table border=\"1\" class=\"dataframe\">\n",
              "  <thead>\n",
              "    <tr style=\"text-align: right;\">\n",
              "      <th></th>\n",
              "      <th>Ke-</th>\n",
              "      <th>x0 (m)</th>\n",
              "      <th>x1 (m)</th>\n",
              "      <th>x2 (m)</th>\n",
              "      <th>x3 (m)</th>\n",
              "      <th>x4 (m)</th>\n",
              "      <th>x5 (m)</th>\n",
              "      <th>Waktu</th>\n",
              "    </tr>\n",
              "  </thead>\n",
              "  <tbody>\n",
              "    <tr>\n",
              "      <th>0</th>\n",
              "      <td>1</td>\n",
              "      <td>0.3</td>\n",
              "      <td>0.280</td>\n",
              "      <td>0.268</td>\n",
              "      <td>0.265</td>\n",
              "      <td>0.260</td>\n",
              "      <td>0.258</td>\n",
              "      <td>1.15</td>\n",
              "    </tr>\n",
              "    <tr>\n",
              "      <th>1</th>\n",
              "      <td>2</td>\n",
              "      <td>0.3</td>\n",
              "      <td>0.295</td>\n",
              "      <td>0.288</td>\n",
              "      <td>0.280</td>\n",
              "      <td>0.274</td>\n",
              "      <td>0.270</td>\n",
              "      <td>1.11</td>\n",
              "    </tr>\n",
              "    <tr>\n",
              "      <th>2</th>\n",
              "      <td>3</td>\n",
              "      <td>0.3</td>\n",
              "      <td>0.272</td>\n",
              "      <td>0.266</td>\n",
              "      <td>0.265</td>\n",
              "      <td>0.270</td>\n",
              "      <td>0.268</td>\n",
              "      <td>1.16</td>\n",
              "    </tr>\n",
              "    <tr>\n",
              "      <th>3</th>\n",
              "      <td>Rerata</td>\n",
              "      <td>0.3</td>\n",
              "      <td>0.284</td>\n",
              "      <td>0.274</td>\n",
              "      <td>0.270</td>\n",
              "      <td>0.268</td>\n",
              "      <td>0.265</td>\n",
              "      <td>1.14</td>\n",
              "    </tr>\n",
              "  </tbody>\n",
              "</table>\n",
              "</div>\n",
              "      <button class=\"colab-df-convert\" onclick=\"convertToInteractive('df-b13a2efe-1b77-4cdb-9f94-f7ec303034c4')\"\n",
              "              title=\"Convert this dataframe to an interactive table.\"\n",
              "              style=\"display:none;\">\n",
              "        \n",
              "  <svg xmlns=\"http://www.w3.org/2000/svg\" height=\"24px\"viewBox=\"0 0 24 24\"\n",
              "       width=\"24px\">\n",
              "    <path d=\"M0 0h24v24H0V0z\" fill=\"none\"/>\n",
              "    <path d=\"M18.56 5.44l.94 2.06.94-2.06 2.06-.94-2.06-.94-.94-2.06-.94 2.06-2.06.94zm-11 1L8.5 8.5l.94-2.06 2.06-.94-2.06-.94L8.5 2.5l-.94 2.06-2.06.94zm10 10l.94 2.06.94-2.06 2.06-.94-2.06-.94-.94-2.06-.94 2.06-2.06.94z\"/><path d=\"M17.41 7.96l-1.37-1.37c-.4-.4-.92-.59-1.43-.59-.52 0-1.04.2-1.43.59L10.3 9.45l-7.72 7.72c-.78.78-.78 2.05 0 2.83L4 21.41c.39.39.9.59 1.41.59.51 0 1.02-.2 1.41-.59l7.78-7.78 2.81-2.81c.8-.78.8-2.07 0-2.86zM5.41 20L4 18.59l7.72-7.72 1.47 1.35L5.41 20z\"/>\n",
              "  </svg>\n",
              "      </button>\n",
              "      \n",
              "  <style>\n",
              "    .colab-df-container {\n",
              "      display:flex;\n",
              "      flex-wrap:wrap;\n",
              "      gap: 12px;\n",
              "    }\n",
              "\n",
              "    .colab-df-convert {\n",
              "      background-color: #E8F0FE;\n",
              "      border: none;\n",
              "      border-radius: 50%;\n",
              "      cursor: pointer;\n",
              "      display: none;\n",
              "      fill: #1967D2;\n",
              "      height: 32px;\n",
              "      padding: 0 0 0 0;\n",
              "      width: 32px;\n",
              "    }\n",
              "\n",
              "    .colab-df-convert:hover {\n",
              "      background-color: #E2EBFA;\n",
              "      box-shadow: 0px 1px 2px rgba(60, 64, 67, 0.3), 0px 1px 3px 1px rgba(60, 64, 67, 0.15);\n",
              "      fill: #174EA6;\n",
              "    }\n",
              "\n",
              "    [theme=dark] .colab-df-convert {\n",
              "      background-color: #3B4455;\n",
              "      fill: #D2E3FC;\n",
              "    }\n",
              "\n",
              "    [theme=dark] .colab-df-convert:hover {\n",
              "      background-color: #434B5C;\n",
              "      box-shadow: 0px 1px 3px 1px rgba(0, 0, 0, 0.15);\n",
              "      filter: drop-shadow(0px 1px 2px rgba(0, 0, 0, 0.3));\n",
              "      fill: #FFFFFF;\n",
              "    }\n",
              "  </style>\n",
              "\n",
              "      <script>\n",
              "        const buttonEl =\n",
              "          document.querySelector('#df-b13a2efe-1b77-4cdb-9f94-f7ec303034c4 button.colab-df-convert');\n",
              "        buttonEl.style.display =\n",
              "          google.colab.kernel.accessAllowed ? 'block' : 'none';\n",
              "\n",
              "        async function convertToInteractive(key) {\n",
              "          const element = document.querySelector('#df-b13a2efe-1b77-4cdb-9f94-f7ec303034c4');\n",
              "          const dataTable =\n",
              "            await google.colab.kernel.invokeFunction('convertToInteractive',\n",
              "                                                     [key], {});\n",
              "          if (!dataTable) return;\n",
              "\n",
              "          const docLinkHtml = 'Like what you see? Visit the ' +\n",
              "            '<a target=\"_blank\" href=https://colab.research.google.com/notebooks/data_table.ipynb>data table notebook</a>'\n",
              "            + ' to learn more about interactive tables.';\n",
              "          element.innerHTML = '';\n",
              "          dataTable['output_type'] = 'display_data';\n",
              "          await google.colab.output.renderOutput(dataTable, element);\n",
              "          const docLink = document.createElement('div');\n",
              "          docLink.innerHTML = docLinkHtml;\n",
              "          element.appendChild(docLink);\n",
              "        }\n",
              "      </script>\n",
              "    </div>\n",
              "  </div>\n",
              "  "
            ]
          },
          "metadata": {},
          "execution_count": 363
        }
      ]
    },
    {
      "cell_type": "code",
      "source": [
        "# 0. Mengambil nilai x0-x5 dari kolom \"Rerata\"\n",
        "x_values = data.loc[data['Ke-'] == 'Rerata', 'x0 (m)': 'x5 (m)'].values[0]\n",
        "\n",
        "# 1. Menghitung rasio redaman getaran (δ) menggunakan iterasi\n",
        "δ = []\n",
        "for i in range(len(x_values) - 1):\n",
        "    δ_i = (math.log(x_values[i] / x_values[i+1])) / (((4 * ((math.pi) ** 2)) + (math.log(x_values[i] / x_values[i+1]) ** 2))) ** 0.5\n",
        "    δ.append(δ_i)\n",
        "\n",
        "# Menampilkan hasil rasio redaman getaran (δ)\n",
        "for i in range(len(δ)):\n",
        "    print(f'Hasil δ{i} = {δ[i]}')"
      ],
      "metadata": {
        "colab": {
          "base_uri": "https://localhost:8080/"
        },
        "id": "VjMRd8MqC0qj",
        "outputId": "51b564ff-6a70-4f27-fef2-a5d54ebe615d"
      },
      "execution_count": 364,
      "outputs": [
        {
          "output_type": "stream",
          "name": "stdout",
          "text": [
            "Hasil δ0 = 0.00872266990935062\n",
            "Hasil δ1 = 0.005704996219947407\n",
            "Hasil δ2 = 0.002340549639914197\n",
            "Hasil δ3 = 0.0011833127496150703\n",
            "Hasil δ4 = 0.0017916289122325254\n"
          ]
        }
      ]
    },
    {
      "cell_type": "code",
      "source": [
        "# 2. Menghitung rasio redaman getaran rata-rata (δrata)\n",
        "δrata1 = sum(δ) / len(δ)\n",
        "print('δrata =', δrata1)"
      ],
      "metadata": {
        "colab": {
          "base_uri": "https://localhost:8080/"
        },
        "id": "NxnszThX--RH",
        "outputId": "12b70b8f-e02a-4b08-9356-ff767fc05c7e"
      },
      "execution_count": 365,
      "outputs": [
        {
          "output_type": "stream",
          "name": "stdout",
          "text": [
            "δrata = 0.003948631486211964\n"
          ]
        }
      ]
    },
    {
      "cell_type": "code",
      "source": [
        "# 3. Menghitung Frekuensi Natural\n",
        "n = 5 # n adalah banyak getaran\n",
        "t = data.loc[data['Ke-'] == 'Rerata', 'Waktu'].values[0] # t adalah waktu yang diperlukan sistem untuk n getaran\n",
        "\n",
        "fn1 = n/t\n",
        "print('fn = ', fn1)"
      ],
      "metadata": {
        "colab": {
          "base_uri": "https://localhost:8080/"
        },
        "id": "HOr03Ovl_JAk",
        "outputId": "58f1c742-95cb-4364-dc4f-b6109805b1a2"
      },
      "execution_count": 366,
      "outputs": [
        {
          "output_type": "stream",
          "name": "stdout",
          "text": [
            "fn =  4.385964912280702\n"
          ]
        }
      ]
    },
    {
      "cell_type": "code",
      "source": [
        "# 4. Menghitung Frekuensi Sistem Teredam\n",
        "fd1 = fn1*((1-(δrata1**2))**0.5)\n",
        "print('fd = ', fd1)"
      ],
      "metadata": {
        "colab": {
          "base_uri": "https://localhost:8080/"
        },
        "id": "GChYpThE_lnC",
        "outputId": "58f73bea-21da-4baa-a966-18b089801868"
      },
      "execution_count": 367,
      "outputs": [
        {
          "output_type": "stream",
          "name": "stdout",
          "text": [
            "fd =  4.3859307198434445\n"
          ]
        }
      ]
    },
    {
      "cell_type": "code",
      "source": [
        "# 5. Menghitung Konstanta Pegas Sistem\n",
        "k1 = m1*((2*(math.pi)*fn1)**2)\n",
        "print('k = ', k1)"
      ],
      "metadata": {
        "colab": {
          "base_uri": "https://localhost:8080/"
        },
        "id": "BOLOGeji_qoa",
        "outputId": "3520d1f8-7ea0-4aec-84a4-59319b860e50"
      },
      "execution_count": 368,
      "outputs": [
        {
          "output_type": "stream",
          "name": "stdout",
          "text": [
            "k =  78.98113709705243\n"
          ]
        }
      ]
    },
    {
      "cell_type": "code",
      "source": [
        "# 6. Menghitung Koefisien Redaman Kritis\n",
        "cc1 = (4*m1*k1)**0.5\n",
        "print('cc = ', cc1)"
      ],
      "metadata": {
        "colab": {
          "base_uri": "https://localhost:8080/"
        },
        "id": "JAz8R6zR_zYB",
        "outputId": "3f3c1bd2-6c83-47e2-ae7e-b9df0e8d52c7"
      },
      "execution_count": 369,
      "outputs": [
        {
          "output_type": "stream",
          "name": "stdout",
          "text": [
            "cc =  5.73202870128664\n"
          ]
        }
      ]
    },
    {
      "cell_type": "code",
      "source": [
        "# 7. Menghitung Koefisien Redaman Aktual\n",
        "ca1 = cc1*δrata1\n",
        "print('ca = ', ca1)"
      ],
      "metadata": {
        "colab": {
          "base_uri": "https://localhost:8080/"
        },
        "id": "Kk1hVzb7AAkI",
        "outputId": "f37216e4-ad0b-4b97-b279-7dc1f458ce92"
      },
      "execution_count": 370,
      "outputs": [
        {
          "output_type": "stream",
          "name": "stdout",
          "text": [
            "ca =  0.0226336690097711\n"
          ]
        }
      ]
    },
    {
      "cell_type": "code",
      "source": [
        "# 8. Membuat Grafik Getaran Teredam\n",
        "def f(t):\n",
        "   return x0*((math.e)**(-(δrata1*2*(math.pi)*fn1*t)))*np.cos(2*(math.pi)*fn1*t)\n",
        "\n",
        "t = np.linspace(0, 40, 150)\n",
        "\n",
        "plt.plot(t, f(t), color='red')\n",
        "plt.xlabel('waktu')\n",
        "plt.ylabel('simpangan')\n",
        "plt.title('Grafik Simpangan Fungsi Waktu')\n",
        "plt.show()"
      ],
      "metadata": {
        "colab": {
          "base_uri": "https://localhost:8080/",
          "height": 472
        },
        "id": "EwMt5kTKBoBO",
        "outputId": "3f0d7029-2cfd-4046-c910-07e11fdb9782"
      },
      "execution_count": 371,
      "outputs": [
        {
          "output_type": "display_data",
          "data": {
            "text/plain": [
              "<Figure size 640x480 with 1 Axes>"
            ],
            "image/png": "[encoded data removed]"
          },
          "metadata": {}
        }
      ]
    },
    {
      "cell_type": "markdown",
      "source": [
        "#### 2. 0.166 kg"
      ],
      "metadata": {
        "id": "YcPt7UQWBhXm"
      }
    },
    {
      "cell_type": "code",
      "source": [
        "m2 = 0.166"
      ],
      "metadata": {
        "id": "U7dV75PDBFOQ"
      },
      "execution_count": 372,
      "outputs": []
    },
    {
      "cell_type": "code",
      "source": [
        "file_path = os.path.join(path, file_name)\n",
        "data = pd.read_excel(file_path, sheet_name=sheet2)\n",
        "data"
      ],
      "metadata": {
        "colab": {
          "base_uri": "https://localhost:8080/",
          "height": 175
        },
        "id": "jBjpUphvB3po",
        "outputId": "1571849c-1d47-4954-875c-785ba5107212"
      },
      "execution_count": 373,
      "outputs": [
        {
          "output_type": "execute_result",
          "data": {
            "text/plain": [
              "      Ke-  x0 (m)  x1 (m)  x2 (m)  x3 (m)  x4 (m)  x5 (m)  Waktu\n",
              "0       1    0.34   0.338   0.332   0.330   0.332   0.324   3.25\n",
              "1       2    0.34   0.340   0.340   0.338   0.336   0.344   3.46\n",
              "2       3    0.34   0.342   0.346   0.338   0.340   0.346   3.49\n",
              "3  Rerata    0.34   0.340   0.339   0.335   0.336   0.338   3.40"
            ],
            "text/html": [
              "\n",
              "  <div id=\"df-e5012895-7ae0-4b7f-a9bb-bd8d05c0d30b\">\n",
              "    <div class=\"colab-df-container\">\n",
              "      <div>\n",
              "<style scoped>\n",
              "    .dataframe tbody tr th:only-of-type {\n",
              "        vertical-align: middle;\n",
              "    }\n",
              "\n",
              "    .dataframe tbody tr th {\n",
              "        vertical-align: top;\n",
              "    }\n",
              "\n",
              "    .dataframe thead th {\n",
              "        text-align: right;\n",
              "    }\n",
              "</style>\n",
              "<table border=\"1\" class=\"dataframe\">\n",
              "  <thead>\n",
              "    <tr style=\"text-align: right;\">\n",
              "      <th></th>\n",
              "      <th>Ke-</th>\n",
              "      <th>x0 (m)</th>\n",
              "      <th>x1 (m)</th>\n",
              "      <th>x2 (m)</th>\n",
              "      <th>x3 (m)</th>\n",
              "      <th>x4 (m)</th>\n",
              "      <th>x5 (m)</th>\n",
              "      <th>Waktu</th>\n",
              "    </tr>\n",
              "  </thead>\n",
              "  <tbody>\n",
              "    <tr>\n",
              "      <th>0</th>\n",
              "      <td>1</td>\n",
              "      <td>0.34</td>\n",
              "      <td>0.338</td>\n",
              "      <td>0.332</td>\n",
              "      <td>0.330</td>\n",
              "      <td>0.332</td>\n",
              "      <td>0.324</td>\n",
              "      <td>3.25</td>\n",
              "    </tr>\n",
              "    <tr>\n",
              "      <th>1</th>\n",
              "      <td>2</td>\n",
              "      <td>0.34</td>\n",
              "      <td>0.340</td>\n",
              "      <td>0.340</td>\n",
              "      <td>0.338</td>\n",
              "      <td>0.336</td>\n",
              "      <td>0.344</td>\n",
              "      <td>3.46</td>\n",
              "    </tr>\n",
              "    <tr>\n",
              "      <th>2</th>\n",
              "      <td>3</td>\n",
              "      <td>0.34</td>\n",
              "      <td>0.342</td>\n",
              "      <td>0.346</td>\n",
              "      <td>0.338</td>\n",
              "      <td>0.340</td>\n",
              "      <td>0.346</td>\n",
              "      <td>3.49</td>\n",
              "    </tr>\n",
              "    <tr>\n",
              "      <th>3</th>\n",
              "      <td>Rerata</td>\n",
              "      <td>0.34</td>\n",
              "      <td>0.340</td>\n",
              "      <td>0.339</td>\n",
              "      <td>0.335</td>\n",
              "      <td>0.336</td>\n",
              "      <td>0.338</td>\n",
              "      <td>3.40</td>\n",
              "    </tr>\n",
              "  </tbody>\n",
              "</table>\n",
              "</div>\n",
              "      <button class=\"colab-df-convert\" onclick=\"convertToInteractive('df-e5012895-7ae0-4b7f-a9bb-bd8d05c0d30b')\"\n",
              "              title=\"Convert this dataframe to an interactive table.\"\n",
              "              style=\"display:none;\">\n",
              "        \n",
              "  <svg xmlns=\"http://www.w3.org/2000/svg\" height=\"24px\"viewBox=\"0 0 24 24\"\n",
              "       width=\"24px\">\n",
              "    <path d=\"M0 0h24v24H0V0z\" fill=\"none\"/>\n",
              "    <path d=\"M18.56 5.44l.94 2.06.94-2.06 2.06-.94-2.06-.94-.94-2.06-.94 2.06-2.06.94zm-11 1L8.5 8.5l.94-2.06 2.06-.94-2.06-.94L8.5 2.5l-.94 2.06-2.06.94zm10 10l.94 2.06.94-2.06 2.06-.94-2.06-.94-.94-2.06-.94 2.06-2.06.94z\"/><path d=\"M17.41 7.96l-1.37-1.37c-.4-.4-.92-.59-1.43-.59-.52 0-1.04.2-1.43.59L10.3 9.45l-7.72 7.72c-.78.78-.78 2.05 0 2.83L4 21.41c.39.39.9.59 1.41.59.51 0 1.02-.2 1.41-.59l7.78-7.78 2.81-2.81c.8-.78.8-2.07 0-2.86zM5.41 20L4 18.59l7.72-7.72 1.47 1.35L5.41 20z\"/>\n",
              "  </svg>\n",
              "      </button>\n",
              "      \n",
              "  <style>\n",
              "    .colab-df-container {\n",
              "      display:flex;\n",
              "      flex-wrap:wrap;\n",
              "      gap: 12px;\n",
              "    }\n",
              "\n",
              "    .colab-df-convert {\n",
              "      background-color: #E8F0FE;\n",
              "      border: none;\n",
              "      border-radius: 50%;\n",
              "      cursor: pointer;\n",
              "      display: none;\n",
              "      fill: #1967D2;\n",
              "      height: 32px;\n",
              "      padding: 0 0 0 0;\n",
              "      width: 32px;\n",
              "    }\n",
              "\n",
              "    .colab-df-convert:hover {\n",
              "      background-color: #E2EBFA;\n",
              "      box-shadow: 0px 1px 2px rgba(60, 64, 67, 0.3), 0px 1px 3px 1px rgba(60, 64, 67, 0.15);\n",
              "      fill: #174EA6;\n",
              "    }\n",
              "\n",
              "    [theme=dark] .colab-df-convert {\n",
              "      background-color: #3B4455;\n",
              "      fill: #D2E3FC;\n",
              "    }\n",
              "\n",
              "    [theme=dark] .colab-df-convert:hover {\n",
              "      background-color: #434B5C;\n",
              "      box-shadow: 0px 1px 3px 1px rgba(0, 0, 0, 0.15);\n",
              "      filter: drop-shadow(0px 1px 2px rgba(0, 0, 0, 0.3));\n",
              "      fill: #FFFFFF;\n",
              "    }\n",
              "  </style>\n",
              "\n",
              "      <script>\n",
              "        const buttonEl =\n",
              "          document.querySelector('#df-e5012895-7ae0-4b7f-a9bb-bd8d05c0d30b button.colab-df-convert');\n",
              "        buttonEl.style.display =\n",
              "          google.colab.kernel.accessAllowed ? 'block' : 'none';\n",
              "\n",
              "        async function convertToInteractive(key) {\n",
              "          const element = document.querySelector('#df-e5012895-7ae0-4b7f-a9bb-bd8d05c0d30b');\n",
              "          const dataTable =\n",
              "            await google.colab.kernel.invokeFunction('convertToInteractive',\n",
              "                                                     [key], {});\n",
              "          if (!dataTable) return;\n",
              "\n",
              "          const docLinkHtml = 'Like what you see? Visit the ' +\n",
              "            '<a target=\"_blank\" href=https://colab.research.google.com/notebooks/data_table.ipynb>data table notebook</a>'\n",
              "            + ' to learn more about interactive tables.';\n",
              "          element.innerHTML = '';\n",
              "          dataTable['output_type'] = 'display_data';\n",
              "          await google.colab.output.renderOutput(dataTable, element);\n",
              "          const docLink = document.createElement('div');\n",
              "          docLink.innerHTML = docLinkHtml;\n",
              "          element.appendChild(docLink);\n",
              "        }\n",
              "      </script>\n",
              "    </div>\n",
              "  </div>\n",
              "  "
            ]
          },
          "metadata": {},
          "execution_count": 373
        }
      ]
    },
    {
      "cell_type": "code",
      "source": [
        "# Ambil nilai x0-x5 dari kolom yang sesuai\n",
        "x0 = data.loc[data['Ke-'] == 'Rerata', 'x0 (m)'].values[0]\n",
        "x1 = data.loc[data['Ke-'] == 'Rerata', 'x1 (m)'].values[0]\n",
        "x2 = data.loc[data['Ke-'] == 'Rerata', 'x2 (m)'].values[0]\n",
        "x3 = data.loc[data['Ke-'] == 'Rerata', 'x3 (m)'].values[0]\n",
        "x4 = data.loc[data['Ke-'] == 'Rerata', 'x4 (m)'].values[0]\n",
        "x5 = data.loc[data['Ke-'] == 'Rerata', 'x5 (m)'].values[0]"
      ],
      "metadata": {
        "id": "xayQvVvSB7rM"
      },
      "execution_count": 374,
      "outputs": []
    },
    {
      "cell_type": "code",
      "source": [
        "# 0. Mengambil nilai x0-x5 dari kolom \"Rerata\"\n",
        "x_values = data.loc[data['Ke-'] == 'Rerata', 'x0 (m)': 'x5 (m)'].values[0]\n",
        "\n",
        "# 1. Menghitung rasio redaman getaran (δ) menggunakan iterasi\n",
        "δ = []\n",
        "for i in range(len(x_values) - 1):\n",
        "    δ_i = (math.log(x_values[i] / x_values[i+1])) / (((4 * ((math.pi) ** 2)) + (math.log(x_values[i] / x_values[i+1]) ** 2))) ** 0.5\n",
        "    δ.append(δ_i)\n",
        "\n",
        "# Menampilkan hasil rasio redaman getaran (δ)\n",
        "for i in range(len(δ)):\n",
        "    print(f'Hasil δ{i} = {δ[i]}')"
      ],
      "metadata": {
        "colab": {
          "base_uri": "https://localhost:8080/"
        },
        "id": "z9h3IgybB-hu",
        "outputId": "3f47e047-c395-4706-ac24-b35780498c49"
      },
      "execution_count": 375,
      "outputs": [
        {
          "output_type": "stream",
          "name": "stdout",
          "text": [
            "Hasil δ0 = 0.0\n",
            "Hasil δ1 = 0.0004687924614811126\n",
            "Hasil δ2 = 0.0018890982512279276\n",
            "Hasil δ3 = -0.0004743816483264764\n",
            "Hasil δ4 = -0.0009445420725800583\n"
          ]
        }
      ]
    },
    {
      "cell_type": "code",
      "source": [
        "# 2. Menghitung rasio redaman getaran rata-rata (δrata)\n",
        "δrata2 = sum(δ) / len(δ)\n",
        "print('δrata =', δrata2)"
      ],
      "metadata": {
        "colab": {
          "base_uri": "https://localhost:8080/"
        },
        "id": "2UGG-Np0CBZq",
        "outputId": "f1a91e9a-2595-4002-8b9b-85bb99f8ab3b"
      },
      "execution_count": 376,
      "outputs": [
        {
          "output_type": "stream",
          "name": "stdout",
          "text": [
            "δrata = 0.00018779339836050112\n"
          ]
        }
      ]
    },
    {
      "cell_type": "code",
      "source": [
        "# 3. Menghitung Frekuensi Natural\n",
        "n = 5 # n adalah banyak getaran\n",
        "t = data.loc[data['Ke-'] == 'Rerata', 'Waktu'].values[0] # t adalah waktu yang diperlukan sistem untuk n getaran\n",
        "\n",
        "fn2 = n/t\n",
        "print('fn = ', fn2)"
      ],
      "metadata": {
        "colab": {
          "base_uri": "https://localhost:8080/"
        },
        "id": "aEbaQJmZD7ud",
        "outputId": "67eb5efc-1565-4304-892d-389e8e67f9b7"
      },
      "execution_count": 377,
      "outputs": [
        {
          "output_type": "stream",
          "name": "stdout",
          "text": [
            "fn =  1.4705882352941178\n"
          ]
        }
      ]
    },
    {
      "cell_type": "code",
      "source": [
        "# 4. Menghitung Frekuensi Sistem Teredam\n",
        "fd2 = fn2*((1-(δrata2**2))**0.5)\n",
        "print('fd = ', fd2)"
      ],
      "metadata": {
        "colab": {
          "base_uri": "https://localhost:8080/"
        },
        "id": "NitjggIkD8SK",
        "outputId": "94bb111a-72d4-4030-a7e0-4c04e79857fe"
      },
      "execution_count": 378,
      "outputs": [
        {
          "output_type": "stream",
          "name": "stdout",
          "text": [
            "fd =  1.47058820936297\n"
          ]
        }
      ]
    },
    {
      "cell_type": "code",
      "source": [
        "# 5. Menghitung Konstanta Pegas Sistem\n",
        "k2 = m2*((2*(math.pi)*fn2)**2)\n",
        "print('k = ', k2)"
      ],
      "metadata": {
        "colab": {
          "base_uri": "https://localhost:8080/"
        },
        "id": "RO44g9-6D_W9",
        "outputId": "ac70e976-8102-4a88-f396-e67a7f2c57c2"
      },
      "execution_count": 379,
      "outputs": [
        {
          "output_type": "stream",
          "name": "stdout",
          "text": [
            "k =  14.172615316443197\n"
          ]
        }
      ]
    },
    {
      "cell_type": "code",
      "source": [
        "# 6. Menghitung Koefisien Redaman Kritis\n",
        "cc2 = (4*m2*k2)**0.5\n",
        "print('cc = ', cc2)"
      ],
      "metadata": {
        "colab": {
          "base_uri": "https://localhost:8080/"
        },
        "id": "BWGcmQhpD_OW",
        "outputId": "d05da8e4-2f34-4abf-d5af-7f16201f8590"
      },
      "execution_count": 380,
      "outputs": [
        {
          "output_type": "stream",
          "name": "stdout",
          "text": [
            "cc =  3.067672826446504\n"
          ]
        }
      ]
    },
    {
      "cell_type": "code",
      "source": [
        "# 7. Menghitung Koefisien Redaman Aktual\n",
        "ca2 = cc2*δrata2\n",
        "print('ca = ', ca2)"
      ],
      "metadata": {
        "colab": {
          "base_uri": "https://localhost:8080/"
        },
        "id": "K1rxjJI0EEuN",
        "outputId": "fb1db3a3-39cc-496f-980d-0ff28c902ec3"
      },
      "execution_count": 381,
      "outputs": [
        {
          "output_type": "stream",
          "name": "stdout",
          "text": [
            "ca =  0.0005760887051365528\n"
          ]
        }
      ]
    },
    {
      "cell_type": "code",
      "source": [
        "# 8. Membuat Grafik Getaran Teredam\n",
        "def f(t):\n",
        "   return x0*((math.e)**(-(δrata2*2*(math.pi)*fn2*t)))*np.cos(2*(math.pi)*fn2*t)\n",
        "\n",
        "t = np.linspace(0, 400, 150)\n",
        "\n",
        "plt.plot(t, f(t), color='red')\n",
        "plt.xlabel('waktu')\n",
        "plt.ylabel('simpangan')\n",
        "plt.title('Grafik Simpangan Fungsi Waktu')\n",
        "plt.show()"
      ],
      "metadata": {
        "colab": {
          "base_uri": "https://localhost:8080/",
          "height": 472
        },
        "id": "zZ7qxXeKEEmf",
        "outputId": "dfabab77-6d48-4eba-e996-6f0966e308fe"
      },
      "execution_count": 382,
      "outputs": [
        {
          "output_type": "display_data",
          "data": {
            "text/plain": [
              "<Figure size 640x480 with 1 Axes>"
            ],
            "image/png": "[encoded data removed]"
          },
          "metadata": {}
        }
      ]
    },
    {
      "cell_type": "code",
      "source": [
        "# Membuat DataFrame tabel\n",
        "hasil_perhitungan_udara = pd.DataFrame({\n",
        "    'δrata': [δrata1, δrata2],\n",
        "    'fn': [fn1, fn2],\n",
        "    'fd': [fd1, fd2],\n",
        "    'k': [k1, k2],\n",
        "    'cc': [cc1, cc2],\n",
        "    'ca': [ca1, ca2]\n",
        "})\n",
        "\n",
        "# Menampilkan tabel hasil perhitungan\n",
        "hasil_perhitungan_udara"
      ],
      "metadata": {
        "colab": {
          "base_uri": "https://localhost:8080/",
          "height": 112
        },
        "id": "QNPV6oU8dmLX",
        "outputId": "9b311b30-9372-416c-d22c-21e15ff1cc67"
      },
      "execution_count": 383,
      "outputs": [
        {
          "output_type": "execute_result",
          "data": {
            "text/plain": [
              "      δrata        fn        fd          k        cc        ca\n",
              "0  0.003949  4.385965  4.385931  78.981137  5.732029  0.022634\n",
              "1  0.000188  1.470588  1.470588  14.172615  3.067673  0.000576"
            ],
            "text/html": [
              "\n",
              "  <div id=\"df-d5650aed-da61-43f7-9326-0b63618690f4\">\n",
              "    <div class=\"colab-df-container\">\n",
              "      <div>\n",
              "<style scoped>\n",
              "    .dataframe tbody tr th:only-of-type {\n",
              "        vertical-align: middle;\n",
              "    }\n",
              "\n",
              "    .dataframe tbody tr th {\n",
              "        vertical-align: top;\n",
              "    }\n",
              "\n",
              "    .dataframe thead th {\n",
              "        text-align: right;\n",
              "    }\n",
              "</style>\n",
              "<table border=\"1\" class=\"dataframe\">\n",
              "  <thead>\n",
              "    <tr style=\"text-align: right;\">\n",
              "      <th></th>\n",
              "      <th>δrata</th>\n",
              "      <th>fn</th>\n",
              "      <th>fd</th>\n",
              "      <th>k</th>\n",
              "      <th>cc</th>\n",
              "      <th>ca</th>\n",
              "    </tr>\n",
              "  </thead>\n",
              "  <tbody>\n",
              "    <tr>\n",
              "      <th>0</th>\n",
              "      <td>0.003949</td>\n",
              "      <td>4.385965</td>\n",
              "      <td>4.385931</td>\n",
              "      <td>78.981137</td>\n",
              "      <td>5.732029</td>\n",
              "      <td>0.022634</td>\n",
              "    </tr>\n",
              "    <tr>\n",
              "      <th>1</th>\n",
              "      <td>0.000188</td>\n",
              "      <td>1.470588</td>\n",
              "      <td>1.470588</td>\n",
              "      <td>14.172615</td>\n",
              "      <td>3.067673</td>\n",
              "      <td>0.000576</td>\n",
              "    </tr>\n",
              "  </tbody>\n",
              "</table>\n",
              "</div>\n",
              "      <button class=\"colab-df-convert\" onclick=\"convertToInteractive('df-d5650aed-da61-43f7-9326-0b63618690f4')\"\n",
              "              title=\"Convert this dataframe to an interactive table.\"\n",
              "              style=\"display:none;\">\n",
              "        \n",
              "  <svg xmlns=\"http://www.w3.org/2000/svg\" height=\"24px\"viewBox=\"0 0 24 24\"\n",
              "       width=\"24px\">\n",
              "    <path d=\"M0 0h24v24H0V0z\" fill=\"none\"/>\n",
              "    <path d=\"M18.56 5.44l.94 2.06.94-2.06 2.06-.94-2.06-.94-.94-2.06-.94 2.06-2.06.94zm-11 1L8.5 8.5l.94-2.06 2.06-.94-2.06-.94L8.5 2.5l-.94 2.06-2.06.94zm10 10l.94 2.06.94-2.06 2.06-.94-2.06-.94-.94-2.06-.94 2.06-2.06.94z\"/><path d=\"M17.41 7.96l-1.37-1.37c-.4-.4-.92-.59-1.43-.59-.52 0-1.04.2-1.43.59L10.3 9.45l-7.72 7.72c-.78.78-.78 2.05 0 2.83L4 21.41c.39.39.9.59 1.41.59.51 0 1.02-.2 1.41-.59l7.78-7.78 2.81-2.81c.8-.78.8-2.07 0-2.86zM5.41 20L4 18.59l7.72-7.72 1.47 1.35L5.41 20z\"/>\n",
              "  </svg>\n",
              "      </button>\n",
              "      \n",
              "  <style>\n",
              "    .colab-df-container {\n",
              "      display:flex;\n",
              "      flex-wrap:wrap;\n",
              "      gap: 12px;\n",
              "    }\n",
              "\n",
              "    .colab-df-convert {\n",
              "      background-color: #E8F0FE;\n",
              "      border: none;\n",
              "      border-radius: 50%;\n",
              "      cursor: pointer;\n",
              "      display: none;\n",
              "      fill: #1967D2;\n",
              "      height: 32px;\n",
              "      padding: 0 0 0 0;\n",
              "      width: 32px;\n",
              "    }\n",
              "\n",
              "    .colab-df-convert:hover {\n",
              "      background-color: #E2EBFA;\n",
              "      box-shadow: 0px 1px 2px rgba(60, 64, 67, 0.3), 0px 1px 3px 1px rgba(60, 64, 67, 0.15);\n",
              "      fill: #174EA6;\n",
              "    }\n",
              "\n",
              "    [theme=dark] .colab-df-convert {\n",
              "      background-color: #3B4455;\n",
              "      fill: #D2E3FC;\n",
              "    }\n",
              "\n",
              "    [theme=dark] .colab-df-convert:hover {\n",
              "      background-color: #434B5C;\n",
              "      box-shadow: 0px 1px 3px 1px rgba(0, 0, 0, 0.15);\n",
              "      filter: drop-shadow(0px 1px 2px rgba(0, 0, 0, 0.3));\n",
              "      fill: #FFFFFF;\n",
              "    }\n",
              "  </style>\n",
              "\n",
              "      <script>\n",
              "        const buttonEl =\n",
              "          document.querySelector('#df-d5650aed-da61-43f7-9326-0b63618690f4 button.colab-df-convert');\n",
              "        buttonEl.style.display =\n",
              "          google.colab.kernel.accessAllowed ? 'block' : 'none';\n",
              "\n",
              "        async function convertToInteractive(key) {\n",
              "          const element = document.querySelector('#df-d5650aed-da61-43f7-9326-0b63618690f4');\n",
              "          const dataTable =\n",
              "            await google.colab.kernel.invokeFunction('convertToInteractive',\n",
              "                                                     [key], {});\n",
              "          if (!dataTable) return;\n",
              "\n",
              "          const docLinkHtml = 'Like what you see? Visit the ' +\n",
              "            '<a target=\"_blank\" href=https://colab.research.google.com/notebooks/data_table.ipynb>data table notebook</a>'\n",
              "            + ' to learn more about interactive tables.';\n",
              "          element.innerHTML = '';\n",
              "          dataTable['output_type'] = 'display_data';\n",
              "          await google.colab.output.renderOutput(dataTable, element);\n",
              "          const docLink = document.createElement('div');\n",
              "          docLink.innerHTML = docLinkHtml;\n",
              "          element.appendChild(docLink);\n",
              "        }\n",
              "      </script>\n",
              "    </div>\n",
              "  </div>\n",
              "  "
            ]
          },
          "metadata": {},
          "execution_count": 383
        }
      ]
    },
    {
      "cell_type": "markdown",
      "source": [
        "### Air"
      ],
      "metadata": {
        "id": "7yFgOzZ4Eoof"
      }
    },
    {
      "cell_type": "markdown",
      "source": [
        "#### 1. 0.104 kg"
      ],
      "metadata": {
        "id": "scNRcNzwEqXn"
      }
    },
    {
      "cell_type": "code",
      "source": [
        "file_path = os.path.join(path, file_name)\n",
        "data = pd.read_excel(file_path, sheet_name=sheet3)\n",
        "data"
      ],
      "metadata": {
        "colab": {
          "base_uri": "https://localhost:8080/",
          "height": 175
        },
        "id": "8o5xSdlYE3rA",
        "outputId": "d09f9c33-1f37-4bcf-abf8-1cdad0ae93e2"
      },
      "execution_count": 384,
      "outputs": [
        {
          "output_type": "execute_result",
          "data": {
            "text/plain": [
              "      Ke-  x0 (m)  x1 (m)  x2 (m)  x3 (m)  x4 (m)  x5 (m)  Waktu\n",
              "0       1   0.113   0.091  0.0915   0.090   0.084  0.0820  1.176\n",
              "1       2   0.113   0.093  0.0925   0.085   0.084  0.0835  1.081\n",
              "2       3   0.113   0.092  0.0910   0.086   0.083  0.0820  1.044\n",
              "3  Rerata   0.113   0.092  0.0910   0.087   0.083  0.0820  1.100"
            ],
            "text/html": [
              "\n",
              "  <div id=\"df-215ca194-ae54-4f3e-89e3-a88f023219d6\">\n",
              "    <div class=\"colab-df-container\">\n",
              "      <div>\n",
              "<style scoped>\n",
              "    .dataframe tbody tr th:only-of-type {\n",
              "        vertical-align: middle;\n",
              "    }\n",
              "\n",
              "    .dataframe tbody tr th {\n",
              "        vertical-align: top;\n",
              "    }\n",
              "\n",
              "    .dataframe thead th {\n",
              "        text-align: right;\n",
              "    }\n",
              "</style>\n",
              "<table border=\"1\" class=\"dataframe\">\n",
              "  <thead>\n",
              "    <tr style=\"text-align: right;\">\n",
              "      <th></th>\n",
              "      <th>Ke-</th>\n",
              "      <th>x0 (m)</th>\n",
              "      <th>x1 (m)</th>\n",
              "      <th>x2 (m)</th>\n",
              "      <th>x3 (m)</th>\n",
              "      <th>x4 (m)</th>\n",
              "      <th>x5 (m)</th>\n",
              "      <th>Waktu</th>\n",
              "    </tr>\n",
              "  </thead>\n",
              "  <tbody>\n",
              "    <tr>\n",
              "      <th>0</th>\n",
              "      <td>1</td>\n",
              "      <td>0.113</td>\n",
              "      <td>0.091</td>\n",
              "      <td>0.0915</td>\n",
              "      <td>0.090</td>\n",
              "      <td>0.084</td>\n",
              "      <td>0.0820</td>\n",
              "      <td>1.176</td>\n",
              "    </tr>\n",
              "    <tr>\n",
              "      <th>1</th>\n",
              "      <td>2</td>\n",
              "      <td>0.113</td>\n",
              "      <td>0.093</td>\n",
              "      <td>0.0925</td>\n",
              "      <td>0.085</td>\n",
              "      <td>0.084</td>\n",
              "      <td>0.0835</td>\n",
              "      <td>1.081</td>\n",
              "    </tr>\n",
              "    <tr>\n",
              "      <th>2</th>\n",
              "      <td>3</td>\n",
              "      <td>0.113</td>\n",
              "      <td>0.092</td>\n",
              "      <td>0.0910</td>\n",
              "      <td>0.086</td>\n",
              "      <td>0.083</td>\n",
              "      <td>0.0820</td>\n",
              "      <td>1.044</td>\n",
              "    </tr>\n",
              "    <tr>\n",
              "      <th>3</th>\n",
              "      <td>Rerata</td>\n",
              "      <td>0.113</td>\n",
              "      <td>0.092</td>\n",
              "      <td>0.0910</td>\n",
              "      <td>0.087</td>\n",
              "      <td>0.083</td>\n",
              "      <td>0.0820</td>\n",
              "      <td>1.100</td>\n",
              "    </tr>\n",
              "  </tbody>\n",
              "</table>\n",
              "</div>\n",
              "      <button class=\"colab-df-convert\" onclick=\"convertToInteractive('df-215ca194-ae54-4f3e-89e3-a88f023219d6')\"\n",
              "              title=\"Convert this dataframe to an interactive table.\"\n",
              "              style=\"display:none;\">\n",
              "        \n",
              "  <svg xmlns=\"http://www.w3.org/2000/svg\" height=\"24px\"viewBox=\"0 0 24 24\"\n",
              "       width=\"24px\">\n",
              "    <path d=\"M0 0h24v24H0V0z\" fill=\"none\"/>\n",
              "    <path d=\"M18.56 5.44l.94 2.06.94-2.06 2.06-.94-2.06-.94-.94-2.06-.94 2.06-2.06.94zm-11 1L8.5 8.5l.94-2.06 2.06-.94-2.06-.94L8.5 2.5l-.94 2.06-2.06.94zm10 10l.94 2.06.94-2.06 2.06-.94-2.06-.94-.94-2.06-.94 2.06-2.06.94z\"/><path d=\"M17.41 7.96l-1.37-1.37c-.4-.4-.92-.59-1.43-.59-.52 0-1.04.2-1.43.59L10.3 9.45l-7.72 7.72c-.78.78-.78 2.05 0 2.83L4 21.41c.39.39.9.59 1.41.59.51 0 1.02-.2 1.41-.59l7.78-7.78 2.81-2.81c.8-.78.8-2.07 0-2.86zM5.41 20L4 18.59l7.72-7.72 1.47 1.35L5.41 20z\"/>\n",
              "  </svg>\n",
              "      </button>\n",
              "      \n",
              "  <style>\n",
              "    .colab-df-container {\n",
              "      display:flex;\n",
              "      flex-wrap:wrap;\n",
              "      gap: 12px;\n",
              "    }\n",
              "\n",
              "    .colab-df-convert {\n",
              "      background-color: #E8F0FE;\n",
              "      border: none;\n",
              "      border-radius: 50%;\n",
              "      cursor: pointer;\n",
              "      display: none;\n",
              "      fill: #1967D2;\n",
              "      height: 32px;\n",
              "      padding: 0 0 0 0;\n",
              "      width: 32px;\n",
              "    }\n",
              "\n",
              "    .colab-df-convert:hover {\n",
              "      background-color: #E2EBFA;\n",
              "      box-shadow: 0px 1px 2px rgba(60, 64, 67, 0.3), 0px 1px 3px 1px rgba(60, 64, 67, 0.15);\n",
              "      fill: #174EA6;\n",
              "    }\n",
              "\n",
              "    [theme=dark] .colab-df-convert {\n",
              "      background-color: #3B4455;\n",
              "      fill: #D2E3FC;\n",
              "    }\n",
              "\n",
              "    [theme=dark] .colab-df-convert:hover {\n",
              "      background-color: #434B5C;\n",
              "      box-shadow: 0px 1px 3px 1px rgba(0, 0, 0, 0.15);\n",
              "      filter: drop-shadow(0px 1px 2px rgba(0, 0, 0, 0.3));\n",
              "      fill: #FFFFFF;\n",
              "    }\n",
              "  </style>\n",
              "\n",
              "      <script>\n",
              "        const buttonEl =\n",
              "          document.querySelector('#df-215ca194-ae54-4f3e-89e3-a88f023219d6 button.colab-df-convert');\n",
              "        buttonEl.style.display =\n",
              "          google.colab.kernel.accessAllowed ? 'block' : 'none';\n",
              "\n",
              "        async function convertToInteractive(key) {\n",
              "          const element = document.querySelector('#df-215ca194-ae54-4f3e-89e3-a88f023219d6');\n",
              "          const dataTable =\n",
              "            await google.colab.kernel.invokeFunction('convertToInteractive',\n",
              "                                                     [key], {});\n",
              "          if (!dataTable) return;\n",
              "\n",
              "          const docLinkHtml = 'Like what you see? Visit the ' +\n",
              "            '<a target=\"_blank\" href=https://colab.research.google.com/notebooks/data_table.ipynb>data table notebook</a>'\n",
              "            + ' to learn more about interactive tables.';\n",
              "          element.innerHTML = '';\n",
              "          dataTable['output_type'] = 'display_data';\n",
              "          await google.colab.output.renderOutput(dataTable, element);\n",
              "          const docLink = document.createElement('div');\n",
              "          docLink.innerHTML = docLinkHtml;\n",
              "          element.appendChild(docLink);\n",
              "        }\n",
              "      </script>\n",
              "    </div>\n",
              "  </div>\n",
              "  "
            ]
          },
          "metadata": {},
          "execution_count": 384
        }
      ]
    },
    {
      "cell_type": "code",
      "source": [
        "# Ambil nilai x0-x5 dari kolom yang sesuai\n",
        "x0 = data.loc[data['Ke-'] == 'Rerata', 'x0 (m)'].values[0]\n",
        "x1 = data.loc[data['Ke-'] == 'Rerata', 'x1 (m)'].values[0]\n",
        "x2 = data.loc[data['Ke-'] == 'Rerata', 'x2 (m)'].values[0]\n",
        "x3 = data.loc[data['Ke-'] == 'Rerata', 'x3 (m)'].values[0]\n",
        "x4 = data.loc[data['Ke-'] == 'Rerata', 'x4 (m)'].values[0]\n",
        "x5 = data.loc[data['Ke-'] == 'Rerata', 'x5 (m)'].values[0]"
      ],
      "metadata": {
        "id": "tGMNkSvyE8SR"
      },
      "execution_count": 385,
      "outputs": []
    },
    {
      "cell_type": "code",
      "source": [
        "# 0. Mengambil nilai x0-x5 dari kolom \"Rerata\"\n",
        "x_values = data.loc[data['Ke-'] == 'Rerata', 'x0 (m)': 'x5 (m)'].values[0]\n",
        "\n",
        "# 1. Menghitung rasio redaman getaran (δ) menggunakan iterasi\n",
        "δ = []\n",
        "for i in range(len(x_values) - 1):\n",
        "    δ_i = (math.log(x_values[i] / x_values[i+1])) / (((4 * ((math.pi) ** 2)) + (math.log(x_values[i] / x_values[i+1]) ** 2))) ** 0.5\n",
        "    δ.append(δ_i)\n",
        "\n",
        "# Menampilkan hasil rasio redaman getaran (δ)\n",
        "for i in range(len(δ)):\n",
        "    print(f'Hasil δ{i} = {δ[i]}')"
      ],
      "metadata": {
        "colab": {
          "base_uri": "https://localhost:8080/"
        },
        "id": "ORtJ_A2bE_Fm",
        "outputId": "d3bbd361-f68c-413a-89a7-91faeb1d4e35"
      },
      "execution_count": 386,
      "outputs": [
        {
          "output_type": "stream",
          "name": "stdout",
          "text": [
            "Hasil δ0 = 0.03270463124273514\n",
            "Hasil δ1 = 0.0017394129672451267\n",
            "Hasil δ2 = 0.007154052496218774\n",
            "Hasil δ3 = 0.00749081683961572\n",
            "Hasil δ4 = 0.0019291708558138944\n"
          ]
        }
      ]
    },
    {
      "cell_type": "code",
      "source": [
        "# 2. Menghitung rasio redaman getaran rata-rata (δrata)\n",
        "δrata3 = sum(δ) / len(δ)\n",
        "print('δrata =', δrata3)"
      ],
      "metadata": {
        "colab": {
          "base_uri": "https://localhost:8080/"
        },
        "id": "f7bxdxdmFBxV",
        "outputId": "48e3153f-428f-45dd-f092-e98367539d9a"
      },
      "execution_count": 387,
      "outputs": [
        {
          "output_type": "stream",
          "name": "stdout",
          "text": [
            "δrata = 0.010203616880325731\n"
          ]
        }
      ]
    },
    {
      "cell_type": "code",
      "source": [
        "# 3. Menghitung Frekuensi Natural\n",
        "n = 5 # n adalah banyak getaran\n",
        "t = data.loc[data['Ke-'] == 'Rerata', 'Waktu'].values[0] # t adalah waktu yang diperlukan sistem untuk n getaran\n",
        "\n",
        "fn3 = n/t\n",
        "print('fn = ', fn3)"
      ],
      "metadata": {
        "colab": {
          "base_uri": "https://localhost:8080/"
        },
        "id": "XW0QGJ-7FEzM",
        "outputId": "ff4385af-370c-4313-e7b5-d93c521e2ad4"
      },
      "execution_count": 388,
      "outputs": [
        {
          "output_type": "stream",
          "name": "stdout",
          "text": [
            "fn =  4.545454545454545\n"
          ]
        }
      ]
    },
    {
      "cell_type": "code",
      "source": [
        "# 4. Menghitung Frekuensi Sistem Teredam\n",
        "fd3 = fn3*((1-(δrata3**2))**0.5)\n",
        "print('fd = ', fd3)"
      ],
      "metadata": {
        "colab": {
          "base_uri": "https://localhost:8080/"
        },
        "id": "xV1BtA-IFH-C",
        "outputId": "34ab787c-2df8-4042-de00-3cf5ed5a1304"
      },
      "execution_count": 389,
      "outputs": [
        {
          "output_type": "stream",
          "name": "stdout",
          "text": [
            "fd =  4.5452179170284035\n"
          ]
        }
      ]
    },
    {
      "cell_type": "code",
      "source": [
        "# 5. Menghitung Konstanta Pegas Sistem\n",
        "k3 = m1*((2*(math.pi)*fn3)**2)\n",
        "print('k = ', k3)"
      ],
      "metadata": {
        "colab": {
          "base_uri": "https://localhost:8080/"
        },
        "id": "Jp0SYSgyFLDr",
        "outputId": "7d4c17e9-7713-4305-f623-48827f0f667d"
      },
      "execution_count": 390,
      "outputs": [
        {
          "output_type": "stream",
          "name": "stdout",
          "text": [
            "k =  84.82965766225563\n"
          ]
        }
      ]
    },
    {
      "cell_type": "code",
      "source": [
        "# 6. Menghitung Koefisien Redaman Kritis\n",
        "cc3 = (4*m1*k3)**0.5\n",
        "print('cc = ', cc3)"
      ],
      "metadata": {
        "colab": {
          "base_uri": "https://localhost:8080/"
        },
        "id": "ekOWyd1cFNya",
        "outputId": "104f6981-e565-4314-abb8-b0e849969c37"
      },
      "execution_count": 391,
      "outputs": [
        {
          "output_type": "stream",
          "name": "stdout",
          "text": [
            "cc =  5.940466108606154\n"
          ]
        }
      ]
    },
    {
      "cell_type": "code",
      "source": [
        "# 7. Menghitung Koefisien Redaman Aktual\n",
        "ca3 = cc3*δrata3\n",
        "print('ca = ', ca3)"
      ],
      "metadata": {
        "colab": {
          "base_uri": "https://localhost:8080/"
        },
        "id": "T7Vk6yv4FQ39",
        "outputId": "a4c8ba88-39f0-4df8-b360-3ed4419969fb"
      },
      "execution_count": 392,
      "outputs": [
        {
          "output_type": "stream",
          "name": "stdout",
          "text": [
            "ca =  0.06061424026277666\n"
          ]
        }
      ]
    },
    {
      "cell_type": "code",
      "source": [
        "# 8. Membuat Grafik Getaran Teredam\n",
        "def f(t):\n",
        "   return x0*((math.e)**(-(δrata3*2*(math.pi)*fn3*t)))*np.cos(2*(math.pi)*fn3*t)\n",
        "\n",
        "t = np.linspace(0, 40, 150)\n",
        "\n",
        "plt.plot(t, f(t), color='red')\n",
        "plt.xlabel('waktu')\n",
        "plt.ylabel('simpangan')\n",
        "plt.title('Grafik Simpangan Fungsi Waktu')\n",
        "plt.show()"
      ],
      "metadata": {
        "colab": {
          "base_uri": "https://localhost:8080/",
          "height": 472
        },
        "id": "5Xs6i3x2FTzs",
        "outputId": "ea8a6c1b-41dd-450c-cacc-1749cd432d05"
      },
      "execution_count": 393,
      "outputs": [
        {
          "output_type": "display_data",
          "data": {
            "text/plain": [
              "<Figure size 640x480 with 1 Axes>"
            ],
            "image/png": "[encoded data removed]"
          },
          "metadata": {}
        }
      ]
    },
    {
      "cell_type": "markdown",
      "source": [
        "#### 2. 0.166 kg"
      ],
      "metadata": {
        "id": "35i4qUEHEvsh"
      }
    },
    {
      "cell_type": "code",
      "source": [
        "file_path = os.path.join(path, file_name)\n",
        "data = pd.read_excel(file_path, sheet_name=sheet4)\n",
        "data"
      ],
      "metadata": {
        "colab": {
          "base_uri": "https://localhost:8080/",
          "height": 175
        },
        "id": "_ZwCH4_WE4Pl",
        "outputId": "7cba9e5c-ee9d-4ab5-ce0d-839132c098b5"
      },
      "execution_count": 394,
      "outputs": [
        {
          "output_type": "execute_result",
          "data": {
            "text/plain": [
              "      Ke-  x0 (m)  x1 (m)  x2 (m)  x3 (m)  x4 (m)  x5 (m)  Waktu\n",
              "0       1    0.12   0.118   0.115  0.1160   0.113  0.1110  2.113\n",
              "1       2    0.12   0.119   0.118  0.1150   0.114  0.1100  2.154\n",
              "2       3    0.12   0.117   0.117  0.1163   0.112  0.1117  2.147\n",
              "3  Rerata    0.12   0.118   0.116  0.1150   0.113  0.1100  2.138"
            ],
            "text/html": [
              "\n",
              "  <div id=\"df-bbe3636f-0c4d-47a0-b15c-6163f9bbce01\">\n",
              "    <div class=\"colab-df-container\">\n",
              "      <div>\n",
              "<style scoped>\n",
              "    .dataframe tbody tr th:only-of-type {\n",
              "        vertical-align: middle;\n",
              "    }\n",
              "\n",
              "    .dataframe tbody tr th {\n",
              "        vertical-align: top;\n",
              "    }\n",
              "\n",
              "    .dataframe thead th {\n",
              "        text-align: right;\n",
              "    }\n",
              "</style>\n",
              "<table border=\"1\" class=\"dataframe\">\n",
              "  <thead>\n",
              "    <tr style=\"text-align: right;\">\n",
              "      <th></th>\n",
              "      <th>Ke-</th>\n",
              "      <th>x0 (m)</th>\n",
              "      <th>x1 (m)</th>\n",
              "      <th>x2 (m)</th>\n",
              "      <th>x3 (m)</th>\n",
              "      <th>x4 (m)</th>\n",
              "      <th>x5 (m)</th>\n",
              "      <th>Waktu</th>\n",
              "    </tr>\n",
              "  </thead>\n",
              "  <tbody>\n",
              "    <tr>\n",
              "      <th>0</th>\n",
              "      <td>1</td>\n",
              "      <td>0.12</td>\n",
              "      <td>0.118</td>\n",
              "      <td>0.115</td>\n",
              "      <td>0.1160</td>\n",
              "      <td>0.113</td>\n",
              "      <td>0.1110</td>\n",
              "      <td>2.113</td>\n",
              "    </tr>\n",
              "    <tr>\n",
              "      <th>1</th>\n",
              "      <td>2</td>\n",
              "      <td>0.12</td>\n",
              "      <td>0.119</td>\n",
              "      <td>0.118</td>\n",
              "      <td>0.1150</td>\n",
              "      <td>0.114</td>\n",
              "      <td>0.1100</td>\n",
              "      <td>2.154</td>\n",
              "    </tr>\n",
              "    <tr>\n",
              "      <th>2</th>\n",
              "      <td>3</td>\n",
              "      <td>0.12</td>\n",
              "      <td>0.117</td>\n",
              "      <td>0.117</td>\n",
              "      <td>0.1163</td>\n",
              "      <td>0.112</td>\n",
              "      <td>0.1117</td>\n",
              "      <td>2.147</td>\n",
              "    </tr>\n",
              "    <tr>\n",
              "      <th>3</th>\n",
              "      <td>Rerata</td>\n",
              "      <td>0.12</td>\n",
              "      <td>0.118</td>\n",
              "      <td>0.116</td>\n",
              "      <td>0.1150</td>\n",
              "      <td>0.113</td>\n",
              "      <td>0.1100</td>\n",
              "      <td>2.138</td>\n",
              "    </tr>\n",
              "  </tbody>\n",
              "</table>\n",
              "</div>\n",
              "      <button class=\"colab-df-convert\" onclick=\"convertToInteractive('df-bbe3636f-0c4d-47a0-b15c-6163f9bbce01')\"\n",
              "              title=\"Convert this dataframe to an interactive table.\"\n",
              "              style=\"display:none;\">\n",
              "        \n",
              "  <svg xmlns=\"http://www.w3.org/2000/svg\" height=\"24px\"viewBox=\"0 0 24 24\"\n",
              "       width=\"24px\">\n",
              "    <path d=\"M0 0h24v24H0V0z\" fill=\"none\"/>\n",
              "    <path d=\"M18.56 5.44l.94 2.06.94-2.06 2.06-.94-2.06-.94-.94-2.06-.94 2.06-2.06.94zm-11 1L8.5 8.5l.94-2.06 2.06-.94-2.06-.94L8.5 2.5l-.94 2.06-2.06.94zm10 10l.94 2.06.94-2.06 2.06-.94-2.06-.94-.94-2.06-.94 2.06-2.06.94z\"/><path d=\"M17.41 7.96l-1.37-1.37c-.4-.4-.92-.59-1.43-.59-.52 0-1.04.2-1.43.59L10.3 9.45l-7.72 7.72c-.78.78-.78 2.05 0 2.83L4 21.41c.39.39.9.59 1.41.59.51 0 1.02-.2 1.41-.59l7.78-7.78 2.81-2.81c.8-.78.8-2.07 0-2.86zM5.41 20L4 18.59l7.72-7.72 1.47 1.35L5.41 20z\"/>\n",
              "  </svg>\n",
              "      </button>\n",
              "      \n",
              "  <style>\n",
              "    .colab-df-container {\n",
              "      display:flex;\n",
              "      flex-wrap:wrap;\n",
              "      gap: 12px;\n",
              "    }\n",
              "\n",
              "    .colab-df-convert {\n",
              "      background-color: #E8F0FE;\n",
              "      border: none;\n",
              "      border-radius: 50%;\n",
              "      cursor: pointer;\n",
              "      display: none;\n",
              "      fill: #1967D2;\n",
              "      height: 32px;\n",
              "      padding: 0 0 0 0;\n",
              "      width: 32px;\n",
              "    }\n",
              "\n",
              "    .colab-df-convert:hover {\n",
              "      background-color: #E2EBFA;\n",
              "      box-shadow: 0px 1px 2px rgba(60, 64, 67, 0.3), 0px 1px 3px 1px rgba(60, 64, 67, 0.15);\n",
              "      fill: #174EA6;\n",
              "    }\n",
              "\n",
              "    [theme=dark] .colab-df-convert {\n",
              "      background-color: #3B4455;\n",
              "      fill: #D2E3FC;\n",
              "    }\n",
              "\n",
              "    [theme=dark] .colab-df-convert:hover {\n",
              "      background-color: #434B5C;\n",
              "      box-shadow: 0px 1px 3px 1px rgba(0, 0, 0, 0.15);\n",
              "      filter: drop-shadow(0px 1px 2px rgba(0, 0, 0, 0.3));\n",
              "      fill: #FFFFFF;\n",
              "    }\n",
              "  </style>\n",
              "\n",
              "      <script>\n",
              "        const buttonEl =\n",
              "          document.querySelector('#df-bbe3636f-0c4d-47a0-b15c-6163f9bbce01 button.colab-df-convert');\n",
              "        buttonEl.style.display =\n",
              "          google.colab.kernel.accessAllowed ? 'block' : 'none';\n",
              "\n",
              "        async function convertToInteractive(key) {\n",
              "          const element = document.querySelector('#df-bbe3636f-0c4d-47a0-b15c-6163f9bbce01');\n",
              "          const dataTable =\n",
              "            await google.colab.kernel.invokeFunction('convertToInteractive',\n",
              "                                                     [key], {});\n",
              "          if (!dataTable) return;\n",
              "\n",
              "          const docLinkHtml = 'Like what you see? Visit the ' +\n",
              "            '<a target=\"_blank\" href=https://colab.research.google.com/notebooks/data_table.ipynb>data table notebook</a>'\n",
              "            + ' to learn more about interactive tables.';\n",
              "          element.innerHTML = '';\n",
              "          dataTable['output_type'] = 'display_data';\n",
              "          await google.colab.output.renderOutput(dataTable, element);\n",
              "          const docLink = document.createElement('div');\n",
              "          docLink.innerHTML = docLinkHtml;\n",
              "          element.appendChild(docLink);\n",
              "        }\n",
              "      </script>\n",
              "    </div>\n",
              "  </div>\n",
              "  "
            ]
          },
          "metadata": {},
          "execution_count": 394
        }
      ]
    },
    {
      "cell_type": "code",
      "source": [
        "# Ambil nilai x0-x5 dari kolom yang sesuai\n",
        "x0 = data.loc[data['Ke-'] == 'Rerata', 'x0 (m)'].values[0]\n",
        "x1 = data.loc[data['Ke-'] == 'Rerata', 'x1 (m)'].values[0]\n",
        "x2 = data.loc[data['Ke-'] == 'Rerata', 'x2 (m)'].values[0]\n",
        "x3 = data.loc[data['Ke-'] == 'Rerata', 'x3 (m)'].values[0]\n",
        "x4 = data.loc[data['Ke-'] == 'Rerata', 'x4 (m)'].values[0]\n",
        "x5 = data.loc[data['Ke-'] == 'Rerata', 'x5 (m)'].values[0]"
      ],
      "metadata": {
        "id": "kyqQrhhTE87b"
      },
      "execution_count": 395,
      "outputs": []
    },
    {
      "cell_type": "code",
      "source": [
        "# 0. Mengambil nilai x0-x5 dari kolom \"Rerata\"\n",
        "x_values = data.loc[data['Ke-'] == 'Rerata', 'x0 (m)': 'x5 (m)'].values[0]\n",
        "\n",
        "# 1. Menghitung rasio redaman getaran (δ) menggunakan iterasi\n",
        "δ = []\n",
        "for i in range(len(x_values) - 1):\n",
        "    δ_i = (math.log(x_values[i] / x_values[i+1])) / (((4 * ((math.pi) ** 2)) + (math.log(x_values[i] / x_values[i+1]) ** 2))) ** 0.5\n",
        "    δ.append(δ_i)\n",
        "\n",
        "# Menampilkan hasil rasio redaman getaran (δ)\n",
        "for i in range(len(δ)):\n",
        "    print(f'Hasil δ{i} = {δ[i]}')"
      ],
      "metadata": {
        "colab": {
          "base_uri": "https://localhost:8080/"
        },
        "id": "Idl-YrDWE_tR",
        "outputId": "d90c5bd2-3a3b-45cf-96b0-32417baf4317"
      },
      "execution_count": 396,
      "outputs": [
        {
          "output_type": "stream",
          "name": "stdout",
          "text": [
            "Hasil δ0 = 0.0026749263892726807\n",
            "Hasil δ1 = 0.0027206534993536795\n",
            "Hasil δ2 = 0.0013779721749127667\n",
            "Hasil δ3 = 0.0027922527188696173\n",
            "Hasil δ4 = 0.004282414869910037\n"
          ]
        }
      ]
    },
    {
      "cell_type": "code",
      "source": [
        "# 2. Menghitung rasio redaman getaran rata-rata (δrata)\n",
        "δrata4 = sum(δ) / len(δ)\n",
        "print('δrata =', δrata4)"
      ],
      "metadata": {
        "colab": {
          "base_uri": "https://localhost:8080/"
        },
        "id": "UAwKBqWsFCcE",
        "outputId": "9495a947-64cf-4a5b-9727-c91800fc1a55"
      },
      "execution_count": 397,
      "outputs": [
        {
          "output_type": "stream",
          "name": "stdout",
          "text": [
            "δrata = 0.002769643930463756\n"
          ]
        }
      ]
    },
    {
      "cell_type": "code",
      "source": [
        "# 3. Menghitung Frekuensi Natural\n",
        "n = 5 # n adalah banyak getaran\n",
        "t = data.loc[data['Ke-'] == 'Rerata', 'Waktu'].values[0] # t adalah waktu yang diperlukan sistem untuk n getaran\n",
        "\n",
        "fn4 = n/t\n",
        "print('fn = ', fn4)"
      ],
      "metadata": {
        "colab": {
          "base_uri": "https://localhost:8080/"
        },
        "id": "FvmpVXjmFFxR",
        "outputId": "f5f5a107-d8e0-4e81-cfa0-9b7fffec7d44"
      },
      "execution_count": 398,
      "outputs": [
        {
          "output_type": "stream",
          "name": "stdout",
          "text": [
            "fn =  2.3386342376052385\n"
          ]
        }
      ]
    },
    {
      "cell_type": "code",
      "source": [
        "# 4. Menghitung Frekuensi Sistem Teredam\n",
        "fd4 = fn4*((1-(δrata4**2))**0.5)\n",
        "print('fd = ', fd4)"
      ],
      "metadata": {
        "colab": {
          "base_uri": "https://localhost:8080/"
        },
        "id": "n8AR1zkhFInI",
        "outputId": "d93f8cb4-9bee-4010-c854-153b2f7d095a"
      },
      "execution_count": 399,
      "outputs": [
        {
          "output_type": "stream",
          "name": "stdout",
          "text": [
            "fd =  2.3386252678411923\n"
          ]
        }
      ]
    },
    {
      "cell_type": "code",
      "source": [
        "# 5. Menghitung Konstanta Pegas Sistem\n",
        "k4 = m2*((2*(math.pi)*fn4)**2)\n",
        "print('k = ', k4)"
      ],
      "metadata": {
        "colab": {
          "base_uri": "https://localhost:8080/"
        },
        "id": "P__Zvg-5FL6G",
        "outputId": "404488b1-68f0-4f11-d130-9f2056c82014"
      },
      "execution_count": 400,
      "outputs": [
        {
          "output_type": "stream",
          "name": "stdout",
          "text": [
            "k =  35.8420161910678\n"
          ]
        }
      ]
    },
    {
      "cell_type": "code",
      "source": [
        "# 6. Menghitung Koefisien Redaman Kritis\n",
        "cc4 = (4*m2*k4)**0.5\n",
        "print('cc = ', cc4)"
      ],
      "metadata": {
        "colab": {
          "base_uri": "https://localhost:8080/"
        },
        "id": "VEIDwfRSFOyv",
        "outputId": "7b85a85b-4fbb-43d3-d5c6-c85d76f832e4"
      },
      "execution_count": 401,
      "outputs": [
        {
          "output_type": "stream",
          "name": "stdout",
          "text": [
            "cc =  4.878431997155338\n"
          ]
        }
      ]
    },
    {
      "cell_type": "code",
      "source": [
        "# 7. Menghitung Koefisien Redaman Aktual\n",
        "ca4 = cc4*δrata4\n",
        "print('ca = ', ca4)"
      ],
      "metadata": {
        "colab": {
          "base_uri": "https://localhost:8080/"
        },
        "id": "-v0lgKILFRru",
        "outputId": "6aab7f17-0ec5-45f7-e3bc-11f4e39f5426"
      },
      "execution_count": 402,
      "outputs": [
        {
          "output_type": "stream",
          "name": "stdout",
          "text": [
            "ca =  0.013511519571101461\n"
          ]
        }
      ]
    },
    {
      "cell_type": "code",
      "source": [
        "# 8. Membuat Grafik Getaran Teredam\n",
        "def f(t):\n",
        "   return x0*((math.e)**(-(δrata4*2*(math.pi)*fn4*t)))*np.cos(2*(math.pi)*fn4*t)\n",
        "\n",
        "t = np.linspace(0, 400, 150)\n",
        "\n",
        "plt.plot(t, f(t), color='red')\n",
        "plt.xlabel('waktu')\n",
        "plt.ylabel('simpangan')\n",
        "plt.title('Grafik Simpangan Fungsi Waktu')\n",
        "plt.show()"
      ],
      "metadata": {
        "colab": {
          "base_uri": "https://localhost:8080/",
          "height": 472
        },
        "id": "Zmatv-OAFU6H",
        "outputId": "2505e9d1-7a43-462d-d184-d0cb70f33edc"
      },
      "execution_count": 403,
      "outputs": [
        {
          "output_type": "display_data",
          "data": {
            "text/plain": [
              "<Figure size 640x480 with 1 Axes>"
            ],
            "image/png": "[encoded data removed]"
          },
          "metadata": {}
        }
      ]
    },
    {
      "cell_type": "code",
      "source": [
        "# Membuat DataFrame tabel\n",
        "hasil_perhitungan_air = pd.DataFrame({\n",
        "    'δrata': [δrata3, δrata4],\n",
        "    'fn': [fn3, fn4],\n",
        "    'fd': [fd3, fd4],\n",
        "    'k': [k3, k4],\n",
        "    'cc': [cc3, cc4],\n",
        "    'ca': [ca3, ca4]\n",
        "})\n",
        "\n",
        "# Menampilkan tabel hasil perhitungan\n",
        "hasil_perhitungan_air"
      ],
      "metadata": {
        "colab": {
          "base_uri": "https://localhost:8080/",
          "height": 112
        },
        "id": "ah1ljX4zoMa1",
        "outputId": "50516aff-f4b8-4ecc-f992-a2c31b6debb3"
      },
      "execution_count": 404,
      "outputs": [
        {
          "output_type": "execute_result",
          "data": {
            "text/plain": [
              "      δrata        fn        fd          k        cc        ca\n",
              "0  0.010204  4.545455  4.545218  84.829658  5.940466  0.060614\n",
              "1  0.002770  2.338634  2.338625  35.842016  4.878432  0.013512"
            ],
            "text/html": [
              "\n",
              "  <div id=\"df-22c47b17-6554-4d11-a139-eda6a72e3c12\">\n",
              "    <div class=\"colab-df-container\">\n",
              "      <div>\n",
              "<style scoped>\n",
              "    .dataframe tbody tr th:only-of-type {\n",
              "        vertical-align: middle;\n",
              "    }\n",
              "\n",
              "    .dataframe tbody tr th {\n",
              "        vertical-align: top;\n",
              "    }\n",
              "\n",
              "    .dataframe thead th {\n",
              "        text-align: right;\n",
              "    }\n",
              "</style>\n",
              "<table border=\"1\" class=\"dataframe\">\n",
              "  <thead>\n",
              "    <tr style=\"text-align: right;\">\n",
              "      <th></th>\n",
              "      <th>δrata</th>\n",
              "      <th>fn</th>\n",
              "      <th>fd</th>\n",
              "      <th>k</th>\n",
              "      <th>cc</th>\n",
              "      <th>ca</th>\n",
              "    </tr>\n",
              "  </thead>\n",
              "  <tbody>\n",
              "    <tr>\n",
              "      <th>0</th>\n",
              "      <td>0.010204</td>\n",
              "      <td>4.545455</td>\n",
              "      <td>4.545218</td>\n",
              "      <td>84.829658</td>\n",
              "      <td>5.940466</td>\n",
              "      <td>0.060614</td>\n",
              "    </tr>\n",
              "    <tr>\n",
              "      <th>1</th>\n",
              "      <td>0.002770</td>\n",
              "      <td>2.338634</td>\n",
              "      <td>2.338625</td>\n",
              "      <td>35.842016</td>\n",
              "      <td>4.878432</td>\n",
              "      <td>0.013512</td>\n",
              "    </tr>\n",
              "  </tbody>\n",
              "</table>\n",
              "</div>\n",
              "      <button class=\"colab-df-convert\" onclick=\"convertToInteractive('df-22c47b17-6554-4d11-a139-eda6a72e3c12')\"\n",
              "              title=\"Convert this dataframe to an interactive table.\"\n",
              "              style=\"display:none;\">\n",
              "        \n",
              "  <svg xmlns=\"http://www.w3.org/2000/svg\" height=\"24px\"viewBox=\"0 0 24 24\"\n",
              "       width=\"24px\">\n",
              "    <path d=\"M0 0h24v24H0V0z\" fill=\"none\"/>\n",
              "    <path d=\"M18.56 5.44l.94 2.06.94-2.06 2.06-.94-2.06-.94-.94-2.06-.94 2.06-2.06.94zm-11 1L8.5 8.5l.94-2.06 2.06-.94-2.06-.94L8.5 2.5l-.94 2.06-2.06.94zm10 10l.94 2.06.94-2.06 2.06-.94-2.06-.94-.94-2.06-.94 2.06-2.06.94z\"/><path d=\"M17.41 7.96l-1.37-1.37c-.4-.4-.92-.59-1.43-.59-.52 0-1.04.2-1.43.59L10.3 9.45l-7.72 7.72c-.78.78-.78 2.05 0 2.83L4 21.41c.39.39.9.59 1.41.59.51 0 1.02-.2 1.41-.59l7.78-7.78 2.81-2.81c.8-.78.8-2.07 0-2.86zM5.41 20L4 18.59l7.72-7.72 1.47 1.35L5.41 20z\"/>\n",
              "  </svg>\n",
              "      </button>\n",
              "      \n",
              "  <style>\n",
              "    .colab-df-container {\n",
              "      display:flex;\n",
              "      flex-wrap:wrap;\n",
              "      gap: 12px;\n",
              "    }\n",
              "\n",
              "    .colab-df-convert {\n",
              "      background-color: #E8F0FE;\n",
              "      border: none;\n",
              "      border-radius: 50%;\n",
              "      cursor: pointer;\n",
              "      display: none;\n",
              "      fill: #1967D2;\n",
              "      height: 32px;\n",
              "      padding: 0 0 0 0;\n",
              "      width: 32px;\n",
              "    }\n",
              "\n",
              "    .colab-df-convert:hover {\n",
              "      background-color: #E2EBFA;\n",
              "      box-shadow: 0px 1px 2px rgba(60, 64, 67, 0.3), 0px 1px 3px 1px rgba(60, 64, 67, 0.15);\n",
              "      fill: #174EA6;\n",
              "    }\n",
              "\n",
              "    [theme=dark] .colab-df-convert {\n",
              "      background-color: #3B4455;\n",
              "      fill: #D2E3FC;\n",
              "    }\n",
              "\n",
              "    [theme=dark] .colab-df-convert:hover {\n",
              "      background-color: #434B5C;\n",
              "      box-shadow: 0px 1px 3px 1px rgba(0, 0, 0, 0.15);\n",
              "      filter: drop-shadow(0px 1px 2px rgba(0, 0, 0, 0.3));\n",
              "      fill: #FFFFFF;\n",
              "    }\n",
              "  </style>\n",
              "\n",
              "      <script>\n",
              "        const buttonEl =\n",
              "          document.querySelector('#df-22c47b17-6554-4d11-a139-eda6a72e3c12 button.colab-df-convert');\n",
              "        buttonEl.style.display =\n",
              "          google.colab.kernel.accessAllowed ? 'block' : 'none';\n",
              "\n",
              "        async function convertToInteractive(key) {\n",
              "          const element = document.querySelector('#df-22c47b17-6554-4d11-a139-eda6a72e3c12');\n",
              "          const dataTable =\n",
              "            await google.colab.kernel.invokeFunction('convertToInteractive',\n",
              "                                                     [key], {});\n",
              "          if (!dataTable) return;\n",
              "\n",
              "          const docLinkHtml = 'Like what you see? Visit the ' +\n",
              "            '<a target=\"_blank\" href=https://colab.research.google.com/notebooks/data_table.ipynb>data table notebook</a>'\n",
              "            + ' to learn more about interactive tables.';\n",
              "          element.innerHTML = '';\n",
              "          dataTable['output_type'] = 'display_data';\n",
              "          await google.colab.output.renderOutput(dataTable, element);\n",
              "          const docLink = document.createElement('div');\n",
              "          docLink.innerHTML = docLinkHtml;\n",
              "          element.appendChild(docLink);\n",
              "        }\n",
              "      </script>\n",
              "    </div>\n",
              "  </div>\n",
              "  "
            ]
          },
          "metadata": {},
          "execution_count": 404
        }
      ]
    }
  ]
}