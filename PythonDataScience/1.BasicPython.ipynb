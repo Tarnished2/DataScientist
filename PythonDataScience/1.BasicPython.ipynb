{
  "nbformat": 4,
  "nbformat_minor": 0,
  "metadata": {
    "kernelspec": {
      "display_name": "Python 3",
      "language": "python",
      "name": "python3"
    },
    "language_info": {
      "codemirror_mode": {
        "name": "ipython",
        "version": 3
      },
      "file_extension": ".py",
      "mimetype": "text/x-python",
      "name": "python",
      "nbconvert_exporter": "python",
      "pygments_lexer": "ipython3",
      "version": "3.6.4"
    },
    "colab": {
      "provenance": [],
      "include_colab_link": true
    }
  },
  "cells": [
    {
      "cell_type": "markdown",
      "metadata": {
        "id": "view-in-github",
        "colab_type": "text"
      },
      "source": [
        "<a href=\"https://colab.research.google.com/github/Tarnished2/DataScientist/blob/main/PythonDataScience/1.BasicPython.ipynb\" target=\"_parent\"><img src=\"https://colab.research.google.com/assets/colab-badge.svg\" alt=\"Open In Colab\"/></a>"
      ]
    },
    {
      "cell_type": "markdown",
      "metadata": {
        "id": "tCEIRTC_9fx_"
      },
      "source": [
        "# Breakout Room Study Case"
      ]
    },
    {
      "cell_type": "markdown",
      "source": [
        "Pramaditya Ardian Saputra"
      ],
      "metadata": {
        "id": "lJqei0tx5uWm"
      }
    },
    {
      "cell_type": "markdown",
      "metadata": {
        "id": "p_rK4m1RaDwy"
      },
      "source": [
        "## Case 1\n",
        "Anda adalah sebuah pegawai yang ditugaskan untuk membuat sebuah program rekap. Sehingga data yang ada dibawah ini dapat disimpan dalam sebuah variabel dengan tipe dictionary\n",
        "- (Nama: Andi, Nilai: 88)\n",
        "- (Nama: Arley, Nilai: 77)\n",
        "- (Nama: Zio, Nilai: 99)\n",
        "\n"
      ]
    },
    {
      "cell_type": "code",
      "metadata": {
        "id": "LrRSnqJrmew4",
        "colab": {
          "base_uri": "https://localhost:8080/"
        },
        "outputId": "db0f2151-b314-4cc7-e72a-8fad7df6501b"
      },
      "source": [
        "data = {\n",
        "    \"Andi\": 88,\n",
        "    \"Arley\": 77,\n",
        "    \"Zio\": 99\n",
        "}\n",
        "print(data)"
      ],
      "execution_count": 1,
      "outputs": [
        {
          "output_type": "stream",
          "name": "stdout",
          "text": [
            "{'Andi': 88, 'Arley': 77, 'Zio': 99}\n"
          ]
        }
      ]
    },
    {
      "cell_type": "markdown",
      "metadata": {
        "id": "-CztztJRgiAJ"
      },
      "source": [
        "## Case 2\n",
        "Buatlah sebuah program untuk memasukkan dan menghitung biaya laundry dan dry clean dengan beberapa ketentuan sebagai berikut: (skor maksimal 35)\n",
        "\n",
        "1. Biaya laundry per-kg Rp. 6000 dan dry clean per-item Rp. 35000.\n",
        "2. Terdapat diskon 5% jika melakukan laundry lebih dari 10 kg. Sedangkan dry clean juga diskon 5% jika melakukan dry clean lebih dari 5 item.\n",
        "3. Terdapat diskon member 3% untuk member bronze, 4% untuk member silver, dan 5% untuk member gold. Diskon diterapkan pada total biaya akhir.\n",
        "Selanjutnya, lengkapilah Tabel 2 berikut sesuai menggunakan program yang telah anda buat.\n",
        "\n",
        "Dan Selanjutnya hitunglah harga berikut:\n",
        "- (Nama: Vincent, Laundry: 11 Kg, Dry Clean: 6 item, Status member: Gold, Harga: ...)\n",
        "- (Nama: Aldi, Laundry: 7 Kg, Dry Clean: 8 item, Status member: Silver, Harga: ...)\n",
        "- (Nama: Dewi, Laundry: 3 Kg, Dry Clean: 2 item, Status member: Non-member, Harga: ...)\n"
      ]
    },
    {
      "cell_type": "code",
      "metadata": {
        "id": "_nDfgJop4H4J",
        "colab": {
          "base_uri": "https://localhost:8080/"
        },
        "outputId": "57fca9e0-bc7c-48e9-bf48-f67810802ccb"
      },
      "source": [
        "harga_laundry = 6000\n",
        "dry_clean = 35000\n",
        "item = int(input(\"Masukkan itemnya : \"))\n",
        "kg = int(input('masukkan berapa kilo : '))\n",
        "member = str(input('member apa ? '))\n",
        "if kg>10:\n",
        "  total_bayar = kg*harga_laundry*(95/100)\n",
        "  print(total_bayar)\n",
        "else:\n",
        "  total_bayar = kg*harga_laundry\n",
        "\n",
        "if item>5:\n",
        "  bayar_dry_clean = item*dry_clean*(95/100)\n",
        "else:\n",
        "  bayar_dry_clean = item*dry_clean\n",
        "\n",
        "#bikin program if-else dari member\n",
        "if member==\"Gold\":\n",
        "  harga_member = (95/100)*(total_bayar+bayar_dry_clean)\n",
        "elif member == \"Silver\":\n",
        "  harga_member = (96/100)*(total_bayar+bayar_dry_clean)\n",
        "elif member == 'Bronze':\n",
        "  harga_member = (97/100)*(total_bayar+bayar_dry_clean)\n",
        "else:\n",
        "  harga_non_member = total_bayar+bayar_dry_clean\n",
        "\n",
        "if member in [\"Gold\",\"Bronze\",\"Silver\"]:\n",
        "  print(harga_member)\n",
        "else:\n",
        "  print(harga_non_member)\n",
        "\n",
        "\n",
        "\n",
        "\n"
      ],
      "execution_count": 2,
      "outputs": [
        {
          "output_type": "stream",
          "name": "stdout",
          "text": [
            "Masukkan itemnya : 6\n",
            "masukkan berapa kilo : 11\n",
            "member apa ? Gold\n",
            "62700.0\n",
            "249090.0\n"
          ]
        }
      ]
    },
    {
      "cell_type": "markdown",
      "metadata": {
        "id": "w4Bv5SAXobHN"
      },
      "source": [
        "## Case 3\n",
        "Buatlah sebuah program untuk menghitung gaji yang harus diterima oleh karyawan dengan ketentuan sebagai berikut: (skor maksimal 35)\n",
        "-\tGaji pokok: Golongan III.b Rp. 2775000 dan Golongan III.c Rp. 3000000\n",
        "-\tJika sudah berkeluarga maka terdapat tunjangan: Istri Rp. 250000, Anak Rp. 250000 untuk setiap anak yang dimiliki (maksimal 2 anak)\n",
        "-\tUang kehadiran: Rp. 37500 per hari\n",
        "-\tUang makan: Rp. 35000 per hari (per kehadiran)\n",
        "Kemudian hitunglah:\n",
        "- Nama: Andi; Golongan: 3a; Sudah berkeluarga; 3 Anak; 19 hari kehadiran; Gaji yang diterima ...\n",
        "- Nama: Andre; Golongan: 3b; Belum berkeluarga; 0 Anak; 20 hari kehadiran; Gaji yang diterima ...\n"
      ]
    },
    {
      "cell_type": "code",
      "metadata": {
        "id": "bCS01xbLifLD",
        "colab": {
          "base_uri": "https://localhost:8080/"
        },
        "outputId": "ae79d166-4cdf-4654-b932-209561d2ae5e"
      },
      "source": [
        "# Program input\n",
        "nama = input(\"Masukkan nama: \")\n",
        "gol = input(\"Masukkan Golongan Karyawan: \") # 3a dan 3b\n",
        "brkg = input(\"Apakah Sudah Berkeluarga: \") # Sudah belum\n",
        "anak = int(input(\"Masukkan Jumlah Anak: \"))\n",
        "kehadiran = int(input(\"Jumlah Kehadiran: \"))\n",
        "\n",
        "# Program Gaji\n",
        "# tg berdasarkan golongan dan brkg\n",
        "if gol == \"3a\" and brkg == \"Sudah\":\n",
        "  tg = 2775000 + 250000\n",
        "elif gol == \"3b\" and brkg == \"Sudah\":\n",
        "  tg = 3000000 + 250000\n",
        "elif gol == \"3a\" and brkg == \"Belum\":\n",
        "  tg = 2775000\n",
        "else:\n",
        "  tg = 3000000\n",
        "\n",
        "# tg berdasarkan anak\n",
        "if anak == 0:\n",
        "  tg = tg\n",
        "elif 0 < anak <= 2:\n",
        "  tg = tg + (anak*250000)\n",
        "else:\n",
        "  tg = tg + (2*250000)\n",
        "\n",
        "# tg berdasarkan kehadiran\n",
        "tg = tg + (kehadiran * (37500+35000))\n",
        "\n",
        "print(\"Gaji yang diterima\", tg)"
      ],
      "execution_count": 3,
      "outputs": [
        {
          "output_type": "stream",
          "name": "stdout",
          "text": [
            "Masukkan nama: Andi\n",
            "Masukkan Golongan Karyawan: 3a\n",
            "Apakah Sudah Berkeluarga: Sudah\n",
            "Masukkan Jumlah Anak: 3\n",
            "Jumlah Kehadiran: 19\n",
            "Gaji yang diterima 4902500\n"
          ]
        }
      ]
    },
    {
      "cell_type": "markdown",
      "metadata": {
        "id": "AwAZfPYNkyEx"
      },
      "source": [
        "## Case 4\n",
        "Dengan menggunakan perulangan while atau for buatlah:\n",
        "  1. Fungsi untuk menampilkan bilangan 1 sampai 200 yang habis dibagi dengan 7 dan merupakan bilangan genap\n",
        "  2. Fungsi untuk menampilkan deret 0, 1, 1, 2, 3, 5, ..., 4181"
      ]
    },
    {
      "cell_type": "markdown",
      "source": [
        "jawaban untuk no 1"
      ],
      "metadata": {
        "id": "EHRESv-N4N6v"
      }
    },
    {
      "cell_type": "code",
      "metadata": {
        "id": "LMpzjnap_zoX",
        "colab": {
          "base_uri": "https://localhost:8080/"
        },
        "outputId": "ba147ce3-0a66-4b85-e494-2b76fe7ebed3"
      },
      "source": [
        "for i in range(1, 201):\n",
        "    if i % 7 == 0 and i % 2 == 0:\n",
        "        print(i)"
      ],
      "execution_count": 4,
      "outputs": [
        {
          "output_type": "stream",
          "name": "stdout",
          "text": [
            "14\n",
            "28\n",
            "42\n",
            "56\n",
            "70\n",
            "84\n",
            "98\n",
            "112\n",
            "126\n",
            "140\n",
            "154\n",
            "168\n",
            "182\n",
            "196\n"
          ]
        }
      ]
    },
    {
      "cell_type": "markdown",
      "source": [
        "jawaban untuk no 2"
      ],
      "metadata": {
        "id": "0D4ihfVz4SLA"
      }
    },
    {
      "cell_type": "code",
      "source": [
        "a, b = 0, 1\n",
        "while a <= 4181:\n",
        "    print(a, end=\" \")\n",
        "    a, b = b, a + b"
      ],
      "metadata": {
        "colab": {
          "base_uri": "https://localhost:8080/"
        },
        "id": "8J0SdGvY7Gdi",
        "outputId": "39167c27-b64e-4b7f-b5da-e19282375271"
      },
      "execution_count": 5,
      "outputs": [
        {
          "output_type": "stream",
          "name": "stdout",
          "text": [
            "0 1 1 2 3 5 8 13 21 34 55 89 144 233 377 610 987 1597 2584 4181 "
          ]
        }
      ]
    },
    {
      "cell_type": "markdown",
      "source": [
        "## Case 5\n",
        "Buatlah sebuah fungsi untuk menampilkan bilangan prima hingga suku ke n:"
      ],
      "metadata": {
        "id": "BvKcWN61V0Ao"
      }
    },
    {
      "cell_type": "code",
      "source": [
        "def print_primes(n):\n",
        "    primes = []\n",
        "    num = 2\n",
        "    while len(primes) < n:\n",
        "        if all(num % i != 0 for i in range(2, int(num**0.5)+1)):\n",
        "            primes.append(num)\n",
        "        num += 1\n",
        "    print(primes)"
      ],
      "metadata": {
        "id": "qTIGzHkiV0Zr"
      },
      "execution_count": 6,
      "outputs": []
    },
    {
      "cell_type": "markdown",
      "source": [
        "diambil contoh bahwa n adalah 10, maka"
      ],
      "metadata": {
        "id": "vtSw4-tb4av3"
      }
    },
    {
      "cell_type": "code",
      "source": [
        "print_primes(10)"
      ],
      "metadata": {
        "colab": {
          "base_uri": "https://localhost:8080/"
        },
        "id": "K02UocH12L7y",
        "outputId": "736919c0-ff45-4da5-87a7-73d48852c65f"
      },
      "execution_count": 7,
      "outputs": [
        {
          "output_type": "stream",
          "name": "stdout",
          "text": [
            "[2, 3, 5, 7, 11, 13, 17, 19, 23, 29]\n"
          ]
        }
      ]
    }
  ]
}