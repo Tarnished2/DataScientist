{
  "nbformat": 4,
  "nbformat_minor": 0,
  "metadata": {
    "colab": {
      "provenance": []
    },
    "kernelspec": {
      "name": "python3",
      "display_name": "Python 3"
    },
    "language_info": {
      "name": "python"
    }
  },
  "cells": [
    {
      "cell_type": "markdown",
      "source": [
        "- No 1"
      ],
      "metadata": {
        "id": "t9L9wH81aBDm"
      }
    },
    {
      "cell_type": "code",
      "execution_count": 1,
      "metadata": {
        "colab": {
          "base_uri": "https://localhost:8080/"
        },
        "id": "OyDik3kEZ8KG",
        "outputId": "afe713d2-f797-476c-b73a-c4169144eaef"
      },
      "outputs": [
        {
          "output_type": "stream",
          "name": "stdout",
          "text": [
            "bunga mawar merah\n",
            "bunga mawar putih\n",
            "bunga melati\n",
            "bunga tulip\n",
            "bunga sepatu\n",
            "['mawar merah', 'mawar putih', 'sedap malam', 'tulip', 'sepatu']\n"
          ]
        }
      ],
      "source": [
        "bunga = ['mawar merah', 'mawar putih', 'melati', 'tulip', 'sepatu']\n",
        "\n",
        "# Looping masing-masing item dengan menambahkan kata \"bunga\"\n",
        "for b in bunga:\n",
        "    print(\"bunga\", b)\n",
        "\n",
        "# Menambahkan item \"sedap malam\" setelah item \"melati\"\n",
        "bunga.insert(3, \"sedap malam\")\n",
        "\n",
        "# Menghapus item pada index ke-2\n",
        "del bunga[2]\n",
        "\n",
        "# Menampilkan hasil akhir\n",
        "print(bunga)"
      ]
    },
    {
      "cell_type": "markdown",
      "source": [
        "- No 2"
      ],
      "metadata": {
        "id": "P_5ZMGEFZ_3U"
      }
    },
    {
      "cell_type": "markdown",
      "source": [
        "1. Buat dataframe"
      ],
      "metadata": {
        "id": "HBjS_6AhaY7C"
      }
    },
    {
      "cell_type": "code",
      "source": [
        "import pandas as pd\n",
        "\n",
        "data = {\n",
        "    \"Nama\": [\"Andi\", \"Budi\", \"Susi\", \"Andi\", \"Susi\", \"Lala\", \"Budi\", \"Lili\", \"Lala\"],\n",
        "    \"Jenis Kelamin\": [\"L\", \"L\", \"P\", \"L\", \"P\", \"P\", \"L\", \"P\", \"P\"],\n",
        "    \"Hari\": [\"Senin\", \"Senin\", \"Senin\", \"Senin\", \"Selasa\", \"Selasa\", \"Selasa\", \"Rabu\", \"Rabu\"],\n",
        "    \"Jarak\": [10, 15, 7, 10, 9, 8, 17, 7, 6]\n",
        "}\n",
        "\n",
        "df = pd.DataFrame(data)\n",
        "\n",
        "# menampilkan dataframe\n",
        "print(df)"
      ],
      "metadata": {
        "colab": {
          "base_uri": "https://localhost:8080/"
        },
        "id": "B0ZpI0Xmabe9",
        "outputId": "f1455428-a01e-40bc-d508-d56d1e309603"
      },
      "execution_count": 2,
      "outputs": [
        {
          "output_type": "stream",
          "name": "stdout",
          "text": [
            "   Nama Jenis Kelamin    Hari  Jarak\n",
            "0  Andi             L   Senin     10\n",
            "1  Budi             L   Senin     15\n",
            "2  Susi             P   Senin      7\n",
            "3  Andi             L   Senin     10\n",
            "4  Susi             P  Selasa      9\n",
            "5  Lala             P  Selasa      8\n",
            "6  Budi             L  Selasa     17\n",
            "7  Lili             P    Rabu      7\n",
            "8  Lala             P    Rabu      6\n"
          ]
        }
      ]
    },
    {
      "cell_type": "markdown",
      "source": [
        "2. Filter berdasar jenis kelamin"
      ],
      "metadata": {
        "id": "eTQ6E8Lgae9F"
      }
    },
    {
      "cell_type": "code",
      "source": [
        "# filter data berdasarkan jenis kelamin laki-laki\n",
        "df_laki_laki = df.loc[df[\"Jenis Kelamin\"] == \"L\"]\n",
        "\n",
        "# menampilkan hasil filter\n",
        "print(df_laki_laki)\n",
        "\n",
        "# filter data jenis kelamin perempuan\n",
        "df_perempuan = df.loc[df[\"Jenis Kelamin\"] == \"P\"]\n",
        "\n",
        "# menampilkan hasil filter\n",
        "print(df_perempuan)"
      ],
      "metadata": {
        "colab": {
          "base_uri": "https://localhost:8080/"
        },
        "id": "83-u9cRlahni",
        "outputId": "014566d2-fc51-486a-bb21-c112e97c558c"
      },
      "execution_count": 3,
      "outputs": [
        {
          "output_type": "stream",
          "name": "stdout",
          "text": [
            "   Nama Jenis Kelamin    Hari  Jarak\n",
            "0  Andi             L   Senin     10\n",
            "1  Budi             L   Senin     15\n",
            "3  Andi             L   Senin     10\n",
            "6  Budi             L  Selasa     17\n",
            "   Nama Jenis Kelamin    Hari  Jarak\n",
            "2  Susi             P   Senin      7\n",
            "4  Susi             P  Selasa      9\n",
            "5  Lala             P  Selasa      8\n",
            "7  Lili             P    Rabu      7\n",
            "8  Lala             P    Rabu      6\n"
          ]
        }
      ]
    },
    {
      "cell_type": "markdown",
      "source": [
        "3. Urutkan berdasarkan nama"
      ],
      "metadata": {
        "id": "o4nhGGDfanTl"
      }
    },
    {
      "cell_type": "code",
      "source": [
        "# mengurutkan data berdasarkan kolom Nama\n",
        "df_urutan_nama = df.sort_values(\"Nama\")\n",
        "\n",
        "# menampilkan hasil pengurutan\n",
        "print(df_urutan_nama)"
      ],
      "metadata": {
        "colab": {
          "base_uri": "https://localhost:8080/"
        },
        "id": "SLnRLX4Qarkz",
        "outputId": "0b87f099-6808-4457-9f51-4f4e1a2c484e"
      },
      "execution_count": 4,
      "outputs": [
        {
          "output_type": "stream",
          "name": "stdout",
          "text": [
            "   Nama Jenis Kelamin    Hari  Jarak\n",
            "0  Andi             L   Senin     10\n",
            "3  Andi             L   Senin     10\n",
            "1  Budi             L   Senin     15\n",
            "6  Budi             L  Selasa     17\n",
            "5  Lala             P  Selasa      8\n",
            "8  Lala             P    Rabu      6\n",
            "7  Lili             P    Rabu      7\n",
            "2  Susi             P   Senin      7\n",
            "4  Susi             P  Selasa      9\n"
          ]
        }
      ]
    },
    {
      "cell_type": "markdown",
      "source": [
        "4. Ganti nama ke bahasa Inggris"
      ],
      "metadata": {
        "id": "FR0wAuwNa-la"
      }
    },
    {
      "cell_type": "code",
      "source": [
        "df = df.rename(columns={'Nama': 'Name', 'Jenis Kelamin': 'Gender', 'Hari': 'Day', 'Jarak': 'Distance'})\n",
        "print(df)"
      ],
      "metadata": {
        "colab": {
          "base_uri": "https://localhost:8080/"
        },
        "id": "1BXNSEeEbBGo",
        "outputId": "1ed81c11-f772-4dd3-cd13-ca8e5fa00d25"
      },
      "execution_count": 5,
      "outputs": [
        {
          "output_type": "stream",
          "name": "stdout",
          "text": [
            "   Name Gender     Day  Distance\n",
            "0  Andi      L   Senin        10\n",
            "1  Budi      L   Senin        15\n",
            "2  Susi      P   Senin         7\n",
            "3  Andi      L   Senin        10\n",
            "4  Susi      P  Selasa         9\n",
            "5  Lala      P  Selasa         8\n",
            "6  Budi      L  Selasa        17\n",
            "7  Lili      P    Rabu         7\n",
            "8  Lala      P    Rabu         6\n"
          ]
        }
      ]
    },
    {
      "cell_type": "markdown",
      "source": [
        "5. Tunjukkan baris index ke 3"
      ],
      "metadata": {
        "id": "lnINCsnrbL3R"
      }
    },
    {
      "cell_type": "code",
      "source": [
        "baris_ke_3 = df.iloc[2] #2 karena index dalam Python dimulai dari 0\n",
        "print(baris_ke_3)"
      ],
      "metadata": {
        "colab": {
          "base_uri": "https://localhost:8080/"
        },
        "id": "QbOGTuG7bOcX",
        "outputId": "522eb4f3-bc5c-4af0-bdc4-4c3752e4819e"
      },
      "execution_count": 6,
      "outputs": [
        {
          "output_type": "stream",
          "name": "stdout",
          "text": [
            "Name         Susi\n",
            "Gender          P\n",
            "Day         Senin\n",
            "Distance        7\n",
            "Name: 2, dtype: object\n"
          ]
        }
      ]
    },
    {
      "cell_type": "markdown",
      "source": [
        "6. Tunjukkan data yang berjenis kelamin perempuan saja!"
      ],
      "metadata": {
        "id": "KWSYALzqbTms"
      }
    },
    {
      "cell_type": "code",
      "source": [
        "perempuan_data = df[df['Gender'] == 'P']\n",
        "print(perempuan_data)"
      ],
      "metadata": {
        "colab": {
          "base_uri": "https://localhost:8080/"
        },
        "id": "6tnURalqbU_g",
        "outputId": "029d6ffb-0e55-41c8-e96c-c73f76bc8d27"
      },
      "execution_count": 7,
      "outputs": [
        {
          "output_type": "stream",
          "name": "stdout",
          "text": [
            "   Name Gender     Day  Distance\n",
            "2  Susi      P   Senin         7\n",
            "4  Susi      P  Selasa         9\n",
            "5  Lala      P  Selasa         8\n",
            "7  Lili      P    Rabu         7\n",
            "8  Lala      P    Rabu         6\n"
          ]
        }
      ]
    },
    {
      "cell_type": "markdown",
      "source": [
        "7. Tunjukkan data Susi"
      ],
      "metadata": {
        "id": "OsdUUYEnbiuo"
      }
    },
    {
      "cell_type": "code",
      "source": [
        "susi_data = df[df['Name'] == 'Susi']\n",
        "print(susi_data)"
      ],
      "metadata": {
        "colab": {
          "base_uri": "https://localhost:8080/"
        },
        "id": "kyHixQgIblDn",
        "outputId": "bedd695f-b0c9-49a3-882e-60e8871d6075"
      },
      "execution_count": 8,
      "outputs": [
        {
          "output_type": "stream",
          "name": "stdout",
          "text": [
            "   Name Gender     Day  Distance\n",
            "2  Susi      P   Senin         7\n",
            "4  Susi      P  Selasa         9\n"
          ]
        }
      ]
    }
  ]
}