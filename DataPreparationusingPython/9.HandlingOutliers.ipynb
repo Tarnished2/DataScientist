{
  "cells": [
    {
      "cell_type": "markdown",
      "metadata": {
        "id": "view-in-github",
        "colab_type": "text"
      },
      "source": [
        "<a href=\"https://colab.research.google.com/github/Tarnished2/DataScientist/blob/main/DataPreparationusingPython/9.HandlingOutliers.ipynb\" target=\"_parent\"><img src=\"https://colab.research.google.com/assets/colab-badge.svg\" alt=\"Open In Colab\"/></a>"
      ]
    },
    {
      "cell_type": "code",
      "execution_count": null,
      "metadata": {
        "id": "bBYQTPb08s9l",
        "colab": {
          "base_uri": "https://localhost:8080/"
        },
        "outputId": "b5fe959c-80aa-4552-88b6-d96f561c6556"
      },
      "outputs": [
        {
          "output_type": "stream",
          "name": "stdout",
          "text": [
            "Mounted at /content/gdrive\n"
          ]
        }
      ],
      "source": [
        "# Mengakses link ke google drive\n",
        "from google.colab import drive\n",
        "drive.mount('/content/gdrive')"
      ]
    },
    {
      "cell_type": "code",
      "execution_count": null,
      "metadata": {
        "id": "pWqoj9FEwbTB"
      },
      "outputs": [],
      "source": [
        "# Mendefinisikan data path\n",
        "\n",
        "path_data = '/content/gdrive/MyDrive/SIB/3. Data Preparation using Python/3.2 Handling Outlier/'"
      ]
    },
    {
      "cell_type": "code",
      "execution_count": null,
      "metadata": {
        "id": "oTIyNqUAwM9e",
        "colab": {
          "base_uri": "https://localhost:8080/"
        },
        "outputId": "4cf4dc0a-8967-4e07-b46a-ca4f64c8d9f0"
      },
      "outputs": [
        {
          "output_type": "execute_result",
          "data": {
            "text/plain": [
              "['[REV] Breakoutroom Meet 9.ipynb',\n",
              " 'salesmonthly.csv',\n",
              " 'winequalityN.csv',\n",
              " 'free_advertising_data.csv',\n",
              " 'TestMatches_Dataset.csv',\n",
              " 'Handling_Outlier.ipynb']"
            ]
          },
          "metadata": {},
          "execution_count": 3
        }
      ],
      "source": [
        "# Membaca directory\n",
        "import os\n",
        "os.listdir(path_data)"
      ]
    },
    {
      "cell_type": "code",
      "execution_count": null,
      "metadata": {
        "id": "PtgY_pid3XVC"
      },
      "outputs": [],
      "source": [
        "# Import Packages\n",
        "import pandas as pd\n",
        "import numpy as np\n",
        "import statistics\n",
        "from scipy.stats import chi2\n",
        "from matplotlib import patches\n",
        "import matplotlib.pyplot as plt"
      ]
    },
    {
      "cell_type": "markdown",
      "source": [
        "### Case 1 dengan free_advertising_data.csv"
      ],
      "metadata": {
        "id": "sfWs3FT4ns0V"
      }
    },
    {
      "cell_type": "markdown",
      "source": [
        "Apakah terdeteksi multivariat outlier pada Radio dan Newspaper?"
      ],
      "metadata": {
        "id": "ALl7KHrOn1vp"
      }
    },
    {
      "cell_type": "code",
      "source": [
        "# Load dataset\n",
        "df_data = pd.read_csv(path_data+'free_advertising_data.csv')\n",
        "df_data.head()"
      ],
      "metadata": {
        "id": "d_GTVQaBmtAJ",
        "colab": {
          "base_uri": "https://localhost:8080/",
          "height": 206
        },
        "outputId": "22de61f3-794e-40f8-ec4b-a3a8ec5a913c"
      },
      "execution_count": null,
      "outputs": [
        {
          "output_type": "execute_result",
          "data": {
            "text/plain": [
              "      TV  Radio  Newspaper  Sales\n",
              "0  230.1   37.8       69.2   22.1\n",
              "1   44.5   39.3       45.1   10.4\n",
              "2   17.2   45.9       69.3   12.0\n",
              "3  151.5   41.3       58.5   16.5\n",
              "4  180.8   10.8       58.4   17.9"
            ],
            "text/html": [
              "\n",
              "  <div id=\"df-378f4c14-220a-4fa4-9efb-fd5a3a97428a\">\n",
              "    <div class=\"colab-df-container\">\n",
              "      <div>\n",
              "<style scoped>\n",
              "    .dataframe tbody tr th:only-of-type {\n",
              "        vertical-align: middle;\n",
              "    }\n",
              "\n",
              "    .dataframe tbody tr th {\n",
              "        vertical-align: top;\n",
              "    }\n",
              "\n",
              "    .dataframe thead th {\n",
              "        text-align: right;\n",
              "    }\n",
              "</style>\n",
              "<table border=\"1\" class=\"dataframe\">\n",
              "  <thead>\n",
              "    <tr style=\"text-align: right;\">\n",
              "      <th></th>\n",
              "      <th>TV</th>\n",
              "      <th>Radio</th>\n",
              "      <th>Newspaper</th>\n",
              "      <th>Sales</th>\n",
              "    </tr>\n",
              "  </thead>\n",
              "  <tbody>\n",
              "    <tr>\n",
              "      <th>0</th>\n",
              "      <td>230.1</td>\n",
              "      <td>37.8</td>\n",
              "      <td>69.2</td>\n",
              "      <td>22.1</td>\n",
              "    </tr>\n",
              "    <tr>\n",
              "      <th>1</th>\n",
              "      <td>44.5</td>\n",
              "      <td>39.3</td>\n",
              "      <td>45.1</td>\n",
              "      <td>10.4</td>\n",
              "    </tr>\n",
              "    <tr>\n",
              "      <th>2</th>\n",
              "      <td>17.2</td>\n",
              "      <td>45.9</td>\n",
              "      <td>69.3</td>\n",
              "      <td>12.0</td>\n",
              "    </tr>\n",
              "    <tr>\n",
              "      <th>3</th>\n",
              "      <td>151.5</td>\n",
              "      <td>41.3</td>\n",
              "      <td>58.5</td>\n",
              "      <td>16.5</td>\n",
              "    </tr>\n",
              "    <tr>\n",
              "      <th>4</th>\n",
              "      <td>180.8</td>\n",
              "      <td>10.8</td>\n",
              "      <td>58.4</td>\n",
              "      <td>17.9</td>\n",
              "    </tr>\n",
              "  </tbody>\n",
              "</table>\n",
              "</div>\n",
              "      <button class=\"colab-df-convert\" onclick=\"convertToInteractive('df-378f4c14-220a-4fa4-9efb-fd5a3a97428a')\"\n",
              "              title=\"Convert this dataframe to an interactive table.\"\n",
              "              style=\"display:none;\">\n",
              "        \n",
              "  <svg xmlns=\"http://www.w3.org/2000/svg\" height=\"24px\"viewBox=\"0 0 24 24\"\n",
              "       width=\"24px\">\n",
              "    <path d=\"M0 0h24v24H0V0z\" fill=\"none\"/>\n",
              "    <path d=\"M18.56 5.44l.94 2.06.94-2.06 2.06-.94-2.06-.94-.94-2.06-.94 2.06-2.06.94zm-11 1L8.5 8.5l.94-2.06 2.06-.94-2.06-.94L8.5 2.5l-.94 2.06-2.06.94zm10 10l.94 2.06.94-2.06 2.06-.94-2.06-.94-.94-2.06-.94 2.06-2.06.94z\"/><path d=\"M17.41 7.96l-1.37-1.37c-.4-.4-.92-.59-1.43-.59-.52 0-1.04.2-1.43.59L10.3 9.45l-7.72 7.72c-.78.78-.78 2.05 0 2.83L4 21.41c.39.39.9.59 1.41.59.51 0 1.02-.2 1.41-.59l7.78-7.78 2.81-2.81c.8-.78.8-2.07 0-2.86zM5.41 20L4 18.59l7.72-7.72 1.47 1.35L5.41 20z\"/>\n",
              "  </svg>\n",
              "      </button>\n",
              "      \n",
              "  <style>\n",
              "    .colab-df-container {\n",
              "      display:flex;\n",
              "      flex-wrap:wrap;\n",
              "      gap: 12px;\n",
              "    }\n",
              "\n",
              "    .colab-df-convert {\n",
              "      background-color: #E8F0FE;\n",
              "      border: none;\n",
              "      border-radius: 50%;\n",
              "      cursor: pointer;\n",
              "      display: none;\n",
              "      fill: #1967D2;\n",
              "      height: 32px;\n",
              "      padding: 0 0 0 0;\n",
              "      width: 32px;\n",
              "    }\n",
              "\n",
              "    .colab-df-convert:hover {\n",
              "      background-color: #E2EBFA;\n",
              "      box-shadow: 0px 1px 2px rgba(60, 64, 67, 0.3), 0px 1px 3px 1px rgba(60, 64, 67, 0.15);\n",
              "      fill: #174EA6;\n",
              "    }\n",
              "\n",
              "    [theme=dark] .colab-df-convert {\n",
              "      background-color: #3B4455;\n",
              "      fill: #D2E3FC;\n",
              "    }\n",
              "\n",
              "    [theme=dark] .colab-df-convert:hover {\n",
              "      background-color: #434B5C;\n",
              "      box-shadow: 0px 1px 3px 1px rgba(0, 0, 0, 0.15);\n",
              "      filter: drop-shadow(0px 1px 2px rgba(0, 0, 0, 0.3));\n",
              "      fill: #FFFFFF;\n",
              "    }\n",
              "  </style>\n",
              "\n",
              "      <script>\n",
              "        const buttonEl =\n",
              "          document.querySelector('#df-378f4c14-220a-4fa4-9efb-fd5a3a97428a button.colab-df-convert');\n",
              "        buttonEl.style.display =\n",
              "          google.colab.kernel.accessAllowed ? 'block' : 'none';\n",
              "\n",
              "        async function convertToInteractive(key) {\n",
              "          const element = document.querySelector('#df-378f4c14-220a-4fa4-9efb-fd5a3a97428a');\n",
              "          const dataTable =\n",
              "            await google.colab.kernel.invokeFunction('convertToInteractive',\n",
              "                                                     [key], {});\n",
              "          if (!dataTable) return;\n",
              "\n",
              "          const docLinkHtml = 'Like what you see? Visit the ' +\n",
              "            '<a target=\"_blank\" href=https://colab.research.google.com/notebooks/data_table.ipynb>data table notebook</a>'\n",
              "            + ' to learn more about interactive tables.';\n",
              "          element.innerHTML = '';\n",
              "          dataTable['output_type'] = 'display_data';\n",
              "          await google.colab.output.renderOutput(dataTable, element);\n",
              "          const docLink = document.createElement('div');\n",
              "          docLink.innerHTML = docLinkHtml;\n",
              "          element.appendChild(docLink);\n",
              "        }\n",
              "      </script>\n",
              "    </div>\n",
              "  </div>\n",
              "  "
            ]
          },
          "metadata": {},
          "execution_count": 5
        }
      ]
    },
    {
      "cell_type": "code",
      "source": [
        "df_data.info()"
      ],
      "metadata": {
        "id": "v4OVEYcPmzVo",
        "colab": {
          "base_uri": "https://localhost:8080/"
        },
        "outputId": "6b7da2b0-03c1-4ecf-e2dd-7b4948e07a18"
      },
      "execution_count": null,
      "outputs": [
        {
          "output_type": "stream",
          "name": "stdout",
          "text": [
            "<class 'pandas.core.frame.DataFrame'>\n",
            "RangeIndex: 197 entries, 0 to 196\n",
            "Data columns (total 4 columns):\n",
            " #   Column     Non-Null Count  Dtype  \n",
            "---  ------     --------------  -----  \n",
            " 0   TV         197 non-null    float64\n",
            " 1   Radio      197 non-null    float64\n",
            " 2   Newspaper  197 non-null    float64\n",
            " 3   Sales      197 non-null    float64\n",
            "dtypes: float64(4)\n",
            "memory usage: 6.3 KB\n"
          ]
        }
      ]
    },
    {
      "cell_type": "code",
      "source": [
        "df = df_data[['Radio', 'Newspaper']]\n",
        "df = df.to_numpy()"
      ],
      "metadata": {
        "id": "KzzwIrIrQEsL"
      },
      "execution_count": null,
      "outputs": []
    },
    {
      "cell_type": "markdown",
      "source": [
        "Menghitung dengan Jarak Mahalanobis"
      ],
      "metadata": {
        "id": "MHoYKFamQsAC"
      }
    },
    {
      "cell_type": "code",
      "source": [
        "# Covariance matrix\n",
        "covariance  = np.cov(df , rowvar=False)\n",
        "\n",
        "# Covariance matrix power of -1\n",
        "covariance_pm1 = np.linalg.matrix_power(covariance, -1)\n",
        "\n",
        "# Center point\n",
        "centerpoint = np.mean(df , axis=0)"
      ],
      "metadata": {
        "id": "PtTuQvvumzZJ"
      },
      "execution_count": null,
      "outputs": []
    },
    {
      "cell_type": "code",
      "source": [
        "# Jarak antara center point and masing-masing point observasi\n",
        "distances = []\n",
        "for i, val in enumerate(df):\n",
        "    p1 = val\n",
        "    p2 = centerpoint\n",
        "    distance = (p1-p2).T.dot(covariance_pm1).dot(p1-p2)\n",
        "    distances.append(distance)\n",
        "distances = np.array(distances)\n",
        "\n",
        "# Nilai cutoff (threshold) dari Chi-Sqaure Distribution untuk deteksi outlier\n",
        "cutoff = chi2.ppf(0.95, df.shape[1])\n",
        "\n",
        "# Index outliers\n",
        "outlierIndexes = np.where(distances > cutoff )\n",
        "\n",
        "print('--- Index Outliers ----')\n",
        "print(outlierIndexes)\n",
        "\n",
        "print('--- Observasi terdeteksi sebagai outlier -----')\n",
        "print(df[ distances > cutoff , :])"
      ],
      "metadata": {
        "id": "9WH0a5tVmzcb",
        "colab": {
          "base_uri": "https://localhost:8080/"
        },
        "outputId": "ab625dd0-5044-4dc6-e56e-9034b68242ff"
      },
      "execution_count": null,
      "outputs": [
        {
          "output_type": "stream",
          "name": "stdout",
          "text": [
            "--- Index Outliers ----\n",
            "(array([ 74, 126, 136, 162]),)\n",
            "--- Observasi terdeteksi sebagai outlier -----\n",
            "[[43.7 89.4]\n",
            " [49.   3.2]\n",
            " [43.9  1.7]\n",
            " [ 3.4 84.8]]\n"
          ]
        }
      ]
    },
    {
      "cell_type": "code",
      "source": [
        "## ellipse dimensions\n",
        "pearson = covariance[0, 1]/np.sqrt(covariance[0, 0] * covariance[1, 1])\n",
        "ell_radius_x = np.sqrt(1 + pearson)\n",
        "ell_radius_y = np.sqrt(1 - pearson)\n",
        "lambda_, v = np.linalg.eig(covariance)\n",
        "lambda_ = np.sqrt(lambda_)\n",
        "\n",
        "# Ellipse patch\n",
        "ellipse = patches.Ellipse(xy=(centerpoint[0], centerpoint[1]),\n",
        "                  width=lambda_[0]*np.sqrt(cutoff)*2, height=lambda_[1]*np.sqrt(cutoff)*2,\n",
        "                  angle=np.rad2deg(np.arccos(v[0, 0])), edgecolor='#fab1a0')\n",
        "ellipse.set_facecolor('#0984e3')\n",
        "ellipse.set_alpha(0.5)\n",
        "fig = plt.figure()\n",
        "ax = plt.subplot()\n",
        "ax.add_artist(ellipse)\n",
        "plt.scatter(df[: , 0], df[ : , 1])\n",
        "plt.show()"
      ],
      "metadata": {
        "id": "tGYM-qqHmzfS",
        "colab": {
          "base_uri": "https://localhost:8080/",
          "height": 265
        },
        "outputId": "5a412381-1eed-4e3f-90d6-cb5a3e137e40"
      },
      "execution_count": null,
      "outputs": [
        {
          "output_type": "display_data",
          "data": {
            "text/plain": [
              "<Figure size 432x288 with 1 Axes>"
            ],
            "image/png": "[encoded data removed]"
          },
          "metadata": {
            "needs_background": "light"
          }
        }
      ]
    },
    {
      "cell_type": "markdown",
      "source": [
        "Ada berapa banyak outlier pada Radio dan Newspaper?"
      ],
      "metadata": {
        "id": "b2Wx2JfLoEFB"
      }
    },
    {
      "cell_type": "code",
      "source": [
        "remove_outlier=df[distances <= cutoff,:]"
      ],
      "metadata": {
        "id": "yz7ay2b7nTuM"
      },
      "execution_count": null,
      "outputs": []
    },
    {
      "cell_type": "code",
      "source": [
        "print(\"Banyaknya data asli yang masih ada outlier: \",len(df))\n",
        "print(\"Banyaknya data setelah menghapus outlier: \",len(remove_outlier))"
      ],
      "metadata": {
        "colab": {
          "base_uri": "https://localhost:8080/"
        },
        "id": "rTowhYrGQihS",
        "outputId": "5a2db04c-7148-4574-e1ac-0235f2a8735c"
      },
      "execution_count": null,
      "outputs": [
        {
          "output_type": "stream",
          "name": "stdout",
          "text": [
            "Banyaknya data asli yang masih ada outlier:  197\n",
            "Banyaknya data setelah menghapus outlier:  193\n"
          ]
        }
      ]
    },
    {
      "cell_type": "markdown",
      "source": [
        "handling multivariate outlier pertama"
      ],
      "metadata": {
        "id": "zaYrgWNbTUjI"
      }
    },
    {
      "cell_type": "code",
      "source": [
        "df = remove_outlier\n",
        "# Covariance matrix\n",
        "covariance  = np.cov(df , rowvar=False)\n",
        "\n",
        "# Covariance matrix power of -1\n",
        "covariance_pm1 = np.linalg.matrix_power(covariance, -1)\n",
        "\n",
        "# Center point\n",
        "centerpoint = np.mean(df , axis=0)"
      ],
      "metadata": {
        "id": "6Vjc5A_nTVS-"
      },
      "execution_count": null,
      "outputs": []
    },
    {
      "cell_type": "code",
      "source": [
        "# Jarak antara center point and masing-masing point observasi\n",
        "distances = []\n",
        "for i, val in enumerate(df):\n",
        "    p1 = val\n",
        "    p2 = centerpoint\n",
        "    distance = (p1-p2).T.dot(covariance_pm1).dot(p1-p2)\n",
        "    distances.append(distance)\n",
        "distances = np.array(distances)\n",
        "\n",
        "# Nilai cutoff (threshold) dari Chi-Sqaure Distribution untuk deteksi outlier\n",
        "cutoff = chi2.ppf(0.95, df.shape[1])\n",
        "\n",
        "# Index outliers\n",
        "outlierIndexes = np.where(distances > cutoff )\n",
        "\n",
        "print('--- Index Outliers ----')\n",
        "print(outlierIndexes)\n",
        "\n",
        "print('--- Observasi terdeteksi sebagai outlier -----')\n",
        "print(df[ distances > cutoff , :])"
      ],
      "metadata": {
        "colab": {
          "base_uri": "https://localhost:8080/"
        },
        "id": "pQJiXtp3TYL2",
        "outputId": "c387a809-cab1-49d9-d8da-d1119451e94e"
      },
      "execution_count": null,
      "outputs": [
        {
          "output_type": "stream",
          "name": "stdout",
          "text": [
            "--- Index Outliers ----\n",
            "(array([  5,  35, 115, 130]),)\n",
            "--- Observasi terdeteksi sebagai outlier -----\n",
            "[[48.9 75. ]\n",
            " [43.8  5. ]\n",
            " [36.9 79.2]\n",
            " [47.   8.5]]\n"
          ]
        }
      ]
    },
    {
      "cell_type": "code",
      "source": [
        "## ellipse dimensions\n",
        "pearson = covariance[0, 1]/np.sqrt(covariance[0, 0] * covariance[1, 1])\n",
        "ell_radius_x = np.sqrt(1 + pearson)\n",
        "ell_radius_y = np.sqrt(1 - pearson)\n",
        "lambda_, v = np.linalg.eig(covariance)\n",
        "lambda_ = np.sqrt(lambda_)\n",
        "\n",
        "# Ellipse patch\n",
        "ellipse = patches.Ellipse(xy=(centerpoint[0], centerpoint[1]),\n",
        "                  width=lambda_[0]*np.sqrt(cutoff)*2, height=lambda_[1]*np.sqrt(cutoff)*2,\n",
        "                  angle=np.rad2deg(np.arccos(v[0, 0])), edgecolor='#fab1a0')\n",
        "ellipse.set_facecolor('#0984e3')\n",
        "ellipse.set_alpha(0.5)\n",
        "fig = plt.figure()\n",
        "ax = plt.subplot()\n",
        "ax.add_artist(ellipse)\n",
        "plt.scatter(df[: , 0], df[ : , 1])\n",
        "plt.show()"
      ],
      "metadata": {
        "colab": {
          "base_uri": "https://localhost:8080/",
          "height": 265
        },
        "id": "dxDCY9b9Tadc",
        "outputId": "34feb807-6bb1-4dd7-d351-0948fd6ac7ee"
      },
      "execution_count": null,
      "outputs": [
        {
          "output_type": "display_data",
          "data": {
            "text/plain": [
              "<Figure size 432x288 with 1 Axes>"
            ],
            "image/png": "[encoded data removed]"
          },
          "metadata": {
            "needs_background": "light"
          }
        }
      ]
    },
    {
      "cell_type": "markdown",
      "source": [
        "handling multivariate outlier kedua"
      ],
      "metadata": {
        "id": "5CpzodHmThVR"
      }
    },
    {
      "cell_type": "code",
      "source": [
        "remove_outlier=df[distances <= cutoff,:]"
      ],
      "metadata": {
        "id": "zDhy0evbTiD4"
      },
      "execution_count": null,
      "outputs": []
    },
    {
      "cell_type": "code",
      "source": [
        "print(\"Banyaknya data asli yang masih ada outlier: \",len(df))\n",
        "print(\"Banyaknya data setelah menghapus outlier: \",len(remove_outlier))"
      ],
      "metadata": {
        "colab": {
          "base_uri": "https://localhost:8080/"
        },
        "id": "9rfe0FxJTkrc",
        "outputId": "8a6718e8-95a1-4b92-ca10-8af9cdb4b2aa"
      },
      "execution_count": null,
      "outputs": [
        {
          "output_type": "stream",
          "name": "stdout",
          "text": [
            "Banyaknya data asli yang masih ada outlier:  193\n",
            "Banyaknya data setelah menghapus outlier:  189\n"
          ]
        }
      ]
    },
    {
      "cell_type": "code",
      "source": [
        "df = remove_outlier\n",
        "# Covariance matrix\n",
        "covariance  = np.cov(df , rowvar=False)\n",
        "\n",
        "# Covariance matrix power of -1\n",
        "covariance_pm1 = np.linalg.matrix_power(covariance, -1)\n",
        "\n",
        "# Center point\n",
        "centerpoint = np.mean(df , axis=0)"
      ],
      "metadata": {
        "id": "2xHRkujJTm7c"
      },
      "execution_count": null,
      "outputs": []
    },
    {
      "cell_type": "code",
      "source": [
        "# Jarak antara center point and masing-masing point observasi\n",
        "distances = []\n",
        "for i, val in enumerate(df):\n",
        "    p1 = val\n",
        "    p2 = centerpoint\n",
        "    distance = (p1-p2).T.dot(covariance_pm1).dot(p1-p2)\n",
        "    distances.append(distance)\n",
        "distances = np.array(distances)\n",
        "\n",
        "# Nilai cutoff (threshold) dari Chi-Sqaure Distribution untuk deteksi outlier\n",
        "cutoff = chi2.ppf(0.95, df.shape[1])\n",
        "\n",
        "# Index outliers\n",
        "outlierIndexes = np.where(distances > cutoff )\n",
        "\n",
        "print('--- Index Outliers ----')\n",
        "print(outlierIndexes)\n",
        "\n",
        "print('--- Observasi terdeteksi sebagai outlier -----')\n",
        "print(df[ distances > cutoff , :])"
      ],
      "metadata": {
        "colab": {
          "base_uri": "https://localhost:8080/"
        },
        "id": "ECn2uAfITpns",
        "outputId": "425ecfb1-3478-4a82-b3ce-d83cc7c647e6"
      },
      "execution_count": null,
      "outputs": [
        {
          "output_type": "stream",
          "name": "stdout",
          "text": [
            "--- Index Outliers ----\n",
            "(array([ 84, 182]),)\n",
            "--- Observasi terdeteksi sebagai outlier -----\n",
            "[[25.5 73.4]\n",
            " [42.   3.6]]\n"
          ]
        }
      ]
    },
    {
      "cell_type": "code",
      "source": [
        "## ellipse dimensions\n",
        "pearson = covariance[0, 1]/np.sqrt(covariance[0, 0] * covariance[1, 1])\n",
        "ell_radius_x = np.sqrt(1 + pearson)\n",
        "ell_radius_y = np.sqrt(1 - pearson)\n",
        "lambda_, v = np.linalg.eig(covariance)\n",
        "lambda_ = np.sqrt(lambda_)\n",
        "\n",
        "# Ellipse patch\n",
        "ellipse = patches.Ellipse(xy=(centerpoint[0], centerpoint[1]),\n",
        "                  width=lambda_[0]*np.sqrt(cutoff)*2, height=lambda_[1]*np.sqrt(cutoff)*2,\n",
        "                  angle=np.rad2deg(np.arccos(v[0, 0])), edgecolor='#fab1a0')\n",
        "ellipse.set_facecolor('#0984e3')\n",
        "ellipse.set_alpha(0.5)\n",
        "fig = plt.figure()\n",
        "ax = plt.subplot()\n",
        "ax.add_artist(ellipse)\n",
        "plt.scatter(df[: , 0], df[ : , 1])\n",
        "plt.show()"
      ],
      "metadata": {
        "colab": {
          "base_uri": "https://localhost:8080/",
          "height": 265
        },
        "id": "hQtUXNvbTsK_",
        "outputId": "c223d8ee-be3d-4979-bcef-f3375b3d7f0a"
      },
      "execution_count": null,
      "outputs": [
        {
          "output_type": "display_data",
          "data": {
            "text/plain": [
              "<Figure size 432x288 with 1 Axes>"
            ],
            "image/png": "[encoded data removed]"
          },
          "metadata": {
            "needs_background": "light"
          }
        }
      ]
    },
    {
      "cell_type": "markdown",
      "source": [
        "handling multivariate outlier ketiga"
      ],
      "metadata": {
        "id": "Kafybyf2T17B"
      }
    },
    {
      "cell_type": "code",
      "source": [
        "remove_outlier=df[distances <= cutoff,:]"
      ],
      "metadata": {
        "id": "NYgiuM89T2nk"
      },
      "execution_count": null,
      "outputs": []
    },
    {
      "cell_type": "code",
      "source": [
        "print(\"Banyaknya data asli yang masih ada outlier: \",len(df))\n",
        "print(\"Banyaknya data setelah menghapus outlier: \",len(remove_outlier))"
      ],
      "metadata": {
        "colab": {
          "base_uri": "https://localhost:8080/"
        },
        "id": "JICnawzxT4x-",
        "outputId": "367d65e8-ccfd-4517-f83d-ca7a2d811743"
      },
      "execution_count": null,
      "outputs": [
        {
          "output_type": "stream",
          "name": "stdout",
          "text": [
            "Banyaknya data asli yang masih ada outlier:  189\n",
            "Banyaknya data setelah menghapus outlier:  187\n"
          ]
        }
      ]
    },
    {
      "cell_type": "code",
      "source": [
        "df = remove_outlier\n",
        "# Covariance matrix\n",
        "covariance  = np.cov(df , rowvar=False)\n",
        "\n",
        "# Covariance matrix power of -1\n",
        "covariance_pm1 = np.linalg.matrix_power(covariance, -1)\n",
        "\n",
        "# Center point\n",
        "centerpoint = np.mean(df , axis=0)"
      ],
      "metadata": {
        "id": "gvp8KFYZT6kW"
      },
      "execution_count": null,
      "outputs": []
    },
    {
      "cell_type": "code",
      "source": [
        "# Jarak antara center point and masing-masing point observasi\n",
        "distances = []\n",
        "for i, val in enumerate(df):\n",
        "    p1 = val\n",
        "    p2 = centerpoint\n",
        "    distance = (p1-p2).T.dot(covariance_pm1).dot(p1-p2)\n",
        "    distances.append(distance)\n",
        "distances = np.array(distances)\n",
        "\n",
        "# Nilai cutoff (threshold) dari Chi-Sqaure Distribution untuk deteksi outlier\n",
        "cutoff = chi2.ppf(0.95, df.shape[1])\n",
        "\n",
        "# Index outliers\n",
        "outlierIndexes = np.where(distances > cutoff )\n",
        "\n",
        "print('--- Index Outliers ----')\n",
        "print(outlierIndexes)\n",
        "\n",
        "print('--- Observasi terdeteksi sebagai outlier -----')\n",
        "print(df[ distances > cutoff , :])"
      ],
      "metadata": {
        "colab": {
          "base_uri": "https://localhost:8080/"
        },
        "id": "NBCyj76WT8x1",
        "outputId": "35e4f222-15e4-49ae-868c-bf24c2c046ab"
      },
      "execution_count": null,
      "outputs": [
        {
          "output_type": "stream",
          "name": "stdout",
          "text": [
            "--- Index Outliers ----\n",
            "(array([130]),)\n",
            "--- Observasi terdeteksi sebagai outlier -----\n",
            "[[35.4 75.6]]\n"
          ]
        }
      ]
    },
    {
      "cell_type": "code",
      "source": [
        "## ellipse dimensions\n",
        "pearson = covariance[0, 1]/np.sqrt(covariance[0, 0] * covariance[1, 1])\n",
        "ell_radius_x = np.sqrt(1 + pearson)\n",
        "ell_radius_y = np.sqrt(1 - pearson)\n",
        "lambda_, v = np.linalg.eig(covariance)\n",
        "lambda_ = np.sqrt(lambda_)\n",
        "\n",
        "# Ellipse patch\n",
        "ellipse = patches.Ellipse(xy=(centerpoint[0], centerpoint[1]),\n",
        "                  width=lambda_[0]*np.sqrt(cutoff)*2, height=lambda_[1]*np.sqrt(cutoff)*2,\n",
        "                  angle=np.rad2deg(np.arccos(v[0, 0])), edgecolor='#fab1a0')\n",
        "ellipse.set_facecolor('#0984e3')\n",
        "ellipse.set_alpha(0.5)\n",
        "fig = plt.figure()\n",
        "ax = plt.subplot()\n",
        "ax.add_artist(ellipse)\n",
        "plt.scatter(df[: , 0], df[ : , 1])\n",
        "plt.show()"
      ],
      "metadata": {
        "colab": {
          "base_uri": "https://localhost:8080/",
          "height": 265
        },
        "id": "Fh1ZhydvT--1",
        "outputId": "2d73c5de-077d-483a-e56e-0e7beae2af90"
      },
      "execution_count": null,
      "outputs": [
        {
          "output_type": "display_data",
          "data": {
            "text/plain": [
              "<Figure size 432x288 with 1 Axes>"
            ],
            "image/png": "[encoded data removed]"
          },
          "metadata": {
            "needs_background": "light"
          }
        }
      ]
    },
    {
      "cell_type": "markdown",
      "metadata": {
        "id": "zMvct3USqOxp"
      },
      "source": [
        "### Case 2 gunakan data TestMatches_Dataset.csv"
      ]
    },
    {
      "cell_type": "code",
      "execution_count": null,
      "metadata": {
        "id": "wme6LSfPqOxq",
        "scrolled": true,
        "colab": {
          "base_uri": "https://localhost:8080/",
          "height": 206
        },
        "outputId": "31aad4a3-40e5-47eb-c5f9-49f859908485"
      },
      "outputs": [
        {
          "output_type": "execute_result",
          "data": {
            "text/plain": [
              "   MatchKey BattingTeam  Score  Wickets InningsResult  Overs   RPO  Lead  \\\n",
              "0         1     England    464       10           End  186.0  2.49   464   \n",
              "1         1   Australia    168       10           End   72.1  2.33  -296   \n",
              "2         1   Australia    172       10           End   57.4     3  -124   \n",
              "3         2   Australia    112       10           End   32.1  3.49   112   \n",
              "4         2     England     61       10           End   15.4  3.96   -51   \n",
              "\n",
              "   Inns Result Opposition HostCountry   StartDate  Unnamed: 13  \n",
              "0     1    won  Australia   Australia  12/13/1901          NaN  \n",
              "1     2   lost    England   Australia  12/13/1901          NaN  \n",
              "2     3   lost    England   Australia  12/13/1901          NaN  \n",
              "3     1    won    England   Australia    1/1/1902          NaN  \n",
              "4     2   lost  Australia   Australia    1/1/1902          NaN  "
            ],
            "text/html": [
              "\n",
              "  <div id=\"df-a9790b11-4c49-4509-92bf-8e5c7ec0ec2e\">\n",
              "    <div class=\"colab-df-container\">\n",
              "      <div>\n",
              "<style scoped>\n",
              "    .dataframe tbody tr th:only-of-type {\n",
              "        vertical-align: middle;\n",
              "    }\n",
              "\n",
              "    .dataframe tbody tr th {\n",
              "        vertical-align: top;\n",
              "    }\n",
              "\n",
              "    .dataframe thead th {\n",
              "        text-align: right;\n",
              "    }\n",
              "</style>\n",
              "<table border=\"1\" class=\"dataframe\">\n",
              "  <thead>\n",
              "    <tr style=\"text-align: right;\">\n",
              "      <th></th>\n",
              "      <th>MatchKey</th>\n",
              "      <th>BattingTeam</th>\n",
              "      <th>Score</th>\n",
              "      <th>Wickets</th>\n",
              "      <th>InningsResult</th>\n",
              "      <th>Overs</th>\n",
              "      <th>RPO</th>\n",
              "      <th>Lead</th>\n",
              "      <th>Inns</th>\n",
              "      <th>Result</th>\n",
              "      <th>Opposition</th>\n",
              "      <th>HostCountry</th>\n",
              "      <th>StartDate</th>\n",
              "      <th>Unnamed: 13</th>\n",
              "    </tr>\n",
              "  </thead>\n",
              "  <tbody>\n",
              "    <tr>\n",
              "      <th>0</th>\n",
              "      <td>1</td>\n",
              "      <td>England</td>\n",
              "      <td>464</td>\n",
              "      <td>10</td>\n",
              "      <td>End</td>\n",
              "      <td>186.0</td>\n",
              "      <td>2.49</td>\n",
              "      <td>464</td>\n",
              "      <td>1</td>\n",
              "      <td>won</td>\n",
              "      <td>Australia</td>\n",
              "      <td>Australia</td>\n",
              "      <td>12/13/1901</td>\n",
              "      <td>NaN</td>\n",
              "    </tr>\n",
              "    <tr>\n",
              "      <th>1</th>\n",
              "      <td>1</td>\n",
              "      <td>Australia</td>\n",
              "      <td>168</td>\n",
              "      <td>10</td>\n",
              "      <td>End</td>\n",
              "      <td>72.1</td>\n",
              "      <td>2.33</td>\n",
              "      <td>-296</td>\n",
              "      <td>2</td>\n",
              "      <td>lost</td>\n",
              "      <td>England</td>\n",
              "      <td>Australia</td>\n",
              "      <td>12/13/1901</td>\n",
              "      <td>NaN</td>\n",
              "    </tr>\n",
              "    <tr>\n",
              "      <th>2</th>\n",
              "      <td>1</td>\n",
              "      <td>Australia</td>\n",
              "      <td>172</td>\n",
              "      <td>10</td>\n",
              "      <td>End</td>\n",
              "      <td>57.4</td>\n",
              "      <td>3</td>\n",
              "      <td>-124</td>\n",
              "      <td>3</td>\n",
              "      <td>lost</td>\n",
              "      <td>England</td>\n",
              "      <td>Australia</td>\n",
              "      <td>12/13/1901</td>\n",
              "      <td>NaN</td>\n",
              "    </tr>\n",
              "    <tr>\n",
              "      <th>3</th>\n",
              "      <td>2</td>\n",
              "      <td>Australia</td>\n",
              "      <td>112</td>\n",
              "      <td>10</td>\n",
              "      <td>End</td>\n",
              "      <td>32.1</td>\n",
              "      <td>3.49</td>\n",
              "      <td>112</td>\n",
              "      <td>1</td>\n",
              "      <td>won</td>\n",
              "      <td>England</td>\n",
              "      <td>Australia</td>\n",
              "      <td>1/1/1902</td>\n",
              "      <td>NaN</td>\n",
              "    </tr>\n",
              "    <tr>\n",
              "      <th>4</th>\n",
              "      <td>2</td>\n",
              "      <td>England</td>\n",
              "      <td>61</td>\n",
              "      <td>10</td>\n",
              "      <td>End</td>\n",
              "      <td>15.4</td>\n",
              "      <td>3.96</td>\n",
              "      <td>-51</td>\n",
              "      <td>2</td>\n",
              "      <td>lost</td>\n",
              "      <td>Australia</td>\n",
              "      <td>Australia</td>\n",
              "      <td>1/1/1902</td>\n",
              "      <td>NaN</td>\n",
              "    </tr>\n",
              "  </tbody>\n",
              "</table>\n",
              "</div>\n",
              "      <button class=\"colab-df-convert\" onclick=\"convertToInteractive('df-a9790b11-4c49-4509-92bf-8e5c7ec0ec2e')\"\n",
              "              title=\"Convert this dataframe to an interactive table.\"\n",
              "              style=\"display:none;\">\n",
              "        \n",
              "  <svg xmlns=\"http://www.w3.org/2000/svg\" height=\"24px\"viewBox=\"0 0 24 24\"\n",
              "       width=\"24px\">\n",
              "    <path d=\"M0 0h24v24H0V0z\" fill=\"none\"/>\n",
              "    <path d=\"M18.56 5.44l.94 2.06.94-2.06 2.06-.94-2.06-.94-.94-2.06-.94 2.06-2.06.94zm-11 1L8.5 8.5l.94-2.06 2.06-.94-2.06-.94L8.5 2.5l-.94 2.06-2.06.94zm10 10l.94 2.06.94-2.06 2.06-.94-2.06-.94-.94-2.06-.94 2.06-2.06.94z\"/><path d=\"M17.41 7.96l-1.37-1.37c-.4-.4-.92-.59-1.43-.59-.52 0-1.04.2-1.43.59L10.3 9.45l-7.72 7.72c-.78.78-.78 2.05 0 2.83L4 21.41c.39.39.9.59 1.41.59.51 0 1.02-.2 1.41-.59l7.78-7.78 2.81-2.81c.8-.78.8-2.07 0-2.86zM5.41 20L4 18.59l7.72-7.72 1.47 1.35L5.41 20z\"/>\n",
              "  </svg>\n",
              "      </button>\n",
              "      \n",
              "  <style>\n",
              "    .colab-df-container {\n",
              "      display:flex;\n",
              "      flex-wrap:wrap;\n",
              "      gap: 12px;\n",
              "    }\n",
              "\n",
              "    .colab-df-convert {\n",
              "      background-color: #E8F0FE;\n",
              "      border: none;\n",
              "      border-radius: 50%;\n",
              "      cursor: pointer;\n",
              "      display: none;\n",
              "      fill: #1967D2;\n",
              "      height: 32px;\n",
              "      padding: 0 0 0 0;\n",
              "      width: 32px;\n",
              "    }\n",
              "\n",
              "    .colab-df-convert:hover {\n",
              "      background-color: #E2EBFA;\n",
              "      box-shadow: 0px 1px 2px rgba(60, 64, 67, 0.3), 0px 1px 3px 1px rgba(60, 64, 67, 0.15);\n",
              "      fill: #174EA6;\n",
              "    }\n",
              "\n",
              "    [theme=dark] .colab-df-convert {\n",
              "      background-color: #3B4455;\n",
              "      fill: #D2E3FC;\n",
              "    }\n",
              "\n",
              "    [theme=dark] .colab-df-convert:hover {\n",
              "      background-color: #434B5C;\n",
              "      box-shadow: 0px 1px 3px 1px rgba(0, 0, 0, 0.15);\n",
              "      filter: drop-shadow(0px 1px 2px rgba(0, 0, 0, 0.3));\n",
              "      fill: #FFFFFF;\n",
              "    }\n",
              "  </style>\n",
              "\n",
              "      <script>\n",
              "        const buttonEl =\n",
              "          document.querySelector('#df-a9790b11-4c49-4509-92bf-8e5c7ec0ec2e button.colab-df-convert');\n",
              "        buttonEl.style.display =\n",
              "          google.colab.kernel.accessAllowed ? 'block' : 'none';\n",
              "\n",
              "        async function convertToInteractive(key) {\n",
              "          const element = document.querySelector('#df-a9790b11-4c49-4509-92bf-8e5c7ec0ec2e');\n",
              "          const dataTable =\n",
              "            await google.colab.kernel.invokeFunction('convertToInteractive',\n",
              "                                                     [key], {});\n",
              "          if (!dataTable) return;\n",
              "\n",
              "          const docLinkHtml = 'Like what you see? Visit the ' +\n",
              "            '<a target=\"_blank\" href=https://colab.research.google.com/notebooks/data_table.ipynb>data table notebook</a>'\n",
              "            + ' to learn more about interactive tables.';\n",
              "          element.innerHTML = '';\n",
              "          dataTable['output_type'] = 'display_data';\n",
              "          await google.colab.output.renderOutput(dataTable, element);\n",
              "          const docLink = document.createElement('div');\n",
              "          docLink.innerHTML = docLinkHtml;\n",
              "          element.appendChild(docLink);\n",
              "        }\n",
              "      </script>\n",
              "    </div>\n",
              "  </div>\n",
              "  "
            ]
          },
          "metadata": {},
          "execution_count": 61
        }
      ],
      "source": [
        "# Load dataset\n",
        "df_data2 = pd.read_csv(path_data+'TestMatches_Dataset.csv')\n",
        "df_data2.head()"
      ]
    },
    {
      "cell_type": "code",
      "source": [
        "df_data2 = df_data2.drop(['Unnamed: 13'], axis=1)"
      ],
      "metadata": {
        "id": "3MfeNnqMR0GP"
      },
      "execution_count": null,
      "outputs": []
    },
    {
      "cell_type": "code",
      "execution_count": null,
      "metadata": {
        "id": "FDX3sERvmPNt",
        "colab": {
          "base_uri": "https://localhost:8080/"
        },
        "outputId": "3a91c16a-0b08-4ab0-c4b2-7f7d43da1a67"
      },
      "outputs": [
        {
          "output_type": "stream",
          "name": "stdout",
          "text": [
            "<class 'pandas.core.frame.DataFrame'>\n",
            "RangeIndex: 8291 entries, 0 to 8290\n",
            "Data columns (total 13 columns):\n",
            " #   Column         Non-Null Count  Dtype  \n",
            "---  ------         --------------  -----  \n",
            " 0   MatchKey       8291 non-null   int64  \n",
            " 1   BattingTeam    8291 non-null   object \n",
            " 2   Score          8291 non-null   int64  \n",
            " 3   Wickets        8291 non-null   int64  \n",
            " 4   InningsResult  8291 non-null   object \n",
            " 5   Overs          8291 non-null   float64\n",
            " 6   RPO            8291 non-null   object \n",
            " 7   Lead           8291 non-null   int64  \n",
            " 8   Inns           8291 non-null   int64  \n",
            " 9   Result         8291 non-null   object \n",
            " 10  Opposition     8291 non-null   object \n",
            " 11  HostCountry    8291 non-null   object \n",
            " 12  StartDate      8291 non-null   object \n",
            "dtypes: float64(1), int64(5), object(7)\n",
            "memory usage: 842.2+ KB\n"
          ]
        }
      ],
      "source": [
        "df_data2.info()"
      ]
    },
    {
      "cell_type": "code",
      "execution_count": null,
      "metadata": {
        "id": "et8GiQnfqOxr",
        "colab": {
          "base_uri": "https://localhost:8080/",
          "height": 300
        },
        "outputId": "89b4717c-0cff-495e-d0b8-78b63b3b610c"
      },
      "outputs": [
        {
          "output_type": "execute_result",
          "data": {
            "text/plain": [
              "          MatchKey        Score      Wickets        Overs         Lead  \\\n",
              "count  8291.000000  8291.000000  8291.000000  8291.000000  8291.000000   \n",
              "mean   1129.238451   273.767579     8.544084    94.452032   116.431673   \n",
              "std     651.011231   135.117055     2.726067    43.713040   231.131180   \n",
              "min       1.000000     0.000000     0.000000     0.000000  -702.000000   \n",
              "25%     565.000000   178.000000     8.000000    63.300000   -56.000000   \n",
              "50%    1133.000000   255.000000    10.000000    91.300000   116.000000   \n",
              "75%    1695.000000   353.000000    10.000000   123.450000   294.000000   \n",
              "max    2249.000000   952.000000    10.000000   335.200000   903.000000   \n",
              "\n",
              "              Inns  \n",
              "count  8291.000000  \n",
              "mean      2.373779  \n",
              "std       1.073233  \n",
              "min       1.000000  \n",
              "25%       1.000000  \n",
              "50%       2.000000  \n",
              "75%       3.000000  \n",
              "max       4.000000  "
            ],
            "text/html": [
              "\n",
              "  <div id=\"df-ad2957e3-c816-4c7f-a236-81308caf83cd\">\n",
              "    <div class=\"colab-df-container\">\n",
              "      <div>\n",
              "<style scoped>\n",
              "    .dataframe tbody tr th:only-of-type {\n",
              "        vertical-align: middle;\n",
              "    }\n",
              "\n",
              "    .dataframe tbody tr th {\n",
              "        vertical-align: top;\n",
              "    }\n",
              "\n",
              "    .dataframe thead th {\n",
              "        text-align: right;\n",
              "    }\n",
              "</style>\n",
              "<table border=\"1\" class=\"dataframe\">\n",
              "  <thead>\n",
              "    <tr style=\"text-align: right;\">\n",
              "      <th></th>\n",
              "      <th>MatchKey</th>\n",
              "      <th>Score</th>\n",
              "      <th>Wickets</th>\n",
              "      <th>Overs</th>\n",
              "      <th>Lead</th>\n",
              "      <th>Inns</th>\n",
              "    </tr>\n",
              "  </thead>\n",
              "  <tbody>\n",
              "    <tr>\n",
              "      <th>count</th>\n",
              "      <td>8291.000000</td>\n",
              "      <td>8291.000000</td>\n",
              "      <td>8291.000000</td>\n",
              "      <td>8291.000000</td>\n",
              "      <td>8291.000000</td>\n",
              "      <td>8291.000000</td>\n",
              "    </tr>\n",
              "    <tr>\n",
              "      <th>mean</th>\n",
              "      <td>1129.238451</td>\n",
              "      <td>273.767579</td>\n",
              "      <td>8.544084</td>\n",
              "      <td>94.452032</td>\n",
              "      <td>116.431673</td>\n",
              "      <td>2.373779</td>\n",
              "    </tr>\n",
              "    <tr>\n",
              "      <th>std</th>\n",
              "      <td>651.011231</td>\n",
              "      <td>135.117055</td>\n",
              "      <td>2.726067</td>\n",
              "      <td>43.713040</td>\n",
              "      <td>231.131180</td>\n",
              "      <td>1.073233</td>\n",
              "    </tr>\n",
              "    <tr>\n",
              "      <th>min</th>\n",
              "      <td>1.000000</td>\n",
              "      <td>0.000000</td>\n",
              "      <td>0.000000</td>\n",
              "      <td>0.000000</td>\n",
              "      <td>-702.000000</td>\n",
              "      <td>1.000000</td>\n",
              "    </tr>\n",
              "    <tr>\n",
              "      <th>25%</th>\n",
              "      <td>565.000000</td>\n",
              "      <td>178.000000</td>\n",
              "      <td>8.000000</td>\n",
              "      <td>63.300000</td>\n",
              "      <td>-56.000000</td>\n",
              "      <td>1.000000</td>\n",
              "    </tr>\n",
              "    <tr>\n",
              "      <th>50%</th>\n",
              "      <td>1133.000000</td>\n",
              "      <td>255.000000</td>\n",
              "      <td>10.000000</td>\n",
              "      <td>91.300000</td>\n",
              "      <td>116.000000</td>\n",
              "      <td>2.000000</td>\n",
              "    </tr>\n",
              "    <tr>\n",
              "      <th>75%</th>\n",
              "      <td>1695.000000</td>\n",
              "      <td>353.000000</td>\n",
              "      <td>10.000000</td>\n",
              "      <td>123.450000</td>\n",
              "      <td>294.000000</td>\n",
              "      <td>3.000000</td>\n",
              "    </tr>\n",
              "    <tr>\n",
              "      <th>max</th>\n",
              "      <td>2249.000000</td>\n",
              "      <td>952.000000</td>\n",
              "      <td>10.000000</td>\n",
              "      <td>335.200000</td>\n",
              "      <td>903.000000</td>\n",
              "      <td>4.000000</td>\n",
              "    </tr>\n",
              "  </tbody>\n",
              "</table>\n",
              "</div>\n",
              "      <button class=\"colab-df-convert\" onclick=\"convertToInteractive('df-ad2957e3-c816-4c7f-a236-81308caf83cd')\"\n",
              "              title=\"Convert this dataframe to an interactive table.\"\n",
              "              style=\"display:none;\">\n",
              "        \n",
              "  <svg xmlns=\"http://www.w3.org/2000/svg\" height=\"24px\"viewBox=\"0 0 24 24\"\n",
              "       width=\"24px\">\n",
              "    <path d=\"M0 0h24v24H0V0z\" fill=\"none\"/>\n",
              "    <path d=\"M18.56 5.44l.94 2.06.94-2.06 2.06-.94-2.06-.94-.94-2.06-.94 2.06-2.06.94zm-11 1L8.5 8.5l.94-2.06 2.06-.94-2.06-.94L8.5 2.5l-.94 2.06-2.06.94zm10 10l.94 2.06.94-2.06 2.06-.94-2.06-.94-.94-2.06-.94 2.06-2.06.94z\"/><path d=\"M17.41 7.96l-1.37-1.37c-.4-.4-.92-.59-1.43-.59-.52 0-1.04.2-1.43.59L10.3 9.45l-7.72 7.72c-.78.78-.78 2.05 0 2.83L4 21.41c.39.39.9.59 1.41.59.51 0 1.02-.2 1.41-.59l7.78-7.78 2.81-2.81c.8-.78.8-2.07 0-2.86zM5.41 20L4 18.59l7.72-7.72 1.47 1.35L5.41 20z\"/>\n",
              "  </svg>\n",
              "      </button>\n",
              "      \n",
              "  <style>\n",
              "    .colab-df-container {\n",
              "      display:flex;\n",
              "      flex-wrap:wrap;\n",
              "      gap: 12px;\n",
              "    }\n",
              "\n",
              "    .colab-df-convert {\n",
              "      background-color: #E8F0FE;\n",
              "      border: none;\n",
              "      border-radius: 50%;\n",
              "      cursor: pointer;\n",
              "      display: none;\n",
              "      fill: #1967D2;\n",
              "      height: 32px;\n",
              "      padding: 0 0 0 0;\n",
              "      width: 32px;\n",
              "    }\n",
              "\n",
              "    .colab-df-convert:hover {\n",
              "      background-color: #E2EBFA;\n",
              "      box-shadow: 0px 1px 2px rgba(60, 64, 67, 0.3), 0px 1px 3px 1px rgba(60, 64, 67, 0.15);\n",
              "      fill: #174EA6;\n",
              "    }\n",
              "\n",
              "    [theme=dark] .colab-df-convert {\n",
              "      background-color: #3B4455;\n",
              "      fill: #D2E3FC;\n",
              "    }\n",
              "\n",
              "    [theme=dark] .colab-df-convert:hover {\n",
              "      background-color: #434B5C;\n",
              "      box-shadow: 0px 1px 3px 1px rgba(0, 0, 0, 0.15);\n",
              "      filter: drop-shadow(0px 1px 2px rgba(0, 0, 0, 0.3));\n",
              "      fill: #FFFFFF;\n",
              "    }\n",
              "  </style>\n",
              "\n",
              "      <script>\n",
              "        const buttonEl =\n",
              "          document.querySelector('#df-ad2957e3-c816-4c7f-a236-81308caf83cd button.colab-df-convert');\n",
              "        buttonEl.style.display =\n",
              "          google.colab.kernel.accessAllowed ? 'block' : 'none';\n",
              "\n",
              "        async function convertToInteractive(key) {\n",
              "          const element = document.querySelector('#df-ad2957e3-c816-4c7f-a236-81308caf83cd');\n",
              "          const dataTable =\n",
              "            await google.colab.kernel.invokeFunction('convertToInteractive',\n",
              "                                                     [key], {});\n",
              "          if (!dataTable) return;\n",
              "\n",
              "          const docLinkHtml = 'Like what you see? Visit the ' +\n",
              "            '<a target=\"_blank\" href=https://colab.research.google.com/notebooks/data_table.ipynb>data table notebook</a>'\n",
              "            + ' to learn more about interactive tables.';\n",
              "          element.innerHTML = '';\n",
              "          dataTable['output_type'] = 'display_data';\n",
              "          await google.colab.output.renderOutput(dataTable, element);\n",
              "          const docLink = document.createElement('div');\n",
              "          docLink.innerHTML = docLinkHtml;\n",
              "          element.appendChild(docLink);\n",
              "        }\n",
              "      </script>\n",
              "    </div>\n",
              "  </div>\n",
              "  "
            ]
          },
          "metadata": {},
          "execution_count": 64
        }
      ],
      "source": [
        "df_data2.describe()"
      ]
    },
    {
      "cell_type": "markdown",
      "metadata": {
        "id": "FBWwy3WlqOxs"
      },
      "source": [
        "- Apakah terdeteksi outlier pada kolom Score, Overs dan Lead?"
      ]
    },
    {
      "cell_type": "markdown",
      "source": [
        "1. Score"
      ],
      "metadata": {
        "id": "31XJfOdtSGMC"
      }
    },
    {
      "cell_type": "code",
      "execution_count": null,
      "metadata": {
        "id": "kIf-oJRXqOxt",
        "colab": {
          "base_uri": "https://localhost:8080/",
          "height": 312
        },
        "outputId": "aa0af156-eeff-404b-cc01-eddf3eef46a2"
      },
      "outputs": [
        {
          "output_type": "execute_result",
          "data": {
            "text/plain": [
              "Text(0.5, 0, 'Score')"
            ]
          },
          "metadata": {},
          "execution_count": 65
        },
        {
          "output_type": "display_data",
          "data": {
            "text/plain": [
              "<Figure size 432x288 with 1 Axes>"
            ],
            "image/png": "[encoded data removed]"
          },
          "metadata": {
            "needs_background": "light"
          }
        }
      ],
      "source": [
        "# Deteksi dengan boxplot\n",
        "plt.boxplot(list(df_data2.Score), vert=False)\n",
        "plt.title(\"Detecting outliers using Boxplot\")\n",
        "plt.xlabel('Score')"
      ]
    },
    {
      "cell_type": "code",
      "source": [
        "# Deteksi dengan scatter plot\n",
        "plt.scatter(range(0,len(list(df_data2.Score))), list(df_data2.Score))\n",
        "plt.show()"
      ],
      "metadata": {
        "colab": {
          "base_uri": "https://localhost:8080/",
          "height": 265
        },
        "id": "jXg3yetISkF9",
        "outputId": "fe7a6c95-fe94-41d4-c663-69743291f4da"
      },
      "execution_count": null,
      "outputs": [
        {
          "output_type": "display_data",
          "data": {
            "text/plain": [
              "<Figure size 432x288 with 1 Axes>"
            ],
            "image/png": "[encoded data removed]"
          },
          "metadata": {
            "needs_background": "light"
          }
        }
      ]
    },
    {
      "cell_type": "code",
      "source": [
        "# Fungsi Pendeteksian Outlier dengan IQR\n",
        "def detect_outliers_iqr(data):\n",
        "    outliers = []\n",
        "    data = sorted(data)\n",
        "    q1 = np.percentile(data, 25)\n",
        "    q3 = np.percentile(data, 75)\n",
        "\n",
        "    IQR = q3-q1\n",
        "    lwr_bound = q1-(1.5*IQR)\n",
        "    upr_bound = q3+(1.5*IQR)\n",
        "\n",
        "    for i in data:\n",
        "        if (i<lwr_bound or i>upr_bound):\n",
        "            outliers.append(i)\n",
        "    return outliers\n",
        "sample_outliers = detect_outliers_iqr(df_data2.Score)\n",
        "print(\"Outliers from IQR method: \", sample_outliers)"
      ],
      "metadata": {
        "colab": {
          "base_uri": "https://localhost:8080/"
        },
        "id": "g7eC79-Bwbqf",
        "outputId": "b36a1d2e-1150-4990-8196-f767f6633fc6"
      },
      "execution_count": null,
      "outputs": [
        {
          "output_type": "stream",
          "name": "stdout",
          "text": [
            "Outliers from IQR method:  [616, 616, 616, 617, 617, 617, 619, 619, 619, 620, 620, 620, 620, 621, 621, 622, 622, 622, 624, 624, 624, 626, 627, 627, 627, 627, 628, 628, 628, 628, 629, 629, 629, 629, 630, 631, 631, 631, 631, 632, 633, 633, 636, 636, 637, 638, 641, 642, 642, 643, 643, 644, 644, 644, 644, 645, 648, 649, 649, 650, 651, 652, 652, 652, 652, 653, 653, 656, 657, 657, 658, 658, 659, 659, 659, 660, 662, 664, 671, 674, 674, 674, 675, 676, 680, 681, 682, 687, 687, 690, 692, 695, 699, 701, 705, 707, 708, 710, 713, 713, 715, 726, 729, 730, 735, 747, 749, 751, 756, 758, 759, 760, 765, 790, 903, 952]\n"
          ]
        }
      ]
    },
    {
      "cell_type": "code",
      "source": [
        "# Deteksi outlier dengan IQR\n",
        "outliers = detect_outliers_iqr(list(df_data2.Score))\n",
        "print(\"Outliers Overs from IQR method: \", outliers)\n",
        "print(\"Banyaknya outlier: \",len(outliers))"
      ],
      "metadata": {
        "id": "D_HytC6XdtaS",
        "colab": {
          "base_uri": "https://localhost:8080/"
        },
        "outputId": "7d8499d8-470f-4dff-b2b5-3d4cb518531c"
      },
      "execution_count": null,
      "outputs": [
        {
          "output_type": "stream",
          "name": "stdout",
          "text": [
            "Outliers Overs from IQR method:  [616, 616, 616, 617, 617, 617, 619, 619, 619, 620, 620, 620, 620, 621, 621, 622, 622, 622, 624, 624, 624, 626, 627, 627, 627, 627, 628, 628, 628, 628, 629, 629, 629, 629, 630, 631, 631, 631, 631, 632, 633, 633, 636, 636, 637, 638, 641, 642, 642, 643, 643, 644, 644, 644, 644, 645, 648, 649, 649, 650, 651, 652, 652, 652, 652, 653, 653, 656, 657, 657, 658, 658, 659, 659, 659, 660, 662, 664, 671, 674, 674, 674, 675, 676, 680, 681, 682, 687, 687, 690, 692, 695, 699, 701, 705, 707, 708, 710, 713, 713, 715, 726, 729, 730, 735, 747, 749, 751, 756, 758, 759, 760, 765, 790, 903, 952]\n",
            "Banyaknya outlier:  116\n"
          ]
        }
      ]
    },
    {
      "cell_type": "markdown",
      "source": [
        "Terdapat 116 nilai di atas yang dianggap sebagai outlier."
      ],
      "metadata": {
        "id": "yNhsu9N2d0gF"
      }
    },
    {
      "cell_type": "markdown",
      "source": [
        "Cara 1 : Deleting"
      ],
      "metadata": {
        "id": "l5T_Uu3fd6Ia"
      }
    },
    {
      "cell_type": "code",
      "source": [
        "# Deleting\n",
        "tr = []\n",
        "for j in list(df_data2.Score):\n",
        "    f = j in outliers\n",
        "    if f is False:\n",
        "        tr.append(j)"
      ],
      "metadata": {
        "id": "14476AzDd9ph"
      },
      "execution_count": null,
      "outputs": []
    },
    {
      "cell_type": "code",
      "source": [
        "print(\"Banyaknya data sebelum diatasi outlier: \",len(list(df_data2.Score)))\n",
        "print(\"Banyaknya data setelah diatasi outlier: \",len(tr))"
      ],
      "metadata": {
        "colab": {
          "base_uri": "https://localhost:8080/"
        },
        "id": "AOA8sNS1eCcr",
        "outputId": "288b517d-5ab7-4478-a6c9-4284f2d5d494"
      },
      "execution_count": null,
      "outputs": [
        {
          "output_type": "stream",
          "name": "stdout",
          "text": [
            "Banyaknya data sebelum diatasi outlier:  8291\n",
            "Banyaknya data setelah diatasi outlier:  8175\n"
          ]
        }
      ]
    },
    {
      "cell_type": "code",
      "source": [
        "# Boxplot setelah penghapusan data\n",
        "plt.boxplot(tr, vert=False)\n",
        "plt.title(\"Boxplot after Deleting Outlier\")\n",
        "plt.xlabel('Score')"
      ],
      "metadata": {
        "colab": {
          "base_uri": "https://localhost:8080/",
          "height": 312
        },
        "id": "5XmeHzXheGcV",
        "outputId": "eb2df9c0-eee5-46e3-a4f1-419a34190ac6"
      },
      "execution_count": null,
      "outputs": [
        {
          "output_type": "execute_result",
          "data": {
            "text/plain": [
              "Text(0.5, 0, 'Score')"
            ]
          },
          "metadata": {},
          "execution_count": 71
        },
        {
          "output_type": "display_data",
          "data": {
            "text/plain": [
              "<Figure size 432x288 with 1 Axes>"
            ],
            "image/png": "[encoded data removed]"
          },
          "metadata": {
            "needs_background": "light"
          }
        }
      ]
    },
    {
      "cell_type": "markdown",
      "source": [
        "Cara 2 : Replace dengan Median Data"
      ],
      "metadata": {
        "id": "k7J6v41me5RH"
      }
    },
    {
      "cell_type": "code",
      "source": [
        "e = []\n",
        "for y in list(df_data2.Score):\n",
        "    ff = y in outliers\n",
        "    if ff is True:\n",
        "        y=statistics.median(list(df_data2.Score))\n",
        "    else:\n",
        "        y=y\n",
        "    e.append(y)"
      ],
      "metadata": {
        "id": "PhY0v1kDe6DQ"
      },
      "execution_count": null,
      "outputs": []
    },
    {
      "cell_type": "code",
      "source": [
        "# Menghitung nilai mean dan median data\n",
        "print(\"Mean data : \",statistics.mean(list(df_data2.Score)))\n",
        "print(\"Median data : \",statistics.median(list(df_data2.Score)))\n",
        "print(\"Mean data setelah replacing median : \",statistics.mean(e))\n",
        "print(\"Median data setelah replacing median: \",statistics.median(e))"
      ],
      "metadata": {
        "colab": {
          "base_uri": "https://localhost:8080/"
        },
        "id": "_kJthDpMe_Ck",
        "outputId": "396f8485-2e95-46f9-c2df-ac8418465fc9"
      },
      "execution_count": null,
      "outputs": [
        {
          "output_type": "stream",
          "name": "stdout",
          "text": [
            "Mean data :  273.7675793028585\n",
            "Median data :  255\n",
            "Mean data setelah replacing median :  268.03147991798335\n",
            "Median data setelah replacing median:  255\n"
          ]
        }
      ]
    },
    {
      "cell_type": "code",
      "source": [
        "# Boxplot setelah replace median\n",
        "plt.boxplot(e, vert=False)\n",
        "plt.title(\"Boxplot after Handling Outlier\")\n",
        "plt.xlabel('Score')"
      ],
      "metadata": {
        "colab": {
          "base_uri": "https://localhost:8080/",
          "height": 312
        },
        "id": "cABEJoxNfDu8",
        "outputId": "de1dd7d5-75d3-4f99-a83e-e2c7cb600e51"
      },
      "execution_count": null,
      "outputs": [
        {
          "output_type": "execute_result",
          "data": {
            "text/plain": [
              "Text(0.5, 0, 'Score')"
            ]
          },
          "metadata": {},
          "execution_count": 74
        },
        {
          "output_type": "display_data",
          "data": {
            "text/plain": [
              "<Figure size 432x288 with 1 Axes>"
            ],
            "image/png": "[encoded data removed]"
          },
          "metadata": {
            "needs_background": "light"
          }
        }
      ]
    },
    {
      "cell_type": "markdown",
      "source": [
        "2. Overs"
      ],
      "metadata": {
        "id": "Vr7mksyFSLPr"
      }
    },
    {
      "cell_type": "code",
      "source": [
        "# Deteksi dengan boxplot\n",
        "plt.boxplot(list(df_data2.Overs), vert=False)\n",
        "plt.title(\"Detecting outliers using Boxplot\")\n",
        "plt.xlabel('Overs')"
      ],
      "metadata": {
        "colab": {
          "base_uri": "https://localhost:8080/",
          "height": 312
        },
        "id": "akdFAr2dSMel",
        "outputId": "edec6da3-f7d4-4344-c4d8-d9157451c9d2"
      },
      "execution_count": null,
      "outputs": [
        {
          "output_type": "execute_result",
          "data": {
            "text/plain": [
              "Text(0.5, 0, 'Overs')"
            ]
          },
          "metadata": {},
          "execution_count": 75
        },
        {
          "output_type": "display_data",
          "data": {
            "text/plain": [
              "<Figure size 432x288 with 1 Axes>"
            ],
            "image/png": "[encoded data removed]"
          },
          "metadata": {
            "needs_background": "light"
          }
        }
      ]
    },
    {
      "cell_type": "code",
      "source": [
        "# Deteksi dengan scatter plot\n",
        "plt.scatter(range(0,len(list(df_data2.Overs))), list(df_data2.Overs))\n",
        "plt.show()"
      ],
      "metadata": {
        "colab": {
          "base_uri": "https://localhost:8080/",
          "height": 268
        },
        "id": "KAgOf1sZSr-h",
        "outputId": "7ca75669-3c02-40ed-9ef5-1fd2c76a7ffa"
      },
      "execution_count": null,
      "outputs": [
        {
          "output_type": "display_data",
          "data": {
            "text/plain": [
              "<Figure size 432x288 with 1 Axes>"
            ],
            "image/png": "[encoded data removed]"
          },
          "metadata": {
            "needs_background": "light"
          }
        }
      ]
    },
    {
      "cell_type": "code",
      "source": [
        "# Fungsi Pendeteksian Outlier dengan IQR\n",
        "def detect_outliers_iqr(data):\n",
        "    outliers = []\n",
        "    data = sorted(data)\n",
        "    q1 = np.percentile(data, 25)\n",
        "    q3 = np.percentile(data, 75)\n",
        "\n",
        "    IQR = q3-q1\n",
        "    lwr_bound = q1-(1.5*IQR)\n",
        "    upr_bound = q3+(1.5*IQR)\n",
        "\n",
        "    for i in data:\n",
        "        if (i<lwr_bound or i>upr_bound):\n",
        "            outliers.append(i)\n",
        "    return outliers\n",
        "sample_outliers = detect_outliers_iqr(df_data2.Overs)\n",
        "print(\"Outliers from IQR method: \", sample_outliers)"
      ],
      "metadata": {
        "colab": {
          "base_uri": "https://localhost:8080/"
        },
        "id": "v1ptfFKaw6ih",
        "outputId": "92063459-3a35-4966-d972-69f0d9a6ca43"
      },
      "execution_count": null,
      "outputs": [
        {
          "output_type": "stream",
          "name": "stdout",
          "text": [
            "Outliers from IQR method:  [214.0, 214.0, 214.2, 215.0, 215.5, 216.2, 217.4, 218.3, 220.0, 220.3, 220.3, 220.3, 221.0, 221.2, 221.3, 224.5, 224.5, 225.2, 225.2, 225.4, 227.0, 227.3, 229.4, 230.4, 232.0, 233.5, 233.5, 235.2, 235.3, 239.4, 240.0, 241.3, 241.5, 245.2, 245.4, 248.0, 248.5, 255.5, 256.1, 268.0, 271.0, 272.1, 293.1, 319.0, 335.2]\n"
          ]
        }
      ]
    },
    {
      "cell_type": "code",
      "source": [
        "# Deteksi outlier dengan IQR\n",
        "outliers = detect_outliers_iqr(list(df_data2.Overs))\n",
        "print(\"Outliers Overs from IQR method: \", outliers)\n",
        "print(\"Banyaknya outlier: \",len(outliers))"
      ],
      "metadata": {
        "colab": {
          "base_uri": "https://localhost:8080/"
        },
        "id": "BjPo1F8negsc",
        "outputId": "d298d857-fb1d-4160-e64e-7b6720482307"
      },
      "execution_count": null,
      "outputs": [
        {
          "output_type": "stream",
          "name": "stdout",
          "text": [
            "Outliers Overs from IQR method:  [214.0, 214.0, 214.2, 215.0, 215.5, 216.2, 217.4, 218.3, 220.0, 220.3, 220.3, 220.3, 221.0, 221.2, 221.3, 224.5, 224.5, 225.2, 225.2, 225.4, 227.0, 227.3, 229.4, 230.4, 232.0, 233.5, 233.5, 235.2, 235.3, 239.4, 240.0, 241.3, 241.5, 245.2, 245.4, 248.0, 248.5, 255.5, 256.1, 268.0, 271.0, 272.1, 293.1, 319.0, 335.2]\n",
            "Banyaknya outlier:  45\n"
          ]
        }
      ]
    },
    {
      "cell_type": "markdown",
      "source": [
        "Terdapat 45 nilai di atas yang dianggap sebagai outlier."
      ],
      "metadata": {
        "id": "EeY-ZDILejeP"
      }
    },
    {
      "cell_type": "markdown",
      "source": [
        "Cara 1 : Deleting"
      ],
      "metadata": {
        "id": "XSQxjO7GfZ43"
      }
    },
    {
      "cell_type": "code",
      "source": [
        "# Deleting\n",
        "tr = []\n",
        "for j in list(df_data2.Overs):\n",
        "    f = j in outliers\n",
        "    if f is False:\n",
        "        tr.append(j)"
      ],
      "metadata": {
        "id": "CNNUvoMxfmte"
      },
      "execution_count": null,
      "outputs": []
    },
    {
      "cell_type": "code",
      "source": [
        "print(\"Banyaknya data sebelum diatasi outlier: \",len(list(df_data2.Overs)))\n",
        "print(\"Banyaknya data setelah diatasi outlier: \",len(tr))"
      ],
      "metadata": {
        "colab": {
          "base_uri": "https://localhost:8080/"
        },
        "id": "3zuJyJtafnWp",
        "outputId": "ce2204ac-a3ef-4407-b875-3177a9fa57a3"
      },
      "execution_count": null,
      "outputs": [
        {
          "output_type": "stream",
          "name": "stdout",
          "text": [
            "Banyaknya data sebelum diatasi outlier:  8291\n",
            "Banyaknya data setelah diatasi outlier:  8246\n"
          ]
        }
      ]
    },
    {
      "cell_type": "code",
      "source": [
        "# Boxplot setelah penghapusan data\n",
        "plt.boxplot(tr, vert=False)\n",
        "plt.title(\"Boxplot after Deleting Outlier\")\n",
        "plt.xlabel('Overs')"
      ],
      "metadata": {
        "colab": {
          "base_uri": "https://localhost:8080/",
          "height": 312
        },
        "id": "AB_jqxSwgHQ5",
        "outputId": "c24c4599-6ce1-4831-d6ea-bed38a86e1c9"
      },
      "execution_count": null,
      "outputs": [
        {
          "output_type": "execute_result",
          "data": {
            "text/plain": [
              "Text(0.5, 0, 'Overs')"
            ]
          },
          "metadata": {},
          "execution_count": 82
        },
        {
          "output_type": "display_data",
          "data": {
            "text/plain": [
              "<Figure size 432x288 with 1 Axes>"
            ],
            "image/png": "[encoded data removed]"
          },
          "metadata": {
            "needs_background": "light"
          }
        }
      ]
    },
    {
      "cell_type": "markdown",
      "source": [
        "Cara 2 : Replace dengan Median Data"
      ],
      "metadata": {
        "id": "0qexl9nUfbso"
      }
    },
    {
      "cell_type": "code",
      "source": [
        "e = []\n",
        "for y in list(df_data2.Overs):\n",
        "    ff = y in outliers\n",
        "    if ff is True:\n",
        "        y=statistics.median(list(df_data2.Overs))\n",
        "    else:\n",
        "        y=y\n",
        "    e.append(y)"
      ],
      "metadata": {
        "id": "X-6m4UBngRR7"
      },
      "execution_count": null,
      "outputs": []
    },
    {
      "cell_type": "code",
      "source": [
        "# Menghitung nilai mean dan median data\n",
        "print(\"Mean data : \",statistics.mean(list(df_data2.Overs)))\n",
        "print(\"Median data : \",statistics.median(list(df_data2.Overs)))\n",
        "print(\"Mean data setelah replacing median : \",statistics.mean(e))\n",
        "print(\"Median data setelah replacing median: \",statistics.median(e))"
      ],
      "metadata": {
        "colab": {
          "base_uri": "https://localhost:8080/"
        },
        "id": "qsy1OAZggRIA",
        "outputId": "fc26c232-3337-4501-d9c7-c7f2cc88d947"
      },
      "execution_count": null,
      "outputs": [
        {
          "output_type": "stream",
          "name": "stdout",
          "text": [
            "Mean data :  94.45203232420697\n",
            "Median data :  91.3\n",
            "Mean data setelah replacing median :  93.65741165118804\n",
            "Median data setelah replacing median:  91.3\n"
          ]
        }
      ]
    },
    {
      "cell_type": "code",
      "source": [
        "# Boxplot setelah replace median\n",
        "plt.boxplot(e, vert=False)\n",
        "plt.title(\"Boxplot after Handling Outlier\")\n",
        "plt.xlabel('Overs')"
      ],
      "metadata": {
        "colab": {
          "base_uri": "https://localhost:8080/",
          "height": 312
        },
        "id": "C8FOC70fgQ5b",
        "outputId": "63ef75cf-fe10-4cd4-e033-3ab27f18df07"
      },
      "execution_count": null,
      "outputs": [
        {
          "output_type": "execute_result",
          "data": {
            "text/plain": [
              "Text(0.5, 0, 'Overs')"
            ]
          },
          "metadata": {},
          "execution_count": 85
        },
        {
          "output_type": "display_data",
          "data": {
            "text/plain": [
              "<Figure size 432x288 with 1 Axes>"
            ],
            "image/png": "[encoded data removed]"
          },
          "metadata": {
            "needs_background": "light"
          }
        }
      ]
    },
    {
      "cell_type": "markdown",
      "source": [
        "3. Lead"
      ],
      "metadata": {
        "id": "Ipmacz0jZzuJ"
      }
    },
    {
      "cell_type": "code",
      "source": [
        "# Deteksi dengan boxplot\n",
        "plt.boxplot(list(df_data2.Lead), vert=False)\n",
        "plt.title(\"Detecting outliers using Boxplot\")\n",
        "plt.xlabel('Lead')"
      ],
      "metadata": {
        "colab": {
          "base_uri": "https://localhost:8080/",
          "height": 312
        },
        "id": "l53szldUZ01N",
        "outputId": "6fa4822c-9a73-482b-de9d-c2819c9bdb4f"
      },
      "execution_count": null,
      "outputs": [
        {
          "output_type": "execute_result",
          "data": {
            "text/plain": [
              "Text(0.5, 0, 'Lead')"
            ]
          },
          "metadata": {},
          "execution_count": 86
        },
        {
          "output_type": "display_data",
          "data": {
            "text/plain": [
              "<Figure size 432x288 with 1 Axes>"
            ],
            "image/png": "[encoded data removed]"
          },
          "metadata": {
            "needs_background": "light"
          }
        }
      ]
    },
    {
      "cell_type": "code",
      "source": [
        "# Deteksi dengan scatter plot\n",
        "plt.scatter(range(0,len(list(df_data2.Lead))), list(df_data2.Lead))\n",
        "plt.show()"
      ],
      "metadata": {
        "colab": {
          "base_uri": "https://localhost:8080/",
          "height": 265
        },
        "id": "zxOIdc-oZ1KT",
        "outputId": "fa506c8f-8bcd-496d-f22c-bcfc365f23ae"
      },
      "execution_count": null,
      "outputs": [
        {
          "output_type": "display_data",
          "data": {
            "text/plain": [
              "<Figure size 432x288 with 1 Axes>"
            ],
            "image/png": "[encoded data removed]"
          },
          "metadata": {
            "needs_background": "light"
          }
        }
      ]
    },
    {
      "cell_type": "code",
      "source": [
        "# Fungsi Pendeteksian Outlier dengan IQR\n",
        "def detect_outliers_iqr(data):\n",
        "    outliers = []\n",
        "    data = sorted(data)\n",
        "    q1 = np.percentile(data, 25)\n",
        "    q3 = np.percentile(data, 75)\n",
        "\n",
        "    IQR = q3-q1\n",
        "    lwr_bound = q1-(1.5*IQR)\n",
        "    upr_bound = q3+(1.5*IQR)\n",
        "\n",
        "    for i in data:\n",
        "        if (i<lwr_bound or i>upr_bound):\n",
        "            outliers.append(i)\n",
        "    return outliers\n",
        "sample_outliers = detect_outliers_iqr(df_data2.Lead)\n",
        "print(\"Outliers from IQR method: \", sample_outliers)"
      ],
      "metadata": {
        "colab": {
          "base_uri": "https://localhost:8080/"
        },
        "id": "5nWq_3kbyzDZ",
        "outputId": "124da708-cb5e-4b13-8a3e-fb296eefcce3"
      },
      "execution_count": null,
      "outputs": [
        {
          "output_type": "stream",
          "name": "stdout",
          "text": [
            "Outliers from IQR method:  [-702, -675, 903]\n"
          ]
        }
      ]
    },
    {
      "cell_type": "code",
      "source": [
        "# Deteksi outlier dengan IQR\n",
        "outliers = detect_outliers_iqr(list(df_data2.Lead))\n",
        "print(\"Outliers Overs from IQR method: \", outliers)\n",
        "print(\"Banyaknya outlier: \",len(outliers))"
      ],
      "metadata": {
        "colab": {
          "base_uri": "https://localhost:8080/"
        },
        "id": "60BzlUg1aEv_",
        "outputId": "72b6b6a6-fbf3-48e1-f961-5e772c75ec7f"
      },
      "execution_count": null,
      "outputs": [
        {
          "output_type": "stream",
          "name": "stdout",
          "text": [
            "Outliers Overs from IQR method:  [-702, -675, 903]\n",
            "Banyaknya outlier:  3\n"
          ]
        }
      ]
    },
    {
      "cell_type": "markdown",
      "source": [
        "Terdapat 3 nilai di atas yang dianggap sebagai outlier."
      ],
      "metadata": {
        "id": "vh1Ilqn5aJtz"
      }
    },
    {
      "cell_type": "markdown",
      "source": [
        "Cara 1 : Deleting"
      ],
      "metadata": {
        "id": "fCJ7G2SsbDEd"
      }
    },
    {
      "cell_type": "code",
      "source": [
        "# Deleting\n",
        "tr = []\n",
        "for j in list(df_data2.Lead):\n",
        "    f = j in outliers\n",
        "    if f is False:\n",
        "        tr.append(j)"
      ],
      "metadata": {
        "id": "bQo3ZQZCayvN"
      },
      "execution_count": null,
      "outputs": []
    },
    {
      "cell_type": "code",
      "source": [
        "print(\"Banyaknya data sebelum diatasi outlier: \",len(list(df_data2.Lead)))\n",
        "print(\"Banyaknya data setelah diatasi outlier: \",len(tr))"
      ],
      "metadata": {
        "colab": {
          "base_uri": "https://localhost:8080/"
        },
        "id": "AYA_mUc8gl4U",
        "outputId": "095f1747-a0dc-4f5d-e4d7-62e46b8ac99a"
      },
      "execution_count": null,
      "outputs": [
        {
          "output_type": "stream",
          "name": "stdout",
          "text": [
            "Banyaknya data sebelum diatasi outlier:  8291\n",
            "Banyaknya data setelah diatasi outlier:  8288\n"
          ]
        }
      ]
    },
    {
      "cell_type": "code",
      "source": [
        "# Boxplot setelah penghapusan data\n",
        "plt.boxplot(tr, vert=False)\n",
        "plt.title(\"Boxplot after Deleting Outlier\")\n",
        "plt.xlabel('Lead')"
      ],
      "metadata": {
        "colab": {
          "base_uri": "https://localhost:8080/",
          "height": 312
        },
        "id": "tdFEUcvPglur",
        "outputId": "60d86eb0-45ab-411c-9c80-cdad2e870f3b"
      },
      "execution_count": null,
      "outputs": [
        {
          "output_type": "execute_result",
          "data": {
            "text/plain": [
              "Text(0.5, 0, 'Lead')"
            ]
          },
          "metadata": {},
          "execution_count": 93
        },
        {
          "output_type": "display_data",
          "data": {
            "text/plain": [
              "<Figure size 432x288 with 1 Axes>"
            ],
            "image/png": "[encoded data removed]"
          },
          "metadata": {
            "needs_background": "light"
          }
        }
      ]
    },
    {
      "cell_type": "markdown",
      "source": [
        "Cara 2 : Replace dengan Median Data"
      ],
      "metadata": {
        "id": "ySji9HCFbFDV"
      }
    },
    {
      "cell_type": "code",
      "source": [
        "e = []\n",
        "for y in list(df_data2.Lead):\n",
        "    ff = y in outliers\n",
        "    if ff is True:\n",
        "        y=statistics.median(list(df_data2.Lead))\n",
        "    else:\n",
        "        y=y\n",
        "    e.append(y)"
      ],
      "metadata": {
        "id": "qcUGmx6jbGNB"
      },
      "execution_count": null,
      "outputs": []
    },
    {
      "cell_type": "code",
      "source": [
        "# Menghitung nilai mean dan median data\n",
        "print(\"Mean data : \",statistics.mean(list(df_data2.Lead)))\n",
        "print(\"Median data : \",statistics.median(list(df_data2.Lead)))\n",
        "print(\"Mean data setelah replacing median : \",statistics.mean(e))\n",
        "print(\"Median data setelah replacing median: \",statistics.median(e))"
      ],
      "metadata": {
        "colab": {
          "base_uri": "https://localhost:8080/"
        },
        "id": "VfrQ8Mykgmjr",
        "outputId": "0bcd8daf-73ca-489f-ed4f-9f4e3a7d3a1c"
      },
      "execution_count": null,
      "outputs": [
        {
          "output_type": "stream",
          "name": "stdout",
          "text": [
            "Mean data :  116.43167289832348\n",
            "Median data :  116\n",
            "Mean data setelah replacing median :  116.53081654806417\n",
            "Median data setelah replacing median:  116\n"
          ]
        }
      ]
    },
    {
      "cell_type": "code",
      "source": [
        "# Boxplot setelah replace median\n",
        "plt.boxplot(e, vert=False)\n",
        "plt.title(\"Boxplot after Handling Outlier\")\n",
        "plt.xlabel('Lead')"
      ],
      "metadata": {
        "colab": {
          "base_uri": "https://localhost:8080/",
          "height": 312
        },
        "id": "ocjjowbogmZx",
        "outputId": "0afed073-086d-4761-f6e0-31fb68721cc1"
      },
      "execution_count": null,
      "outputs": [
        {
          "output_type": "execute_result",
          "data": {
            "text/plain": [
              "Text(0.5, 0, 'Lead')"
            ]
          },
          "metadata": {},
          "execution_count": 96
        },
        {
          "output_type": "display_data",
          "data": {
            "text/plain": [
              "<Figure size 432x288 with 1 Axes>"
            ],
            "image/png": "[encoded data removed]"
          },
          "metadata": {
            "needs_background": "light"
          }
        }
      ]
    }
  ],
  "metadata": {
    "colab": {
      "provenance": [],
      "include_colab_link": true
    },
    "kernelspec": {
      "display_name": "Python 3 (ipykernel)",
      "language": "python",
      "name": "python3"
    },
    "language_info": {
      "codemirror_mode": {
        "name": "ipython",
        "version": 3
      },
      "file_extension": ".py",
      "mimetype": "text/x-python",
      "name": "python",
      "nbconvert_exporter": "python",
      "pygments_lexer": "ipython3",
      "version": "3.10.2"
    }
  },
  "nbformat": 4,
  "nbformat_minor": 0
}