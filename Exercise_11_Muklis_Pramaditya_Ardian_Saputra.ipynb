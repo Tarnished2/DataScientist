{
  "nbformat": 4,
  "nbformat_minor": 0,
  "metadata": {
    "kernelspec": {
      "display_name": "Python 3",
      "language": "python",
      "name": "python3"
    },
    "language_info": {
      "codemirror_mode": {
        "name": "ipython",
        "version": 3
      },
      "file_extension": ".py",
      "mimetype": "text/x-python",
      "name": "python",
      "nbconvert_exporter": "python",
      "pygments_lexer": "ipython3",
      "version": "3.8.6"
    },
    "toc-autonumbering": false,
    "colab": {
      "provenance": [],
      "include_colab_link": true
    }
  },
  "cells": [
    {
      "cell_type": "markdown",
      "metadata": {
        "id": "view-in-github",
        "colab_type": "text"
      },
      "source": [
        "<a href=\"https://colab.research.google.com/github/Tarnished2/DataScientist/blob/main/Exercise_11_Muklis_Pramaditya_Ardian_Saputra.ipynb\" target=\"_parent\"><img src=\"https://colab.research.google.com/assets/colab-badge.svg\" alt=\"Open In Colab\"/></a>"
      ]
    },
    {
      "cell_type": "markdown",
      "metadata": {
        "id": "6BWKP6LLj0c5"
      },
      "source": [
        "# Simple Linear Regression"
      ]
    },
    {
      "cell_type": "markdown",
      "metadata": {
        "id": "uOGeBJri65yd"
      },
      "source": [
        "Regresi linear sederhana berfungsi untuk mengetahui hubungan sebab akibat atau mengetahui pengaruh variabel faktor penyebab (X) terhadap variabel akibatnya (Y). "
      ]
    },
    {
      "cell_type": "markdown",
      "metadata": {
        "id": "fGiexq2_j0c_"
      },
      "source": [
        "## 1 Import Libraries and Data"
      ]
    },
    {
      "cell_type": "markdown",
      "metadata": {
        "id": "giFY7CwvZjMm"
      },
      "source": [
        "Pada studi kasus simple linear regression menggunakan data dengan variabel independen (X) yaitu Sr dan variabel dependen Aroma. Pada studi kasus kali ini, ingin diketahui sejauh mana pengaruh konsentrasi Strontium (Sr) terhadap rating Aroma?"
      ]
    },
    {
      "cell_type": "markdown",
      "metadata": {
        "id": "IHgd0BPcGe0Z"
      },
      "source": [
        "variabel independen (X) = Sr, menyatakan besarnya konsentrasi bahan Strontium (Sr).<br>\n",
        "variable dependen (y) = Aroma, rating aroma. <br>"
      ]
    },
    {
      "cell_type": "code",
      "metadata": {
        "id": "O5QPE79dvsVq",
        "colab": {
          "base_uri": "https://localhost:8080/"
        },
        "outputId": "c3c98283-c65f-48c1-eae0-fb14adc51c13"
      },
      "source": [
        "# connect colab ke g drive\n",
        "from google.colab import drive\n",
        "drive.mount('/content/gdrive/')"
      ],
      "execution_count": 1,
      "outputs": [
        {
          "output_type": "stream",
          "name": "stdout",
          "text": [
            "Mounted at /content/gdrive/\n"
          ]
        }
      ]
    },
    {
      "cell_type": "code",
      "source": [
        "# Load library/package\n",
        "import os\n",
        "import warnings\n",
        "import pandas as pd\n",
        "import numpy as np\n",
        "import seaborn as sns\n",
        "import matplotlib.pyplot as plt\n",
        "from sklearn import metrics\n",
        "from scipy.stats import shapiro\n",
        "\n",
        "# Sklearn\n",
        "from sklearn.linear_model import LinearRegression\n",
        "from sklearn.model_selection import train_test_split\n",
        "from sklearn.preprocessing import StandardScaler\n",
        "\n",
        "# Statmodels\n",
        "import statsmodels\n",
        "import statsmodels.api as sm"
      ],
      "metadata": {
        "id": "6jZbE3me1RWI"
      },
      "execution_count": 2,
      "outputs": []
    },
    {
      "cell_type": "code",
      "source": [
        "# Membuat path untuk mengidentifikasi letak directory\n",
        "# Catatan : pastikan path yang anda masukkan sesuai dengan directory data anda. \n",
        "# Kemungkinan besar path di contoh ini berbeda dengan penyimpanan data anda\n",
        "path = '/content/gdrive/MyDrive/SIB/4. Supervised Machine Learning - Regression/4.1 Linear Regression/'"
      ],
      "metadata": {
        "id": "8zapO-ZV1VZT"
      },
      "execution_count": 3,
      "outputs": []
    },
    {
      "cell_type": "code",
      "source": [
        "os.listdir(path)"
      ],
      "metadata": {
        "colab": {
          "base_uri": "https://localhost:8080/"
        },
        "id": "aZoECGyB1WSu",
        "outputId": "ceea38ff-6b7e-4f18-decd-7e842bc1fc0b"
      },
      "execution_count": 4,
      "outputs": [
        {
          "output_type": "execute_result",
          "data": {
            "text/plain": [
              "['[REV]_Meet_11_Breakout_Room_Simple_Linear_Regression.ipynb',\n",
              " 'Data wine aroma.csv',\n",
              " 'house_prices.csv',\n",
              " '[REV] Meet 11 Simple and Multiple Regression Analysis Part 1 (2).ipynb']"
            ]
          },
          "metadata": {},
          "execution_count": 4
        }
      ]
    },
    {
      "cell_type": "code",
      "source": [
        "# Load data\n",
        "wine_aroma = pd.read_csv(path+ \"Data wine aroma.csv\", usecols=[\"Sr\", \"Aroma\"])\n",
        "\n",
        "# Display 5 data teratas\n",
        "wine_aroma.head()"
      ],
      "metadata": {
        "colab": {
          "base_uri": "https://localhost:8080/",
          "height": 206
        },
        "id": "kFdckD7T1Ysa",
        "outputId": "ecbcd0e9-08bb-4aed-a4ea-4694b7d9a739"
      },
      "execution_count": 5,
      "outputs": [
        {
          "output_type": "execute_result",
          "data": {
            "text/plain": [
              "      Sr  Aroma\n",
              "0  1.230    3.3\n",
              "1  1.050    4.6\n",
              "2  1.140    3.9\n",
              "3  0.156    7.1\n",
              "4  1.130    5.6"
            ],
            "text/html": [
              "\n",
              "  <div id=\"df-32807582-d44d-4619-ba94-6c45c8fe44d6\">\n",
              "    <div class=\"colab-df-container\">\n",
              "      <div>\n",
              "<style scoped>\n",
              "    .dataframe tbody tr th:only-of-type {\n",
              "        vertical-align: middle;\n",
              "    }\n",
              "\n",
              "    .dataframe tbody tr th {\n",
              "        vertical-align: top;\n",
              "    }\n",
              "\n",
              "    .dataframe thead th {\n",
              "        text-align: right;\n",
              "    }\n",
              "</style>\n",
              "<table border=\"1\" class=\"dataframe\">\n",
              "  <thead>\n",
              "    <tr style=\"text-align: right;\">\n",
              "      <th></th>\n",
              "      <th>Sr</th>\n",
              "      <th>Aroma</th>\n",
              "    </tr>\n",
              "  </thead>\n",
              "  <tbody>\n",
              "    <tr>\n",
              "      <th>0</th>\n",
              "      <td>1.230</td>\n",
              "      <td>3.3</td>\n",
              "    </tr>\n",
              "    <tr>\n",
              "      <th>1</th>\n",
              "      <td>1.050</td>\n",
              "      <td>4.6</td>\n",
              "    </tr>\n",
              "    <tr>\n",
              "      <th>2</th>\n",
              "      <td>1.140</td>\n",
              "      <td>3.9</td>\n",
              "    </tr>\n",
              "    <tr>\n",
              "      <th>3</th>\n",
              "      <td>0.156</td>\n",
              "      <td>7.1</td>\n",
              "    </tr>\n",
              "    <tr>\n",
              "      <th>4</th>\n",
              "      <td>1.130</td>\n",
              "      <td>5.6</td>\n",
              "    </tr>\n",
              "  </tbody>\n",
              "</table>\n",
              "</div>\n",
              "      <button class=\"colab-df-convert\" onclick=\"convertToInteractive('df-32807582-d44d-4619-ba94-6c45c8fe44d6')\"\n",
              "              title=\"Convert this dataframe to an interactive table.\"\n",
              "              style=\"display:none;\">\n",
              "        \n",
              "  <svg xmlns=\"http://www.w3.org/2000/svg\" height=\"24px\"viewBox=\"0 0 24 24\"\n",
              "       width=\"24px\">\n",
              "    <path d=\"M0 0h24v24H0V0z\" fill=\"none\"/>\n",
              "    <path d=\"M18.56 5.44l.94 2.06.94-2.06 2.06-.94-2.06-.94-.94-2.06-.94 2.06-2.06.94zm-11 1L8.5 8.5l.94-2.06 2.06-.94-2.06-.94L8.5 2.5l-.94 2.06-2.06.94zm10 10l.94 2.06.94-2.06 2.06-.94-2.06-.94-.94-2.06-.94 2.06-2.06.94z\"/><path d=\"M17.41 7.96l-1.37-1.37c-.4-.4-.92-.59-1.43-.59-.52 0-1.04.2-1.43.59L10.3 9.45l-7.72 7.72c-.78.78-.78 2.05 0 2.83L4 21.41c.39.39.9.59 1.41.59.51 0 1.02-.2 1.41-.59l7.78-7.78 2.81-2.81c.8-.78.8-2.07 0-2.86zM5.41 20L4 18.59l7.72-7.72 1.47 1.35L5.41 20z\"/>\n",
              "  </svg>\n",
              "      </button>\n",
              "      \n",
              "  <style>\n",
              "    .colab-df-container {\n",
              "      display:flex;\n",
              "      flex-wrap:wrap;\n",
              "      gap: 12px;\n",
              "    }\n",
              "\n",
              "    .colab-df-convert {\n",
              "      background-color: #E8F0FE;\n",
              "      border: none;\n",
              "      border-radius: 50%;\n",
              "      cursor: pointer;\n",
              "      display: none;\n",
              "      fill: #1967D2;\n",
              "      height: 32px;\n",
              "      padding: 0 0 0 0;\n",
              "      width: 32px;\n",
              "    }\n",
              "\n",
              "    .colab-df-convert:hover {\n",
              "      background-color: #E2EBFA;\n",
              "      box-shadow: 0px 1px 2px rgba(60, 64, 67, 0.3), 0px 1px 3px 1px rgba(60, 64, 67, 0.15);\n",
              "      fill: #174EA6;\n",
              "    }\n",
              "\n",
              "    [theme=dark] .colab-df-convert {\n",
              "      background-color: #3B4455;\n",
              "      fill: #D2E3FC;\n",
              "    }\n",
              "\n",
              "    [theme=dark] .colab-df-convert:hover {\n",
              "      background-color: #434B5C;\n",
              "      box-shadow: 0px 1px 3px 1px rgba(0, 0, 0, 0.15);\n",
              "      filter: drop-shadow(0px 1px 2px rgba(0, 0, 0, 0.3));\n",
              "      fill: #FFFFFF;\n",
              "    }\n",
              "  </style>\n",
              "\n",
              "      <script>\n",
              "        const buttonEl =\n",
              "          document.querySelector('#df-32807582-d44d-4619-ba94-6c45c8fe44d6 button.colab-df-convert');\n",
              "        buttonEl.style.display =\n",
              "          google.colab.kernel.accessAllowed ? 'block' : 'none';\n",
              "\n",
              "        async function convertToInteractive(key) {\n",
              "          const element = document.querySelector('#df-32807582-d44d-4619-ba94-6c45c8fe44d6');\n",
              "          const dataTable =\n",
              "            await google.colab.kernel.invokeFunction('convertToInteractive',\n",
              "                                                     [key], {});\n",
              "          if (!dataTable) return;\n",
              "\n",
              "          const docLinkHtml = 'Like what you see? Visit the ' +\n",
              "            '<a target=\"_blank\" href=https://colab.research.google.com/notebooks/data_table.ipynb>data table notebook</a>'\n",
              "            + ' to learn more about interactive tables.';\n",
              "          element.innerHTML = '';\n",
              "          dataTable['output_type'] = 'display_data';\n",
              "          await google.colab.output.renderOutput(dataTable, element);\n",
              "          const docLink = document.createElement('div');\n",
              "          docLink.innerHTML = docLinkHtml;\n",
              "          element.appendChild(docLink);\n",
              "        }\n",
              "      </script>\n",
              "    </div>\n",
              "  </div>\n",
              "  "
            ]
          },
          "metadata": {},
          "execution_count": 5
        }
      ]
    },
    {
      "cell_type": "markdown",
      "metadata": {
        "id": "SxF8sJ_7j0dB"
      },
      "source": [
        "## 2 Exploratory Data Analysis (EDA) & Data Pre-Processing"
      ]
    },
    {
      "cell_type": "markdown",
      "metadata": {
        "id": "8swrQbQvLsXH"
      },
      "source": [
        "### Summary Data"
      ]
    },
    {
      "cell_type": "code",
      "metadata": {
        "id": "155mTrOovxJR",
        "colab": {
          "base_uri": "https://localhost:8080/"
        },
        "outputId": "1d1fcef8-4f9c-4309-8651-c8e7605ed18c"
      },
      "source": [
        "# mendapatkan informasi data\n",
        "wine_aroma.info()"
      ],
      "execution_count": 6,
      "outputs": [
        {
          "output_type": "stream",
          "name": "stdout",
          "text": [
            "<class 'pandas.core.frame.DataFrame'>\n",
            "RangeIndex: 41 entries, 0 to 40\n",
            "Data columns (total 2 columns):\n",
            " #   Column  Non-Null Count  Dtype  \n",
            "---  ------  --------------  -----  \n",
            " 0   Sr      41 non-null     float64\n",
            " 1   Aroma   41 non-null     float64\n",
            "dtypes: float64(2)\n",
            "memory usage: 784.0 bytes\n"
          ]
        }
      ]
    },
    {
      "cell_type": "code",
      "source": [
        "# melakukan analisis deskriptif\n",
        "wine_aroma.describe()"
      ],
      "metadata": {
        "colab": {
          "base_uri": "https://localhost:8080/",
          "height": 300
        },
        "id": "v-yHMKK02hjU",
        "outputId": "cf7ec06b-ae81-4672-95b5-644fb5e9cbfb"
      },
      "execution_count": 7,
      "outputs": [
        {
          "output_type": "execute_result",
          "data": {
            "text/plain": [
              "              Sr      Aroma\n",
              "count  41.000000  41.000000\n",
              "mean    0.800512   4.924390\n",
              "std     0.445945   1.023177\n",
              "min     0.156000   3.300000\n",
              "25%     0.360000   4.300000\n",
              "50%     0.898000   5.000000\n",
              "75%     1.120000   5.500000\n",
              "max     2.140000   7.700000"
            ],
            "text/html": [
              "\n",
              "  <div id=\"df-0c56d3c9-c057-4f63-8ba9-4a1191a6eb4a\">\n",
              "    <div class=\"colab-df-container\">\n",
              "      <div>\n",
              "<style scoped>\n",
              "    .dataframe tbody tr th:only-of-type {\n",
              "        vertical-align: middle;\n",
              "    }\n",
              "\n",
              "    .dataframe tbody tr th {\n",
              "        vertical-align: top;\n",
              "    }\n",
              "\n",
              "    .dataframe thead th {\n",
              "        text-align: right;\n",
              "    }\n",
              "</style>\n",
              "<table border=\"1\" class=\"dataframe\">\n",
              "  <thead>\n",
              "    <tr style=\"text-align: right;\">\n",
              "      <th></th>\n",
              "      <th>Sr</th>\n",
              "      <th>Aroma</th>\n",
              "    </tr>\n",
              "  </thead>\n",
              "  <tbody>\n",
              "    <tr>\n",
              "      <th>count</th>\n",
              "      <td>41.000000</td>\n",
              "      <td>41.000000</td>\n",
              "    </tr>\n",
              "    <tr>\n",
              "      <th>mean</th>\n",
              "      <td>0.800512</td>\n",
              "      <td>4.924390</td>\n",
              "    </tr>\n",
              "    <tr>\n",
              "      <th>std</th>\n",
              "      <td>0.445945</td>\n",
              "      <td>1.023177</td>\n",
              "    </tr>\n",
              "    <tr>\n",
              "      <th>min</th>\n",
              "      <td>0.156000</td>\n",
              "      <td>3.300000</td>\n",
              "    </tr>\n",
              "    <tr>\n",
              "      <th>25%</th>\n",
              "      <td>0.360000</td>\n",
              "      <td>4.300000</td>\n",
              "    </tr>\n",
              "    <tr>\n",
              "      <th>50%</th>\n",
              "      <td>0.898000</td>\n",
              "      <td>5.000000</td>\n",
              "    </tr>\n",
              "    <tr>\n",
              "      <th>75%</th>\n",
              "      <td>1.120000</td>\n",
              "      <td>5.500000</td>\n",
              "    </tr>\n",
              "    <tr>\n",
              "      <th>max</th>\n",
              "      <td>2.140000</td>\n",
              "      <td>7.700000</td>\n",
              "    </tr>\n",
              "  </tbody>\n",
              "</table>\n",
              "</div>\n",
              "      <button class=\"colab-df-convert\" onclick=\"convertToInteractive('df-0c56d3c9-c057-4f63-8ba9-4a1191a6eb4a')\"\n",
              "              title=\"Convert this dataframe to an interactive table.\"\n",
              "              style=\"display:none;\">\n",
              "        \n",
              "  <svg xmlns=\"http://www.w3.org/2000/svg\" height=\"24px\"viewBox=\"0 0 24 24\"\n",
              "       width=\"24px\">\n",
              "    <path d=\"M0 0h24v24H0V0z\" fill=\"none\"/>\n",
              "    <path d=\"M18.56 5.44l.94 2.06.94-2.06 2.06-.94-2.06-.94-.94-2.06-.94 2.06-2.06.94zm-11 1L8.5 8.5l.94-2.06 2.06-.94-2.06-.94L8.5 2.5l-.94 2.06-2.06.94zm10 10l.94 2.06.94-2.06 2.06-.94-2.06-.94-.94-2.06-.94 2.06-2.06.94z\"/><path d=\"M17.41 7.96l-1.37-1.37c-.4-.4-.92-.59-1.43-.59-.52 0-1.04.2-1.43.59L10.3 9.45l-7.72 7.72c-.78.78-.78 2.05 0 2.83L4 21.41c.39.39.9.59 1.41.59.51 0 1.02-.2 1.41-.59l7.78-7.78 2.81-2.81c.8-.78.8-2.07 0-2.86zM5.41 20L4 18.59l7.72-7.72 1.47 1.35L5.41 20z\"/>\n",
              "  </svg>\n",
              "      </button>\n",
              "      \n",
              "  <style>\n",
              "    .colab-df-container {\n",
              "      display:flex;\n",
              "      flex-wrap:wrap;\n",
              "      gap: 12px;\n",
              "    }\n",
              "\n",
              "    .colab-df-convert {\n",
              "      background-color: #E8F0FE;\n",
              "      border: none;\n",
              "      border-radius: 50%;\n",
              "      cursor: pointer;\n",
              "      display: none;\n",
              "      fill: #1967D2;\n",
              "      height: 32px;\n",
              "      padding: 0 0 0 0;\n",
              "      width: 32px;\n",
              "    }\n",
              "\n",
              "    .colab-df-convert:hover {\n",
              "      background-color: #E2EBFA;\n",
              "      box-shadow: 0px 1px 2px rgba(60, 64, 67, 0.3), 0px 1px 3px 1px rgba(60, 64, 67, 0.15);\n",
              "      fill: #174EA6;\n",
              "    }\n",
              "\n",
              "    [theme=dark] .colab-df-convert {\n",
              "      background-color: #3B4455;\n",
              "      fill: #D2E3FC;\n",
              "    }\n",
              "\n",
              "    [theme=dark] .colab-df-convert:hover {\n",
              "      background-color: #434B5C;\n",
              "      box-shadow: 0px 1px 3px 1px rgba(0, 0, 0, 0.15);\n",
              "      filter: drop-shadow(0px 1px 2px rgba(0, 0, 0, 0.3));\n",
              "      fill: #FFFFFF;\n",
              "    }\n",
              "  </style>\n",
              "\n",
              "      <script>\n",
              "        const buttonEl =\n",
              "          document.querySelector('#df-0c56d3c9-c057-4f63-8ba9-4a1191a6eb4a button.colab-df-convert');\n",
              "        buttonEl.style.display =\n",
              "          google.colab.kernel.accessAllowed ? 'block' : 'none';\n",
              "\n",
              "        async function convertToInteractive(key) {\n",
              "          const element = document.querySelector('#df-0c56d3c9-c057-4f63-8ba9-4a1191a6eb4a');\n",
              "          const dataTable =\n",
              "            await google.colab.kernel.invokeFunction('convertToInteractive',\n",
              "                                                     [key], {});\n",
              "          if (!dataTable) return;\n",
              "\n",
              "          const docLinkHtml = 'Like what you see? Visit the ' +\n",
              "            '<a target=\"_blank\" href=https://colab.research.google.com/notebooks/data_table.ipynb>data table notebook</a>'\n",
              "            + ' to learn more about interactive tables.';\n",
              "          element.innerHTML = '';\n",
              "          dataTable['output_type'] = 'display_data';\n",
              "          await google.colab.output.renderOutput(dataTable, element);\n",
              "          const docLink = document.createElement('div');\n",
              "          docLink.innerHTML = docLinkHtml;\n",
              "          element.appendChild(docLink);\n",
              "        }\n",
              "      </script>\n",
              "    </div>\n",
              "  </div>\n",
              "  "
            ]
          },
          "metadata": {},
          "execution_count": 7
        }
      ]
    },
    {
      "cell_type": "markdown",
      "metadata": {
        "id": "6vCAySKqj0dH"
      },
      "source": [
        "### Missing Value"
      ]
    },
    {
      "cell_type": "markdown",
      "metadata": {
        "id": "wOEdZpKUrHqF"
      },
      "source": [
        "Missing value adalah data yang hilang, atau nilai yang hilang, terjadi ketika tidak ada nilai data yang disimpan untuk variabel dalam pengamatan. Kita ingin melakukan identifikasi, apakah terdapat data yang missing atau tidak dalam observasi pengamatan."
      ]
    },
    {
      "cell_type": "code",
      "metadata": {
        "id": "oiBe5-p5v5G5",
        "colab": {
          "base_uri": "https://localhost:8080/"
        },
        "outputId": "2e3bb1b9-444b-4cce-d9fb-75b5473970c9"
      },
      "source": [
        "# Cek missing value\n",
        "wine_aroma.isna().sum()"
      ],
      "execution_count": 8,
      "outputs": [
        {
          "output_type": "execute_result",
          "data": {
            "text/plain": [
              "Sr       0\n",
              "Aroma    0\n",
              "dtype: int64"
            ]
          },
          "metadata": {},
          "execution_count": 8
        }
      ]
    },
    {
      "cell_type": "markdown",
      "source": [
        "dari hasil output diatas, tidak ada data yang hilang"
      ],
      "metadata": {
        "id": "581PIEyDg2Ut"
      }
    },
    {
      "cell_type": "markdown",
      "metadata": {
        "id": "A6fe2E1rJ03W"
      },
      "source": [
        "### Duplicated Data"
      ]
    },
    {
      "cell_type": "markdown",
      "metadata": {
        "id": "5Dv5OFVMr59k"
      },
      "source": [
        "Melakukan identifikasi, apakah terdapat data/observasi yang sama atau tidak, apabila ada data yang terduplikasi maka data duplikasi harus dihapus."
      ]
    },
    {
      "cell_type": "code",
      "metadata": {
        "id": "qL-8at2Uv9Mx",
        "colab": {
          "base_uri": "https://localhost:8080/",
          "height": 237
        },
        "outputId": "db362303-31db-4949-c2f1-9d0da8a2c923"
      },
      "source": [
        "# Cek duplicate\n",
        "duplicate = wine_aroma[wine_aroma.duplicated(keep=False)]\n",
        "duplicate"
      ],
      "execution_count": 9,
      "outputs": [
        {
          "output_type": "execute_result",
          "data": {
            "text/plain": [
              "       Sr  Aroma\n",
              "8   0.186    5.5\n",
              "10  0.491    5.1\n",
              "20  0.186    5.5\n",
              "21  0.720    5.1\n",
              "33  0.720    5.1\n",
              "37  0.491    5.1"
            ],
            "text/html": [
              "\n",
              "  <div id=\"df-6d161bd5-943a-41bf-9c86-b3a27cac4222\">\n",
              "    <div class=\"colab-df-container\">\n",
              "      <div>\n",
              "<style scoped>\n",
              "    .dataframe tbody tr th:only-of-type {\n",
              "        vertical-align: middle;\n",
              "    }\n",
              "\n",
              "    .dataframe tbody tr th {\n",
              "        vertical-align: top;\n",
              "    }\n",
              "\n",
              "    .dataframe thead th {\n",
              "        text-align: right;\n",
              "    }\n",
              "</style>\n",
              "<table border=\"1\" class=\"dataframe\">\n",
              "  <thead>\n",
              "    <tr style=\"text-align: right;\">\n",
              "      <th></th>\n",
              "      <th>Sr</th>\n",
              "      <th>Aroma</th>\n",
              "    </tr>\n",
              "  </thead>\n",
              "  <tbody>\n",
              "    <tr>\n",
              "      <th>8</th>\n",
              "      <td>0.186</td>\n",
              "      <td>5.5</td>\n",
              "    </tr>\n",
              "    <tr>\n",
              "      <th>10</th>\n",
              "      <td>0.491</td>\n",
              "      <td>5.1</td>\n",
              "    </tr>\n",
              "    <tr>\n",
              "      <th>20</th>\n",
              "      <td>0.186</td>\n",
              "      <td>5.5</td>\n",
              "    </tr>\n",
              "    <tr>\n",
              "      <th>21</th>\n",
              "      <td>0.720</td>\n",
              "      <td>5.1</td>\n",
              "    </tr>\n",
              "    <tr>\n",
              "      <th>33</th>\n",
              "      <td>0.720</td>\n",
              "      <td>5.1</td>\n",
              "    </tr>\n",
              "    <tr>\n",
              "      <th>37</th>\n",
              "      <td>0.491</td>\n",
              "      <td>5.1</td>\n",
              "    </tr>\n",
              "  </tbody>\n",
              "</table>\n",
              "</div>\n",
              "      <button class=\"colab-df-convert\" onclick=\"convertToInteractive('df-6d161bd5-943a-41bf-9c86-b3a27cac4222')\"\n",
              "              title=\"Convert this dataframe to an interactive table.\"\n",
              "              style=\"display:none;\">\n",
              "        \n",
              "  <svg xmlns=\"http://www.w3.org/2000/svg\" height=\"24px\"viewBox=\"0 0 24 24\"\n",
              "       width=\"24px\">\n",
              "    <path d=\"M0 0h24v24H0V0z\" fill=\"none\"/>\n",
              "    <path d=\"M18.56 5.44l.94 2.06.94-2.06 2.06-.94-2.06-.94-.94-2.06-.94 2.06-2.06.94zm-11 1L8.5 8.5l.94-2.06 2.06-.94-2.06-.94L8.5 2.5l-.94 2.06-2.06.94zm10 10l.94 2.06.94-2.06 2.06-.94-2.06-.94-.94-2.06-.94 2.06-2.06.94z\"/><path d=\"M17.41 7.96l-1.37-1.37c-.4-.4-.92-.59-1.43-.59-.52 0-1.04.2-1.43.59L10.3 9.45l-7.72 7.72c-.78.78-.78 2.05 0 2.83L4 21.41c.39.39.9.59 1.41.59.51 0 1.02-.2 1.41-.59l7.78-7.78 2.81-2.81c.8-.78.8-2.07 0-2.86zM5.41 20L4 18.59l7.72-7.72 1.47 1.35L5.41 20z\"/>\n",
              "  </svg>\n",
              "      </button>\n",
              "      \n",
              "  <style>\n",
              "    .colab-df-container {\n",
              "      display:flex;\n",
              "      flex-wrap:wrap;\n",
              "      gap: 12px;\n",
              "    }\n",
              "\n",
              "    .colab-df-convert {\n",
              "      background-color: #E8F0FE;\n",
              "      border: none;\n",
              "      border-radius: 50%;\n",
              "      cursor: pointer;\n",
              "      display: none;\n",
              "      fill: #1967D2;\n",
              "      height: 32px;\n",
              "      padding: 0 0 0 0;\n",
              "      width: 32px;\n",
              "    }\n",
              "\n",
              "    .colab-df-convert:hover {\n",
              "      background-color: #E2EBFA;\n",
              "      box-shadow: 0px 1px 2px rgba(60, 64, 67, 0.3), 0px 1px 3px 1px rgba(60, 64, 67, 0.15);\n",
              "      fill: #174EA6;\n",
              "    }\n",
              "\n",
              "    [theme=dark] .colab-df-convert {\n",
              "      background-color: #3B4455;\n",
              "      fill: #D2E3FC;\n",
              "    }\n",
              "\n",
              "    [theme=dark] .colab-df-convert:hover {\n",
              "      background-color: #434B5C;\n",
              "      box-shadow: 0px 1px 3px 1px rgba(0, 0, 0, 0.15);\n",
              "      filter: drop-shadow(0px 1px 2px rgba(0, 0, 0, 0.3));\n",
              "      fill: #FFFFFF;\n",
              "    }\n",
              "  </style>\n",
              "\n",
              "      <script>\n",
              "        const buttonEl =\n",
              "          document.querySelector('#df-6d161bd5-943a-41bf-9c86-b3a27cac4222 button.colab-df-convert');\n",
              "        buttonEl.style.display =\n",
              "          google.colab.kernel.accessAllowed ? 'block' : 'none';\n",
              "\n",
              "        async function convertToInteractive(key) {\n",
              "          const element = document.querySelector('#df-6d161bd5-943a-41bf-9c86-b3a27cac4222');\n",
              "          const dataTable =\n",
              "            await google.colab.kernel.invokeFunction('convertToInteractive',\n",
              "                                                     [key], {});\n",
              "          if (!dataTable) return;\n",
              "\n",
              "          const docLinkHtml = 'Like what you see? Visit the ' +\n",
              "            '<a target=\"_blank\" href=https://colab.research.google.com/notebooks/data_table.ipynb>data table notebook</a>'\n",
              "            + ' to learn more about interactive tables.';\n",
              "          element.innerHTML = '';\n",
              "          dataTable['output_type'] = 'display_data';\n",
              "          await google.colab.output.renderOutput(dataTable, element);\n",
              "          const docLink = document.createElement('div');\n",
              "          docLink.innerHTML = docLinkHtml;\n",
              "          element.appendChild(docLink);\n",
              "        }\n",
              "      </script>\n",
              "    </div>\n",
              "  </div>\n",
              "  "
            ]
          },
          "metadata": {},
          "execution_count": 9
        }
      ]
    },
    {
      "cell_type": "code",
      "source": [
        "# drop duplicate\n",
        "wine_aroma.drop_duplicates(inplace=True)"
      ],
      "metadata": {
        "id": "cIqiOSPC28HF"
      },
      "execution_count": 10,
      "outputs": []
    },
    {
      "cell_type": "code",
      "source": [
        "# Cek ukuran data apakah duplicate sudah terhapus\n",
        "wine_aroma.shape"
      ],
      "metadata": {
        "colab": {
          "base_uri": "https://localhost:8080/"
        },
        "id": "ysUdKeP43BN8",
        "outputId": "8be1394f-9377-47b1-e483-8faab73ae416"
      },
      "execution_count": 11,
      "outputs": [
        {
          "output_type": "execute_result",
          "data": {
            "text/plain": [
              "(38, 2)"
            ]
          },
          "metadata": {},
          "execution_count": 11
        }
      ]
    },
    {
      "cell_type": "markdown",
      "source": [
        "setelah dilakukan penghapusan data duplikat, dari 40 data menjadi 38 data"
      ],
      "metadata": {
        "id": "pMYlCsX-g-65"
      }
    },
    {
      "cell_type": "markdown",
      "metadata": {
        "id": "s6YUKInSj0dI"
      },
      "source": [
        "### Adjusting the type of variable"
      ]
    },
    {
      "cell_type": "code",
      "metadata": {
        "id": "e10Vdsz9wA61",
        "colab": {
          "base_uri": "https://localhost:8080/"
        },
        "outputId": "862c4b62-3da5-452b-aedb-cb2859869f15"
      },
      "source": [
        "wine_aroma.info()"
      ],
      "execution_count": 12,
      "outputs": [
        {
          "output_type": "stream",
          "name": "stdout",
          "text": [
            "<class 'pandas.core.frame.DataFrame'>\n",
            "Int64Index: 38 entries, 0 to 40\n",
            "Data columns (total 2 columns):\n",
            " #   Column  Non-Null Count  Dtype  \n",
            "---  ------  --------------  -----  \n",
            " 0   Sr      38 non-null     float64\n",
            " 1   Aroma   38 non-null     float64\n",
            "dtypes: float64(2)\n",
            "memory usage: 912.0 bytes\n"
          ]
        }
      ]
    },
    {
      "cell_type": "markdown",
      "source": [
        "tipe data kedua variabel sudah sesuai"
      ],
      "metadata": {
        "id": "7pP4-gwBhF5Q"
      }
    },
    {
      "cell_type": "markdown",
      "metadata": {
        "id": "BfY7JT1kPCG5"
      },
      "source": [
        "### Uji Asumsi sebelum Pemodelan Regresi Linier Sederhana"
      ]
    },
    {
      "cell_type": "markdown",
      "metadata": {
        "id": "cVuc2BHMTAv2"
      },
      "source": [
        "Asumsi yang perlu dipenuhi sebelum dilakukannya pemodelan regresi linier sederhana yaitu data berdistribusi normal (normalitas data) dan hubungan linier antara variabel prediktor (independen) dan variabel respon (dependen), karena variabel prediktornya ada 1 variabel maka tidak perlu uji asumsi gejala multikolinieritas.\n",
        "\n",
        "Uji Normalitas adalah uji statistik yang dilakukan untuk mengetahui bagaimana sebaran sebuah data. Uji Normalitas data perlu dilakukan juga untuk mengetahui keberadaan ourlier (data pencilan) dan normalitas data variabel respon (dependen) agar bisa diatasi."
      ]
    },
    {
      "cell_type": "markdown",
      "metadata": {
        "id": "vNbMJ4Hhq_Rh"
      },
      "source": [
        "#### Uji Nomalitas Data"
      ]
    },
    {
      "cell_type": "code",
      "metadata": {
        "id": "ryi_lks4wP2i",
        "colab": {
          "base_uri": "https://localhost:8080/",
          "height": 309
        },
        "outputId": "c9373d45-2abc-44b9-f4c3-0b5d13336b88"
      },
      "source": [
        "# Cek normalitas data dengan histogram\n",
        "warnings.filterwarnings('ignore')\n",
        "\n",
        "plt.figure(figsize=(15,10))\n",
        "plt.subplot(222)\n",
        "sns.distplot(wine_aroma[\"Aroma\"])\n",
        "\n",
        "plt.show()"
      ],
      "execution_count": 13,
      "outputs": [
        {
          "output_type": "display_data",
          "data": {
            "text/plain": [
              "<Figure size 1080x720 with 1 Axes>"
            ],
            "image/png": "[encoded data removed]"
          },
          "metadata": {
            "needs_background": "light"
          }
        }
      ]
    },
    {
      "cell_type": "code",
      "source": [
        "# Cek normalitas data dengan boxplot\n",
        "plt.figure(figsize=(15,10))\n",
        "plt.subplot(222)\n",
        "sns.boxplot(wine_aroma[\"Aroma\"])\n",
        "plt.show()"
      ],
      "metadata": {
        "colab": {
          "base_uri": "https://localhost:8080/",
          "height": 295
        },
        "id": "13kOxoXY5qGG",
        "outputId": "07e24409-d7af-4fa5-a32a-cdd7f7eaca6b"
      },
      "execution_count": 14,
      "outputs": [
        {
          "output_type": "display_data",
          "data": {
            "text/plain": [
              "<Figure size 1080x720 with 1 Axes>"
            ],
            "image/png": "[encoded data removed]"
          },
          "metadata": {
            "needs_background": "light"
          }
        }
      ]
    },
    {
      "cell_type": "code",
      "source": [
        "# Cek normalitas data dengan Q-Q plot\n",
        "fig = plt.figure(figsize=(15, 10))\n",
        "\n",
        "ax = fig.add_subplot(2,2,2)\n",
        "sm.graphics.qqplot(wine_aroma[\"Aroma\"].dropna(), line='s', ax=ax)\n",
        "top = ax.get_ylim()[1] * 0.75\n",
        "plt.title('Q-Qplot Plot Aroma')\n",
        "\n",
        "\n",
        "plt.show()"
      ],
      "metadata": {
        "colab": {
          "base_uri": "https://localhost:8080/",
          "height": 325
        },
        "id": "jmynMLpa7Vmi",
        "outputId": "02bbf297-c20f-4167-ac52-f7d333191756"
      },
      "execution_count": 15,
      "outputs": [
        {
          "output_type": "display_data",
          "data": {
            "text/plain": [
              "<Figure size 1080x720 with 1 Axes>"
            ],
            "image/png": "[encoded data removed]"
          },
          "metadata": {
            "needs_background": "light"
          }
        }
      ]
    },
    {
      "cell_type": "markdown",
      "metadata": {
        "id": "O42SRO-_aR1_"
      },
      "source": [
        "> Insight Grafik:\n",
        "*   Histogram \n",
        "*   Boxplot \n",
        "*   Q-Q Plot\n",
        "\n",
        "Pengecekan normalitas data secara visual tidak dapat ditarik kesimpulan sehingga perlu dilakukan pengujian hipotesis berikut:\n",
        "<br>\n",
        "<br>\n",
        "Ho: Data berdistribusi Normal <br>\n",
        "H1: Data tidak berdistribusi Normal\n",
        "<br>\n",
        "<br>\n",
        "Bila p-value kurang dari 0.05 maka Ho Ditolak, berarti Data tidak berdistribusi Normal\n",
        "Bila p-value lebih dari 0.05 maka Ho Diterima, berarti Data berdistribusi Normal.\n",
        "<br>\n",
        "<br>\n",
        "Salah satu Uji Distribusi Normalitas Data yaitu Uji Shapiro-Wilk."
      ]
    },
    {
      "cell_type": "code",
      "metadata": {
        "id": "4iEJaWB7wd23",
        "colab": {
          "base_uri": "https://localhost:8080/"
        },
        "outputId": "eea1b05b-a8bf-434e-f223-3ef22aeb15df"
      },
      "source": [
        "# Uji Shapiro-Wilk\n",
        "from scipy.stats import shapiro\n",
        "stat_y, pval_y = shapiro(wine_aroma[\"Aroma\"])\n",
        "\n",
        "print(f\"p value uji normalitas data Aroma = {round(pval_y,4)}\")"
      ],
      "execution_count": 16,
      "outputs": [
        {
          "output_type": "stream",
          "name": "stdout",
          "text": [
            "p value uji normalitas data Aroma = 0.1817\n"
          ]
        }
      ]
    },
    {
      "cell_type": "markdown",
      "metadata": {
        "id": "TDyrnvt-qfbc"
      },
      "source": [
        "> Hasil pengujian menunjukkan bahwa p-value > 0.05 maka gagal tolak H0 yang berarti variabel aroma berdistribusi normal\n",
        "\n",
        "> Karena data outliers sedikit dan tidak mempengaruhi normalitas data, kita dapat mengabaikannya. Tetapi apabila normalitas data dipengaruhi oleh adanya outliers maka dapat dilakukan trimming/penghapusan data outliers, menambah data observasi, atau menggunakan metode Robust Regression. Selain itu, data outliers ini dalam pengaplikasian yang sesungguhnya perlu dianalisis ulang untuk dicari tau karakteristiknya lebih dalam."
      ]
    },
    {
      "cell_type": "markdown",
      "metadata": {
        "id": "E2PG99pyfrkZ"
      },
      "source": [
        "#### Uji Linearitas Data"
      ]
    },
    {
      "cell_type": "markdown",
      "metadata": {
        "id": "S61jvH338GPb"
      },
      "source": [
        "Uji Linearitas adalah sifat hubungan yang linear antara variabel, artinya setiap perubahan yang terjadi pada satu variabel akan diikuti perubahan dengan besaran yang sejajar pada variabel lainnya."
      ]
    },
    {
      "cell_type": "code",
      "metadata": {
        "id": "7GzdaDEHw3Me",
        "colab": {
          "base_uri": "https://localhost:8080/",
          "height": 295
        },
        "outputId": "c4bb15fb-bcd0-4fa2-8867-482cdf78b0be"
      },
      "source": [
        "# Keterkaitan x dengan y\n",
        "sns.regplot(x=wine_aroma[\"Sr\"], y=wine_aroma[\"Aroma\"], lowess=True, line_kws={'color':'red'})\n",
        "plt.xlabel('Sr')\n",
        "plt.ylabel('Aroma')\n",
        "plt.title('Scatter Plot Sr vs Aroma')\n",
        "plt.show()"
      ],
      "execution_count": 17,
      "outputs": [
        {
          "output_type": "display_data",
          "data": {
            "text/plain": [
              "<Figure size 432x288 with 1 Axes>"
            ],
            "image/png": "[encoded data removed]"
          },
          "metadata": {
            "needs_background": "light"
          }
        }
      ]
    },
    {
      "cell_type": "markdown",
      "source": [
        "grafik diatas menunjukkan persebaran data (titik biru), berkumpul di garis linier (merah), sehingga antara Sr dan Aroma terdapat hubungan"
      ],
      "metadata": {
        "id": "N0kKRqSrhUjx"
      }
    },
    {
      "cell_type": "markdown",
      "metadata": {
        "id": "wKsOU9NzsMie"
      },
      "source": [
        "## 3 Membangun Model Regresi"
      ]
    },
    {
      "cell_type": "code",
      "source": [
        "X = wine_aroma[\"Sr\"].values.reshape(-1,1)\n",
        "y = wine_aroma[\"Aroma\"].values.reshape(-1,1)\n",
        "\n",
        "\n",
        "X_train, X_test, y_train, y_test = train_test_split(X, y, test_size=0.3,random_state=0)"
      ],
      "metadata": {
        "id": "LduKobUbCQtQ"
      },
      "execution_count": 18,
      "outputs": []
    },
    {
      "cell_type": "code",
      "source": [
        "print(\"Ukuran X train \", len(X_train))\n",
        "print(\"Ukuran X test \", len(X_test))\n",
        "print(\"Ukuran y train \", len(y_train))\n",
        "print(\"Ukuran y test \", len(y_test))"
      ],
      "metadata": {
        "colab": {
          "base_uri": "https://localhost:8080/"
        },
        "id": "MBjXvj-7z9qQ",
        "outputId": "46568fd9-c8d4-4695-8729-fef462b84559"
      },
      "execution_count": 19,
      "outputs": [
        {
          "output_type": "stream",
          "name": "stdout",
          "text": [
            "Ukuran X train  26\n",
            "Ukuran X test  12\n",
            "Ukuran y train  26\n",
            "Ukuran y test  12\n"
          ]
        }
      ]
    },
    {
      "cell_type": "markdown",
      "source": [
        "###Membangun model dengan Sklearn"
      ],
      "metadata": {
        "id": "n59VLRC-pKWw"
      }
    },
    {
      "cell_type": "code",
      "source": [
        "# membuat model\n",
        "LR = LinearRegression()\n",
        "LR.fit(X,y)"
      ],
      "metadata": {
        "colab": {
          "base_uri": "https://localhost:8080/",
          "height": 74
        },
        "id": "o2X7Bsn4pTGw",
        "outputId": "675416e7-bfc1-4980-e044-486bfcc94f85"
      },
      "execution_count": 20,
      "outputs": [
        {
          "output_type": "execute_result",
          "data": {
            "text/plain": [
              "LinearRegression()"
            ],
            "text/html": [
              "<style>#sk-container-id-1 {color: black;background-color: white;}#sk-container-id-1 pre{padding: 0;}#sk-container-id-1 div.sk-toggleable {background-color: white;}#sk-container-id-1 label.sk-toggleable__label {cursor: pointer;display: block;width: 100%;margin-bottom: 0;padding: 0.3em;box-sizing: border-box;text-align: center;}#sk-container-id-1 label.sk-toggleable__label-arrow:before {content: \"▸\";float: left;margin-right: 0.25em;color: #696969;}#sk-container-id-1 label.sk-toggleable__label-arrow:hover:before {color: black;}#sk-container-id-1 div.sk-estimator:hover label.sk-toggleable__label-arrow:before {color: black;}#sk-container-id-1 div.sk-toggleable__content {max-height: 0;max-width: 0;overflow: hidden;text-align: left;background-color: #f0f8ff;}#sk-container-id-1 div.sk-toggleable__content pre {margin: 0.2em;color: black;border-radius: 0.25em;background-color: #f0f8ff;}#sk-container-id-1 input.sk-toggleable__control:checked~div.sk-toggleable__content {max-height: 200px;max-width: 100%;overflow: auto;}#sk-container-id-1 input.sk-toggleable__control:checked~label.sk-toggleable__label-arrow:before {content: \"▾\";}#sk-container-id-1 div.sk-estimator input.sk-toggleable__control:checked~label.sk-toggleable__label {background-color: #d4ebff;}#sk-container-id-1 div.sk-label input.sk-toggleable__control:checked~label.sk-toggleable__label {background-color: #d4ebff;}#sk-container-id-1 input.sk-hidden--visually {border: 0;clip: rect(1px 1px 1px 1px);clip: rect(1px, 1px, 1px, 1px);height: 1px;margin: -1px;overflow: hidden;padding: 0;position: absolute;width: 1px;}#sk-container-id-1 div.sk-estimator {font-family: monospace;background-color: #f0f8ff;border: 1px dotted black;border-radius: 0.25em;box-sizing: border-box;margin-bottom: 0.5em;}#sk-container-id-1 div.sk-estimator:hover {background-color: #d4ebff;}#sk-container-id-1 div.sk-parallel-item::after {content: \"\";width: 100%;border-bottom: 1px solid gray;flex-grow: 1;}#sk-container-id-1 div.sk-label:hover label.sk-toggleable__label {background-color: #d4ebff;}#sk-container-id-1 div.sk-serial::before {content: \"\";position: absolute;border-left: 1px solid gray;box-sizing: border-box;top: 0;bottom: 0;left: 50%;z-index: 0;}#sk-container-id-1 div.sk-serial {display: flex;flex-direction: column;align-items: center;background-color: white;padding-right: 0.2em;padding-left: 0.2em;position: relative;}#sk-container-id-1 div.sk-item {position: relative;z-index: 1;}#sk-container-id-1 div.sk-parallel {display: flex;align-items: stretch;justify-content: center;background-color: white;position: relative;}#sk-container-id-1 div.sk-item::before, #sk-container-id-1 div.sk-parallel-item::before {content: \"\";position: absolute;border-left: 1px solid gray;box-sizing: border-box;top: 0;bottom: 0;left: 50%;z-index: -1;}#sk-container-id-1 div.sk-parallel-item {display: flex;flex-direction: column;z-index: 1;position: relative;background-color: white;}#sk-container-id-1 div.sk-parallel-item:first-child::after {align-self: flex-end;width: 50%;}#sk-container-id-1 div.sk-parallel-item:last-child::after {align-self: flex-start;width: 50%;}#sk-container-id-1 div.sk-parallel-item:only-child::after {width: 0;}#sk-container-id-1 div.sk-dashed-wrapped {border: 1px dashed gray;margin: 0 0.4em 0.5em 0.4em;box-sizing: border-box;padding-bottom: 0.4em;background-color: white;}#sk-container-id-1 div.sk-label label {font-family: monospace;font-weight: bold;display: inline-block;line-height: 1.2em;}#sk-container-id-1 div.sk-label-container {text-align: center;}#sk-container-id-1 div.sk-container {/* jupyter's `normalize.less` sets `[hidden] { display: none; }` but bootstrap.min.css set `[hidden] { display: none !important; }` so we also need the `!important` here to be able to override the default hidden behavior on the sphinx rendered scikit-learn.org. See: https://github.com/scikit-learn/scikit-learn/issues/21755 */display: inline-block !important;position: relative;}#sk-container-id-1 div.sk-text-repr-fallback {display: none;}</style><div id=\"sk-container-id-1\" class=\"sk-top-container\"><div class=\"sk-text-repr-fallback\"><pre>LinearRegression()</pre><b>In a Jupyter environment, please rerun this cell to show the HTML representation or trust the notebook. <br />On GitHub, the HTML representation is unable to render, please try loading this page with nbviewer.org.</b></div><div class=\"sk-container\" hidden><div class=\"sk-item\"><div class=\"sk-estimator sk-toggleable\"><input class=\"sk-toggleable__control sk-hidden--visually\" id=\"sk-estimator-id-1\" type=\"checkbox\" checked><label for=\"sk-estimator-id-1\" class=\"sk-toggleable__label sk-toggleable__label-arrow\">LinearRegression</label><div class=\"sk-toggleable__content\"><pre>LinearRegression()</pre></div></div></div></div></div>"
            ]
          },
          "metadata": {},
          "execution_count": 20
        }
      ]
    },
    {
      "cell_type": "code",
      "source": [
        "print(\"Intercept Linear Regression model : \", LR.intercept_)\n",
        "print(\"Coef Linear Regression model : \",LR.coef_)"
      ],
      "metadata": {
        "colab": {
          "base_uri": "https://localhost:8080/"
        },
        "id": "xfubIETSpS4m",
        "outputId": "82e4deaa-f74c-4448-f012-67ab0c482b60"
      },
      "execution_count": 21,
      "outputs": [
        {
          "output_type": "stream",
          "name": "stdout",
          "text": [
            "Intercept Linear Regression model :  [6.44129785]\n",
            "Coef Linear Regression model :  [[-1.86384032]]\n"
          ]
        }
      ]
    },
    {
      "cell_type": "code",
      "source": [
        "# membuat prediksi model\n",
        "prediction_train = LR.predict(X)\n",
        "\n",
        "#tampilkan dalam bentuk data frame\n",
        "df_linreg_train = pd.DataFrame(X, columns=[\"Sr\"])\n",
        "df_linreg_train[\"Aroma\"] = y\n",
        "df_linreg_train[\"prediction_Aroma\"] = prediction_train\n",
        "df_linreg_train.head()"
      ],
      "metadata": {
        "colab": {
          "base_uri": "https://localhost:8080/",
          "height": 206
        },
        "id": "iL0oo4t4vwQD",
        "outputId": "82574e76-5317-48ab-c67d-de2f9bf3bcc8"
      },
      "execution_count": 22,
      "outputs": [
        {
          "output_type": "execute_result",
          "data": {
            "text/plain": [
              "      Sr  Aroma  prediction_Aroma\n",
              "0  1.230    3.3          4.148774\n",
              "1  1.050    4.6          4.484266\n",
              "2  1.140    3.9          4.316520\n",
              "3  0.156    7.1          6.150539\n",
              "4  1.130    5.6          4.335158"
            ],
            "text/html": [
              "\n",
              "  <div id=\"df-3643807f-7c85-43ed-bac3-f5df5fc420aa\">\n",
              "    <div class=\"colab-df-container\">\n",
              "      <div>\n",
              "<style scoped>\n",
              "    .dataframe tbody tr th:only-of-type {\n",
              "        vertical-align: middle;\n",
              "    }\n",
              "\n",
              "    .dataframe tbody tr th {\n",
              "        vertical-align: top;\n",
              "    }\n",
              "\n",
              "    .dataframe thead th {\n",
              "        text-align: right;\n",
              "    }\n",
              "</style>\n",
              "<table border=\"1\" class=\"dataframe\">\n",
              "  <thead>\n",
              "    <tr style=\"text-align: right;\">\n",
              "      <th></th>\n",
              "      <th>Sr</th>\n",
              "      <th>Aroma</th>\n",
              "      <th>prediction_Aroma</th>\n",
              "    </tr>\n",
              "  </thead>\n",
              "  <tbody>\n",
              "    <tr>\n",
              "      <th>0</th>\n",
              "      <td>1.230</td>\n",
              "      <td>3.3</td>\n",
              "      <td>4.148774</td>\n",
              "    </tr>\n",
              "    <tr>\n",
              "      <th>1</th>\n",
              "      <td>1.050</td>\n",
              "      <td>4.6</td>\n",
              "      <td>4.484266</td>\n",
              "    </tr>\n",
              "    <tr>\n",
              "      <th>2</th>\n",
              "      <td>1.140</td>\n",
              "      <td>3.9</td>\n",
              "      <td>4.316520</td>\n",
              "    </tr>\n",
              "    <tr>\n",
              "      <th>3</th>\n",
              "      <td>0.156</td>\n",
              "      <td>7.1</td>\n",
              "      <td>6.150539</td>\n",
              "    </tr>\n",
              "    <tr>\n",
              "      <th>4</th>\n",
              "      <td>1.130</td>\n",
              "      <td>5.6</td>\n",
              "      <td>4.335158</td>\n",
              "    </tr>\n",
              "  </tbody>\n",
              "</table>\n",
              "</div>\n",
              "      <button class=\"colab-df-convert\" onclick=\"convertToInteractive('df-3643807f-7c85-43ed-bac3-f5df5fc420aa')\"\n",
              "              title=\"Convert this dataframe to an interactive table.\"\n",
              "              style=\"display:none;\">\n",
              "        \n",
              "  <svg xmlns=\"http://www.w3.org/2000/svg\" height=\"24px\"viewBox=\"0 0 24 24\"\n",
              "       width=\"24px\">\n",
              "    <path d=\"M0 0h24v24H0V0z\" fill=\"none\"/>\n",
              "    <path d=\"M18.56 5.44l.94 2.06.94-2.06 2.06-.94-2.06-.94-.94-2.06-.94 2.06-2.06.94zm-11 1L8.5 8.5l.94-2.06 2.06-.94-2.06-.94L8.5 2.5l-.94 2.06-2.06.94zm10 10l.94 2.06.94-2.06 2.06-.94-2.06-.94-.94-2.06-.94 2.06-2.06.94z\"/><path d=\"M17.41 7.96l-1.37-1.37c-.4-.4-.92-.59-1.43-.59-.52 0-1.04.2-1.43.59L10.3 9.45l-7.72 7.72c-.78.78-.78 2.05 0 2.83L4 21.41c.39.39.9.59 1.41.59.51 0 1.02-.2 1.41-.59l7.78-7.78 2.81-2.81c.8-.78.8-2.07 0-2.86zM5.41 20L4 18.59l7.72-7.72 1.47 1.35L5.41 20z\"/>\n",
              "  </svg>\n",
              "      </button>\n",
              "      \n",
              "  <style>\n",
              "    .colab-df-container {\n",
              "      display:flex;\n",
              "      flex-wrap:wrap;\n",
              "      gap: 12px;\n",
              "    }\n",
              "\n",
              "    .colab-df-convert {\n",
              "      background-color: #E8F0FE;\n",
              "      border: none;\n",
              "      border-radius: 50%;\n",
              "      cursor: pointer;\n",
              "      display: none;\n",
              "      fill: #1967D2;\n",
              "      height: 32px;\n",
              "      padding: 0 0 0 0;\n",
              "      width: 32px;\n",
              "    }\n",
              "\n",
              "    .colab-df-convert:hover {\n",
              "      background-color: #E2EBFA;\n",
              "      box-shadow: 0px 1px 2px rgba(60, 64, 67, 0.3), 0px 1px 3px 1px rgba(60, 64, 67, 0.15);\n",
              "      fill: #174EA6;\n",
              "    }\n",
              "\n",
              "    [theme=dark] .colab-df-convert {\n",
              "      background-color: #3B4455;\n",
              "      fill: #D2E3FC;\n",
              "    }\n",
              "\n",
              "    [theme=dark] .colab-df-convert:hover {\n",
              "      background-color: #434B5C;\n",
              "      box-shadow: 0px 1px 3px 1px rgba(0, 0, 0, 0.15);\n",
              "      filter: drop-shadow(0px 1px 2px rgba(0, 0, 0, 0.3));\n",
              "      fill: #FFFFFF;\n",
              "    }\n",
              "  </style>\n",
              "\n",
              "      <script>\n",
              "        const buttonEl =\n",
              "          document.querySelector('#df-3643807f-7c85-43ed-bac3-f5df5fc420aa button.colab-df-convert');\n",
              "        buttonEl.style.display =\n",
              "          google.colab.kernel.accessAllowed ? 'block' : 'none';\n",
              "\n",
              "        async function convertToInteractive(key) {\n",
              "          const element = document.querySelector('#df-3643807f-7c85-43ed-bac3-f5df5fc420aa');\n",
              "          const dataTable =\n",
              "            await google.colab.kernel.invokeFunction('convertToInteractive',\n",
              "                                                     [key], {});\n",
              "          if (!dataTable) return;\n",
              "\n",
              "          const docLinkHtml = 'Like what you see? Visit the ' +\n",
              "            '<a target=\"_blank\" href=https://colab.research.google.com/notebooks/data_table.ipynb>data table notebook</a>'\n",
              "            + ' to learn more about interactive tables.';\n",
              "          element.innerHTML = '';\n",
              "          dataTable['output_type'] = 'display_data';\n",
              "          await google.colab.output.renderOutput(dataTable, element);\n",
              "          const docLink = document.createElement('div');\n",
              "          docLink.innerHTML = docLinkHtml;\n",
              "          element.appendChild(docLink);\n",
              "        }\n",
              "      </script>\n",
              "    </div>\n",
              "  </div>\n",
              "  "
            ]
          },
          "metadata": {},
          "execution_count": 22
        }
      ]
    },
    {
      "cell_type": "code",
      "source": [
        "# memasukkan residual kedalam dataframe\n",
        "df_linreg_train[\"residual\"] = y - prediction_train"
      ],
      "metadata": {
        "id": "4cvLuwNqwiwJ"
      },
      "execution_count": 23,
      "outputs": []
    },
    {
      "cell_type": "code",
      "source": [
        "df_linreg_train.head()"
      ],
      "metadata": {
        "colab": {
          "base_uri": "https://localhost:8080/",
          "height": 206
        },
        "id": "F9RC0SmPw7cx",
        "outputId": "b53f311f-1bbb-4704-ae9e-0a11ffea4a36"
      },
      "execution_count": 24,
      "outputs": [
        {
          "output_type": "execute_result",
          "data": {
            "text/plain": [
              "      Sr  Aroma  prediction_Aroma  residual\n",
              "0  1.230    3.3          4.148774 -0.848774\n",
              "1  1.050    4.6          4.484266  0.115734\n",
              "2  1.140    3.9          4.316520 -0.416520\n",
              "3  0.156    7.1          6.150539  0.949461\n",
              "4  1.130    5.6          4.335158  1.264842"
            ],
            "text/html": [
              "\n",
              "  <div id=\"df-2fb5ce5e-4542-4abb-bc10-2debb9849575\">\n",
              "    <div class=\"colab-df-container\">\n",
              "      <div>\n",
              "<style scoped>\n",
              "    .dataframe tbody tr th:only-of-type {\n",
              "        vertical-align: middle;\n",
              "    }\n",
              "\n",
              "    .dataframe tbody tr th {\n",
              "        vertical-align: top;\n",
              "    }\n",
              "\n",
              "    .dataframe thead th {\n",
              "        text-align: right;\n",
              "    }\n",
              "</style>\n",
              "<table border=\"1\" class=\"dataframe\">\n",
              "  <thead>\n",
              "    <tr style=\"text-align: right;\">\n",
              "      <th></th>\n",
              "      <th>Sr</th>\n",
              "      <th>Aroma</th>\n",
              "      <th>prediction_Aroma</th>\n",
              "      <th>residual</th>\n",
              "    </tr>\n",
              "  </thead>\n",
              "  <tbody>\n",
              "    <tr>\n",
              "      <th>0</th>\n",
              "      <td>1.230</td>\n",
              "      <td>3.3</td>\n",
              "      <td>4.148774</td>\n",
              "      <td>-0.848774</td>\n",
              "    </tr>\n",
              "    <tr>\n",
              "      <th>1</th>\n",
              "      <td>1.050</td>\n",
              "      <td>4.6</td>\n",
              "      <td>4.484266</td>\n",
              "      <td>0.115734</td>\n",
              "    </tr>\n",
              "    <tr>\n",
              "      <th>2</th>\n",
              "      <td>1.140</td>\n",
              "      <td>3.9</td>\n",
              "      <td>4.316520</td>\n",
              "      <td>-0.416520</td>\n",
              "    </tr>\n",
              "    <tr>\n",
              "      <th>3</th>\n",
              "      <td>0.156</td>\n",
              "      <td>7.1</td>\n",
              "      <td>6.150539</td>\n",
              "      <td>0.949461</td>\n",
              "    </tr>\n",
              "    <tr>\n",
              "      <th>4</th>\n",
              "      <td>1.130</td>\n",
              "      <td>5.6</td>\n",
              "      <td>4.335158</td>\n",
              "      <td>1.264842</td>\n",
              "    </tr>\n",
              "  </tbody>\n",
              "</table>\n",
              "</div>\n",
              "      <button class=\"colab-df-convert\" onclick=\"convertToInteractive('df-2fb5ce5e-4542-4abb-bc10-2debb9849575')\"\n",
              "              title=\"Convert this dataframe to an interactive table.\"\n",
              "              style=\"display:none;\">\n",
              "        \n",
              "  <svg xmlns=\"http://www.w3.org/2000/svg\" height=\"24px\"viewBox=\"0 0 24 24\"\n",
              "       width=\"24px\">\n",
              "    <path d=\"M0 0h24v24H0V0z\" fill=\"none\"/>\n",
              "    <path d=\"M18.56 5.44l.94 2.06.94-2.06 2.06-.94-2.06-.94-.94-2.06-.94 2.06-2.06.94zm-11 1L8.5 8.5l.94-2.06 2.06-.94-2.06-.94L8.5 2.5l-.94 2.06-2.06.94zm10 10l.94 2.06.94-2.06 2.06-.94-2.06-.94-.94-2.06-.94 2.06-2.06.94z\"/><path d=\"M17.41 7.96l-1.37-1.37c-.4-.4-.92-.59-1.43-.59-.52 0-1.04.2-1.43.59L10.3 9.45l-7.72 7.72c-.78.78-.78 2.05 0 2.83L4 21.41c.39.39.9.59 1.41.59.51 0 1.02-.2 1.41-.59l7.78-7.78 2.81-2.81c.8-.78.8-2.07 0-2.86zM5.41 20L4 18.59l7.72-7.72 1.47 1.35L5.41 20z\"/>\n",
              "  </svg>\n",
              "      </button>\n",
              "      \n",
              "  <style>\n",
              "    .colab-df-container {\n",
              "      display:flex;\n",
              "      flex-wrap:wrap;\n",
              "      gap: 12px;\n",
              "    }\n",
              "\n",
              "    .colab-df-convert {\n",
              "      background-color: #E8F0FE;\n",
              "      border: none;\n",
              "      border-radius: 50%;\n",
              "      cursor: pointer;\n",
              "      display: none;\n",
              "      fill: #1967D2;\n",
              "      height: 32px;\n",
              "      padding: 0 0 0 0;\n",
              "      width: 32px;\n",
              "    }\n",
              "\n",
              "    .colab-df-convert:hover {\n",
              "      background-color: #E2EBFA;\n",
              "      box-shadow: 0px 1px 2px rgba(60, 64, 67, 0.3), 0px 1px 3px 1px rgba(60, 64, 67, 0.15);\n",
              "      fill: #174EA6;\n",
              "    }\n",
              "\n",
              "    [theme=dark] .colab-df-convert {\n",
              "      background-color: #3B4455;\n",
              "      fill: #D2E3FC;\n",
              "    }\n",
              "\n",
              "    [theme=dark] .colab-df-convert:hover {\n",
              "      background-color: #434B5C;\n",
              "      box-shadow: 0px 1px 3px 1px rgba(0, 0, 0, 0.15);\n",
              "      filter: drop-shadow(0px 1px 2px rgba(0, 0, 0, 0.3));\n",
              "      fill: #FFFFFF;\n",
              "    }\n",
              "  </style>\n",
              "\n",
              "      <script>\n",
              "        const buttonEl =\n",
              "          document.querySelector('#df-2fb5ce5e-4542-4abb-bc10-2debb9849575 button.colab-df-convert');\n",
              "        buttonEl.style.display =\n",
              "          google.colab.kernel.accessAllowed ? 'block' : 'none';\n",
              "\n",
              "        async function convertToInteractive(key) {\n",
              "          const element = document.querySelector('#df-2fb5ce5e-4542-4abb-bc10-2debb9849575');\n",
              "          const dataTable =\n",
              "            await google.colab.kernel.invokeFunction('convertToInteractive',\n",
              "                                                     [key], {});\n",
              "          if (!dataTable) return;\n",
              "\n",
              "          const docLinkHtml = 'Like what you see? Visit the ' +\n",
              "            '<a target=\"_blank\" href=https://colab.research.google.com/notebooks/data_table.ipynb>data table notebook</a>'\n",
              "            + ' to learn more about interactive tables.';\n",
              "          element.innerHTML = '';\n",
              "          dataTable['output_type'] = 'display_data';\n",
              "          await google.colab.output.renderOutput(dataTable, element);\n",
              "          const docLink = document.createElement('div');\n",
              "          docLink.innerHTML = docLinkHtml;\n",
              "          element.appendChild(docLink);\n",
              "        }\n",
              "      </script>\n",
              "    </div>\n",
              "  </div>\n",
              "  "
            ]
          },
          "metadata": {},
          "execution_count": 24
        }
      ]
    },
    {
      "cell_type": "markdown",
      "source": [
        "#### Asumsi Analisis Regresi"
      ],
      "metadata": {
        "id": "I_Lubk2ixDTp"
      }
    },
    {
      "cell_type": "markdown",
      "source": [
        "Uji Asumsi klasik adalah analisis yang dilakukan untuk menilai apakah di dalam sebuah model regresi linear Ordinary Least Square (OLS) terdapat masalah-masalah asumsi klasik."
      ],
      "metadata": {
        "id": "qMpOdKu9e-cv"
      }
    },
    {
      "cell_type": "markdown",
      "source": [
        "**Asumsi Residual Distribusi Normal**"
      ],
      "metadata": {
        "id": "-siYmk_8xKCn"
      }
    },
    {
      "cell_type": "code",
      "source": [
        "# melihat distribusi residual dengan visaulisasi\n",
        "sns.distplot(df_linreg_train[\"residual\"], label=\"residual\")\n",
        "plt.legend()\n",
        "plt.show()"
      ],
      "metadata": {
        "colab": {
          "base_uri": "https://localhost:8080/",
          "height": 279
        },
        "id": "k8KOb9yqxM9T",
        "outputId": "d58552b0-772d-4b10-a3fc-457d3d5ec9a3"
      },
      "execution_count": 25,
      "outputs": [
        {
          "output_type": "display_data",
          "data": {
            "text/plain": [
              "<Figure size 432x288 with 1 Axes>"
            ],
            "image/png": "[encoded data removed]"
          },
          "metadata": {
            "needs_background": "light"
          }
        }
      ]
    },
    {
      "cell_type": "code",
      "source": [
        "# uji shapiro-wilk\n",
        "from scipy.stats import shapiro\n",
        "stat_e, pval_e = shapiro(df_linreg_train[\"residual\"])\n",
        "\n",
        "print(f\"p value uji normalitas data Residual = {pval_e}\")"
      ],
      "metadata": {
        "colab": {
          "base_uri": "https://localhost:8080/"
        },
        "id": "fWuCnTlCxeP1",
        "outputId": "467ee469-75a1-46a4-8673-2ee28a37b988"
      },
      "execution_count": 26,
      "outputs": [
        {
          "output_type": "stream",
          "name": "stdout",
          "text": [
            "p value uji normalitas data Residual = 0.13238993287086487\n"
          ]
        }
      ]
    },
    {
      "cell_type": "markdown",
      "source": [
        "karena hasil uji distribusi Residual p-value > 0.05 maka gagal Tolak H0 yang berarti Residual berdistribusi normal."
      ],
      "metadata": {
        "id": "baq8qfRghmBG"
      }
    },
    {
      "cell_type": "markdown",
      "source": [
        "**Asumsi No autokorelasi**"
      ],
      "metadata": {
        "id": "QcQ7U6c6x5yA"
      }
    },
    {
      "cell_type": "markdown",
      "source": [
        "Uji Durbin watson akan menghasilkan nilai Durbin Watson (DW) yang nantinya akan dibandingkan dengan dua (2) nilai Durbin Watson Tabel, yaitu Durbin Upper (DU) dan Durbin Lower DL). Dikatakan tidak terdapat autokorelasi jika nilai DW > DU dan (4-DW) > DU atau bisa dinotasikan juga sebagai berikut: (4-DW) > DU < DW."
      ],
      "metadata": {
        "id": "kYrkWot0fOnm"
      }
    },
    {
      "cell_type": "code",
      "source": [
        "statsmodels.stats.stattools.durbin_watson(df_linreg_train['residual'], axis=0)"
      ],
      "metadata": {
        "colab": {
          "base_uri": "https://localhost:8080/"
        },
        "id": "ABCYma9ox7o3",
        "outputId": "4b712988-ce93-4c06-d504-6bd4fa4aa167"
      },
      "execution_count": 27,
      "outputs": [
        {
          "output_type": "execute_result",
          "data": {
            "text/plain": [
              "1.6860867086459665"
            ]
          },
          "metadata": {},
          "execution_count": 27
        }
      ]
    },
    {
      "cell_type": "markdown",
      "source": [
        "DU dapat diketahui dari tabel Durbin Watson dengan n=38 dab k=1 (dengan n adalah banyak observasi, k adalah jumlah variabel independen), sehingga (4-DL)>DU<DL didapatkan 2.314 > 1.427 < 1.686 maka dapat disimpulkan tidak terjadi autokorelasi dan asumsi terpenuhi"
      ],
      "metadata": {
        "id": "3zXD3iFNh00C"
      }
    },
    {
      "cell_type": "markdown",
      "source": [
        "**Asumsi Homoskedastisitas**"
      ],
      "metadata": {
        "id": "yYnmNsIXyPB6"
      }
    },
    {
      "cell_type": "markdown",
      "source": [
        "Uji Homoskedastisiitas untuk melihat apakah terdapat ketidaksamaan varians dari residual satu ke pengamatan ke pengamatan yang lain."
      ],
      "metadata": {
        "id": "RsshTYnnfYlF"
      }
    },
    {
      "cell_type": "code",
      "source": [
        "asm_homosk = plt.scatter(df_linreg_train[\"prediction_Aroma\"], df_linreg_train[\"residual\"])\n",
        "plt.xlabel('predicted')\n",
        "plt.ylabel('residuals')\n",
        "asm_homosk = sns.regplot(x=[2,5],y=[0,0],color='red')\n",
        "asm_homosk = plt.title('Residual vs Prediction')"
      ],
      "metadata": {
        "colab": {
          "base_uri": "https://localhost:8080/",
          "height": 295
        },
        "id": "IxJxS3k6yTPk",
        "outputId": "146e42ee-6079-499c-9496-996e9c365121"
      },
      "execution_count": 28,
      "outputs": [
        {
          "output_type": "display_data",
          "data": {
            "text/plain": [
              "<Figure size 432x288 with 1 Axes>"
            ],
            "image/png": "[encoded data removed]"
          },
          "metadata": {
            "needs_background": "light"
          }
        }
      ]
    },
    {
      "cell_type": "markdown",
      "source": [
        "karena titik biru menyebar dan tidak membentuk corong atau bentuk tertentu, sehingga dapat dikatakan Homoskedastisitas Residual terpenuhi."
      ],
      "metadata": {
        "id": "ewiieRjKiTdV"
      }
    },
    {
      "cell_type": "markdown",
      "source": [
        "#### Evaluasi Model"
      ],
      "metadata": {
        "id": "POLhuR78y6w1"
      }
    },
    {
      "cell_type": "code",
      "source": [
        "# R-square\n",
        "print('R-square predicted training :', metrics.r2_score(df_linreg_train['Aroma'], df_linreg_train['prediction_Aroma']))"
      ],
      "metadata": {
        "colab": {
          "base_uri": "https://localhost:8080/"
        },
        "id": "6gH4Z8D_y774",
        "outputId": "6db60f20-ab55-48b2-fd5c-b3490890aa7c"
      },
      "execution_count": 29,
      "outputs": [
        {
          "output_type": "stream",
          "name": "stdout",
          "text": [
            "R-square predicted training : 0.6240808118800623\n"
          ]
        }
      ]
    },
    {
      "cell_type": "markdown",
      "source": [
        "variabel konsentrasi Sr dapat menjelaskan rating Aroma sebesar 62%."
      ],
      "metadata": {
        "id": "rZBBXYSViiqG"
      }
    },
    {
      "cell_type": "code",
      "source": [
        "# MSE\n",
        "print('MSE predicted training :', metrics.mean_squared_error(df_linreg_train['Aroma'], df_linreg_train['prediction_Aroma']))"
      ],
      "metadata": {
        "colab": {
          "base_uri": "https://localhost:8080/"
        },
        "id": "nKQZEpTV1Swc",
        "outputId": "1292de70-8b09-44d4-dc17-b0c787b8d67b"
      },
      "execution_count": 30,
      "outputs": [
        {
          "output_type": "stream",
          "name": "stdout",
          "text": [
            "MSE predicted training : 0.4101476194592795\n"
          ]
        }
      ]
    },
    {
      "cell_type": "markdown",
      "metadata": {
        "id": "_ogXE7tZj0dK"
      },
      "source": [
        "### Membangun model dengan package Statsmodels"
      ]
    },
    {
      "cell_type": "markdown",
      "source": [],
      "metadata": {
        "id": "9-s247CmpNtO"
      }
    },
    {
      "cell_type": "code",
      "metadata": {
        "id": "qM_hLbHPw9OS"
      },
      "source": [
        "# Masukkan intercepts secara manual\n",
        "Input = sm.add_constant(X)"
      ],
      "execution_count": 31,
      "outputs": []
    },
    {
      "cell_type": "code",
      "source": [
        "# Modelling dengan statsmodels\n",
        "SimpleModel = sm.OLS(y, Input, missing='drop')\n",
        "results = SimpleModel.fit()"
      ],
      "metadata": {
        "id": "Bo3Pk2XpCWFG"
      },
      "execution_count": 32,
      "outputs": []
    },
    {
      "cell_type": "code",
      "source": [
        "# Print results\n",
        "print(results.summary())"
      ],
      "metadata": {
        "colab": {
          "base_uri": "https://localhost:8080/"
        },
        "id": "SypRKIsGCYFu",
        "outputId": "18223132-6430-42cc-da01-1b09b5014842"
      },
      "execution_count": 33,
      "outputs": [
        {
          "output_type": "stream",
          "name": "stdout",
          "text": [
            "                            OLS Regression Results                            \n",
            "==============================================================================\n",
            "Dep. Variable:                      y   R-squared:                       0.624\n",
            "Model:                            OLS   Adj. R-squared:                  0.614\n",
            "Method:                 Least Squares   F-statistic:                     59.77\n",
            "Date:                Mon, 27 Mar 2023   Prob (F-statistic):           3.70e-09\n",
            "Time:                        19:31:21   Log-Likelihood:                -36.986\n",
            "No. Observations:                  38   AIC:                             77.97\n",
            "Df Residuals:                      36   BIC:                             81.25\n",
            "Df Model:                           1                                         \n",
            "Covariance Type:            nonrobust                                         \n",
            "==============================================================================\n",
            "                 coef    std err          t      P>|t|      [0.025      0.975]\n",
            "------------------------------------------------------------------------------\n",
            "const          6.4413      0.226     28.483      0.000       5.983       6.900\n",
            "x1            -1.8638      0.241     -7.731      0.000      -2.353      -1.375\n",
            "==============================================================================\n",
            "Omnibus:                        2.343   Durbin-Watson:                   1.686\n",
            "Prob(Omnibus):                  0.310   Jarque-Bera (JB):                2.134\n",
            "Skew:                           0.553   Prob(JB):                        0.344\n",
            "Kurtosis:                       2.647   Cond. No.                         4.00\n",
            "==============================================================================\n",
            "\n",
            "Notes:\n",
            "[1] Standard Errors assume that the covariance matrix of the errors is correctly specified.\n"
          ]
        }
      ]
    },
    {
      "cell_type": "markdown",
      "metadata": {
        "id": "S6xCEOh7eiOv"
      },
      "source": [
        "### Uji Partial & Serentak Analisis Regresi"
      ]
    },
    {
      "cell_type": "markdown",
      "metadata": {
        "id": "5CJHmEGwD35T"
      },
      "source": [
        "Uji Parameter T-test  memiliki tujuan, apakah variabel independent(X) memberikan pengaruh secara partial terhadap variabel dependent (Y)"
      ]
    },
    {
      "cell_type": "code",
      "metadata": {
        "id": "VOIyHhcdxVNM",
        "colab": {
          "base_uri": "https://localhost:8080/"
        },
        "outputId": "7c97a4f0-ec5b-4734-e28a-2b54b6ee0fc0"
      },
      "source": [
        "t_test_const, t_test_X1 = results.tvalues\n",
        "print(\"T-test score const: \", t_test_const)\n",
        "print(\"T-test score X1: \", t_test_X1)"
      ],
      "execution_count": 34,
      "outputs": [
        {
          "output_type": "stream",
          "name": "stdout",
          "text": [
            "T-test score const:  28.482972522834373\n",
            "T-test score X1:  -7.730799649496353\n"
          ]
        }
      ]
    },
    {
      "cell_type": "code",
      "source": [
        "\n",
        "p_value_const, p_value_X1 = results.pvalues\n",
        "print(\"P-value const: \", p_value_const)\n",
        "print(\"P-value X1: \", p_value_X1)"
      ],
      "metadata": {
        "colab": {
          "base_uri": "https://localhost:8080/"
        },
        "id": "9NYmLdhmHuVS",
        "outputId": "42337039-41ec-4214-841e-95d8b5f1a3a9"
      },
      "execution_count": 35,
      "outputs": [
        {
          "output_type": "stream",
          "name": "stdout",
          "text": [
            "P-value const:  2.7457309033140716e-26\n",
            "P-value X1:  3.7000669550200655e-09\n"
          ]
        }
      ]
    },
    {
      "cell_type": "markdown",
      "source": [
        "p-value untuk variabel Sr kurang dari 0.05 sehingga hipotesis null ditolak dan dapat disimpulkan bahwa konsentrasi Sr memberikan pengaruh pada rating Aroma, sehingga pembentukan model regresi dari kedua variabel dapat dilakukan"
      ],
      "metadata": {
        "id": "EDqf3bW5j8vH"
      }
    },
    {
      "cell_type": "markdown",
      "metadata": {
        "id": "NntHnEQd26nE"
      },
      "source": [
        "Uji kelayakan model F-test memilki tujuan, apakah model yang dibentuk layak digunakan atau tidak"
      ]
    },
    {
      "cell_type": "code",
      "metadata": {
        "id": "yMUUi9YhT9ee",
        "colab": {
          "base_uri": "https://localhost:8080/"
        },
        "outputId": "f12c7010-b9b3-40ec-a12c-32f60f4443d6"
      },
      "source": [
        "f_value = results.fvalue\n",
        "print(\"f-test score : \", f_value)\n",
        "\n",
        "p_value = results.f_pvalue\n",
        "print(\"P-value : \", p_value)\n",
        "\n",
        "if p_value < 0.05:\n",
        "  print(\"Tolak H0\")\n",
        "else:\n",
        "  print(\"Terima H0\")"
      ],
      "execution_count": 36,
      "outputs": [
        {
          "output_type": "stream",
          "name": "stdout",
          "text": [
            "f-test score :  59.76526322065298\n",
            "P-value :  3.7000669550200283e-09\n",
            "Tolak H0\n"
          ]
        }
      ]
    },
    {
      "cell_type": "markdown",
      "source": [
        "diperoleh nilai p-value kurang dari 0.05 sehingga hipotesis null ditolak dan dapat disimpulkan bahwa model regresi dari variabel independen Sr dan variabel Aroma layak digunakan"
      ],
      "metadata": {
        "id": "x0y6sCaljkGk"
      }
    }
  ]
}