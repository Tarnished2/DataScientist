{
  "cells": [
    {
      "cell_type": "markdown",
      "metadata": {
        "id": "view-in-github",
        "colab_type": "text"
      },
      "source": [
        "<a href=\"https://colab.research.google.com/github/Tarnished2/DataScientist/blob/main/Exercise_15_Muklis_Pramaditya_Ardian_Saputra.ipynb\" target=\"_parent\"><img src=\"https://colab.research.google.com/assets/colab-badge.svg\" alt=\"Open In Colab\"/></a>"
      ]
    },
    {
      "cell_type": "markdown",
      "metadata": {
        "id": "eEi_kSxKkE8Z"
      },
      "source": [
        "# K Means Clustering Algorithm"
      ]
    },
    {
      "cell_type": "markdown",
      "metadata": {
        "id": "cg1JY1yWkE8i"
      },
      "source": [
        "## Studi Kasus"
      ]
    },
    {
      "cell_type": "markdown",
      "metadata": {
        "id": "0uat0VXdt0w2"
      },
      "source": [
        "Data yang anda miliki adalah data penjualan setelah terjadinya pandemi Covid-19 dengan kategori produk sports & apparel. Dikarenakan saat ini penjualan banyak dilakukan secara online, anda berencana untuk memperbaiki tampilan website dengan cara mengelompokkan produk berdasarkan kategori-kategori tertentu. Perombakan ini diharapkan dapat mempermudah pembeli dalam memilih barang sesuai dengan selera dan kebutuhan mereka. Untuk mencapai tujuan tersebut anda akan menggunakan history penjualan sebelumnya. Data yang anda miliki adalah sebagai berikut :\n",
        "\n",
        "- Product Name : Nama produk \n",
        "- Product ID : Id unik produk\n",
        "- Listing Price : Harga sebenarnya dari produk\n",
        "- Sale Price : Harga saat produk dibeli\n",
        "- Discount : Diskon yang diberikan dalam suatu produk\n",
        "- Brand : Nama Brand dari produk\n",
        "- Description : Deskripsi produk\n",
        "- Rating : Rating yang diberikan user\n",
        "- Reviews : Jumlah review suatu produk\n",
        "- Last Visited : Record terakhir produk dikunjungi oleh customer\n",
        "\n",
        "Selain mengelompokkan produk, anda juga ingin menganalisis persaingan yang terjadi pada tiap-tiap brand. Dengan mengetahui minat pembeli, harapannya untuk kedepannya anda dapat menyesuaikan store anda dengan kebutuhan pasar."
      ]
    },
    {
      "cell_type": "markdown",
      "metadata": {
        "id": "Hv1ac7niWdfG"
      },
      "source": [
        "## Import Libraries and Data"
      ]
    },
    {
      "cell_type": "code",
      "source": [
        "# connect colab ke g drive\n",
        "from google.colab import drive\n",
        "drive.mount('/content/gdrive')"
      ],
      "metadata": {
        "colab": {
          "base_uri": "https://localhost:8080/"
        },
        "id": "-qQF41K3rFQg",
        "outputId": "55ff3810-8415-44f9-adc5-dc89f59db1b0"
      },
      "execution_count": 1,
      "outputs": [
        {
          "output_type": "stream",
          "name": "stdout",
          "text": [
            "Mounted at /content/gdrive\n"
          ]
        }
      ]
    },
    {
      "cell_type": "code",
      "execution_count": 2,
      "metadata": {
        "id": "pgJX6GWSq040"
      },
      "outputs": [],
      "source": [
        "# import package\n",
        "import os\n",
        "import pandas as pd\n",
        "import numpy as np\n",
        "from sklearn.preprocessing import LabelEncoder, StandardScaler\n",
        "from sklearn.cluster import KMeans\n",
        "from sklearn.metrics import silhouette_score\n",
        "import statistics\n",
        "from scipy.stats import chi2\n",
        "from matplotlib import patches\n",
        "import matplotlib.pyplot as plt\n",
        "\n",
        "# Package untuk visualisasi\n",
        "import seaborn as sns\n",
        "import matplotlib.pyplot as plt"
      ]
    },
    {
      "cell_type": "code",
      "execution_count": 3,
      "metadata": {
        "colab": {
          "base_uri": "https://localhost:8080/"
        },
        "id": "msXE8_LQJkTO",
        "outputId": "920a3f70-850f-4661-cde6-e6518b33cc5e"
      },
      "outputs": [
        {
          "output_type": "execute_result",
          "data": {
            "text/plain": [
              "['customer_segments.csv',\n",
              " 'Clustering_product.csv',\n",
              " '[REV] Meet 15 - Clustering K-means.ipynb',\n",
              " 'Meet 15. Clustering BreakoutRoom.ipynb',\n",
              " 'Exercise_15_Muklis_Pramaditya Ardian Saputra.ipynb']"
            ]
          },
          "metadata": {},
          "execution_count": 3
        }
      ],
      "source": [
        "# Membuat path untuk mengidentifikasi letak directory\n",
        "path = '/content/gdrive/MyDrive/SIB/6. Supervised Machine Learning - Clustering/6.1 Clustering - K - Means/'\n",
        "\n",
        "# Cek directory\n",
        "os.listdir(path)"
      ]
    },
    {
      "cell_type": "code",
      "execution_count": 4,
      "metadata": {
        "colab": {
          "base_uri": "https://localhost:8080/",
          "height": 354
        },
        "id": "vT9zrYAuKQ-n",
        "outputId": "998d5deb-1ff7-47ca-b7f1-640a97968bd1"
      },
      "outputs": [
        {
          "output_type": "execute_result",
          "data": {
            "text/plain": [
              "                                        Product Name Product ID  \\\n",
              "0  Women's adidas Originals NMD_Racer Primeknit S...     AH2430   \n",
              "1               Women's adidas Originals Sleek Shoes     G27341   \n",
              "2                  Women's adidas Swim Puka Slippers     CM0081   \n",
              "3   Women's adidas Sport Inspired Questar Ride Shoes     B44832   \n",
              "4           Women's adidas Originals Taekwondo Shoes     D98205   \n",
              "\n",
              "   Listing Price  Sale Price  Discount              Brand  \\\n",
              "0          14999        7499        50   Adidas ORIGINALS   \n",
              "1           7599        3799        50   Adidas ORIGINALS   \n",
              "2            999         599        40  Adidas CORE / NEO   \n",
              "3           6999        3499        50  Adidas CORE / NEO   \n",
              "4           7999        3999        50   Adidas ORIGINALS   \n",
              "\n",
              "                                         Description  Rating  Reviews  \\\n",
              "0  Channeling the streamlined look of an '80s rac...     4.8       41   \n",
              "1  A modern take on adidas sport heritage, tailor...     3.3       24   \n",
              "2  These adidas Puka slippers for women's come wi...     2.6       37   \n",
              "3  Inspired by modern tech runners, these women's...     4.1       35   \n",
              "4  This design is inspired by vintage Taekwondo s...     3.5       72   \n",
              "\n",
              "          Last Visited\\t  \n",
              "0  2020-04-13T15:06:14\\t  \n",
              "1  2020-04-13T15:06:15\\t  \n",
              "2  2020-04-13T15:06:15\\t  \n",
              "3  2020-04-13T15:06:15\\t  \n",
              "4  2020-04-13T15:06:15\\t  "
            ],
            "text/html": [
              "\n",
              "  <div id=\"df-ebf32443-a411-4dd2-a96d-c496b6d2e317\">\n",
              "    <div class=\"colab-df-container\">\n",
              "      <div>\n",
              "<style scoped>\n",
              "    .dataframe tbody tr th:only-of-type {\n",
              "        vertical-align: middle;\n",
              "    }\n",
              "\n",
              "    .dataframe tbody tr th {\n",
              "        vertical-align: top;\n",
              "    }\n",
              "\n",
              "    .dataframe thead th {\n",
              "        text-align: right;\n",
              "    }\n",
              "</style>\n",
              "<table border=\"1\" class=\"dataframe\">\n",
              "  <thead>\n",
              "    <tr style=\"text-align: right;\">\n",
              "      <th></th>\n",
              "      <th>Product Name</th>\n",
              "      <th>Product ID</th>\n",
              "      <th>Listing Price</th>\n",
              "      <th>Sale Price</th>\n",
              "      <th>Discount</th>\n",
              "      <th>Brand</th>\n",
              "      <th>Description</th>\n",
              "      <th>Rating</th>\n",
              "      <th>Reviews</th>\n",
              "      <th>Last Visited\\t</th>\n",
              "    </tr>\n",
              "  </thead>\n",
              "  <tbody>\n",
              "    <tr>\n",
              "      <th>0</th>\n",
              "      <td>Women's adidas Originals NMD_Racer Primeknit S...</td>\n",
              "      <td>AH2430</td>\n",
              "      <td>14999</td>\n",
              "      <td>7499</td>\n",
              "      <td>50</td>\n",
              "      <td>Adidas ORIGINALS</td>\n",
              "      <td>Channeling the streamlined look of an '80s rac...</td>\n",
              "      <td>4.8</td>\n",
              "      <td>41</td>\n",
              "      <td>2020-04-13T15:06:14\\t</td>\n",
              "    </tr>\n",
              "    <tr>\n",
              "      <th>1</th>\n",
              "      <td>Women's adidas Originals Sleek Shoes</td>\n",
              "      <td>G27341</td>\n",
              "      <td>7599</td>\n",
              "      <td>3799</td>\n",
              "      <td>50</td>\n",
              "      <td>Adidas ORIGINALS</td>\n",
              "      <td>A modern take on adidas sport heritage, tailor...</td>\n",
              "      <td>3.3</td>\n",
              "      <td>24</td>\n",
              "      <td>2020-04-13T15:06:15\\t</td>\n",
              "    </tr>\n",
              "    <tr>\n",
              "      <th>2</th>\n",
              "      <td>Women's adidas Swim Puka Slippers</td>\n",
              "      <td>CM0081</td>\n",
              "      <td>999</td>\n",
              "      <td>599</td>\n",
              "      <td>40</td>\n",
              "      <td>Adidas CORE / NEO</td>\n",
              "      <td>These adidas Puka slippers for women's come wi...</td>\n",
              "      <td>2.6</td>\n",
              "      <td>37</td>\n",
              "      <td>2020-04-13T15:06:15\\t</td>\n",
              "    </tr>\n",
              "    <tr>\n",
              "      <th>3</th>\n",
              "      <td>Women's adidas Sport Inspired Questar Ride Shoes</td>\n",
              "      <td>B44832</td>\n",
              "      <td>6999</td>\n",
              "      <td>3499</td>\n",
              "      <td>50</td>\n",
              "      <td>Adidas CORE / NEO</td>\n",
              "      <td>Inspired by modern tech runners, these women's...</td>\n",
              "      <td>4.1</td>\n",
              "      <td>35</td>\n",
              "      <td>2020-04-13T15:06:15\\t</td>\n",
              "    </tr>\n",
              "    <tr>\n",
              "      <th>4</th>\n",
              "      <td>Women's adidas Originals Taekwondo Shoes</td>\n",
              "      <td>D98205</td>\n",
              "      <td>7999</td>\n",
              "      <td>3999</td>\n",
              "      <td>50</td>\n",
              "      <td>Adidas ORIGINALS</td>\n",
              "      <td>This design is inspired by vintage Taekwondo s...</td>\n",
              "      <td>3.5</td>\n",
              "      <td>72</td>\n",
              "      <td>2020-04-13T15:06:15\\t</td>\n",
              "    </tr>\n",
              "  </tbody>\n",
              "</table>\n",
              "</div>\n",
              "      <button class=\"colab-df-convert\" onclick=\"convertToInteractive('df-ebf32443-a411-4dd2-a96d-c496b6d2e317')\"\n",
              "              title=\"Convert this dataframe to an interactive table.\"\n",
              "              style=\"display:none;\">\n",
              "        \n",
              "  <svg xmlns=\"http://www.w3.org/2000/svg\" height=\"24px\"viewBox=\"0 0 24 24\"\n",
              "       width=\"24px\">\n",
              "    <path d=\"M0 0h24v24H0V0z\" fill=\"none\"/>\n",
              "    <path d=\"M18.56 5.44l.94 2.06.94-2.06 2.06-.94-2.06-.94-.94-2.06-.94 2.06-2.06.94zm-11 1L8.5 8.5l.94-2.06 2.06-.94-2.06-.94L8.5 2.5l-.94 2.06-2.06.94zm10 10l.94 2.06.94-2.06 2.06-.94-2.06-.94-.94-2.06-.94 2.06-2.06.94z\"/><path d=\"M17.41 7.96l-1.37-1.37c-.4-.4-.92-.59-1.43-.59-.52 0-1.04.2-1.43.59L10.3 9.45l-7.72 7.72c-.78.78-.78 2.05 0 2.83L4 21.41c.39.39.9.59 1.41.59.51 0 1.02-.2 1.41-.59l7.78-7.78 2.81-2.81c.8-.78.8-2.07 0-2.86zM5.41 20L4 18.59l7.72-7.72 1.47 1.35L5.41 20z\"/>\n",
              "  </svg>\n",
              "      </button>\n",
              "      \n",
              "  <style>\n",
              "    .colab-df-container {\n",
              "      display:flex;\n",
              "      flex-wrap:wrap;\n",
              "      gap: 12px;\n",
              "    }\n",
              "\n",
              "    .colab-df-convert {\n",
              "      background-color: #E8F0FE;\n",
              "      border: none;\n",
              "      border-radius: 50%;\n",
              "      cursor: pointer;\n",
              "      display: none;\n",
              "      fill: #1967D2;\n",
              "      height: 32px;\n",
              "      padding: 0 0 0 0;\n",
              "      width: 32px;\n",
              "    }\n",
              "\n",
              "    .colab-df-convert:hover {\n",
              "      background-color: #E2EBFA;\n",
              "      box-shadow: 0px 1px 2px rgba(60, 64, 67, 0.3), 0px 1px 3px 1px rgba(60, 64, 67, 0.15);\n",
              "      fill: #174EA6;\n",
              "    }\n",
              "\n",
              "    [theme=dark] .colab-df-convert {\n",
              "      background-color: #3B4455;\n",
              "      fill: #D2E3FC;\n",
              "    }\n",
              "\n",
              "    [theme=dark] .colab-df-convert:hover {\n",
              "      background-color: #434B5C;\n",
              "      box-shadow: 0px 1px 3px 1px rgba(0, 0, 0, 0.15);\n",
              "      filter: drop-shadow(0px 1px 2px rgba(0, 0, 0, 0.3));\n",
              "      fill: #FFFFFF;\n",
              "    }\n",
              "  </style>\n",
              "\n",
              "      <script>\n",
              "        const buttonEl =\n",
              "          document.querySelector('#df-ebf32443-a411-4dd2-a96d-c496b6d2e317 button.colab-df-convert');\n",
              "        buttonEl.style.display =\n",
              "          google.colab.kernel.accessAllowed ? 'block' : 'none';\n",
              "\n",
              "        async function convertToInteractive(key) {\n",
              "          const element = document.querySelector('#df-ebf32443-a411-4dd2-a96d-c496b6d2e317');\n",
              "          const dataTable =\n",
              "            await google.colab.kernel.invokeFunction('convertToInteractive',\n",
              "                                                     [key], {});\n",
              "          if (!dataTable) return;\n",
              "\n",
              "          const docLinkHtml = 'Like what you see? Visit the ' +\n",
              "            '<a target=\"_blank\" href=https://colab.research.google.com/notebooks/data_table.ipynb>data table notebook</a>'\n",
              "            + ' to learn more about interactive tables.';\n",
              "          element.innerHTML = '';\n",
              "          dataTable['output_type'] = 'display_data';\n",
              "          await google.colab.output.renderOutput(dataTable, element);\n",
              "          const docLink = document.createElement('div');\n",
              "          docLink.innerHTML = docLinkHtml;\n",
              "          element.appendChild(docLink);\n",
              "        }\n",
              "      </script>\n",
              "    </div>\n",
              "  </div>\n",
              "  "
            ]
          },
          "metadata": {},
          "execution_count": 4
        }
      ],
      "source": [
        "# Load data\n",
        "df = pd.read_csv(os.path.join(path, \"Clustering_product.csv\"))\n",
        "df.head()"
      ]
    },
    {
      "cell_type": "code",
      "execution_count": 5,
      "metadata": {
        "colab": {
          "base_uri": "https://localhost:8080/",
          "height": 206
        },
        "id": "PYB-NPhoj6bo",
        "outputId": "db6eef30-c69b-4053-9f04-31d6bc74041c"
      },
      "outputs": [
        {
          "output_type": "execute_result",
          "data": {
            "text/plain": [
              "               Brand\n",
              "0   Adidas ORIGINALS\n",
              "1   Adidas ORIGINALS\n",
              "2  Adidas CORE / NEO\n",
              "3  Adidas CORE / NEO\n",
              "4   Adidas ORIGINALS"
            ],
            "text/html": [
              "\n",
              "  <div id=\"df-65eccc93-80b6-4b69-b5ee-0fe87ce09885\">\n",
              "    <div class=\"colab-df-container\">\n",
              "      <div>\n",
              "<style scoped>\n",
              "    .dataframe tbody tr th:only-of-type {\n",
              "        vertical-align: middle;\n",
              "    }\n",
              "\n",
              "    .dataframe tbody tr th {\n",
              "        vertical-align: top;\n",
              "    }\n",
              "\n",
              "    .dataframe thead th {\n",
              "        text-align: right;\n",
              "    }\n",
              "</style>\n",
              "<table border=\"1\" class=\"dataframe\">\n",
              "  <thead>\n",
              "    <tr style=\"text-align: right;\">\n",
              "      <th></th>\n",
              "      <th>Brand</th>\n",
              "    </tr>\n",
              "  </thead>\n",
              "  <tbody>\n",
              "    <tr>\n",
              "      <th>0</th>\n",
              "      <td>Adidas ORIGINALS</td>\n",
              "    </tr>\n",
              "    <tr>\n",
              "      <th>1</th>\n",
              "      <td>Adidas ORIGINALS</td>\n",
              "    </tr>\n",
              "    <tr>\n",
              "      <th>2</th>\n",
              "      <td>Adidas CORE / NEO</td>\n",
              "    </tr>\n",
              "    <tr>\n",
              "      <th>3</th>\n",
              "      <td>Adidas CORE / NEO</td>\n",
              "    </tr>\n",
              "    <tr>\n",
              "      <th>4</th>\n",
              "      <td>Adidas ORIGINALS</td>\n",
              "    </tr>\n",
              "  </tbody>\n",
              "</table>\n",
              "</div>\n",
              "      <button class=\"colab-df-convert\" onclick=\"convertToInteractive('df-65eccc93-80b6-4b69-b5ee-0fe87ce09885')\"\n",
              "              title=\"Convert this dataframe to an interactive table.\"\n",
              "              style=\"display:none;\">\n",
              "        \n",
              "  <svg xmlns=\"http://www.w3.org/2000/svg\" height=\"24px\"viewBox=\"0 0 24 24\"\n",
              "       width=\"24px\">\n",
              "    <path d=\"M0 0h24v24H0V0z\" fill=\"none\"/>\n",
              "    <path d=\"M18.56 5.44l.94 2.06.94-2.06 2.06-.94-2.06-.94-.94-2.06-.94 2.06-2.06.94zm-11 1L8.5 8.5l.94-2.06 2.06-.94-2.06-.94L8.5 2.5l-.94 2.06-2.06.94zm10 10l.94 2.06.94-2.06 2.06-.94-2.06-.94-.94-2.06-.94 2.06-2.06.94z\"/><path d=\"M17.41 7.96l-1.37-1.37c-.4-.4-.92-.59-1.43-.59-.52 0-1.04.2-1.43.59L10.3 9.45l-7.72 7.72c-.78.78-.78 2.05 0 2.83L4 21.41c.39.39.9.59 1.41.59.51 0 1.02-.2 1.41-.59l7.78-7.78 2.81-2.81c.8-.78.8-2.07 0-2.86zM5.41 20L4 18.59l7.72-7.72 1.47 1.35L5.41 20z\"/>\n",
              "  </svg>\n",
              "      </button>\n",
              "      \n",
              "  <style>\n",
              "    .colab-df-container {\n",
              "      display:flex;\n",
              "      flex-wrap:wrap;\n",
              "      gap: 12px;\n",
              "    }\n",
              "\n",
              "    .colab-df-convert {\n",
              "      background-color: #E8F0FE;\n",
              "      border: none;\n",
              "      border-radius: 50%;\n",
              "      cursor: pointer;\n",
              "      display: none;\n",
              "      fill: #1967D2;\n",
              "      height: 32px;\n",
              "      padding: 0 0 0 0;\n",
              "      width: 32px;\n",
              "    }\n",
              "\n",
              "    .colab-df-convert:hover {\n",
              "      background-color: #E2EBFA;\n",
              "      box-shadow: 0px 1px 2px rgba(60, 64, 67, 0.3), 0px 1px 3px 1px rgba(60, 64, 67, 0.15);\n",
              "      fill: #174EA6;\n",
              "    }\n",
              "\n",
              "    [theme=dark] .colab-df-convert {\n",
              "      background-color: #3B4455;\n",
              "      fill: #D2E3FC;\n",
              "    }\n",
              "\n",
              "    [theme=dark] .colab-df-convert:hover {\n",
              "      background-color: #434B5C;\n",
              "      box-shadow: 0px 1px 3px 1px rgba(0, 0, 0, 0.15);\n",
              "      filter: drop-shadow(0px 1px 2px rgba(0, 0, 0, 0.3));\n",
              "      fill: #FFFFFF;\n",
              "    }\n",
              "  </style>\n",
              "\n",
              "      <script>\n",
              "        const buttonEl =\n",
              "          document.querySelector('#df-65eccc93-80b6-4b69-b5ee-0fe87ce09885 button.colab-df-convert');\n",
              "        buttonEl.style.display =\n",
              "          google.colab.kernel.accessAllowed ? 'block' : 'none';\n",
              "\n",
              "        async function convertToInteractive(key) {\n",
              "          const element = document.querySelector('#df-65eccc93-80b6-4b69-b5ee-0fe87ce09885');\n",
              "          const dataTable =\n",
              "            await google.colab.kernel.invokeFunction('convertToInteractive',\n",
              "                                                     [key], {});\n",
              "          if (!dataTable) return;\n",
              "\n",
              "          const docLinkHtml = 'Like what you see? Visit the ' +\n",
              "            '<a target=\"_blank\" href=https://colab.research.google.com/notebooks/data_table.ipynb>data table notebook</a>'\n",
              "            + ' to learn more about interactive tables.';\n",
              "          element.innerHTML = '';\n",
              "          dataTable['output_type'] = 'display_data';\n",
              "          await google.colab.output.renderOutput(dataTable, element);\n",
              "          const docLink = document.createElement('div');\n",
              "          docLink.innerHTML = docLinkHtml;\n",
              "          element.appendChild(docLink);\n",
              "        }\n",
              "      </script>\n",
              "    </div>\n",
              "  </div>\n",
              "  "
            ]
          },
          "metadata": {},
          "execution_count": 5
        }
      ],
      "source": [
        "# Data kategori\n",
        "categorical = [\"Brand\"]\n",
        "df_categorical = df[categorical]\n",
        "df_categorical.head()"
      ]
    },
    {
      "cell_type": "markdown",
      "metadata": {
        "id": "LlIjc1XzX-VQ"
      },
      "source": [
        "> **Dalam materi ini, data preprocessing seperti cek missing value, duplicate data, data type tidak akan dilakukan, karena fokus dari materi adalah pada clustering. Anda dapat membuka kembali materi sebelumnya dan menerapkankan sendiri dalam materi ini jika ingin menganalisis secara lengkap.**"
      ]
    },
    {
      "cell_type": "markdown",
      "metadata": {
        "id": "qdUBusj8kE8k"
      },
      "source": [
        "## Exploratory Data Analysis (EDA)"
      ]
    },
    {
      "cell_type": "code",
      "execution_count": 6,
      "metadata": {
        "colab": {
          "base_uri": "https://localhost:8080/"
        },
        "id": "gAwvpmntq3yH",
        "outputId": "b6487e0a-0105-4a16-aa2b-f9bd84612e7c"
      },
      "outputs": [
        {
          "output_type": "stream",
          "name": "stdout",
          "text": [
            "<class 'pandas.core.frame.DataFrame'>\n",
            "RangeIndex: 3268 entries, 0 to 3267\n",
            "Data columns (total 10 columns):\n",
            " #   Column         Non-Null Count  Dtype  \n",
            "---  ------         --------------  -----  \n",
            " 0   Product Name   3268 non-null   object \n",
            " 1   Product ID     3268 non-null   object \n",
            " 2   Listing Price  3268 non-null   int64  \n",
            " 3   Sale Price     3268 non-null   int64  \n",
            " 4   Discount       3268 non-null   int64  \n",
            " 5   Brand          3268 non-null   object \n",
            " 6   Description    3265 non-null   object \n",
            " 7   Rating         3268 non-null   float64\n",
            " 8   Reviews        3268 non-null   int64  \n",
            " 9   Last Visited\t  3268 non-null   object \n",
            "dtypes: float64(1), int64(4), object(5)\n",
            "memory usage: 255.4+ KB\n"
          ]
        }
      ],
      "source": [
        "# Cek informasi yang terdapat di data\n",
        "df.info()"
      ]
    },
    {
      "cell_type": "code",
      "execution_count": 7,
      "metadata": {
        "colab": {
          "base_uri": "https://localhost:8080/",
          "height": 300
        },
        "id": "s4JAonV-hZmL",
        "outputId": "9b42ae99-5a87-44a8-8072-80b69c8b21e4"
      },
      "outputs": [
        {
          "output_type": "execute_result",
          "data": {
            "text/plain": [
              "       Listing Price    Sale Price     Discount       Rating      Reviews\n",
              "count    3268.000000   3268.000000  3268.000000  3268.000000  3268.000000\n",
              "mean     6868.020196   6134.265606    26.875765     3.242105    40.551714\n",
              "std      4724.659386   4293.247581    22.633487     1.428856    31.543491\n",
              "min         0.000000    449.000000     0.000000     0.000000     0.000000\n",
              "25%      4299.000000   2999.000000     0.000000     2.600000    10.000000\n",
              "50%      5999.000000   4799.000000    40.000000     3.500000    37.000000\n",
              "75%      8999.000000   7995.000000    50.000000     4.400000    68.000000\n",
              "max     29999.000000  36500.000000    60.000000     5.000000   223.000000"
            ],
            "text/html": [
              "\n",
              "  <div id=\"df-b28e1cb9-5abd-4723-b985-62880d05ecf8\">\n",
              "    <div class=\"colab-df-container\">\n",
              "      <div>\n",
              "<style scoped>\n",
              "    .dataframe tbody tr th:only-of-type {\n",
              "        vertical-align: middle;\n",
              "    }\n",
              "\n",
              "    .dataframe tbody tr th {\n",
              "        vertical-align: top;\n",
              "    }\n",
              "\n",
              "    .dataframe thead th {\n",
              "        text-align: right;\n",
              "    }\n",
              "</style>\n",
              "<table border=\"1\" class=\"dataframe\">\n",
              "  <thead>\n",
              "    <tr style=\"text-align: right;\">\n",
              "      <th></th>\n",
              "      <th>Listing Price</th>\n",
              "      <th>Sale Price</th>\n",
              "      <th>Discount</th>\n",
              "      <th>Rating</th>\n",
              "      <th>Reviews</th>\n",
              "    </tr>\n",
              "  </thead>\n",
              "  <tbody>\n",
              "    <tr>\n",
              "      <th>count</th>\n",
              "      <td>3268.000000</td>\n",
              "      <td>3268.000000</td>\n",
              "      <td>3268.000000</td>\n",
              "      <td>3268.000000</td>\n",
              "      <td>3268.000000</td>\n",
              "    </tr>\n",
              "    <tr>\n",
              "      <th>mean</th>\n",
              "      <td>6868.020196</td>\n",
              "      <td>6134.265606</td>\n",
              "      <td>26.875765</td>\n",
              "      <td>3.242105</td>\n",
              "      <td>40.551714</td>\n",
              "    </tr>\n",
              "    <tr>\n",
              "      <th>std</th>\n",
              "      <td>4724.659386</td>\n",
              "      <td>4293.247581</td>\n",
              "      <td>22.633487</td>\n",
              "      <td>1.428856</td>\n",
              "      <td>31.543491</td>\n",
              "    </tr>\n",
              "    <tr>\n",
              "      <th>min</th>\n",
              "      <td>0.000000</td>\n",
              "      <td>449.000000</td>\n",
              "      <td>0.000000</td>\n",
              "      <td>0.000000</td>\n",
              "      <td>0.000000</td>\n",
              "    </tr>\n",
              "    <tr>\n",
              "      <th>25%</th>\n",
              "      <td>4299.000000</td>\n",
              "      <td>2999.000000</td>\n",
              "      <td>0.000000</td>\n",
              "      <td>2.600000</td>\n",
              "      <td>10.000000</td>\n",
              "    </tr>\n",
              "    <tr>\n",
              "      <th>50%</th>\n",
              "      <td>5999.000000</td>\n",
              "      <td>4799.000000</td>\n",
              "      <td>40.000000</td>\n",
              "      <td>3.500000</td>\n",
              "      <td>37.000000</td>\n",
              "    </tr>\n",
              "    <tr>\n",
              "      <th>75%</th>\n",
              "      <td>8999.000000</td>\n",
              "      <td>7995.000000</td>\n",
              "      <td>50.000000</td>\n",
              "      <td>4.400000</td>\n",
              "      <td>68.000000</td>\n",
              "    </tr>\n",
              "    <tr>\n",
              "      <th>max</th>\n",
              "      <td>29999.000000</td>\n",
              "      <td>36500.000000</td>\n",
              "      <td>60.000000</td>\n",
              "      <td>5.000000</td>\n",
              "      <td>223.000000</td>\n",
              "    </tr>\n",
              "  </tbody>\n",
              "</table>\n",
              "</div>\n",
              "      <button class=\"colab-df-convert\" onclick=\"convertToInteractive('df-b28e1cb9-5abd-4723-b985-62880d05ecf8')\"\n",
              "              title=\"Convert this dataframe to an interactive table.\"\n",
              "              style=\"display:none;\">\n",
              "        \n",
              "  <svg xmlns=\"http://www.w3.org/2000/svg\" height=\"24px\"viewBox=\"0 0 24 24\"\n",
              "       width=\"24px\">\n",
              "    <path d=\"M0 0h24v24H0V0z\" fill=\"none\"/>\n",
              "    <path d=\"M18.56 5.44l.94 2.06.94-2.06 2.06-.94-2.06-.94-.94-2.06-.94 2.06-2.06.94zm-11 1L8.5 8.5l.94-2.06 2.06-.94-2.06-.94L8.5 2.5l-.94 2.06-2.06.94zm10 10l.94 2.06.94-2.06 2.06-.94-2.06-.94-.94-2.06-.94 2.06-2.06.94z\"/><path d=\"M17.41 7.96l-1.37-1.37c-.4-.4-.92-.59-1.43-.59-.52 0-1.04.2-1.43.59L10.3 9.45l-7.72 7.72c-.78.78-.78 2.05 0 2.83L4 21.41c.39.39.9.59 1.41.59.51 0 1.02-.2 1.41-.59l7.78-7.78 2.81-2.81c.8-.78.8-2.07 0-2.86zM5.41 20L4 18.59l7.72-7.72 1.47 1.35L5.41 20z\"/>\n",
              "  </svg>\n",
              "      </button>\n",
              "      \n",
              "  <style>\n",
              "    .colab-df-container {\n",
              "      display:flex;\n",
              "      flex-wrap:wrap;\n",
              "      gap: 12px;\n",
              "    }\n",
              "\n",
              "    .colab-df-convert {\n",
              "      background-color: #E8F0FE;\n",
              "      border: none;\n",
              "      border-radius: 50%;\n",
              "      cursor: pointer;\n",
              "      display: none;\n",
              "      fill: #1967D2;\n",
              "      height: 32px;\n",
              "      padding: 0 0 0 0;\n",
              "      width: 32px;\n",
              "    }\n",
              "\n",
              "    .colab-df-convert:hover {\n",
              "      background-color: #E2EBFA;\n",
              "      box-shadow: 0px 1px 2px rgba(60, 64, 67, 0.3), 0px 1px 3px 1px rgba(60, 64, 67, 0.15);\n",
              "      fill: #174EA6;\n",
              "    }\n",
              "\n",
              "    [theme=dark] .colab-df-convert {\n",
              "      background-color: #3B4455;\n",
              "      fill: #D2E3FC;\n",
              "    }\n",
              "\n",
              "    [theme=dark] .colab-df-convert:hover {\n",
              "      background-color: #434B5C;\n",
              "      box-shadow: 0px 1px 3px 1px rgba(0, 0, 0, 0.15);\n",
              "      filter: drop-shadow(0px 1px 2px rgba(0, 0, 0, 0.3));\n",
              "      fill: #FFFFFF;\n",
              "    }\n",
              "  </style>\n",
              "\n",
              "      <script>\n",
              "        const buttonEl =\n",
              "          document.querySelector('#df-b28e1cb9-5abd-4723-b985-62880d05ecf8 button.colab-df-convert');\n",
              "        buttonEl.style.display =\n",
              "          google.colab.kernel.accessAllowed ? 'block' : 'none';\n",
              "\n",
              "        async function convertToInteractive(key) {\n",
              "          const element = document.querySelector('#df-b28e1cb9-5abd-4723-b985-62880d05ecf8');\n",
              "          const dataTable =\n",
              "            await google.colab.kernel.invokeFunction('convertToInteractive',\n",
              "                                                     [key], {});\n",
              "          if (!dataTable) return;\n",
              "\n",
              "          const docLinkHtml = 'Like what you see? Visit the ' +\n",
              "            '<a target=\"_blank\" href=https://colab.research.google.com/notebooks/data_table.ipynb>data table notebook</a>'\n",
              "            + ' to learn more about interactive tables.';\n",
              "          element.innerHTML = '';\n",
              "          dataTable['output_type'] = 'display_data';\n",
              "          await google.colab.output.renderOutput(dataTable, element);\n",
              "          const docLink = document.createElement('div');\n",
              "          docLink.innerHTML = docLinkHtml;\n",
              "          element.appendChild(docLink);\n",
              "        }\n",
              "      </script>\n",
              "    </div>\n",
              "  </div>\n",
              "  "
            ]
          },
          "metadata": {},
          "execution_count": 7
        }
      ],
      "source": [
        "# Analisa deskriptif\n",
        "df.describe()"
      ]
    },
    {
      "cell_type": "code",
      "source": [
        "df = df.rename(columns={'Listing Price': 'Listing_Price'})\n",
        "df = df.rename(columns={'Sale Price': 'Sale_Price'})"
      ],
      "metadata": {
        "id": "p05G-MJnwh3I"
      },
      "execution_count": 8,
      "outputs": []
    },
    {
      "cell_type": "code",
      "source": [
        "# Analisa deskriptif\n",
        "df.describe()"
      ],
      "metadata": {
        "colab": {
          "base_uri": "https://localhost:8080/",
          "height": 300
        },
        "id": "497-9lHnw2SL",
        "outputId": "972c933a-c988-4e69-ae56-51baae65c45b"
      },
      "execution_count": 9,
      "outputs": [
        {
          "output_type": "execute_result",
          "data": {
            "text/plain": [
              "       Listing_Price    Sale_Price     Discount       Rating      Reviews\n",
              "count    3268.000000   3268.000000  3268.000000  3268.000000  3268.000000\n",
              "mean     6868.020196   6134.265606    26.875765     3.242105    40.551714\n",
              "std      4724.659386   4293.247581    22.633487     1.428856    31.543491\n",
              "min         0.000000    449.000000     0.000000     0.000000     0.000000\n",
              "25%      4299.000000   2999.000000     0.000000     2.600000    10.000000\n",
              "50%      5999.000000   4799.000000    40.000000     3.500000    37.000000\n",
              "75%      8999.000000   7995.000000    50.000000     4.400000    68.000000\n",
              "max     29999.000000  36500.000000    60.000000     5.000000   223.000000"
            ],
            "text/html": [
              "\n",
              "  <div id=\"df-199fb881-6e6e-45ae-8fc0-b337761d075b\">\n",
              "    <div class=\"colab-df-container\">\n",
              "      <div>\n",
              "<style scoped>\n",
              "    .dataframe tbody tr th:only-of-type {\n",
              "        vertical-align: middle;\n",
              "    }\n",
              "\n",
              "    .dataframe tbody tr th {\n",
              "        vertical-align: top;\n",
              "    }\n",
              "\n",
              "    .dataframe thead th {\n",
              "        text-align: right;\n",
              "    }\n",
              "</style>\n",
              "<table border=\"1\" class=\"dataframe\">\n",
              "  <thead>\n",
              "    <tr style=\"text-align: right;\">\n",
              "      <th></th>\n",
              "      <th>Listing_Price</th>\n",
              "      <th>Sale_Price</th>\n",
              "      <th>Discount</th>\n",
              "      <th>Rating</th>\n",
              "      <th>Reviews</th>\n",
              "    </tr>\n",
              "  </thead>\n",
              "  <tbody>\n",
              "    <tr>\n",
              "      <th>count</th>\n",
              "      <td>3268.000000</td>\n",
              "      <td>3268.000000</td>\n",
              "      <td>3268.000000</td>\n",
              "      <td>3268.000000</td>\n",
              "      <td>3268.000000</td>\n",
              "    </tr>\n",
              "    <tr>\n",
              "      <th>mean</th>\n",
              "      <td>6868.020196</td>\n",
              "      <td>6134.265606</td>\n",
              "      <td>26.875765</td>\n",
              "      <td>3.242105</td>\n",
              "      <td>40.551714</td>\n",
              "    </tr>\n",
              "    <tr>\n",
              "      <th>std</th>\n",
              "      <td>4724.659386</td>\n",
              "      <td>4293.247581</td>\n",
              "      <td>22.633487</td>\n",
              "      <td>1.428856</td>\n",
              "      <td>31.543491</td>\n",
              "    </tr>\n",
              "    <tr>\n",
              "      <th>min</th>\n",
              "      <td>0.000000</td>\n",
              "      <td>449.000000</td>\n",
              "      <td>0.000000</td>\n",
              "      <td>0.000000</td>\n",
              "      <td>0.000000</td>\n",
              "    </tr>\n",
              "    <tr>\n",
              "      <th>25%</th>\n",
              "      <td>4299.000000</td>\n",
              "      <td>2999.000000</td>\n",
              "      <td>0.000000</td>\n",
              "      <td>2.600000</td>\n",
              "      <td>10.000000</td>\n",
              "    </tr>\n",
              "    <tr>\n",
              "      <th>50%</th>\n",
              "      <td>5999.000000</td>\n",
              "      <td>4799.000000</td>\n",
              "      <td>40.000000</td>\n",
              "      <td>3.500000</td>\n",
              "      <td>37.000000</td>\n",
              "    </tr>\n",
              "    <tr>\n",
              "      <th>75%</th>\n",
              "      <td>8999.000000</td>\n",
              "      <td>7995.000000</td>\n",
              "      <td>50.000000</td>\n",
              "      <td>4.400000</td>\n",
              "      <td>68.000000</td>\n",
              "    </tr>\n",
              "    <tr>\n",
              "      <th>max</th>\n",
              "      <td>29999.000000</td>\n",
              "      <td>36500.000000</td>\n",
              "      <td>60.000000</td>\n",
              "      <td>5.000000</td>\n",
              "      <td>223.000000</td>\n",
              "    </tr>\n",
              "  </tbody>\n",
              "</table>\n",
              "</div>\n",
              "      <button class=\"colab-df-convert\" onclick=\"convertToInteractive('df-199fb881-6e6e-45ae-8fc0-b337761d075b')\"\n",
              "              title=\"Convert this dataframe to an interactive table.\"\n",
              "              style=\"display:none;\">\n",
              "        \n",
              "  <svg xmlns=\"http://www.w3.org/2000/svg\" height=\"24px\"viewBox=\"0 0 24 24\"\n",
              "       width=\"24px\">\n",
              "    <path d=\"M0 0h24v24H0V0z\" fill=\"none\"/>\n",
              "    <path d=\"M18.56 5.44l.94 2.06.94-2.06 2.06-.94-2.06-.94-.94-2.06-.94 2.06-2.06.94zm-11 1L8.5 8.5l.94-2.06 2.06-.94-2.06-.94L8.5 2.5l-.94 2.06-2.06.94zm10 10l.94 2.06.94-2.06 2.06-.94-2.06-.94-.94-2.06-.94 2.06-2.06.94z\"/><path d=\"M17.41 7.96l-1.37-1.37c-.4-.4-.92-.59-1.43-.59-.52 0-1.04.2-1.43.59L10.3 9.45l-7.72 7.72c-.78.78-.78 2.05 0 2.83L4 21.41c.39.39.9.59 1.41.59.51 0 1.02-.2 1.41-.59l7.78-7.78 2.81-2.81c.8-.78.8-2.07 0-2.86zM5.41 20L4 18.59l7.72-7.72 1.47 1.35L5.41 20z\"/>\n",
              "  </svg>\n",
              "      </button>\n",
              "      \n",
              "  <style>\n",
              "    .colab-df-container {\n",
              "      display:flex;\n",
              "      flex-wrap:wrap;\n",
              "      gap: 12px;\n",
              "    }\n",
              "\n",
              "    .colab-df-convert {\n",
              "      background-color: #E8F0FE;\n",
              "      border: none;\n",
              "      border-radius: 50%;\n",
              "      cursor: pointer;\n",
              "      display: none;\n",
              "      fill: #1967D2;\n",
              "      height: 32px;\n",
              "      padding: 0 0 0 0;\n",
              "      width: 32px;\n",
              "    }\n",
              "\n",
              "    .colab-df-convert:hover {\n",
              "      background-color: #E2EBFA;\n",
              "      box-shadow: 0px 1px 2px rgba(60, 64, 67, 0.3), 0px 1px 3px 1px rgba(60, 64, 67, 0.15);\n",
              "      fill: #174EA6;\n",
              "    }\n",
              "\n",
              "    [theme=dark] .colab-df-convert {\n",
              "      background-color: #3B4455;\n",
              "      fill: #D2E3FC;\n",
              "    }\n",
              "\n",
              "    [theme=dark] .colab-df-convert:hover {\n",
              "      background-color: #434B5C;\n",
              "      box-shadow: 0px 1px 3px 1px rgba(0, 0, 0, 0.15);\n",
              "      filter: drop-shadow(0px 1px 2px rgba(0, 0, 0, 0.3));\n",
              "      fill: #FFFFFF;\n",
              "    }\n",
              "  </style>\n",
              "\n",
              "      <script>\n",
              "        const buttonEl =\n",
              "          document.querySelector('#df-199fb881-6e6e-45ae-8fc0-b337761d075b button.colab-df-convert');\n",
              "        buttonEl.style.display =\n",
              "          google.colab.kernel.accessAllowed ? 'block' : 'none';\n",
              "\n",
              "        async function convertToInteractive(key) {\n",
              "          const element = document.querySelector('#df-199fb881-6e6e-45ae-8fc0-b337761d075b');\n",
              "          const dataTable =\n",
              "            await google.colab.kernel.invokeFunction('convertToInteractive',\n",
              "                                                     [key], {});\n",
              "          if (!dataTable) return;\n",
              "\n",
              "          const docLinkHtml = 'Like what you see? Visit the ' +\n",
              "            '<a target=\"_blank\" href=https://colab.research.google.com/notebooks/data_table.ipynb>data table notebook</a>'\n",
              "            + ' to learn more about interactive tables.';\n",
              "          element.innerHTML = '';\n",
              "          dataTable['output_type'] = 'display_data';\n",
              "          await google.colab.output.renderOutput(dataTable, element);\n",
              "          const docLink = document.createElement('div');\n",
              "          docLink.innerHTML = docLinkHtml;\n",
              "          element.appendChild(docLink);\n",
              "        }\n",
              "      </script>\n",
              "    </div>\n",
              "  </div>\n",
              "  "
            ]
          },
          "metadata": {},
          "execution_count": 9
        }
      ]
    },
    {
      "cell_type": "code",
      "source": [
        "# Persebaran\n",
        "fig, ax = plt.subplots(2,3, figsize=(15,12))\n",
        "sns.boxplot(df[\"Listing_Price\"],ax=ax[0,0])\n",
        "ax[0, 0].title.set_text('Listing_Price')\n",
        "sns.boxplot(df[\"Sale_Price\"], ax=ax[0,1])\n",
        "ax[0, 1].title.set_text('Sale_Price')\n",
        "sns.boxplot(df[\"Discount\"], ax=ax[0,2])\n",
        "ax[0, 2].title.set_text('Discount')\n",
        "sns.boxplot(df[\"Rating\"], ax=ax[1,0])\n",
        "ax[1, 0].title.set_text('Rating')\n",
        "sns.boxplot(df[\"Reviews\"], ax=ax[1,1])\n",
        "ax[1, 1].title.set_text('Reviews')\n",
        "\n",
        "plt.show()"
      ],
      "metadata": {
        "colab": {
          "base_uri": "https://localhost:8080/",
          "height": 1000
        },
        "id": "nF19kZ0kaKM_",
        "outputId": "6a4c4c09-6666-4272-b4a6-79d59d0f2bf0"
      },
      "execution_count": 10,
      "outputs": [
        {
          "output_type": "display_data",
          "data": {
            "text/plain": [
              "<Figure size 1500x1200 with 6 Axes>"
            ],
            "image/png": "[encoded data removed]"
          },
          "metadata": {}
        }
      ]
    },
    {
      "cell_type": "markdown",
      "source": [
        "Dari detect outlier menggunakan bloxplot diatas didapat\n",
        "1. Terdapat outliers pada data Listing Price, Sale Price, Reviews\n",
        "2. Tidak terdapat outliers pada data Discount dan Rating"
      ],
      "metadata": {
        "id": "2J7YC_9ZfM4l"
      }
    },
    {
      "cell_type": "markdown",
      "source": [
        "1. Handling Outliers pada Listing Price"
      ],
      "metadata": {
        "id": "D5sVkJ3EvNO3"
      }
    },
    {
      "cell_type": "code",
      "source": [
        "# Deteksi dengan boxplot\n",
        "plt.boxplot(list(df.Listing_Price), vert=False)\n",
        "plt.title(\"Detecting outliers using Boxplot\")\n",
        "plt.xlabel('Listing Price')"
      ],
      "metadata": {
        "colab": {
          "base_uri": "https://localhost:8080/",
          "height": 489
        },
        "id": "rTV5xq6GvSS1",
        "outputId": "f6e06b88-64b0-488c-c9e7-39c7e23d042b"
      },
      "execution_count": 11,
      "outputs": [
        {
          "output_type": "execute_result",
          "data": {
            "text/plain": [
              "Text(0.5, 0, 'Listing Price')"
            ]
          },
          "metadata": {},
          "execution_count": 11
        },
        {
          "output_type": "display_data",
          "data": {
            "text/plain": [
              "<Figure size 640x480 with 1 Axes>"
            ],
            "image/png": "[encoded data removed]"
          },
          "metadata": {}
        }
      ]
    },
    {
      "cell_type": "code",
      "source": [
        "# Fungsi Pendeteksian Outlier dengan IQR\n",
        "def detect_outliers_iqr(data):\n",
        "    outliers = []\n",
        "    data = sorted(data)\n",
        "    q1 = np.percentile(data, 25)\n",
        "    q3 = np.percentile(data, 75)\n",
        "\n",
        "    IQR = q3-q1\n",
        "    lwr_bound = q1-(1.5*IQR)\n",
        "    upr_bound = q3+(1.5*IQR)\n",
        "\n",
        "    for i in data: \n",
        "        if (i<lwr_bound or i>upr_bound):\n",
        "            outliers.append(i)\n",
        "    return outliers\n",
        "sample_outliers = detect_outliers_iqr(df.Listing_Price)\n",
        "print(\"Outliers from IQR method: \", sample_outliers)"
      ],
      "metadata": {
        "colab": {
          "base_uri": "https://localhost:8080/"
        },
        "id": "SP_E76oxxEHx",
        "outputId": "478350f1-76ab-4a6d-a2d3-753dd450582b"
      },
      "execution_count": 12,
      "outputs": [
        {
          "output_type": "stream",
          "name": "stdout",
          "text": [
            "Outliers from IQR method:  [16995, 16995, 16995, 16995, 16995, 16995, 16995, 16995, 16995, 16995, 16995, 16995, 16995, 16995, 16995, 16999, 16999, 16999, 16999, 16999, 16999, 16999, 16999, 16999, 16999, 16999, 16999, 16999, 16999, 16999, 16999, 16999, 16999, 16999, 16999, 16999, 16999, 16999, 16999, 16999, 16999, 16999, 17995, 17995, 17995, 17995, 17999, 17999, 17999, 17999, 17999, 17999, 17999, 17999, 17999, 17999, 17999, 17999, 17999, 17999, 17999, 17999, 17999, 17999, 17999, 17999, 17999, 17999, 17999, 17999, 17999, 17999, 17999, 17999, 17999, 17999, 17999, 17999, 17999, 17999, 17999, 18995, 18995, 18999, 18999, 18999, 18999, 18999, 18999, 18999, 19995, 19999, 19999, 19999, 19999, 19999, 19999, 19999, 19999, 19999, 19999, 19999, 21999, 21999, 21999, 21999, 21999, 21999, 21999, 21999, 21999, 21999, 21999, 22999, 22999, 22999, 22999, 22999, 22999, 22999, 22999, 23999, 23999, 23999, 23999, 23999, 27999, 27999, 27999, 27999, 29999, 29999]\n"
          ]
        }
      ]
    },
    {
      "cell_type": "code",
      "source": [
        "# Deteksi outlier dengan IQR\n",
        "outliers = detect_outliers_iqr(list(df.Listing_Price))\n",
        "print(\"Outliers Overs from IQR method: \", outliers)\n",
        "print(\"Banyaknya outlier: \",len(outliers))"
      ],
      "metadata": {
        "colab": {
          "base_uri": "https://localhost:8080/"
        },
        "id": "EWR8xylPxLDG",
        "outputId": "85743d5a-d52c-44a8-d959-dae038bd620f"
      },
      "execution_count": 13,
      "outputs": [
        {
          "output_type": "stream",
          "name": "stdout",
          "text": [
            "Outliers Overs from IQR method:  [16995, 16995, 16995, 16995, 16995, 16995, 16995, 16995, 16995, 16995, 16995, 16995, 16995, 16995, 16995, 16999, 16999, 16999, 16999, 16999, 16999, 16999, 16999, 16999, 16999, 16999, 16999, 16999, 16999, 16999, 16999, 16999, 16999, 16999, 16999, 16999, 16999, 16999, 16999, 16999, 16999, 16999, 17995, 17995, 17995, 17995, 17999, 17999, 17999, 17999, 17999, 17999, 17999, 17999, 17999, 17999, 17999, 17999, 17999, 17999, 17999, 17999, 17999, 17999, 17999, 17999, 17999, 17999, 17999, 17999, 17999, 17999, 17999, 17999, 17999, 17999, 17999, 17999, 17999, 17999, 17999, 18995, 18995, 18999, 18999, 18999, 18999, 18999, 18999, 18999, 19995, 19999, 19999, 19999, 19999, 19999, 19999, 19999, 19999, 19999, 19999, 19999, 21999, 21999, 21999, 21999, 21999, 21999, 21999, 21999, 21999, 21999, 21999, 22999, 22999, 22999, 22999, 22999, 22999, 22999, 22999, 23999, 23999, 23999, 23999, 23999, 27999, 27999, 27999, 27999, 29999, 29999]\n",
            "Banyaknya outlier:  132\n"
          ]
        }
      ]
    },
    {
      "cell_type": "markdown",
      "source": [
        "Replace dengan median data"
      ],
      "metadata": {
        "id": "nXzqLHqBxR1M"
      }
    },
    {
      "cell_type": "code",
      "source": [
        "e = []\n",
        "for y in list(df.Listing_Price):\n",
        "    ff = y in outliers\n",
        "    if ff is True:\n",
        "        y=statistics.median(list(df.Listing_Price))\n",
        "    else:\n",
        "        y=y\n",
        "    e.append(y)"
      ],
      "metadata": {
        "id": "WebmqZylxTba"
      },
      "execution_count": 14,
      "outputs": []
    },
    {
      "cell_type": "code",
      "source": [
        "# Menghitung nilai mean dan median data\n",
        "print(\"Mean data : \",statistics.mean(list(df.Listing_Price)))\n",
        "print(\"Median data : \",statistics.median(list(df.Listing_Price)))\n",
        "print(\"Mean data setelah replacing median : \",statistics.mean(e))\n",
        "print(\"Median data setelah replacing median: \",statistics.median(e))"
      ],
      "metadata": {
        "colab": {
          "base_uri": "https://localhost:8080/"
        },
        "id": "jcKv3UySxV5x",
        "outputId": "e6038281-7fc3-48e4-d024-f1431c0038c0"
      },
      "execution_count": 15,
      "outputs": [
        {
          "output_type": "stream",
          "name": "stdout",
          "text": [
            "Mean data :  6868.020195838433\n",
            "Median data :  5999.0\n",
            "Mean data setelah replacing median :  6331.63341493268\n",
            "Median data setelah replacing median:  5999.0\n"
          ]
        }
      ]
    },
    {
      "cell_type": "code",
      "source": [
        "# Boxplot setelah replace median\n",
        "plt.boxplot(e, vert=False)\n",
        "plt.title(\"Boxplot after Handling Outlier\")\n",
        "plt.xlabel('Listing Price')"
      ],
      "metadata": {
        "colab": {
          "base_uri": "https://localhost:8080/",
          "height": 489
        },
        "id": "bxlRHlj5xY6T",
        "outputId": "7289b07b-b465-4139-d84f-708328ed7be1"
      },
      "execution_count": 16,
      "outputs": [
        {
          "output_type": "execute_result",
          "data": {
            "text/plain": [
              "Text(0.5, 0, 'Listing Price')"
            ]
          },
          "metadata": {},
          "execution_count": 16
        },
        {
          "output_type": "display_data",
          "data": {
            "text/plain": [
              "<Figure size 640x480 with 1 Axes>"
            ],
            "image/png": "[encoded data removed]"
          },
          "metadata": {}
        }
      ]
    },
    {
      "cell_type": "markdown",
      "source": [
        "2. Handling Outliers pada Sale Price"
      ],
      "metadata": {
        "id": "GCjIQcJMy8j1"
      }
    },
    {
      "cell_type": "code",
      "source": [
        "# Deteksi dengan boxplot\n",
        "plt.boxplot(list(df.Sale_Price), vert=False)\n",
        "plt.title(\"Detecting outliers using Boxplot\")\n",
        "plt.xlabel('Sale Price')"
      ],
      "metadata": {
        "colab": {
          "base_uri": "https://localhost:8080/",
          "height": 489
        },
        "id": "gUR4uXPfzCJ5",
        "outputId": "84b6caf9-7e75-4688-f985-6a62064bda5b"
      },
      "execution_count": 17,
      "outputs": [
        {
          "output_type": "execute_result",
          "data": {
            "text/plain": [
              "Text(0.5, 0, 'Sale Price')"
            ]
          },
          "metadata": {},
          "execution_count": 17
        },
        {
          "output_type": "display_data",
          "data": {
            "text/plain": [
              "<Figure size 640x480 with 1 Axes>"
            ],
            "image/png": "[encoded data removed]"
          },
          "metadata": {}
        }
      ]
    },
    {
      "cell_type": "code",
      "source": [
        "# Fungsi Pendeteksian Outlier dengan IQR\n",
        "def detect_outliers_iqr(data):\n",
        "    outliers = []\n",
        "    data = sorted(data)\n",
        "    q1 = np.percentile(data, 25)\n",
        "    q3 = np.percentile(data, 75)\n",
        "\n",
        "    IQR = q3-q1\n",
        "    lwr_bound = q1-(1.5*IQR)\n",
        "    upr_bound = q3+(1.5*IQR)\n",
        "\n",
        "    for i in data: \n",
        "        if (i<lwr_bound or i>upr_bound):\n",
        "            outliers.append(i)\n",
        "    return outliers\n",
        "sample_outliers = detect_outliers_iqr(df.Sale_Price)\n",
        "print(\"Outliers from IQR method: \", sample_outliers)"
      ],
      "metadata": {
        "colab": {
          "base_uri": "https://localhost:8080/"
        },
        "id": "6buSbfn2191b",
        "outputId": "d58df2b7-2772-48f0-a0c3-ac26bbbafc5d"
      },
      "execution_count": 18,
      "outputs": [
        {
          "output_type": "stream",
          "name": "stdout",
          "text": [
            "Outliers from IQR method:  [15995, 15995, 15995, 15995, 15995, 15995, 15995, 15995, 15995, 15995, 15995, 15995, 15995, 15995, 15995, 15995, 15995, 15995, 15995, 15995, 15995, 15995, 15995, 15995, 15995, 15995, 15995, 15995, 15995, 15995, 15995, 15995, 15995, 15995, 15995, 15997, 15999, 15999, 15999, 16995, 16995, 16995, 16995, 16995, 16995, 16995, 16995, 16995, 16995, 16995, 16995, 16995, 16995, 16995, 16995, 16995, 16999, 16999, 16999, 16999, 16999, 16999, 16999, 16999, 16999, 17995, 17999, 17999, 17999, 17999, 17999, 17999, 17999, 17999, 17999, 17999, 17999, 17999, 17999, 17999, 17999, 17999, 17999, 17999, 18995, 18995, 18995, 18995, 18995, 18995, 18995, 18995, 18999, 18999, 19995, 19995, 19995, 19995, 19999, 19999, 19999, 19999, 19999, 19999, 19999, 20995, 20995, 21995, 21995, 21995, 21995, 21995, 21999, 21999, 21999, 21999, 22995, 22995, 22995, 22995, 22995, 22995, 22995, 22995, 22999, 23999, 23999, 23999, 23999, 23999, 24995, 24995, 24995, 24995, 27999, 27999, 27999, 27999, 29999, 29999, 36500]\n"
          ]
        }
      ]
    },
    {
      "cell_type": "code",
      "source": [
        "# Deteksi outlier dengan IQR\n",
        "outliers = detect_outliers_iqr(list(df.Sale_Price))\n",
        "print(\"Outliers Overs from IQR method: \", outliers)\n",
        "print(\"Banyaknya outlier: \",len(outliers))"
      ],
      "metadata": {
        "colab": {
          "base_uri": "https://localhost:8080/"
        },
        "id": "0ZH7EzRa1-aW",
        "outputId": "065e5120-f5f3-4bc1-a25d-068547f3c067"
      },
      "execution_count": 19,
      "outputs": [
        {
          "output_type": "stream",
          "name": "stdout",
          "text": [
            "Outliers Overs from IQR method:  [15995, 15995, 15995, 15995, 15995, 15995, 15995, 15995, 15995, 15995, 15995, 15995, 15995, 15995, 15995, 15995, 15995, 15995, 15995, 15995, 15995, 15995, 15995, 15995, 15995, 15995, 15995, 15995, 15995, 15995, 15995, 15995, 15995, 15995, 15995, 15997, 15999, 15999, 15999, 16995, 16995, 16995, 16995, 16995, 16995, 16995, 16995, 16995, 16995, 16995, 16995, 16995, 16995, 16995, 16995, 16995, 16999, 16999, 16999, 16999, 16999, 16999, 16999, 16999, 16999, 17995, 17999, 17999, 17999, 17999, 17999, 17999, 17999, 17999, 17999, 17999, 17999, 17999, 17999, 17999, 17999, 17999, 17999, 17999, 18995, 18995, 18995, 18995, 18995, 18995, 18995, 18995, 18999, 18999, 19995, 19995, 19995, 19995, 19999, 19999, 19999, 19999, 19999, 19999, 19999, 20995, 20995, 21995, 21995, 21995, 21995, 21995, 21999, 21999, 21999, 21999, 22995, 22995, 22995, 22995, 22995, 22995, 22995, 22995, 22999, 23999, 23999, 23999, 23999, 23999, 24995, 24995, 24995, 24995, 27999, 27999, 27999, 27999, 29999, 29999, 36500]\n",
            "Banyaknya outlier:  141\n"
          ]
        }
      ]
    },
    {
      "cell_type": "markdown",
      "source": [
        "Replace dengan median data"
      ],
      "metadata": {
        "id": "oEeGXY3SzWci"
      }
    },
    {
      "cell_type": "code",
      "source": [
        "e = []\n",
        "for y in list(df.Sale_Price):\n",
        "    ff = y in outliers\n",
        "    if ff is True:\n",
        "        y=statistics.median(list(df.Sale_Price))\n",
        "    else:\n",
        "        y=y\n",
        "    e.append(y)"
      ],
      "metadata": {
        "id": "gcauL6LPzXCH"
      },
      "execution_count": 20,
      "outputs": []
    },
    {
      "cell_type": "code",
      "source": [
        "# Menghitung nilai mean dan median data\n",
        "print(\"Mean data : \",statistics.mean(list(df.Sale_Price)))\n",
        "print(\"Median data : \",statistics.median(list(df.Sale_Price)))\n",
        "print(\"Mean data setelah replacing median : \",statistics.mean(e))\n",
        "print(\"Median data setelah replacing median: \",statistics.median(e))"
      ],
      "metadata": {
        "colab": {
          "base_uri": "https://localhost:8080/"
        },
        "id": "9uuOPmvFzgI2",
        "outputId": "e57518ea-1470-4797-bb58-d20fd4fab0b9"
      },
      "execution_count": 21,
      "outputs": [
        {
          "output_type": "stream",
          "name": "stdout",
          "text": [
            "Mean data :  6134.265605875153\n",
            "Median data :  4799.0\n",
            "Mean data setelah replacing median :  5517.263463892289\n",
            "Median data setelah replacing median:  4799.0\n"
          ]
        }
      ]
    },
    {
      "cell_type": "code",
      "source": [
        "# Boxplot setelah replace median\n",
        "plt.boxplot(e, vert=False)\n",
        "plt.title(\"Boxplot after Handling Outlier\")\n",
        "plt.xlabel('Sale Price')"
      ],
      "metadata": {
        "colab": {
          "base_uri": "https://localhost:8080/",
          "height": 489
        },
        "id": "DIyZfJGnzi0Q",
        "outputId": "a903cde1-a9d6-4159-8d7c-957d6aad587f"
      },
      "execution_count": 22,
      "outputs": [
        {
          "output_type": "execute_result",
          "data": {
            "text/plain": [
              "Text(0.5, 0, 'Sale Price')"
            ]
          },
          "metadata": {},
          "execution_count": 22
        },
        {
          "output_type": "display_data",
          "data": {
            "text/plain": [
              "<Figure size 640x480 with 1 Axes>"
            ],
            "image/png": "[encoded data removed]"
          },
          "metadata": {}
        }
      ]
    },
    {
      "cell_type": "markdown",
      "source": [
        "3. Handling Outliers pada Reviews"
      ],
      "metadata": {
        "id": "0N82_29Xz8xF"
      }
    },
    {
      "cell_type": "code",
      "source": [
        "# Deteksi dengan boxplot\n",
        "plt.boxplot(list(df.Reviews), vert=False)\n",
        "plt.title(\"Detecting outliers using Boxplot\")\n",
        "plt.xlabel('Reviews')"
      ],
      "metadata": {
        "colab": {
          "base_uri": "https://localhost:8080/",
          "height": 489
        },
        "id": "N-RpJqWBz_Kc",
        "outputId": "4a56ad25-0243-4c2e-f999-8546118286ee"
      },
      "execution_count": 23,
      "outputs": [
        {
          "output_type": "execute_result",
          "data": {
            "text/plain": [
              "Text(0.5, 0, 'Reviews')"
            ]
          },
          "metadata": {},
          "execution_count": 23
        },
        {
          "output_type": "display_data",
          "data": {
            "text/plain": [
              "<Figure size 640x480 with 1 Axes>"
            ],
            "image/png": "[encoded data removed]"
          },
          "metadata": {}
        }
      ]
    },
    {
      "cell_type": "code",
      "source": [
        "# Fungsi Pendeteksian Outlier dengan IQR\n",
        "def detect_outliers_iqr(data):\n",
        "    outliers = []\n",
        "    data = sorted(data)\n",
        "    q1 = np.percentile(data, 25)\n",
        "    q3 = np.percentile(data, 75)\n",
        "\n",
        "    IQR = q3-q1\n",
        "    lwr_bound = q1-(1.5*IQR)\n",
        "    upr_bound = q3+(1.5*IQR)\n",
        "\n",
        "    for i in data: \n",
        "        if (i<lwr_bound or i>upr_bound):\n",
        "            outliers.append(i)\n",
        "    return outliers\n",
        "sample_outliers = detect_outliers_iqr(df.Reviews)\n",
        "print(\"Outliers from IQR method: \", sample_outliers)"
      ],
      "metadata": {
        "colab": {
          "base_uri": "https://localhost:8080/"
        },
        "id": "vA2hInPk2CYx",
        "outputId": "5b0ca574-d78a-4b8a-f4ec-74615c03d601"
      },
      "execution_count": 24,
      "outputs": [
        {
          "output_type": "stream",
          "name": "stdout",
          "text": [
            "Outliers from IQR method:  [223]\n"
          ]
        }
      ]
    },
    {
      "cell_type": "code",
      "source": [
        "# Deteksi outlier dengan IQR\n",
        "outliers = detect_outliers_iqr(list(df.Reviews))\n",
        "print(\"Outliers Overs from IQR method: \", outliers)\n",
        "print(\"Banyaknya outlier: \",len(outliers))"
      ],
      "metadata": {
        "colab": {
          "base_uri": "https://localhost:8080/"
        },
        "id": "Rv9-tIQa2FEN",
        "outputId": "1d13d8e6-db58-4a0f-b4dd-00c7305a2e2c"
      },
      "execution_count": 25,
      "outputs": [
        {
          "output_type": "stream",
          "name": "stdout",
          "text": [
            "Outliers Overs from IQR method:  [223]\n",
            "Banyaknya outlier:  1\n"
          ]
        }
      ]
    },
    {
      "cell_type": "markdown",
      "source": [
        "hapus outliers"
      ],
      "metadata": {
        "id": "qmcDlPIw2IfY"
      }
    },
    {
      "cell_type": "code",
      "source": [
        "# Deleting\n",
        "tr = []\n",
        "for j in list(df.Reviews):\n",
        "    f = j in outliers\n",
        "    if f is False:\n",
        "        tr.append(j)"
      ],
      "metadata": {
        "id": "Wahn9rOP0HaM"
      },
      "execution_count": 26,
      "outputs": []
    },
    {
      "cell_type": "code",
      "source": [
        "print(\"Banyaknya data sebelum diatasi outlier: \",len(list(df.Reviews)))\n",
        "print(\"Banyaknya data setelah diatasi outlier: \",len(tr))"
      ],
      "metadata": {
        "colab": {
          "base_uri": "https://localhost:8080/"
        },
        "id": "XJP-kc9u0J-J",
        "outputId": "53c6d613-6b68-41ef-8597-ea76a56b60ee"
      },
      "execution_count": 27,
      "outputs": [
        {
          "output_type": "stream",
          "name": "stdout",
          "text": [
            "Banyaknya data sebelum diatasi outlier:  3268\n",
            "Banyaknya data setelah diatasi outlier:  3267\n"
          ]
        }
      ]
    },
    {
      "cell_type": "code",
      "source": [
        "# Boxplot setelah penghapusan data\n",
        "plt.boxplot(tr, vert=False)\n",
        "plt.title(\"Boxplot after Deleting Outlier\")\n",
        "plt.xlabel('Reviews')"
      ],
      "metadata": {
        "colab": {
          "base_uri": "https://localhost:8080/",
          "height": 489
        },
        "id": "xBBdfYin0MC6",
        "outputId": "c16db607-bb2d-44b1-ed63-72002a734a46"
      },
      "execution_count": 28,
      "outputs": [
        {
          "output_type": "execute_result",
          "data": {
            "text/plain": [
              "Text(0.5, 0, 'Reviews')"
            ]
          },
          "metadata": {},
          "execution_count": 28
        },
        {
          "output_type": "display_data",
          "data": {
            "text/plain": [
              "<Figure size 640x480 with 1 Axes>"
            ],
            "image/png": "[encoded data removed]"
          },
          "metadata": {}
        }
      ]
    },
    {
      "cell_type": "code",
      "source": [
        "# Nike products count\n",
        "nike_products = [p for p in df['Brand'] if \"nike\" in p.lower()]\n",
        "num_nike = len(nike_products)\n",
        "\n",
        "# Adidas products count\n",
        "adidas_products = [p for p in df['Brand'] if \"adidas\" in p.lower()]\n",
        "num_adidas = len(adidas_products)\n",
        "\n",
        "# Customise plots\n",
        "fig, (ax1, ax2) = plt.subplots(1,2, figsize=(10,5))\n",
        "fig.suptitle(\"Number of Products by Adidas and Nike\",fontsize=20)\n",
        "y = [num_nike, num_adidas]\n",
        "colors=['Orange','Yellow']\n",
        "\n",
        "# Bar chart\n",
        "ax1.bar(x=['Nike','Adidas'], height=y, color=colors)\n",
        "ax1.set_title(\"Number of Products by Brand\")\n",
        "ax1.set_xlabel(\"Brand\")\n",
        "ax1.text(x=-0.07, y=390,s=num_nike, fontsize=14)\n",
        "ax1.text(x=0.88, y=1140,s=num_adidas, fontsize=14)\n",
        "ax1.set_ylabel(\"Number of Products\")\n",
        "\n",
        "# Pie Chart\n",
        "ax2.set_title(\"Proportion of Products by Brand\")\n",
        "ax2.pie(labels=['Nike','Adidas'], x=y, autopct='%.2f%%', colors=colors )\n",
        "fig.tight_layout(pad=3.0)"
      ],
      "metadata": {
        "colab": {
          "base_uri": "https://localhost:8080/",
          "height": 485
        },
        "id": "Ig6MxPhiRBGb",
        "outputId": "80ca6ab9-faf7-4d33-d2f7-5e30cc2cfb97"
      },
      "execution_count": 29,
      "outputs": [
        {
          "output_type": "display_data",
          "data": {
            "text/plain": [
              "<Figure size 1000x500 with 2 Axes>"
            ],
            "image/png": "[encoded data removed]"
          },
          "metadata": {}
        }
      ]
    },
    {
      "cell_type": "markdown",
      "source": [
        "terlihat bahwa distribusi produk milik Adidas jauh lebih tinggi. Salah satu alasannya adalah Adidas memiliki sebagian besar sub-merek atau kolaborasi sementara Nike berada di bawah satu merek."
      ],
      "metadata": {
        "id": "Ac23a86aRIpr"
      }
    },
    {
      "cell_type": "code",
      "source": [
        "# Only include adidas brands\n",
        "adidas_brand = df.drop(df[df['Brand'] == \"Nike\"].index)\n",
        "nike_brand = df[df['Brand'] == \"Nike\"]\n",
        "\n",
        "\n",
        "# Plot bar\n",
        "plt.figure(figsize=(10,5))\n",
        "plt.title(\"Products in Adidas Sub-brands\")\n",
        "plt.ylabel(\"Adidas Brand\")\n",
        "sns.set_palette(\"gray\")\n",
        "sns.countplot(data=adidas_brand, y=\"Brand\")"
      ],
      "metadata": {
        "colab": {
          "base_uri": "https://localhost:8080/",
          "height": 504
        },
        "id": "m4AuFG3wRIKE",
        "outputId": "9127bdab-35a3-4e0c-cf84-fc88e3ae49f8"
      },
      "execution_count": 30,
      "outputs": [
        {
          "output_type": "execute_result",
          "data": {
            "text/plain": [
              "<Axes: title={'center': 'Products in Adidas Sub-brands'}, xlabel='count', ylabel='Brand'>"
            ]
          },
          "metadata": {},
          "execution_count": 30
        },
        {
          "output_type": "display_data",
          "data": {
            "text/plain": [
              "<Figure size 1000x500 with 1 Axes>"
            ],
            "image/png": "[encoded data removed]"
          },
          "metadata": {}
        }
      ]
    },
    {
      "cell_type": "markdown",
      "source": [
        "terlihat bahwa produk Adidas CORE/NEO jauh lebih tinggi."
      ],
      "metadata": {
        "id": "Y8cHlHhiRJJc"
      }
    },
    {
      "cell_type": "markdown",
      "metadata": {
        "id": "ybN-zvjYkE8l"
      },
      "source": [
        "## Data Preprocessing"
      ]
    },
    {
      "cell_type": "markdown",
      "source": [
        "Dari info data diatas, sudah terlihat bahwa tidak terdapat missing value pada data, sehingga lanngsung ke tahap encode categorical."
      ],
      "metadata": {
        "id": "JvEl7JTToxXQ"
      }
    },
    {
      "cell_type": "markdown",
      "metadata": {
        "id": "6xBG2GAySAFw"
      },
      "source": [
        "### Encode Categorical"
      ]
    },
    {
      "cell_type": "code",
      "execution_count": 31,
      "metadata": {
        "colab": {
          "base_uri": "https://localhost:8080/",
          "height": 206
        },
        "id": "yDTruWDvq6MB",
        "outputId": "204156a7-fa6e-43aa-f975-ecedd33dec5f"
      },
      "outputs": [
        {
          "output_type": "execute_result",
          "data": {
            "text/plain": [
              "   Brand  Listing_Price  Sale_Price  Discount  Reviews\n",
              "0      1          14999        7499        50       41\n",
              "1      1           7599        3799        50       24\n",
              "2      0            999         599        40       37\n",
              "3      0           6999        3499        50       35\n",
              "4      1           7999        3999        50       72"
            ],
            "text/html": [
              "\n",
              "  <div id=\"df-415f4996-e65e-420d-8cca-2eb42997a290\">\n",
              "    <div class=\"colab-df-container\">\n",
              "      <div>\n",
              "<style scoped>\n",
              "    .dataframe tbody tr th:only-of-type {\n",
              "        vertical-align: middle;\n",
              "    }\n",
              "\n",
              "    .dataframe tbody tr th {\n",
              "        vertical-align: top;\n",
              "    }\n",
              "\n",
              "    .dataframe thead th {\n",
              "        text-align: right;\n",
              "    }\n",
              "</style>\n",
              "<table border=\"1\" class=\"dataframe\">\n",
              "  <thead>\n",
              "    <tr style=\"text-align: right;\">\n",
              "      <th></th>\n",
              "      <th>Brand</th>\n",
              "      <th>Listing_Price</th>\n",
              "      <th>Sale_Price</th>\n",
              "      <th>Discount</th>\n",
              "      <th>Reviews</th>\n",
              "    </tr>\n",
              "  </thead>\n",
              "  <tbody>\n",
              "    <tr>\n",
              "      <th>0</th>\n",
              "      <td>1</td>\n",
              "      <td>14999</td>\n",
              "      <td>7499</td>\n",
              "      <td>50</td>\n",
              "      <td>41</td>\n",
              "    </tr>\n",
              "    <tr>\n",
              "      <th>1</th>\n",
              "      <td>1</td>\n",
              "      <td>7599</td>\n",
              "      <td>3799</td>\n",
              "      <td>50</td>\n",
              "      <td>24</td>\n",
              "    </tr>\n",
              "    <tr>\n",
              "      <th>2</th>\n",
              "      <td>0</td>\n",
              "      <td>999</td>\n",
              "      <td>599</td>\n",
              "      <td>40</td>\n",
              "      <td>37</td>\n",
              "    </tr>\n",
              "    <tr>\n",
              "      <th>3</th>\n",
              "      <td>0</td>\n",
              "      <td>6999</td>\n",
              "      <td>3499</td>\n",
              "      <td>50</td>\n",
              "      <td>35</td>\n",
              "    </tr>\n",
              "    <tr>\n",
              "      <th>4</th>\n",
              "      <td>1</td>\n",
              "      <td>7999</td>\n",
              "      <td>3999</td>\n",
              "      <td>50</td>\n",
              "      <td>72</td>\n",
              "    </tr>\n",
              "  </tbody>\n",
              "</table>\n",
              "</div>\n",
              "      <button class=\"colab-df-convert\" onclick=\"convertToInteractive('df-415f4996-e65e-420d-8cca-2eb42997a290')\"\n",
              "              title=\"Convert this dataframe to an interactive table.\"\n",
              "              style=\"display:none;\">\n",
              "        \n",
              "  <svg xmlns=\"http://www.w3.org/2000/svg\" height=\"24px\"viewBox=\"0 0 24 24\"\n",
              "       width=\"24px\">\n",
              "    <path d=\"M0 0h24v24H0V0z\" fill=\"none\"/>\n",
              "    <path d=\"M18.56 5.44l.94 2.06.94-2.06 2.06-.94-2.06-.94-.94-2.06-.94 2.06-2.06.94zm-11 1L8.5 8.5l.94-2.06 2.06-.94-2.06-.94L8.5 2.5l-.94 2.06-2.06.94zm10 10l.94 2.06.94-2.06 2.06-.94-2.06-.94-.94-2.06-.94 2.06-2.06.94z\"/><path d=\"M17.41 7.96l-1.37-1.37c-.4-.4-.92-.59-1.43-.59-.52 0-1.04.2-1.43.59L10.3 9.45l-7.72 7.72c-.78.78-.78 2.05 0 2.83L4 21.41c.39.39.9.59 1.41.59.51 0 1.02-.2 1.41-.59l7.78-7.78 2.81-2.81c.8-.78.8-2.07 0-2.86zM5.41 20L4 18.59l7.72-7.72 1.47 1.35L5.41 20z\"/>\n",
              "  </svg>\n",
              "      </button>\n",
              "      \n",
              "  <style>\n",
              "    .colab-df-container {\n",
              "      display:flex;\n",
              "      flex-wrap:wrap;\n",
              "      gap: 12px;\n",
              "    }\n",
              "\n",
              "    .colab-df-convert {\n",
              "      background-color: #E8F0FE;\n",
              "      border: none;\n",
              "      border-radius: 50%;\n",
              "      cursor: pointer;\n",
              "      display: none;\n",
              "      fill: #1967D2;\n",
              "      height: 32px;\n",
              "      padding: 0 0 0 0;\n",
              "      width: 32px;\n",
              "    }\n",
              "\n",
              "    .colab-df-convert:hover {\n",
              "      background-color: #E2EBFA;\n",
              "      box-shadow: 0px 1px 2px rgba(60, 64, 67, 0.3), 0px 1px 3px 1px rgba(60, 64, 67, 0.15);\n",
              "      fill: #174EA6;\n",
              "    }\n",
              "\n",
              "    [theme=dark] .colab-df-convert {\n",
              "      background-color: #3B4455;\n",
              "      fill: #D2E3FC;\n",
              "    }\n",
              "\n",
              "    [theme=dark] .colab-df-convert:hover {\n",
              "      background-color: #434B5C;\n",
              "      box-shadow: 0px 1px 3px 1px rgba(0, 0, 0, 0.15);\n",
              "      filter: drop-shadow(0px 1px 2px rgba(0, 0, 0, 0.3));\n",
              "      fill: #FFFFFF;\n",
              "    }\n",
              "  </style>\n",
              "\n",
              "      <script>\n",
              "        const buttonEl =\n",
              "          document.querySelector('#df-415f4996-e65e-420d-8cca-2eb42997a290 button.colab-df-convert');\n",
              "        buttonEl.style.display =\n",
              "          google.colab.kernel.accessAllowed ? 'block' : 'none';\n",
              "\n",
              "        async function convertToInteractive(key) {\n",
              "          const element = document.querySelector('#df-415f4996-e65e-420d-8cca-2eb42997a290');\n",
              "          const dataTable =\n",
              "            await google.colab.kernel.invokeFunction('convertToInteractive',\n",
              "                                                     [key], {});\n",
              "          if (!dataTable) return;\n",
              "\n",
              "          const docLinkHtml = 'Like what you see? Visit the ' +\n",
              "            '<a target=\"_blank\" href=https://colab.research.google.com/notebooks/data_table.ipynb>data table notebook</a>'\n",
              "            + ' to learn more about interactive tables.';\n",
              "          element.innerHTML = '';\n",
              "          dataTable['output_type'] = 'display_data';\n",
              "          await google.colab.output.renderOutput(dataTable, element);\n",
              "          const docLink = document.createElement('div');\n",
              "          docLink.innerHTML = docLinkHtml;\n",
              "          element.appendChild(docLink);\n",
              "        }\n",
              "      </script>\n",
              "    </div>\n",
              "  </div>\n",
              "  "
            ]
          },
          "metadata": {},
          "execution_count": 31
        }
      ],
      "source": [
        "# Merubah data kategori menjadi numerik\n",
        "label_encoder = LabelEncoder()\n",
        "encoded_data = df[categorical].apply(label_encoder.fit_transform)\n",
        "\n",
        "# Menggabungkan kolom umur dan nilai belanja setahun dengan data kategori\n",
        "cluster_data = pd.concat([encoded_data, df[[\"Listing_Price\", \"Sale_Price\",\"Discount\",\"Reviews\"]]], axis=1)\n",
        "\n",
        "cluster_data.head()"
      ]
    },
    {
      "cell_type": "markdown",
      "metadata": {
        "id": "X2WIXGEsS3Z7"
      },
      "source": [
        "### Features Selection\n",
        "Dalam proses ini akan dipilih variabel yang memiliki pengaruh besar dalam penentuan cluster data."
      ]
    },
    {
      "cell_type": "code",
      "execution_count": 32,
      "metadata": {
        "colab": {
          "base_uri": "https://localhost:8080/",
          "height": 553
        },
        "id": "Z2moUSNpq7YW",
        "outputId": "42203b18-895a-44aa-dc05-2f79100e90e1"
      },
      "outputs": [
        {
          "output_type": "display_data",
          "data": {
            "text/plain": [
              "<Figure size 800x600 with 2 Axes>"
            ],
            "image/png": "[encoded data removed]"
          },
          "metadata": {}
        }
      ],
      "source": [
        "# Features Selection\n",
        "plt.figure(figsize=(8,6))\n",
        "sns.heatmap(cluster_data.corr(), cmap = 'PuBuGn', annot = True)\n",
        "plt.title('Heatmap Data', fontsize = 20)\n",
        "plt.show()"
      ]
    },
    {
      "cell_type": "markdown",
      "metadata": {
        "id": "iAQOmElkxKXG"
      },
      "source": [
        "Dari hasil heatmap diatas diketahui bahwa korelasi terbesar dimiliki oleh variabel Sale Price dan juga Brand, selanjutnya disusul oleh Listing Price dan Sale Price, serta Diskon dan Reviews, akan tetapi nilainya cukup rendah. Oleh karena itu, untuk selanjutnya akan digunakan 2 variabel dalam menentukan cluster dari data Sale Price, dan Brand."
      ]
    },
    {
      "cell_type": "code",
      "execution_count": 33,
      "metadata": {
        "colab": {
          "base_uri": "https://localhost:8080/",
          "height": 206
        },
        "id": "CZ9zh0RSzrBn",
        "outputId": "e1d51446-a060-40e5-a0af-c2e4a468e8de"
      },
      "outputs": [
        {
          "output_type": "execute_result",
          "data": {
            "text/plain": [
              "   Brand  Sale_Price\n",
              "0      1        7499\n",
              "1      1        3799\n",
              "2      0         599\n",
              "3      0        3499\n",
              "4      1        3999"
            ],
            "text/html": [
              "\n",
              "  <div id=\"df-91f6c91d-cd55-47e7-a054-cc47a8955619\">\n",
              "    <div class=\"colab-df-container\">\n",
              "      <div>\n",
              "<style scoped>\n",
              "    .dataframe tbody tr th:only-of-type {\n",
              "        vertical-align: middle;\n",
              "    }\n",
              "\n",
              "    .dataframe tbody tr th {\n",
              "        vertical-align: top;\n",
              "    }\n",
              "\n",
              "    .dataframe thead th {\n",
              "        text-align: right;\n",
              "    }\n",
              "</style>\n",
              "<table border=\"1\" class=\"dataframe\">\n",
              "  <thead>\n",
              "    <tr style=\"text-align: right;\">\n",
              "      <th></th>\n",
              "      <th>Brand</th>\n",
              "      <th>Sale_Price</th>\n",
              "    </tr>\n",
              "  </thead>\n",
              "  <tbody>\n",
              "    <tr>\n",
              "      <th>0</th>\n",
              "      <td>1</td>\n",
              "      <td>7499</td>\n",
              "    </tr>\n",
              "    <tr>\n",
              "      <th>1</th>\n",
              "      <td>1</td>\n",
              "      <td>3799</td>\n",
              "    </tr>\n",
              "    <tr>\n",
              "      <th>2</th>\n",
              "      <td>0</td>\n",
              "      <td>599</td>\n",
              "    </tr>\n",
              "    <tr>\n",
              "      <th>3</th>\n",
              "      <td>0</td>\n",
              "      <td>3499</td>\n",
              "    </tr>\n",
              "    <tr>\n",
              "      <th>4</th>\n",
              "      <td>1</td>\n",
              "      <td>3999</td>\n",
              "    </tr>\n",
              "  </tbody>\n",
              "</table>\n",
              "</div>\n",
              "      <button class=\"colab-df-convert\" onclick=\"convertToInteractive('df-91f6c91d-cd55-47e7-a054-cc47a8955619')\"\n",
              "              title=\"Convert this dataframe to an interactive table.\"\n",
              "              style=\"display:none;\">\n",
              "        \n",
              "  <svg xmlns=\"http://www.w3.org/2000/svg\" height=\"24px\"viewBox=\"0 0 24 24\"\n",
              "       width=\"24px\">\n",
              "    <path d=\"M0 0h24v24H0V0z\" fill=\"none\"/>\n",
              "    <path d=\"M18.56 5.44l.94 2.06.94-2.06 2.06-.94-2.06-.94-.94-2.06-.94 2.06-2.06.94zm-11 1L8.5 8.5l.94-2.06 2.06-.94-2.06-.94L8.5 2.5l-.94 2.06-2.06.94zm10 10l.94 2.06.94-2.06 2.06-.94-2.06-.94-.94-2.06-.94 2.06-2.06.94z\"/><path d=\"M17.41 7.96l-1.37-1.37c-.4-.4-.92-.59-1.43-.59-.52 0-1.04.2-1.43.59L10.3 9.45l-7.72 7.72c-.78.78-.78 2.05 0 2.83L4 21.41c.39.39.9.59 1.41.59.51 0 1.02-.2 1.41-.59l7.78-7.78 2.81-2.81c.8-.78.8-2.07 0-2.86zM5.41 20L4 18.59l7.72-7.72 1.47 1.35L5.41 20z\"/>\n",
              "  </svg>\n",
              "      </button>\n",
              "      \n",
              "  <style>\n",
              "    .colab-df-container {\n",
              "      display:flex;\n",
              "      flex-wrap:wrap;\n",
              "      gap: 12px;\n",
              "    }\n",
              "\n",
              "    .colab-df-convert {\n",
              "      background-color: #E8F0FE;\n",
              "      border: none;\n",
              "      border-radius: 50%;\n",
              "      cursor: pointer;\n",
              "      display: none;\n",
              "      fill: #1967D2;\n",
              "      height: 32px;\n",
              "      padding: 0 0 0 0;\n",
              "      width: 32px;\n",
              "    }\n",
              "\n",
              "    .colab-df-convert:hover {\n",
              "      background-color: #E2EBFA;\n",
              "      box-shadow: 0px 1px 2px rgba(60, 64, 67, 0.3), 0px 1px 3px 1px rgba(60, 64, 67, 0.15);\n",
              "      fill: #174EA6;\n",
              "    }\n",
              "\n",
              "    [theme=dark] .colab-df-convert {\n",
              "      background-color: #3B4455;\n",
              "      fill: #D2E3FC;\n",
              "    }\n",
              "\n",
              "    [theme=dark] .colab-df-convert:hover {\n",
              "      background-color: #434B5C;\n",
              "      box-shadow: 0px 1px 3px 1px rgba(0, 0, 0, 0.15);\n",
              "      filter: drop-shadow(0px 1px 2px rgba(0, 0, 0, 0.3));\n",
              "      fill: #FFFFFF;\n",
              "    }\n",
              "  </style>\n",
              "\n",
              "      <script>\n",
              "        const buttonEl =\n",
              "          document.querySelector('#df-91f6c91d-cd55-47e7-a054-cc47a8955619 button.colab-df-convert');\n",
              "        buttonEl.style.display =\n",
              "          google.colab.kernel.accessAllowed ? 'block' : 'none';\n",
              "\n",
              "        async function convertToInteractive(key) {\n",
              "          const element = document.querySelector('#df-91f6c91d-cd55-47e7-a054-cc47a8955619');\n",
              "          const dataTable =\n",
              "            await google.colab.kernel.invokeFunction('convertToInteractive',\n",
              "                                                     [key], {});\n",
              "          if (!dataTable) return;\n",
              "\n",
              "          const docLinkHtml = 'Like what you see? Visit the ' +\n",
              "            '<a target=\"_blank\" href=https://colab.research.google.com/notebooks/data_table.ipynb>data table notebook</a>'\n",
              "            + ' to learn more about interactive tables.';\n",
              "          element.innerHTML = '';\n",
              "          dataTable['output_type'] = 'display_data';\n",
              "          await google.colab.output.renderOutput(dataTable, element);\n",
              "          const docLink = document.createElement('div');\n",
              "          docLink.innerHTML = docLinkHtml;\n",
              "          element.appendChild(docLink);\n",
              "        }\n",
              "      </script>\n",
              "    </div>\n",
              "  </div>\n",
              "  "
            ]
          },
          "metadata": {},
          "execution_count": 33
        }
      ],
      "source": [
        "# Drop variabel yang tidak dibutuhkan\n",
        "cluster_data = cluster_data.drop([\"Listing_Price\", \n",
        "                                  \"Discount\",\"Reviews\"], axis = 1)\n",
        "cluster_data.head()"
      ]
    },
    {
      "cell_type": "markdown",
      "metadata": {
        "id": "VlB-wxEwUto7"
      },
      "source": [
        "### Scaling Data\n",
        "Dalam clustering penggunaan scaling data juga diperlukan, hal ini akan membantu mengatasi permasalahan gap pada tiap kolom."
      ]
    },
    {
      "cell_type": "code",
      "execution_count": 34,
      "metadata": {
        "colab": {
          "base_uri": "https://localhost:8080/",
          "height": 206
        },
        "id": "ISmsxR-hq-Nw",
        "outputId": "c55296c9-54a7-4413-ff40-0f93a1b5da33"
      },
      "outputs": [
        {
          "output_type": "execute_result",
          "data": {
            "text/plain": [
              "      Brand  Sale_Price\n",
              "0 -0.213301    0.317928\n",
              "1 -0.213301   -0.544022\n",
              "2 -1.105835   -1.289493\n",
              "3 -1.105835   -0.613910\n",
              "4 -0.213301   -0.497431"
            ],
            "text/html": [
              "\n",
              "  <div id=\"df-8c832e9f-ddd8-43a5-b85f-2370d5019f74\">\n",
              "    <div class=\"colab-df-container\">\n",
              "      <div>\n",
              "<style scoped>\n",
              "    .dataframe tbody tr th:only-of-type {\n",
              "        vertical-align: middle;\n",
              "    }\n",
              "\n",
              "    .dataframe tbody tr th {\n",
              "        vertical-align: top;\n",
              "    }\n",
              "\n",
              "    .dataframe thead th {\n",
              "        text-align: right;\n",
              "    }\n",
              "</style>\n",
              "<table border=\"1\" class=\"dataframe\">\n",
              "  <thead>\n",
              "    <tr style=\"text-align: right;\">\n",
              "      <th></th>\n",
              "      <th>Brand</th>\n",
              "      <th>Sale_Price</th>\n",
              "    </tr>\n",
              "  </thead>\n",
              "  <tbody>\n",
              "    <tr>\n",
              "      <th>0</th>\n",
              "      <td>-0.213301</td>\n",
              "      <td>0.317928</td>\n",
              "    </tr>\n",
              "    <tr>\n",
              "      <th>1</th>\n",
              "      <td>-0.213301</td>\n",
              "      <td>-0.544022</td>\n",
              "    </tr>\n",
              "    <tr>\n",
              "      <th>2</th>\n",
              "      <td>-1.105835</td>\n",
              "      <td>-1.289493</td>\n",
              "    </tr>\n",
              "    <tr>\n",
              "      <th>3</th>\n",
              "      <td>-1.105835</td>\n",
              "      <td>-0.613910</td>\n",
              "    </tr>\n",
              "    <tr>\n",
              "      <th>4</th>\n",
              "      <td>-0.213301</td>\n",
              "      <td>-0.497431</td>\n",
              "    </tr>\n",
              "  </tbody>\n",
              "</table>\n",
              "</div>\n",
              "      <button class=\"colab-df-convert\" onclick=\"convertToInteractive('df-8c832e9f-ddd8-43a5-b85f-2370d5019f74')\"\n",
              "              title=\"Convert this dataframe to an interactive table.\"\n",
              "              style=\"display:none;\">\n",
              "        \n",
              "  <svg xmlns=\"http://www.w3.org/2000/svg\" height=\"24px\"viewBox=\"0 0 24 24\"\n",
              "       width=\"24px\">\n",
              "    <path d=\"M0 0h24v24H0V0z\" fill=\"none\"/>\n",
              "    <path d=\"M18.56 5.44l.94 2.06.94-2.06 2.06-.94-2.06-.94-.94-2.06-.94 2.06-2.06.94zm-11 1L8.5 8.5l.94-2.06 2.06-.94-2.06-.94L8.5 2.5l-.94 2.06-2.06.94zm10 10l.94 2.06.94-2.06 2.06-.94-2.06-.94-.94-2.06-.94 2.06-2.06.94z\"/><path d=\"M17.41 7.96l-1.37-1.37c-.4-.4-.92-.59-1.43-.59-.52 0-1.04.2-1.43.59L10.3 9.45l-7.72 7.72c-.78.78-.78 2.05 0 2.83L4 21.41c.39.39.9.59 1.41.59.51 0 1.02-.2 1.41-.59l7.78-7.78 2.81-2.81c.8-.78.8-2.07 0-2.86zM5.41 20L4 18.59l7.72-7.72 1.47 1.35L5.41 20z\"/>\n",
              "  </svg>\n",
              "      </button>\n",
              "      \n",
              "  <style>\n",
              "    .colab-df-container {\n",
              "      display:flex;\n",
              "      flex-wrap:wrap;\n",
              "      gap: 12px;\n",
              "    }\n",
              "\n",
              "    .colab-df-convert {\n",
              "      background-color: #E8F0FE;\n",
              "      border: none;\n",
              "      border-radius: 50%;\n",
              "      cursor: pointer;\n",
              "      display: none;\n",
              "      fill: #1967D2;\n",
              "      height: 32px;\n",
              "      padding: 0 0 0 0;\n",
              "      width: 32px;\n",
              "    }\n",
              "\n",
              "    .colab-df-convert:hover {\n",
              "      background-color: #E2EBFA;\n",
              "      box-shadow: 0px 1px 2px rgba(60, 64, 67, 0.3), 0px 1px 3px 1px rgba(60, 64, 67, 0.15);\n",
              "      fill: #174EA6;\n",
              "    }\n",
              "\n",
              "    [theme=dark] .colab-df-convert {\n",
              "      background-color: #3B4455;\n",
              "      fill: #D2E3FC;\n",
              "    }\n",
              "\n",
              "    [theme=dark] .colab-df-convert:hover {\n",
              "      background-color: #434B5C;\n",
              "      box-shadow: 0px 1px 3px 1px rgba(0, 0, 0, 0.15);\n",
              "      filter: drop-shadow(0px 1px 2px rgba(0, 0, 0, 0.3));\n",
              "      fill: #FFFFFF;\n",
              "    }\n",
              "  </style>\n",
              "\n",
              "      <script>\n",
              "        const buttonEl =\n",
              "          document.querySelector('#df-8c832e9f-ddd8-43a5-b85f-2370d5019f74 button.colab-df-convert');\n",
              "        buttonEl.style.display =\n",
              "          google.colab.kernel.accessAllowed ? 'block' : 'none';\n",
              "\n",
              "        async function convertToInteractive(key) {\n",
              "          const element = document.querySelector('#df-8c832e9f-ddd8-43a5-b85f-2370d5019f74');\n",
              "          const dataTable =\n",
              "            await google.colab.kernel.invokeFunction('convertToInteractive',\n",
              "                                                     [key], {});\n",
              "          if (!dataTable) return;\n",
              "\n",
              "          const docLinkHtml = 'Like what you see? Visit the ' +\n",
              "            '<a target=\"_blank\" href=https://colab.research.google.com/notebooks/data_table.ipynb>data table notebook</a>'\n",
              "            + ' to learn more about interactive tables.';\n",
              "          element.innerHTML = '';\n",
              "          dataTable['output_type'] = 'display_data';\n",
              "          await google.colab.output.renderOutput(dataTable, element);\n",
              "          const docLink = document.createElement('div');\n",
              "          docLink.innerHTML = docLinkHtml;\n",
              "          element.appendChild(docLink);\n",
              "        }\n",
              "      </script>\n",
              "    </div>\n",
              "  </div>\n",
              "  "
            ]
          },
          "metadata": {},
          "execution_count": 34
        }
      ],
      "source": [
        "# Data Scaling\n",
        "scaler = StandardScaler()\n",
        "cluster_data[[\"Brand\", \"Sale_Price\"]] = scaler.fit_transform(cluster_data[[\"Brand\", \"Sale_Price\"]])\n",
        "cluster_data.head()"
      ]
    },
    {
      "cell_type": "markdown",
      "metadata": {
        "id": "Tug83Iq_kE8m"
      },
      "source": [
        "## KMeans Cluster"
      ]
    },
    {
      "cell_type": "code",
      "execution_count": 35,
      "metadata": {
        "colab": {
          "base_uri": "https://localhost:8080/",
          "height": 129
        },
        "id": "mYiae46U2Jod",
        "outputId": "b8db6107-4869-4d03-8e64-3318b068d114"
      },
      "outputs": [
        {
          "output_type": "stream",
          "name": "stderr",
          "text": [
            "/usr/local/lib/python3.9/dist-packages/sklearn/cluster/_kmeans.py:870: FutureWarning: The default value of `n_init` will change from 10 to 'auto' in 1.4. Set the value of `n_init` explicitly to suppress the warning\n",
            "  warnings.warn(\n"
          ]
        },
        {
          "output_type": "execute_result",
          "data": {
            "text/plain": [
              "KMeans(n_clusters=2)"
            ],
            "text/html": [
              "<style>#sk-container-id-1 {color: black;background-color: white;}#sk-container-id-1 pre{padding: 0;}#sk-container-id-1 div.sk-toggleable {background-color: white;}#sk-container-id-1 label.sk-toggleable__label {cursor: pointer;display: block;width: 100%;margin-bottom: 0;padding: 0.3em;box-sizing: border-box;text-align: center;}#sk-container-id-1 label.sk-toggleable__label-arrow:before {content: \"▸\";float: left;margin-right: 0.25em;color: #696969;}#sk-container-id-1 label.sk-toggleable__label-arrow:hover:before {color: black;}#sk-container-id-1 div.sk-estimator:hover label.sk-toggleable__label-arrow:before {color: black;}#sk-container-id-1 div.sk-toggleable__content {max-height: 0;max-width: 0;overflow: hidden;text-align: left;background-color: #f0f8ff;}#sk-container-id-1 div.sk-toggleable__content pre {margin: 0.2em;color: black;border-radius: 0.25em;background-color: #f0f8ff;}#sk-container-id-1 input.sk-toggleable__control:checked~div.sk-toggleable__content {max-height: 200px;max-width: 100%;overflow: auto;}#sk-container-id-1 input.sk-toggleable__control:checked~label.sk-toggleable__label-arrow:before {content: \"▾\";}#sk-container-id-1 div.sk-estimator input.sk-toggleable__control:checked~label.sk-toggleable__label {background-color: #d4ebff;}#sk-container-id-1 div.sk-label input.sk-toggleable__control:checked~label.sk-toggleable__label {background-color: #d4ebff;}#sk-container-id-1 input.sk-hidden--visually {border: 0;clip: rect(1px 1px 1px 1px);clip: rect(1px, 1px, 1px, 1px);height: 1px;margin: -1px;overflow: hidden;padding: 0;position: absolute;width: 1px;}#sk-container-id-1 div.sk-estimator {font-family: monospace;background-color: #f0f8ff;border: 1px dotted black;border-radius: 0.25em;box-sizing: border-box;margin-bottom: 0.5em;}#sk-container-id-1 div.sk-estimator:hover {background-color: #d4ebff;}#sk-container-id-1 div.sk-parallel-item::after {content: \"\";width: 100%;border-bottom: 1px solid gray;flex-grow: 1;}#sk-container-id-1 div.sk-label:hover label.sk-toggleable__label {background-color: #d4ebff;}#sk-container-id-1 div.sk-serial::before {content: \"\";position: absolute;border-left: 1px solid gray;box-sizing: border-box;top: 0;bottom: 0;left: 50%;z-index: 0;}#sk-container-id-1 div.sk-serial {display: flex;flex-direction: column;align-items: center;background-color: white;padding-right: 0.2em;padding-left: 0.2em;position: relative;}#sk-container-id-1 div.sk-item {position: relative;z-index: 1;}#sk-container-id-1 div.sk-parallel {display: flex;align-items: stretch;justify-content: center;background-color: white;position: relative;}#sk-container-id-1 div.sk-item::before, #sk-container-id-1 div.sk-parallel-item::before {content: \"\";position: absolute;border-left: 1px solid gray;box-sizing: border-box;top: 0;bottom: 0;left: 50%;z-index: -1;}#sk-container-id-1 div.sk-parallel-item {display: flex;flex-direction: column;z-index: 1;position: relative;background-color: white;}#sk-container-id-1 div.sk-parallel-item:first-child::after {align-self: flex-end;width: 50%;}#sk-container-id-1 div.sk-parallel-item:last-child::after {align-self: flex-start;width: 50%;}#sk-container-id-1 div.sk-parallel-item:only-child::after {width: 0;}#sk-container-id-1 div.sk-dashed-wrapped {border: 1px dashed gray;margin: 0 0.4em 0.5em 0.4em;box-sizing: border-box;padding-bottom: 0.4em;background-color: white;}#sk-container-id-1 div.sk-label label {font-family: monospace;font-weight: bold;display: inline-block;line-height: 1.2em;}#sk-container-id-1 div.sk-label-container {text-align: center;}#sk-container-id-1 div.sk-container {/* jupyter's `normalize.less` sets `[hidden] { display: none; }` but bootstrap.min.css set `[hidden] { display: none !important; }` so we also need the `!important` here to be able to override the default hidden behavior on the sphinx rendered scikit-learn.org. See: https://github.com/scikit-learn/scikit-learn/issues/21755 */display: inline-block !important;position: relative;}#sk-container-id-1 div.sk-text-repr-fallback {display: none;}</style><div id=\"sk-container-id-1\" class=\"sk-top-container\"><div class=\"sk-text-repr-fallback\"><pre>KMeans(n_clusters=2)</pre><b>In a Jupyter environment, please rerun this cell to show the HTML representation or trust the notebook. <br />On GitHub, the HTML representation is unable to render, please try loading this page with nbviewer.org.</b></div><div class=\"sk-container\" hidden><div class=\"sk-item\"><div class=\"sk-estimator sk-toggleable\"><input class=\"sk-toggleable__control sk-hidden--visually\" id=\"sk-estimator-id-1\" type=\"checkbox\" checked><label for=\"sk-estimator-id-1\" class=\"sk-toggleable__label sk-toggleable__label-arrow\">KMeans</label><div class=\"sk-toggleable__content\"><pre>KMeans(n_clusters=2)</pre></div></div></div></div></div>"
            ]
          },
          "metadata": {},
          "execution_count": 35
        }
      ],
      "source": [
        "# Memodelkan data dengan cluster yang sudah ditentukan yaitu 2\n",
        "cluster = KMeans(n_clusters=2)\n",
        "cluster.fit(cluster_data)"
      ]
    },
    {
      "cell_type": "code",
      "execution_count": 36,
      "metadata": {
        "id": "aaiYybwV2Nxg"
      },
      "outputs": [],
      "source": [
        "# Menambahkan kolom baru berupa hasil segmentasi pelanggan\n",
        "segment = pd.Series(cluster.labels_, name=\"segment\")"
      ]
    },
    {
      "cell_type": "code",
      "source": [
        "# Menggabungkan data awal dengan data hasil segmentasi pelanggan\n",
        "pd.concat([df, segment], axis=1)"
      ],
      "metadata": {
        "colab": {
          "base_uri": "https://localhost:8080/",
          "height": 658
        },
        "id": "3VQwZO1aRcs0",
        "outputId": "517ba2e1-aeab-4277-e4a9-63bfff130096"
      },
      "execution_count": 37,
      "outputs": [
        {
          "output_type": "execute_result",
          "data": {
            "text/plain": [
              "                                           Product Name  Product ID  \\\n",
              "0     Women's adidas Originals NMD_Racer Primeknit S...      AH2430   \n",
              "1                  Women's adidas Originals Sleek Shoes      G27341   \n",
              "2                     Women's adidas Swim Puka Slippers      CM0081   \n",
              "3      Women's adidas Sport Inspired Questar Ride Shoes      B44832   \n",
              "4              Women's adidas Originals Taekwondo Shoes      D98205   \n",
              "...                                                 ...         ...   \n",
              "3263                                 Air Jordan 8 Retro  CI1236-100   \n",
              "3264                         Nike Phantom Venom Club IC  AO0578-717   \n",
              "3265               Nike Mercurial Superfly 7 Academy TF  AT7978-414   \n",
              "3266                                    Nike Air Max 98  AH6799-300   \n",
              "3267                                     Nike P-6000 SE  CJ9585-600   \n",
              "\n",
              "      Listing_Price  Sale_Price  Discount              Brand  \\\n",
              "0             14999        7499        50   Adidas ORIGINALS   \n",
              "1              7599        3799        50   Adidas ORIGINALS   \n",
              "2               999         599        40  Adidas CORE / NEO   \n",
              "3              6999        3499        50  Adidas CORE / NEO   \n",
              "4              7999        3999        50   Adidas ORIGINALS   \n",
              "...             ...         ...       ...                ...   \n",
              "3263          15995       12797         0               Nike   \n",
              "3264           4995        3497         0               Nike   \n",
              "3265           8495        5947         0               Nike   \n",
              "3266              0       16995         0               Nike   \n",
              "3267           8995        6297         0               Nike   \n",
              "\n",
              "                                            Description  Rating  Reviews  \\\n",
              "0     Channeling the streamlined look of an '80s rac...     4.8       41   \n",
              "1     A modern take on adidas sport heritage, tailor...     3.3       24   \n",
              "2     These adidas Puka slippers for women's come wi...     2.6       37   \n",
              "3     Inspired by modern tech runners, these women's...     4.1       35   \n",
              "4     This design is inspired by vintage Taekwondo s...     3.5       72   \n",
              "...                                                 ...     ...      ...   \n",
              "3263  The Air Jordan 8 Retro recaptures the memorabl...     5.0        1   \n",
              "3264  The Nike Phantom Venom Club IC is engineered f...     0.0        0   \n",
              "3265  The soft upper of the Nike Mercurial Superfly ...     5.0        1   \n",
              "3266  The Nike Air Max 98 features the OG design lin...     4.0        4   \n",
              "3267  A mash-up of Pegasus' past, the Nike P-6000 SE...     0.0        0   \n",
              "\n",
              "             Last Visited\\t  segment  \n",
              "0     2020-04-13T15:06:14\\t        1  \n",
              "1     2020-04-13T15:06:15\\t        1  \n",
              "2     2020-04-13T15:06:15\\t        1  \n",
              "3     2020-04-13T15:06:15\\t        1  \n",
              "4     2020-04-13T15:06:15\\t        1  \n",
              "...                     ...      ...  \n",
              "3263  2020-04-13T15:41:01\\t        0  \n",
              "3264  2020-04-13T15:41:03\\t        0  \n",
              "3265  2020-04-13T15:41:07\\t        0  \n",
              "3266  2020-04-13T15:41:19\\t        0  \n",
              "3267  2020-04-13T15:42:57\\t        0  \n",
              "\n",
              "[3268 rows x 11 columns]"
            ],
            "text/html": [
              "\n",
              "  <div id=\"df-9dfdc276-a3dc-4200-95d8-2d28292bf907\">\n",
              "    <div class=\"colab-df-container\">\n",
              "      <div>\n",
              "<style scoped>\n",
              "    .dataframe tbody tr th:only-of-type {\n",
              "        vertical-align: middle;\n",
              "    }\n",
              "\n",
              "    .dataframe tbody tr th {\n",
              "        vertical-align: top;\n",
              "    }\n",
              "\n",
              "    .dataframe thead th {\n",
              "        text-align: right;\n",
              "    }\n",
              "</style>\n",
              "<table border=\"1\" class=\"dataframe\">\n",
              "  <thead>\n",
              "    <tr style=\"text-align: right;\">\n",
              "      <th></th>\n",
              "      <th>Product Name</th>\n",
              "      <th>Product ID</th>\n",
              "      <th>Listing_Price</th>\n",
              "      <th>Sale_Price</th>\n",
              "      <th>Discount</th>\n",
              "      <th>Brand</th>\n",
              "      <th>Description</th>\n",
              "      <th>Rating</th>\n",
              "      <th>Reviews</th>\n",
              "      <th>Last Visited\\t</th>\n",
              "      <th>segment</th>\n",
              "    </tr>\n",
              "  </thead>\n",
              "  <tbody>\n",
              "    <tr>\n",
              "      <th>0</th>\n",
              "      <td>Women's adidas Originals NMD_Racer Primeknit S...</td>\n",
              "      <td>AH2430</td>\n",
              "      <td>14999</td>\n",
              "      <td>7499</td>\n",
              "      <td>50</td>\n",
              "      <td>Adidas ORIGINALS</td>\n",
              "      <td>Channeling the streamlined look of an '80s rac...</td>\n",
              "      <td>4.8</td>\n",
              "      <td>41</td>\n",
              "      <td>2020-04-13T15:06:14\\t</td>\n",
              "      <td>1</td>\n",
              "    </tr>\n",
              "    <tr>\n",
              "      <th>1</th>\n",
              "      <td>Women's adidas Originals Sleek Shoes</td>\n",
              "      <td>G27341</td>\n",
              "      <td>7599</td>\n",
              "      <td>3799</td>\n",
              "      <td>50</td>\n",
              "      <td>Adidas ORIGINALS</td>\n",
              "      <td>A modern take on adidas sport heritage, tailor...</td>\n",
              "      <td>3.3</td>\n",
              "      <td>24</td>\n",
              "      <td>2020-04-13T15:06:15\\t</td>\n",
              "      <td>1</td>\n",
              "    </tr>\n",
              "    <tr>\n",
              "      <th>2</th>\n",
              "      <td>Women's adidas Swim Puka Slippers</td>\n",
              "      <td>CM0081</td>\n",
              "      <td>999</td>\n",
              "      <td>599</td>\n",
              "      <td>40</td>\n",
              "      <td>Adidas CORE / NEO</td>\n",
              "      <td>These adidas Puka slippers for women's come wi...</td>\n",
              "      <td>2.6</td>\n",
              "      <td>37</td>\n",
              "      <td>2020-04-13T15:06:15\\t</td>\n",
              "      <td>1</td>\n",
              "    </tr>\n",
              "    <tr>\n",
              "      <th>3</th>\n",
              "      <td>Women's adidas Sport Inspired Questar Ride Shoes</td>\n",
              "      <td>B44832</td>\n",
              "      <td>6999</td>\n",
              "      <td>3499</td>\n",
              "      <td>50</td>\n",
              "      <td>Adidas CORE / NEO</td>\n",
              "      <td>Inspired by modern tech runners, these women's...</td>\n",
              "      <td>4.1</td>\n",
              "      <td>35</td>\n",
              "      <td>2020-04-13T15:06:15\\t</td>\n",
              "      <td>1</td>\n",
              "    </tr>\n",
              "    <tr>\n",
              "      <th>4</th>\n",
              "      <td>Women's adidas Originals Taekwondo Shoes</td>\n",
              "      <td>D98205</td>\n",
              "      <td>7999</td>\n",
              "      <td>3999</td>\n",
              "      <td>50</td>\n",
              "      <td>Adidas ORIGINALS</td>\n",
              "      <td>This design is inspired by vintage Taekwondo s...</td>\n",
              "      <td>3.5</td>\n",
              "      <td>72</td>\n",
              "      <td>2020-04-13T15:06:15\\t</td>\n",
              "      <td>1</td>\n",
              "    </tr>\n",
              "    <tr>\n",
              "      <th>...</th>\n",
              "      <td>...</td>\n",
              "      <td>...</td>\n",
              "      <td>...</td>\n",
              "      <td>...</td>\n",
              "      <td>...</td>\n",
              "      <td>...</td>\n",
              "      <td>...</td>\n",
              "      <td>...</td>\n",
              "      <td>...</td>\n",
              "      <td>...</td>\n",
              "      <td>...</td>\n",
              "    </tr>\n",
              "    <tr>\n",
              "      <th>3263</th>\n",
              "      <td>Air Jordan 8 Retro</td>\n",
              "      <td>CI1236-100</td>\n",
              "      <td>15995</td>\n",
              "      <td>12797</td>\n",
              "      <td>0</td>\n",
              "      <td>Nike</td>\n",
              "      <td>The Air Jordan 8 Retro recaptures the memorabl...</td>\n",
              "      <td>5.0</td>\n",
              "      <td>1</td>\n",
              "      <td>2020-04-13T15:41:01\\t</td>\n",
              "      <td>0</td>\n",
              "    </tr>\n",
              "    <tr>\n",
              "      <th>3264</th>\n",
              "      <td>Nike Phantom Venom Club IC</td>\n",
              "      <td>AO0578-717</td>\n",
              "      <td>4995</td>\n",
              "      <td>3497</td>\n",
              "      <td>0</td>\n",
              "      <td>Nike</td>\n",
              "      <td>The Nike Phantom Venom Club IC is engineered f...</td>\n",
              "      <td>0.0</td>\n",
              "      <td>0</td>\n",
              "      <td>2020-04-13T15:41:03\\t</td>\n",
              "      <td>0</td>\n",
              "    </tr>\n",
              "    <tr>\n",
              "      <th>3265</th>\n",
              "      <td>Nike Mercurial Superfly 7 Academy TF</td>\n",
              "      <td>AT7978-414</td>\n",
              "      <td>8495</td>\n",
              "      <td>5947</td>\n",
              "      <td>0</td>\n",
              "      <td>Nike</td>\n",
              "      <td>The soft upper of the Nike Mercurial Superfly ...</td>\n",
              "      <td>5.0</td>\n",
              "      <td>1</td>\n",
              "      <td>2020-04-13T15:41:07\\t</td>\n",
              "      <td>0</td>\n",
              "    </tr>\n",
              "    <tr>\n",
              "      <th>3266</th>\n",
              "      <td>Nike Air Max 98</td>\n",
              "      <td>AH6799-300</td>\n",
              "      <td>0</td>\n",
              "      <td>16995</td>\n",
              "      <td>0</td>\n",
              "      <td>Nike</td>\n",
              "      <td>The Nike Air Max 98 features the OG design lin...</td>\n",
              "      <td>4.0</td>\n",
              "      <td>4</td>\n",
              "      <td>2020-04-13T15:41:19\\t</td>\n",
              "      <td>0</td>\n",
              "    </tr>\n",
              "    <tr>\n",
              "      <th>3267</th>\n",
              "      <td>Nike P-6000 SE</td>\n",
              "      <td>CJ9585-600</td>\n",
              "      <td>8995</td>\n",
              "      <td>6297</td>\n",
              "      <td>0</td>\n",
              "      <td>Nike</td>\n",
              "      <td>A mash-up of Pegasus' past, the Nike P-6000 SE...</td>\n",
              "      <td>0.0</td>\n",
              "      <td>0</td>\n",
              "      <td>2020-04-13T15:42:57\\t</td>\n",
              "      <td>0</td>\n",
              "    </tr>\n",
              "  </tbody>\n",
              "</table>\n",
              "<p>3268 rows × 11 columns</p>\n",
              "</div>\n",
              "      <button class=\"colab-df-convert\" onclick=\"convertToInteractive('df-9dfdc276-a3dc-4200-95d8-2d28292bf907')\"\n",
              "              title=\"Convert this dataframe to an interactive table.\"\n",
              "              style=\"display:none;\">\n",
              "        \n",
              "  <svg xmlns=\"http://www.w3.org/2000/svg\" height=\"24px\"viewBox=\"0 0 24 24\"\n",
              "       width=\"24px\">\n",
              "    <path d=\"M0 0h24v24H0V0z\" fill=\"none\"/>\n",
              "    <path d=\"M18.56 5.44l.94 2.06.94-2.06 2.06-.94-2.06-.94-.94-2.06-.94 2.06-2.06.94zm-11 1L8.5 8.5l.94-2.06 2.06-.94-2.06-.94L8.5 2.5l-.94 2.06-2.06.94zm10 10l.94 2.06.94-2.06 2.06-.94-2.06-.94-.94-2.06-.94 2.06-2.06.94z\"/><path d=\"M17.41 7.96l-1.37-1.37c-.4-.4-.92-.59-1.43-.59-.52 0-1.04.2-1.43.59L10.3 9.45l-7.72 7.72c-.78.78-.78 2.05 0 2.83L4 21.41c.39.39.9.59 1.41.59.51 0 1.02-.2 1.41-.59l7.78-7.78 2.81-2.81c.8-.78.8-2.07 0-2.86zM5.41 20L4 18.59l7.72-7.72 1.47 1.35L5.41 20z\"/>\n",
              "  </svg>\n",
              "      </button>\n",
              "      \n",
              "  <style>\n",
              "    .colab-df-container {\n",
              "      display:flex;\n",
              "      flex-wrap:wrap;\n",
              "      gap: 12px;\n",
              "    }\n",
              "\n",
              "    .colab-df-convert {\n",
              "      background-color: #E8F0FE;\n",
              "      border: none;\n",
              "      border-radius: 50%;\n",
              "      cursor: pointer;\n",
              "      display: none;\n",
              "      fill: #1967D2;\n",
              "      height: 32px;\n",
              "      padding: 0 0 0 0;\n",
              "      width: 32px;\n",
              "    }\n",
              "\n",
              "    .colab-df-convert:hover {\n",
              "      background-color: #E2EBFA;\n",
              "      box-shadow: 0px 1px 2px rgba(60, 64, 67, 0.3), 0px 1px 3px 1px rgba(60, 64, 67, 0.15);\n",
              "      fill: #174EA6;\n",
              "    }\n",
              "\n",
              "    [theme=dark] .colab-df-convert {\n",
              "      background-color: #3B4455;\n",
              "      fill: #D2E3FC;\n",
              "    }\n",
              "\n",
              "    [theme=dark] .colab-df-convert:hover {\n",
              "      background-color: #434B5C;\n",
              "      box-shadow: 0px 1px 3px 1px rgba(0, 0, 0, 0.15);\n",
              "      filter: drop-shadow(0px 1px 2px rgba(0, 0, 0, 0.3));\n",
              "      fill: #FFFFFF;\n",
              "    }\n",
              "  </style>\n",
              "\n",
              "      <script>\n",
              "        const buttonEl =\n",
              "          document.querySelector('#df-9dfdc276-a3dc-4200-95d8-2d28292bf907 button.colab-df-convert');\n",
              "        buttonEl.style.display =\n",
              "          google.colab.kernel.accessAllowed ? 'block' : 'none';\n",
              "\n",
              "        async function convertToInteractive(key) {\n",
              "          const element = document.querySelector('#df-9dfdc276-a3dc-4200-95d8-2d28292bf907');\n",
              "          const dataTable =\n",
              "            await google.colab.kernel.invokeFunction('convertToInteractive',\n",
              "                                                     [key], {});\n",
              "          if (!dataTable) return;\n",
              "\n",
              "          const docLinkHtml = 'Like what you see? Visit the ' +\n",
              "            '<a target=\"_blank\" href=https://colab.research.google.com/notebooks/data_table.ipynb>data table notebook</a>'\n",
              "            + ' to learn more about interactive tables.';\n",
              "          element.innerHTML = '';\n",
              "          dataTable['output_type'] = 'display_data';\n",
              "          await google.colab.output.renderOutput(dataTable, element);\n",
              "          const docLink = document.createElement('div');\n",
              "          docLink.innerHTML = docLinkHtml;\n",
              "          element.appendChild(docLink);\n",
              "        }\n",
              "      </script>\n",
              "    </div>\n",
              "  </div>\n",
              "  "
            ]
          },
          "metadata": {},
          "execution_count": 37
        }
      ]
    },
    {
      "cell_type": "markdown",
      "metadata": {
        "id": "7FKuFeKokE8m"
      },
      "source": [
        "### Menentukan Nilai Optimal K (kelompok)"
      ]
    },
    {
      "cell_type": "markdown",
      "metadata": {
        "id": "MzEt-iwgkE8n"
      },
      "source": [
        "Akan digunakan metode Elbow untuk menentukan jumlah k optimal."
      ]
    },
    {
      "cell_type": "code",
      "execution_count": 38,
      "metadata": {
        "colab": {
          "base_uri": "https://localhost:8080/"
        },
        "id": "P0WDy-x0rAFQ",
        "outputId": "e359562a-1844-4bea-caa6-b652e1fa60bd"
      },
      "outputs": [
        {
          "output_type": "stream",
          "name": "stderr",
          "text": [
            "/usr/local/lib/python3.9/dist-packages/sklearn/cluster/_kmeans.py:870: FutureWarning: The default value of `n_init` will change from 10 to 'auto' in 1.4. Set the value of `n_init` explicitly to suppress the warning\n",
            "  warnings.warn(\n",
            "/usr/local/lib/python3.9/dist-packages/sklearn/cluster/_kmeans.py:870: FutureWarning: The default value of `n_init` will change from 10 to 'auto' in 1.4. Set the value of `n_init` explicitly to suppress the warning\n",
            "  warnings.warn(\n",
            "/usr/local/lib/python3.9/dist-packages/sklearn/cluster/_kmeans.py:870: FutureWarning: The default value of `n_init` will change from 10 to 'auto' in 1.4. Set the value of `n_init` explicitly to suppress the warning\n",
            "  warnings.warn(\n",
            "/usr/local/lib/python3.9/dist-packages/sklearn/cluster/_kmeans.py:870: FutureWarning: The default value of `n_init` will change from 10 to 'auto' in 1.4. Set the value of `n_init` explicitly to suppress the warning\n",
            "  warnings.warn(\n",
            "/usr/local/lib/python3.9/dist-packages/sklearn/cluster/_kmeans.py:870: FutureWarning: The default value of `n_init` will change from 10 to 'auto' in 1.4. Set the value of `n_init` explicitly to suppress the warning\n",
            "  warnings.warn(\n",
            "/usr/local/lib/python3.9/dist-packages/sklearn/cluster/_kmeans.py:870: FutureWarning: The default value of `n_init` will change from 10 to 'auto' in 1.4. Set the value of `n_init` explicitly to suppress the warning\n",
            "  warnings.warn(\n",
            "/usr/local/lib/python3.9/dist-packages/sklearn/cluster/_kmeans.py:870: FutureWarning: The default value of `n_init` will change from 10 to 'auto' in 1.4. Set the value of `n_init` explicitly to suppress the warning\n",
            "  warnings.warn(\n",
            "/usr/local/lib/python3.9/dist-packages/sklearn/cluster/_kmeans.py:870: FutureWarning: The default value of `n_init` will change from 10 to 'auto' in 1.4. Set the value of `n_init` explicitly to suppress the warning\n",
            "  warnings.warn(\n"
          ]
        }
      ],
      "source": [
        "# Perulangan ini digunakan untuk mengeksekusi nilai k dengan data \n",
        "# Selanjutkan akan dicari SSE\n",
        "\n",
        "Sum_of_squared_error = []\n",
        "K = range(2,10)\n",
        "for k in K:\n",
        "    km = KMeans(n_clusters=k)\n",
        "    km = km.fit(cluster_data)\n",
        "    Sum_of_squared_error.append(km.inertia_)"
      ]
    },
    {
      "cell_type": "code",
      "execution_count": 39,
      "metadata": {
        "colab": {
          "base_uri": "https://localhost:8080/",
          "height": 472
        },
        "id": "XgLijNR12eIn",
        "outputId": "c4ea6445-0479-42b8-eb2e-693f90365617"
      },
      "outputs": [
        {
          "output_type": "display_data",
          "data": {
            "text/plain": [
              "<Figure size 640x480 with 1 Axes>"
            ],
            "image/png": "[encoded data removed]"
          },
          "metadata": {}
        }
      ],
      "source": [
        "plt.plot(K, Sum_of_squared_error, 'bx-')\n",
        "plt.xlabel('k')\n",
        "plt.ylabel('SSE')\n",
        "plt.title('Elbow Method For Optimal k')\n",
        "plt.show()"
      ]
    },
    {
      "cell_type": "markdown",
      "source": [
        "Berdasarkan metode elbow pada titik siku-siku diperoleh di k=3 atau k=4, dalam pengaplikasian metode elbow pemilihan k optimal dipilih ketika jarak antara jumlah 1 dan yang lain tidak berbeda secara signifikan. Pada kasus ini nilai k yang optimal adalah 4 dikarenakan jarak antara 2 dan 3 terlalu jauh. Namun untuk memastikan, akan dievaluasi dengan menggunakan silhouette score."
      ],
      "metadata": {
        "id": "OEXS_XpKWHz2"
      }
    },
    {
      "cell_type": "markdown",
      "metadata": {
        "id": "djLPH69aGc5N"
      },
      "source": [
        "### Evaluation Model"
      ]
    },
    {
      "cell_type": "markdown",
      "metadata": {
        "id": "73QAXqgFGjxx"
      },
      "source": [
        "Menggunakan silhouette score untuk konfirmasi k-kluster"
      ]
    },
    {
      "cell_type": "code",
      "execution_count": 40,
      "metadata": {
        "colab": {
          "base_uri": "https://localhost:8080/"
        },
        "id": "59_1pggcrDGF",
        "outputId": "39d276bc-957a-4d6c-f77f-616073ed7da6"
      },
      "outputs": [
        {
          "output_type": "stream",
          "name": "stderr",
          "text": [
            "/usr/local/lib/python3.9/dist-packages/sklearn/cluster/_kmeans.py:870: FutureWarning: The default value of `n_init` will change from 10 to 'auto' in 1.4. Set the value of `n_init` explicitly to suppress the warning\n",
            "  warnings.warn(\n",
            "/usr/local/lib/python3.9/dist-packages/sklearn/cluster/_kmeans.py:870: FutureWarning: The default value of `n_init` will change from 10 to 'auto' in 1.4. Set the value of `n_init` explicitly to suppress the warning\n",
            "  warnings.warn(\n"
          ]
        },
        {
          "output_type": "stream",
          "name": "stdout",
          "text": [
            "For n_clusters = 2, silhouette score is 0.52311466263303\n",
            "For n_clusters = 3, silhouette score is 0.5069809199346808\n"
          ]
        },
        {
          "output_type": "stream",
          "name": "stderr",
          "text": [
            "/usr/local/lib/python3.9/dist-packages/sklearn/cluster/_kmeans.py:870: FutureWarning: The default value of `n_init` will change from 10 to 'auto' in 1.4. Set the value of `n_init` explicitly to suppress the warning\n",
            "  warnings.warn(\n",
            "/usr/local/lib/python3.9/dist-packages/sklearn/cluster/_kmeans.py:870: FutureWarning: The default value of `n_init` will change from 10 to 'auto' in 1.4. Set the value of `n_init` explicitly to suppress the warning\n",
            "  warnings.warn(\n"
          ]
        },
        {
          "output_type": "stream",
          "name": "stdout",
          "text": [
            "For n_clusters = 4, silhouette score is 0.5078796959670545\n",
            "For n_clusters = 5, silhouette score is 0.5495994963565253\n"
          ]
        },
        {
          "output_type": "stream",
          "name": "stderr",
          "text": [
            "/usr/local/lib/python3.9/dist-packages/sklearn/cluster/_kmeans.py:870: FutureWarning: The default value of `n_init` will change from 10 to 'auto' in 1.4. Set the value of `n_init` explicitly to suppress the warning\n",
            "  warnings.warn(\n",
            "/usr/local/lib/python3.9/dist-packages/sklearn/cluster/_kmeans.py:870: FutureWarning: The default value of `n_init` will change from 10 to 'auto' in 1.4. Set the value of `n_init` explicitly to suppress the warning\n",
            "  warnings.warn(\n"
          ]
        },
        {
          "output_type": "stream",
          "name": "stdout",
          "text": [
            "For n_clusters = 6, silhouette score is 0.5487480914250895\n",
            "For n_clusters = 7, silhouette score is 0.5682598922220364\n"
          ]
        },
        {
          "output_type": "stream",
          "name": "stderr",
          "text": [
            "/usr/local/lib/python3.9/dist-packages/sklearn/cluster/_kmeans.py:870: FutureWarning: The default value of `n_init` will change from 10 to 'auto' in 1.4. Set the value of `n_init` explicitly to suppress the warning\n",
            "  warnings.warn(\n",
            "/usr/local/lib/python3.9/dist-packages/sklearn/cluster/_kmeans.py:870: FutureWarning: The default value of `n_init` will change from 10 to 'auto' in 1.4. Set the value of `n_init` explicitly to suppress the warning\n",
            "  warnings.warn(\n"
          ]
        },
        {
          "output_type": "stream",
          "name": "stdout",
          "text": [
            "For n_clusters = 8, silhouette score is 0.5908260535614022\n",
            "For n_clusters = 9, silhouette score is 0.6030330201143289\n"
          ]
        }
      ],
      "source": [
        "range_n_clusters = range(2,10)\n",
        "for n_clusters in range_n_clusters:\n",
        "    clusterer = KMeans(n_clusters)\n",
        "    preds = clusterer.fit_predict(cluster_data)\n",
        "    centers = clusterer.cluster_centers_\n",
        "\n",
        "    score = silhouette_score(cluster_data, preds)\n",
        "    print(\"For n_clusters = {}, silhouette score is {}\".format(n_clusters, score))"
      ]
    },
    {
      "cell_type": "markdown",
      "metadata": {
        "id": "e3ln4EVR-uGw"
      },
      "source": [
        "Dari silhouette model didapat k-kluster yang optimum adalah 9, sama seperti pemilihan cluster dengan elbow method. Oleh karena itu, untuk kedepannya akan digunakan k=9 yang artinya customer akan dibagi kedalam 9 kelompok."
      ]
    },
    {
      "cell_type": "code",
      "execution_count": 41,
      "metadata": {
        "colab": {
          "base_uri": "https://localhost:8080/",
          "height": 129
        },
        "id": "Hxve05CO--Dm",
        "outputId": "00f528b2-cafd-4e8d-e971-731ac6b4f477"
      },
      "outputs": [
        {
          "output_type": "stream",
          "name": "stderr",
          "text": [
            "/usr/local/lib/python3.9/dist-packages/sklearn/cluster/_kmeans.py:870: FutureWarning: The default value of `n_init` will change from 10 to 'auto' in 1.4. Set the value of `n_init` explicitly to suppress the warning\n",
            "  warnings.warn(\n"
          ]
        },
        {
          "output_type": "execute_result",
          "data": {
            "text/plain": [
              "KMeans(n_clusters=9)"
            ],
            "text/html": [
              "<style>#sk-container-id-2 {color: black;background-color: white;}#sk-container-id-2 pre{padding: 0;}#sk-container-id-2 div.sk-toggleable {background-color: white;}#sk-container-id-2 label.sk-toggleable__label {cursor: pointer;display: block;width: 100%;margin-bottom: 0;padding: 0.3em;box-sizing: border-box;text-align: center;}#sk-container-id-2 label.sk-toggleable__label-arrow:before {content: \"▸\";float: left;margin-right: 0.25em;color: #696969;}#sk-container-id-2 label.sk-toggleable__label-arrow:hover:before {color: black;}#sk-container-id-2 div.sk-estimator:hover label.sk-toggleable__label-arrow:before {color: black;}#sk-container-id-2 div.sk-toggleable__content {max-height: 0;max-width: 0;overflow: hidden;text-align: left;background-color: #f0f8ff;}#sk-container-id-2 div.sk-toggleable__content pre {margin: 0.2em;color: black;border-radius: 0.25em;background-color: #f0f8ff;}#sk-container-id-2 input.sk-toggleable__control:checked~div.sk-toggleable__content {max-height: 200px;max-width: 100%;overflow: auto;}#sk-container-id-2 input.sk-toggleable__control:checked~label.sk-toggleable__label-arrow:before {content: \"▾\";}#sk-container-id-2 div.sk-estimator input.sk-toggleable__control:checked~label.sk-toggleable__label {background-color: #d4ebff;}#sk-container-id-2 div.sk-label input.sk-toggleable__control:checked~label.sk-toggleable__label {background-color: #d4ebff;}#sk-container-id-2 input.sk-hidden--visually {border: 0;clip: rect(1px 1px 1px 1px);clip: rect(1px, 1px, 1px, 1px);height: 1px;margin: -1px;overflow: hidden;padding: 0;position: absolute;width: 1px;}#sk-container-id-2 div.sk-estimator {font-family: monospace;background-color: #f0f8ff;border: 1px dotted black;border-radius: 0.25em;box-sizing: border-box;margin-bottom: 0.5em;}#sk-container-id-2 div.sk-estimator:hover {background-color: #d4ebff;}#sk-container-id-2 div.sk-parallel-item::after {content: \"\";width: 100%;border-bottom: 1px solid gray;flex-grow: 1;}#sk-container-id-2 div.sk-label:hover label.sk-toggleable__label {background-color: #d4ebff;}#sk-container-id-2 div.sk-serial::before {content: \"\";position: absolute;border-left: 1px solid gray;box-sizing: border-box;top: 0;bottom: 0;left: 50%;z-index: 0;}#sk-container-id-2 div.sk-serial {display: flex;flex-direction: column;align-items: center;background-color: white;padding-right: 0.2em;padding-left: 0.2em;position: relative;}#sk-container-id-2 div.sk-item {position: relative;z-index: 1;}#sk-container-id-2 div.sk-parallel {display: flex;align-items: stretch;justify-content: center;background-color: white;position: relative;}#sk-container-id-2 div.sk-item::before, #sk-container-id-2 div.sk-parallel-item::before {content: \"\";position: absolute;border-left: 1px solid gray;box-sizing: border-box;top: 0;bottom: 0;left: 50%;z-index: -1;}#sk-container-id-2 div.sk-parallel-item {display: flex;flex-direction: column;z-index: 1;position: relative;background-color: white;}#sk-container-id-2 div.sk-parallel-item:first-child::after {align-self: flex-end;width: 50%;}#sk-container-id-2 div.sk-parallel-item:last-child::after {align-self: flex-start;width: 50%;}#sk-container-id-2 div.sk-parallel-item:only-child::after {width: 0;}#sk-container-id-2 div.sk-dashed-wrapped {border: 1px dashed gray;margin: 0 0.4em 0.5em 0.4em;box-sizing: border-box;padding-bottom: 0.4em;background-color: white;}#sk-container-id-2 div.sk-label label {font-family: monospace;font-weight: bold;display: inline-block;line-height: 1.2em;}#sk-container-id-2 div.sk-label-container {text-align: center;}#sk-container-id-2 div.sk-container {/* jupyter's `normalize.less` sets `[hidden] { display: none; }` but bootstrap.min.css set `[hidden] { display: none !important; }` so we also need the `!important` here to be able to override the default hidden behavior on the sphinx rendered scikit-learn.org. See: https://github.com/scikit-learn/scikit-learn/issues/21755 */display: inline-block !important;position: relative;}#sk-container-id-2 div.sk-text-repr-fallback {display: none;}</style><div id=\"sk-container-id-2\" class=\"sk-top-container\"><div class=\"sk-text-repr-fallback\"><pre>KMeans(n_clusters=9)</pre><b>In a Jupyter environment, please rerun this cell to show the HTML representation or trust the notebook. <br />On GitHub, the HTML representation is unable to render, please try loading this page with nbviewer.org.</b></div><div class=\"sk-container\" hidden><div class=\"sk-item\"><div class=\"sk-estimator sk-toggleable\"><input class=\"sk-toggleable__control sk-hidden--visually\" id=\"sk-estimator-id-2\" type=\"checkbox\" checked><label for=\"sk-estimator-id-2\" class=\"sk-toggleable__label sk-toggleable__label-arrow\">KMeans</label><div class=\"sk-toggleable__content\"><pre>KMeans(n_clusters=9)</pre></div></div></div></div></div>"
            ]
          },
          "metadata": {},
          "execution_count": 41
        }
      ],
      "source": [
        "# Memodelkan data dengan k-means\n",
        "cluster = KMeans(n_clusters=9)\n",
        "cluster.fit(cluster_data)"
      ]
    },
    {
      "cell_type": "code",
      "execution_count": 42,
      "metadata": {
        "id": "mCSH19ax_CYo"
      },
      "outputs": [],
      "source": [
        "# Membuat kolom baru berdasarkan hasil clustering\n",
        "segment = pd.Series(cluster.labels_, name=\"segment\")"
      ]
    },
    {
      "cell_type": "code",
      "source": [
        "# Menggabungkan data dengan hasil cluster\n",
        "results = pd.concat([df, segment], axis=1)\n",
        "results.head()"
      ],
      "metadata": {
        "colab": {
          "base_uri": "https://localhost:8080/",
          "height": 354
        },
        "id": "BUfujY5DR81u",
        "outputId": "9380965c-b2c1-4499-e7de-c84b1f88a29a"
      },
      "execution_count": 43,
      "outputs": [
        {
          "output_type": "execute_result",
          "data": {
            "text/plain": [
              "                                        Product Name Product ID  \\\n",
              "0  Women's adidas Originals NMD_Racer Primeknit S...     AH2430   \n",
              "1               Women's adidas Originals Sleek Shoes     G27341   \n",
              "2                  Women's adidas Swim Puka Slippers     CM0081   \n",
              "3   Women's adidas Sport Inspired Questar Ride Shoes     B44832   \n",
              "4           Women's adidas Originals Taekwondo Shoes     D98205   \n",
              "\n",
              "   Listing_Price  Sale_Price  Discount              Brand  \\\n",
              "0          14999        7499        50   Adidas ORIGINALS   \n",
              "1           7599        3799        50   Adidas ORIGINALS   \n",
              "2            999         599        40  Adidas CORE / NEO   \n",
              "3           6999        3499        50  Adidas CORE / NEO   \n",
              "4           7999        3999        50   Adidas ORIGINALS   \n",
              "\n",
              "                                         Description  Rating  Reviews  \\\n",
              "0  Channeling the streamlined look of an '80s rac...     4.8       41   \n",
              "1  A modern take on adidas sport heritage, tailor...     3.3       24   \n",
              "2  These adidas Puka slippers for women's come wi...     2.6       37   \n",
              "3  Inspired by modern tech runners, these women's...     4.1       35   \n",
              "4  This design is inspired by vintage Taekwondo s...     3.5       72   \n",
              "\n",
              "          Last Visited\\t  segment  \n",
              "0  2020-04-13T15:06:14\\t        1  \n",
              "1  2020-04-13T15:06:15\\t        5  \n",
              "2  2020-04-13T15:06:15\\t        2  \n",
              "3  2020-04-13T15:06:15\\t        2  \n",
              "4  2020-04-13T15:06:15\\t        5  "
            ],
            "text/html": [
              "\n",
              "  <div id=\"df-34082baf-ae1c-4f0f-8481-c5ec44892e95\">\n",
              "    <div class=\"colab-df-container\">\n",
              "      <div>\n",
              "<style scoped>\n",
              "    .dataframe tbody tr th:only-of-type {\n",
              "        vertical-align: middle;\n",
              "    }\n",
              "\n",
              "    .dataframe tbody tr th {\n",
              "        vertical-align: top;\n",
              "    }\n",
              "\n",
              "    .dataframe thead th {\n",
              "        text-align: right;\n",
              "    }\n",
              "</style>\n",
              "<table border=\"1\" class=\"dataframe\">\n",
              "  <thead>\n",
              "    <tr style=\"text-align: right;\">\n",
              "      <th></th>\n",
              "      <th>Product Name</th>\n",
              "      <th>Product ID</th>\n",
              "      <th>Listing_Price</th>\n",
              "      <th>Sale_Price</th>\n",
              "      <th>Discount</th>\n",
              "      <th>Brand</th>\n",
              "      <th>Description</th>\n",
              "      <th>Rating</th>\n",
              "      <th>Reviews</th>\n",
              "      <th>Last Visited\\t</th>\n",
              "      <th>segment</th>\n",
              "    </tr>\n",
              "  </thead>\n",
              "  <tbody>\n",
              "    <tr>\n",
              "      <th>0</th>\n",
              "      <td>Women's adidas Originals NMD_Racer Primeknit S...</td>\n",
              "      <td>AH2430</td>\n",
              "      <td>14999</td>\n",
              "      <td>7499</td>\n",
              "      <td>50</td>\n",
              "      <td>Adidas ORIGINALS</td>\n",
              "      <td>Channeling the streamlined look of an '80s rac...</td>\n",
              "      <td>4.8</td>\n",
              "      <td>41</td>\n",
              "      <td>2020-04-13T15:06:14\\t</td>\n",
              "      <td>1</td>\n",
              "    </tr>\n",
              "    <tr>\n",
              "      <th>1</th>\n",
              "      <td>Women's adidas Originals Sleek Shoes</td>\n",
              "      <td>G27341</td>\n",
              "      <td>7599</td>\n",
              "      <td>3799</td>\n",
              "      <td>50</td>\n",
              "      <td>Adidas ORIGINALS</td>\n",
              "      <td>A modern take on adidas sport heritage, tailor...</td>\n",
              "      <td>3.3</td>\n",
              "      <td>24</td>\n",
              "      <td>2020-04-13T15:06:15\\t</td>\n",
              "      <td>5</td>\n",
              "    </tr>\n",
              "    <tr>\n",
              "      <th>2</th>\n",
              "      <td>Women's adidas Swim Puka Slippers</td>\n",
              "      <td>CM0081</td>\n",
              "      <td>999</td>\n",
              "      <td>599</td>\n",
              "      <td>40</td>\n",
              "      <td>Adidas CORE / NEO</td>\n",
              "      <td>These adidas Puka slippers for women's come wi...</td>\n",
              "      <td>2.6</td>\n",
              "      <td>37</td>\n",
              "      <td>2020-04-13T15:06:15\\t</td>\n",
              "      <td>2</td>\n",
              "    </tr>\n",
              "    <tr>\n",
              "      <th>3</th>\n",
              "      <td>Women's adidas Sport Inspired Questar Ride Shoes</td>\n",
              "      <td>B44832</td>\n",
              "      <td>6999</td>\n",
              "      <td>3499</td>\n",
              "      <td>50</td>\n",
              "      <td>Adidas CORE / NEO</td>\n",
              "      <td>Inspired by modern tech runners, these women's...</td>\n",
              "      <td>4.1</td>\n",
              "      <td>35</td>\n",
              "      <td>2020-04-13T15:06:15\\t</td>\n",
              "      <td>2</td>\n",
              "    </tr>\n",
              "    <tr>\n",
              "      <th>4</th>\n",
              "      <td>Women's adidas Originals Taekwondo Shoes</td>\n",
              "      <td>D98205</td>\n",
              "      <td>7999</td>\n",
              "      <td>3999</td>\n",
              "      <td>50</td>\n",
              "      <td>Adidas ORIGINALS</td>\n",
              "      <td>This design is inspired by vintage Taekwondo s...</td>\n",
              "      <td>3.5</td>\n",
              "      <td>72</td>\n",
              "      <td>2020-04-13T15:06:15\\t</td>\n",
              "      <td>5</td>\n",
              "    </tr>\n",
              "  </tbody>\n",
              "</table>\n",
              "</div>\n",
              "      <button class=\"colab-df-convert\" onclick=\"convertToInteractive('df-34082baf-ae1c-4f0f-8481-c5ec44892e95')\"\n",
              "              title=\"Convert this dataframe to an interactive table.\"\n",
              "              style=\"display:none;\">\n",
              "        \n",
              "  <svg xmlns=\"http://www.w3.org/2000/svg\" height=\"24px\"viewBox=\"0 0 24 24\"\n",
              "       width=\"24px\">\n",
              "    <path d=\"M0 0h24v24H0V0z\" fill=\"none\"/>\n",
              "    <path d=\"M18.56 5.44l.94 2.06.94-2.06 2.06-.94-2.06-.94-.94-2.06-.94 2.06-2.06.94zm-11 1L8.5 8.5l.94-2.06 2.06-.94-2.06-.94L8.5 2.5l-.94 2.06-2.06.94zm10 10l.94 2.06.94-2.06 2.06-.94-2.06-.94-.94-2.06-.94 2.06-2.06.94z\"/><path d=\"M17.41 7.96l-1.37-1.37c-.4-.4-.92-.59-1.43-.59-.52 0-1.04.2-1.43.59L10.3 9.45l-7.72 7.72c-.78.78-.78 2.05 0 2.83L4 21.41c.39.39.9.59 1.41.59.51 0 1.02-.2 1.41-.59l7.78-7.78 2.81-2.81c.8-.78.8-2.07 0-2.86zM5.41 20L4 18.59l7.72-7.72 1.47 1.35L5.41 20z\"/>\n",
              "  </svg>\n",
              "      </button>\n",
              "      \n",
              "  <style>\n",
              "    .colab-df-container {\n",
              "      display:flex;\n",
              "      flex-wrap:wrap;\n",
              "      gap: 12px;\n",
              "    }\n",
              "\n",
              "    .colab-df-convert {\n",
              "      background-color: #E8F0FE;\n",
              "      border: none;\n",
              "      border-radius: 50%;\n",
              "      cursor: pointer;\n",
              "      display: none;\n",
              "      fill: #1967D2;\n",
              "      height: 32px;\n",
              "      padding: 0 0 0 0;\n",
              "      width: 32px;\n",
              "    }\n",
              "\n",
              "    .colab-df-convert:hover {\n",
              "      background-color: #E2EBFA;\n",
              "      box-shadow: 0px 1px 2px rgba(60, 64, 67, 0.3), 0px 1px 3px 1px rgba(60, 64, 67, 0.15);\n",
              "      fill: #174EA6;\n",
              "    }\n",
              "\n",
              "    [theme=dark] .colab-df-convert {\n",
              "      background-color: #3B4455;\n",
              "      fill: #D2E3FC;\n",
              "    }\n",
              "\n",
              "    [theme=dark] .colab-df-convert:hover {\n",
              "      background-color: #434B5C;\n",
              "      box-shadow: 0px 1px 3px 1px rgba(0, 0, 0, 0.15);\n",
              "      filter: drop-shadow(0px 1px 2px rgba(0, 0, 0, 0.3));\n",
              "      fill: #FFFFFF;\n",
              "    }\n",
              "  </style>\n",
              "\n",
              "      <script>\n",
              "        const buttonEl =\n",
              "          document.querySelector('#df-34082baf-ae1c-4f0f-8481-c5ec44892e95 button.colab-df-convert');\n",
              "        buttonEl.style.display =\n",
              "          google.colab.kernel.accessAllowed ? 'block' : 'none';\n",
              "\n",
              "        async function convertToInteractive(key) {\n",
              "          const element = document.querySelector('#df-34082baf-ae1c-4f0f-8481-c5ec44892e95');\n",
              "          const dataTable =\n",
              "            await google.colab.kernel.invokeFunction('convertToInteractive',\n",
              "                                                     [key], {});\n",
              "          if (!dataTable) return;\n",
              "\n",
              "          const docLinkHtml = 'Like what you see? Visit the ' +\n",
              "            '<a target=\"_blank\" href=https://colab.research.google.com/notebooks/data_table.ipynb>data table notebook</a>'\n",
              "            + ' to learn more about interactive tables.';\n",
              "          element.innerHTML = '';\n",
              "          dataTable['output_type'] = 'display_data';\n",
              "          await google.colab.output.renderOutput(dataTable, element);\n",
              "          const docLink = document.createElement('div');\n",
              "          docLink.innerHTML = docLinkHtml;\n",
              "          element.appendChild(docLink);\n",
              "        }\n",
              "      </script>\n",
              "    </div>\n",
              "  </div>\n",
              "  "
            ]
          },
          "metadata": {},
          "execution_count": 43
        }
      ]
    },
    {
      "cell_type": "code",
      "execution_count": 44,
      "metadata": {
        "colab": {
          "base_uri": "https://localhost:8080/",
          "height": 354
        },
        "id": "JJcfi8H2_K79",
        "outputId": "5ae96f0a-f5fc-4a3e-b5f9-75b443cae43d"
      },
      "outputs": [
        {
          "output_type": "execute_result",
          "data": {
            "text/plain": [
              "                                           Product Name Product ID  \\\n",
              "1570  Unisex Football Predator Mutator 20.1 Firm Gro...     EF1629   \n",
              "1597  Women's adidas by Stella Mccartney Running Ult...     EG1073   \n",
              "1601  Women's adidas by Stella Mccartney Running Ult...     EG1069   \n",
              "1604                       Women's Running Boston Shoes     EF2212   \n",
              "1605  Women's adidas by Stella Mccartney Running Ult...     EG1071   \n",
              "\n",
              "      Listing_Price  Sale_Price  Discount                     Brand  \\\n",
              "1570          14999       14999         0  Adidas SPORT PERFORMANCE   \n",
              "1597          17999       17999         0  Adidas SPORT PERFORMANCE   \n",
              "1601          17999       17999         0  Adidas SPORT PERFORMANCE   \n",
              "1604          17999       17999         0  Adidas SPORT PERFORMANCE   \n",
              "1605          17999       17999         0  Adidas SPORT PERFORMANCE   \n",
              "\n",
              "                                            Description  Rating  Reviews  \\\n",
              "1570  You're not cheating the system. You're just be...     2.8       60   \n",
              "1597  Turn it up a notch. The dream of a running san...     3.8       76   \n",
              "1601  adidas and Stella McCartney have been fusing t...     3.3       24   \n",
              "1604  Find your edge. Then push past it. Meeting the...     5.0       47   \n",
              "1605  Energy assured, from dusk until dawn. These sh...     3.5       89   \n",
              "\n",
              "             Last Visited\\t  segment  \n",
              "1570  2020-04-13T15:07:17\\t        0  \n",
              "1597  2020-04-13T15:07:18\\t        0  \n",
              "1601  2020-04-13T15:07:19\\t        0  \n",
              "1604  2020-04-13T15:07:19\\t        0  \n",
              "1605  2020-04-13T15:07:19\\t        0  "
            ],
            "text/html": [
              "\n",
              "  <div id=\"df-a9f489a7-9bb0-418b-aef0-271354ae4f66\">\n",
              "    <div class=\"colab-df-container\">\n",
              "      <div>\n",
              "<style scoped>\n",
              "    .dataframe tbody tr th:only-of-type {\n",
              "        vertical-align: middle;\n",
              "    }\n",
              "\n",
              "    .dataframe tbody tr th {\n",
              "        vertical-align: top;\n",
              "    }\n",
              "\n",
              "    .dataframe thead th {\n",
              "        text-align: right;\n",
              "    }\n",
              "</style>\n",
              "<table border=\"1\" class=\"dataframe\">\n",
              "  <thead>\n",
              "    <tr style=\"text-align: right;\">\n",
              "      <th></th>\n",
              "      <th>Product Name</th>\n",
              "      <th>Product ID</th>\n",
              "      <th>Listing_Price</th>\n",
              "      <th>Sale_Price</th>\n",
              "      <th>Discount</th>\n",
              "      <th>Brand</th>\n",
              "      <th>Description</th>\n",
              "      <th>Rating</th>\n",
              "      <th>Reviews</th>\n",
              "      <th>Last Visited\\t</th>\n",
              "      <th>segment</th>\n",
              "    </tr>\n",
              "  </thead>\n",
              "  <tbody>\n",
              "    <tr>\n",
              "      <th>1570</th>\n",
              "      <td>Unisex Football Predator Mutator 20.1 Firm Gro...</td>\n",
              "      <td>EF1629</td>\n",
              "      <td>14999</td>\n",
              "      <td>14999</td>\n",
              "      <td>0</td>\n",
              "      <td>Adidas SPORT PERFORMANCE</td>\n",
              "      <td>You're not cheating the system. You're just be...</td>\n",
              "      <td>2.8</td>\n",
              "      <td>60</td>\n",
              "      <td>2020-04-13T15:07:17\\t</td>\n",
              "      <td>0</td>\n",
              "    </tr>\n",
              "    <tr>\n",
              "      <th>1597</th>\n",
              "      <td>Women's adidas by Stella Mccartney Running Ult...</td>\n",
              "      <td>EG1073</td>\n",
              "      <td>17999</td>\n",
              "      <td>17999</td>\n",
              "      <td>0</td>\n",
              "      <td>Adidas SPORT PERFORMANCE</td>\n",
              "      <td>Turn it up a notch. The dream of a running san...</td>\n",
              "      <td>3.8</td>\n",
              "      <td>76</td>\n",
              "      <td>2020-04-13T15:07:18\\t</td>\n",
              "      <td>0</td>\n",
              "    </tr>\n",
              "    <tr>\n",
              "      <th>1601</th>\n",
              "      <td>Women's adidas by Stella Mccartney Running Ult...</td>\n",
              "      <td>EG1069</td>\n",
              "      <td>17999</td>\n",
              "      <td>17999</td>\n",
              "      <td>0</td>\n",
              "      <td>Adidas SPORT PERFORMANCE</td>\n",
              "      <td>adidas and Stella McCartney have been fusing t...</td>\n",
              "      <td>3.3</td>\n",
              "      <td>24</td>\n",
              "      <td>2020-04-13T15:07:19\\t</td>\n",
              "      <td>0</td>\n",
              "    </tr>\n",
              "    <tr>\n",
              "      <th>1604</th>\n",
              "      <td>Women's Running Boston Shoes</td>\n",
              "      <td>EF2212</td>\n",
              "      <td>17999</td>\n",
              "      <td>17999</td>\n",
              "      <td>0</td>\n",
              "      <td>Adidas SPORT PERFORMANCE</td>\n",
              "      <td>Find your edge. Then push past it. Meeting the...</td>\n",
              "      <td>5.0</td>\n",
              "      <td>47</td>\n",
              "      <td>2020-04-13T15:07:19\\t</td>\n",
              "      <td>0</td>\n",
              "    </tr>\n",
              "    <tr>\n",
              "      <th>1605</th>\n",
              "      <td>Women's adidas by Stella Mccartney Running Ult...</td>\n",
              "      <td>EG1071</td>\n",
              "      <td>17999</td>\n",
              "      <td>17999</td>\n",
              "      <td>0</td>\n",
              "      <td>Adidas SPORT PERFORMANCE</td>\n",
              "      <td>Energy assured, from dusk until dawn. These sh...</td>\n",
              "      <td>3.5</td>\n",
              "      <td>89</td>\n",
              "      <td>2020-04-13T15:07:19\\t</td>\n",
              "      <td>0</td>\n",
              "    </tr>\n",
              "  </tbody>\n",
              "</table>\n",
              "</div>\n",
              "      <button class=\"colab-df-convert\" onclick=\"convertToInteractive('df-a9f489a7-9bb0-418b-aef0-271354ae4f66')\"\n",
              "              title=\"Convert this dataframe to an interactive table.\"\n",
              "              style=\"display:none;\">\n",
              "        \n",
              "  <svg xmlns=\"http://www.w3.org/2000/svg\" height=\"24px\"viewBox=\"0 0 24 24\"\n",
              "       width=\"24px\">\n",
              "    <path d=\"M0 0h24v24H0V0z\" fill=\"none\"/>\n",
              "    <path d=\"M18.56 5.44l.94 2.06.94-2.06 2.06-.94-2.06-.94-.94-2.06-.94 2.06-2.06.94zm-11 1L8.5 8.5l.94-2.06 2.06-.94-2.06-.94L8.5 2.5l-.94 2.06-2.06.94zm10 10l.94 2.06.94-2.06 2.06-.94-2.06-.94-.94-2.06-.94 2.06-2.06.94z\"/><path d=\"M17.41 7.96l-1.37-1.37c-.4-.4-.92-.59-1.43-.59-.52 0-1.04.2-1.43.59L10.3 9.45l-7.72 7.72c-.78.78-.78 2.05 0 2.83L4 21.41c.39.39.9.59 1.41.59.51 0 1.02-.2 1.41-.59l7.78-7.78 2.81-2.81c.8-.78.8-2.07 0-2.86zM5.41 20L4 18.59l7.72-7.72 1.47 1.35L5.41 20z\"/>\n",
              "  </svg>\n",
              "      </button>\n",
              "      \n",
              "  <style>\n",
              "    .colab-df-container {\n",
              "      display:flex;\n",
              "      flex-wrap:wrap;\n",
              "      gap: 12px;\n",
              "    }\n",
              "\n",
              "    .colab-df-convert {\n",
              "      background-color: #E8F0FE;\n",
              "      border: none;\n",
              "      border-radius: 50%;\n",
              "      cursor: pointer;\n",
              "      display: none;\n",
              "      fill: #1967D2;\n",
              "      height: 32px;\n",
              "      padding: 0 0 0 0;\n",
              "      width: 32px;\n",
              "    }\n",
              "\n",
              "    .colab-df-convert:hover {\n",
              "      background-color: #E2EBFA;\n",
              "      box-shadow: 0px 1px 2px rgba(60, 64, 67, 0.3), 0px 1px 3px 1px rgba(60, 64, 67, 0.15);\n",
              "      fill: #174EA6;\n",
              "    }\n",
              "\n",
              "    [theme=dark] .colab-df-convert {\n",
              "      background-color: #3B4455;\n",
              "      fill: #D2E3FC;\n",
              "    }\n",
              "\n",
              "    [theme=dark] .colab-df-convert:hover {\n",
              "      background-color: #434B5C;\n",
              "      box-shadow: 0px 1px 3px 1px rgba(0, 0, 0, 0.15);\n",
              "      filter: drop-shadow(0px 1px 2px rgba(0, 0, 0, 0.3));\n",
              "      fill: #FFFFFF;\n",
              "    }\n",
              "  </style>\n",
              "\n",
              "      <script>\n",
              "        const buttonEl =\n",
              "          document.querySelector('#df-a9f489a7-9bb0-418b-aef0-271354ae4f66 button.colab-df-convert');\n",
              "        buttonEl.style.display =\n",
              "          google.colab.kernel.accessAllowed ? 'block' : 'none';\n",
              "\n",
              "        async function convertToInteractive(key) {\n",
              "          const element = document.querySelector('#df-a9f489a7-9bb0-418b-aef0-271354ae4f66');\n",
              "          const dataTable =\n",
              "            await google.colab.kernel.invokeFunction('convertToInteractive',\n",
              "                                                     [key], {});\n",
              "          if (!dataTable) return;\n",
              "\n",
              "          const docLinkHtml = 'Like what you see? Visit the ' +\n",
              "            '<a target=\"_blank\" href=https://colab.research.google.com/notebooks/data_table.ipynb>data table notebook</a>'\n",
              "            + ' to learn more about interactive tables.';\n",
              "          element.innerHTML = '';\n",
              "          dataTable['output_type'] = 'display_data';\n",
              "          await google.colab.output.renderOutput(dataTable, element);\n",
              "          const docLink = document.createElement('div');\n",
              "          docLink.innerHTML = docLinkHtml;\n",
              "          element.appendChild(docLink);\n",
              "        }\n",
              "      </script>\n",
              "    </div>\n",
              "  </div>\n",
              "  "
            ]
          },
          "metadata": {},
          "execution_count": 44
        }
      ],
      "source": [
        "# Menampilkan 5 data teratas dari cluster 0\n",
        "results[results[\"segment\"]==0][:5]"
      ]
    },
    {
      "cell_type": "code",
      "execution_count": 45,
      "metadata": {
        "colab": {
          "base_uri": "https://localhost:8080/",
          "height": 354
        },
        "id": "1VndOyvq_P7g",
        "outputId": "70142647-8548-47c2-85cd-1158bec611d8"
      },
      "outputs": [
        {
          "output_type": "execute_result",
          "data": {
            "text/plain": [
              "                                         Product Name Product ID  \\\n",
              "0   Women's adidas Originals NMD_Racer Primeknit S...     AH2430   \n",
              "52       Women's adidas Originals Marathon Tech Shoes     EE4954   \n",
              "74             Men's adidas Originals Superstar Shoes     EG4957   \n",
              "85           Men's adidas Originals FuturePacer Shoes     CM8453   \n",
              "86       MEN'S ADIDAS ORIGINALS MICROPACER X R1 SHOES     EE3625   \n",
              "\n",
              "    Listing_Price  Sale_Price  Discount             Brand  \\\n",
              "0           14999        7499        50  Adidas ORIGINALS   \n",
              "52          11999        7199        40  Adidas ORIGINALS   \n",
              "74           7999        7999         0  Adidas ORIGINALS   \n",
              "85          19999        9999        50  Adidas ORIGINALS   \n",
              "86          15999        7999        50  Adidas ORIGINALS   \n",
              "\n",
              "                                          Description  Rating  Reviews  \\\n",
              "0   Channeling the streamlined look of an '80s rac...     4.8       41   \n",
              "52  These shoes draft off the Marathon TR, a trail...     4.4       35   \n",
              "74  These trainers born in the '70s keep the look ...     4.9       38   \n",
              "85  The Futurepacer reworks the revolutionary desi...     3.5        1   \n",
              "86  These shoes are a hybrid of retro and modern a...     0.0       94   \n",
              "\n",
              "           Last Visited\\t  segment  \n",
              "0   2020-04-13T15:06:14\\t        1  \n",
              "52  2020-04-13T15:06:19\\t        1  \n",
              "74  2020-04-13T15:06:20\\t        1  \n",
              "85  2020-04-13T15:06:21\\t        1  \n",
              "86  2020-04-13T15:06:21\\t        1  "
            ],
            "text/html": [
              "\n",
              "  <div id=\"df-ceca2b5d-da07-4dee-9d42-12e8ac2ee4f7\">\n",
              "    <div class=\"colab-df-container\">\n",
              "      <div>\n",
              "<style scoped>\n",
              "    .dataframe tbody tr th:only-of-type {\n",
              "        vertical-align: middle;\n",
              "    }\n",
              "\n",
              "    .dataframe tbody tr th {\n",
              "        vertical-align: top;\n",
              "    }\n",
              "\n",
              "    .dataframe thead th {\n",
              "        text-align: right;\n",
              "    }\n",
              "</style>\n",
              "<table border=\"1\" class=\"dataframe\">\n",
              "  <thead>\n",
              "    <tr style=\"text-align: right;\">\n",
              "      <th></th>\n",
              "      <th>Product Name</th>\n",
              "      <th>Product ID</th>\n",
              "      <th>Listing_Price</th>\n",
              "      <th>Sale_Price</th>\n",
              "      <th>Discount</th>\n",
              "      <th>Brand</th>\n",
              "      <th>Description</th>\n",
              "      <th>Rating</th>\n",
              "      <th>Reviews</th>\n",
              "      <th>Last Visited\\t</th>\n",
              "      <th>segment</th>\n",
              "    </tr>\n",
              "  </thead>\n",
              "  <tbody>\n",
              "    <tr>\n",
              "      <th>0</th>\n",
              "      <td>Women's adidas Originals NMD_Racer Primeknit S...</td>\n",
              "      <td>AH2430</td>\n",
              "      <td>14999</td>\n",
              "      <td>7499</td>\n",
              "      <td>50</td>\n",
              "      <td>Adidas ORIGINALS</td>\n",
              "      <td>Channeling the streamlined look of an '80s rac...</td>\n",
              "      <td>4.8</td>\n",
              "      <td>41</td>\n",
              "      <td>2020-04-13T15:06:14\\t</td>\n",
              "      <td>1</td>\n",
              "    </tr>\n",
              "    <tr>\n",
              "      <th>52</th>\n",
              "      <td>Women's adidas Originals Marathon Tech Shoes</td>\n",
              "      <td>EE4954</td>\n",
              "      <td>11999</td>\n",
              "      <td>7199</td>\n",
              "      <td>40</td>\n",
              "      <td>Adidas ORIGINALS</td>\n",
              "      <td>These shoes draft off the Marathon TR, a trail...</td>\n",
              "      <td>4.4</td>\n",
              "      <td>35</td>\n",
              "      <td>2020-04-13T15:06:19\\t</td>\n",
              "      <td>1</td>\n",
              "    </tr>\n",
              "    <tr>\n",
              "      <th>74</th>\n",
              "      <td>Men's adidas Originals Superstar Shoes</td>\n",
              "      <td>EG4957</td>\n",
              "      <td>7999</td>\n",
              "      <td>7999</td>\n",
              "      <td>0</td>\n",
              "      <td>Adidas ORIGINALS</td>\n",
              "      <td>These trainers born in the '70s keep the look ...</td>\n",
              "      <td>4.9</td>\n",
              "      <td>38</td>\n",
              "      <td>2020-04-13T15:06:20\\t</td>\n",
              "      <td>1</td>\n",
              "    </tr>\n",
              "    <tr>\n",
              "      <th>85</th>\n",
              "      <td>Men's adidas Originals FuturePacer Shoes</td>\n",
              "      <td>CM8453</td>\n",
              "      <td>19999</td>\n",
              "      <td>9999</td>\n",
              "      <td>50</td>\n",
              "      <td>Adidas ORIGINALS</td>\n",
              "      <td>The Futurepacer reworks the revolutionary desi...</td>\n",
              "      <td>3.5</td>\n",
              "      <td>1</td>\n",
              "      <td>2020-04-13T15:06:21\\t</td>\n",
              "      <td>1</td>\n",
              "    </tr>\n",
              "    <tr>\n",
              "      <th>86</th>\n",
              "      <td>MEN'S ADIDAS ORIGINALS MICROPACER X R1 SHOES</td>\n",
              "      <td>EE3625</td>\n",
              "      <td>15999</td>\n",
              "      <td>7999</td>\n",
              "      <td>50</td>\n",
              "      <td>Adidas ORIGINALS</td>\n",
              "      <td>These shoes are a hybrid of retro and modern a...</td>\n",
              "      <td>0.0</td>\n",
              "      <td>94</td>\n",
              "      <td>2020-04-13T15:06:21\\t</td>\n",
              "      <td>1</td>\n",
              "    </tr>\n",
              "  </tbody>\n",
              "</table>\n",
              "</div>\n",
              "      <button class=\"colab-df-convert\" onclick=\"convertToInteractive('df-ceca2b5d-da07-4dee-9d42-12e8ac2ee4f7')\"\n",
              "              title=\"Convert this dataframe to an interactive table.\"\n",
              "              style=\"display:none;\">\n",
              "        \n",
              "  <svg xmlns=\"http://www.w3.org/2000/svg\" height=\"24px\"viewBox=\"0 0 24 24\"\n",
              "       width=\"24px\">\n",
              "    <path d=\"M0 0h24v24H0V0z\" fill=\"none\"/>\n",
              "    <path d=\"M18.56 5.44l.94 2.06.94-2.06 2.06-.94-2.06-.94-.94-2.06-.94 2.06-2.06.94zm-11 1L8.5 8.5l.94-2.06 2.06-.94-2.06-.94L8.5 2.5l-.94 2.06-2.06.94zm10 10l.94 2.06.94-2.06 2.06-.94-2.06-.94-.94-2.06-.94 2.06-2.06.94z\"/><path d=\"M17.41 7.96l-1.37-1.37c-.4-.4-.92-.59-1.43-.59-.52 0-1.04.2-1.43.59L10.3 9.45l-7.72 7.72c-.78.78-.78 2.05 0 2.83L4 21.41c.39.39.9.59 1.41.59.51 0 1.02-.2 1.41-.59l7.78-7.78 2.81-2.81c.8-.78.8-2.07 0-2.86zM5.41 20L4 18.59l7.72-7.72 1.47 1.35L5.41 20z\"/>\n",
              "  </svg>\n",
              "      </button>\n",
              "      \n",
              "  <style>\n",
              "    .colab-df-container {\n",
              "      display:flex;\n",
              "      flex-wrap:wrap;\n",
              "      gap: 12px;\n",
              "    }\n",
              "\n",
              "    .colab-df-convert {\n",
              "      background-color: #E8F0FE;\n",
              "      border: none;\n",
              "      border-radius: 50%;\n",
              "      cursor: pointer;\n",
              "      display: none;\n",
              "      fill: #1967D2;\n",
              "      height: 32px;\n",
              "      padding: 0 0 0 0;\n",
              "      width: 32px;\n",
              "    }\n",
              "\n",
              "    .colab-df-convert:hover {\n",
              "      background-color: #E2EBFA;\n",
              "      box-shadow: 0px 1px 2px rgba(60, 64, 67, 0.3), 0px 1px 3px 1px rgba(60, 64, 67, 0.15);\n",
              "      fill: #174EA6;\n",
              "    }\n",
              "\n",
              "    [theme=dark] .colab-df-convert {\n",
              "      background-color: #3B4455;\n",
              "      fill: #D2E3FC;\n",
              "    }\n",
              "\n",
              "    [theme=dark] .colab-df-convert:hover {\n",
              "      background-color: #434B5C;\n",
              "      box-shadow: 0px 1px 3px 1px rgba(0, 0, 0, 0.15);\n",
              "      filter: drop-shadow(0px 1px 2px rgba(0, 0, 0, 0.3));\n",
              "      fill: #FFFFFF;\n",
              "    }\n",
              "  </style>\n",
              "\n",
              "      <script>\n",
              "        const buttonEl =\n",
              "          document.querySelector('#df-ceca2b5d-da07-4dee-9d42-12e8ac2ee4f7 button.colab-df-convert');\n",
              "        buttonEl.style.display =\n",
              "          google.colab.kernel.accessAllowed ? 'block' : 'none';\n",
              "\n",
              "        async function convertToInteractive(key) {\n",
              "          const element = document.querySelector('#df-ceca2b5d-da07-4dee-9d42-12e8ac2ee4f7');\n",
              "          const dataTable =\n",
              "            await google.colab.kernel.invokeFunction('convertToInteractive',\n",
              "                                                     [key], {});\n",
              "          if (!dataTable) return;\n",
              "\n",
              "          const docLinkHtml = 'Like what you see? Visit the ' +\n",
              "            '<a target=\"_blank\" href=https://colab.research.google.com/notebooks/data_table.ipynb>data table notebook</a>'\n",
              "            + ' to learn more about interactive tables.';\n",
              "          element.innerHTML = '';\n",
              "          dataTable['output_type'] = 'display_data';\n",
              "          await google.colab.output.renderOutput(dataTable, element);\n",
              "          const docLink = document.createElement('div');\n",
              "          docLink.innerHTML = docLinkHtml;\n",
              "          element.appendChild(docLink);\n",
              "        }\n",
              "      </script>\n",
              "    </div>\n",
              "  </div>\n",
              "  "
            ]
          },
          "metadata": {},
          "execution_count": 45
        }
      ],
      "source": [
        "# Menampilkan 5 data teratas dari cluster 1\n",
        "results[results[\"segment\"]==1][:5]"
      ]
    },
    {
      "cell_type": "code",
      "source": [
        "# Menampilkan 5 data teratas dari cluster 2\n",
        "results[results[\"segment\"]==2][:5]"
      ],
      "metadata": {
        "colab": {
          "base_uri": "https://localhost:8080/",
          "height": 354
        },
        "id": "Y-zlIMZHSKS0",
        "outputId": "10750f76-a677-42d7-fab2-fef9cafdc8bf"
      },
      "execution_count": 46,
      "outputs": [
        {
          "output_type": "execute_result",
          "data": {
            "text/plain": [
              "                                        Product Name Product ID  \\\n",
              "2                  Women's adidas Swim Puka Slippers     CM0081   \n",
              "3   Women's adidas Sport Inspired Questar Ride Shoes     B44832   \n",
              "5  Women's adidas Sport Inspired Duramo Lite 2.0 ...     B75586   \n",
              "6  Women's adidas Sport Inspired Duramo Lite 2.0 ...     CG4051   \n",
              "7                  Women's adidas Swim Puka Slippers     CM0080   \n",
              "\n",
              "   Listing_Price  Sale_Price  Discount              Brand  \\\n",
              "2            999         599        40  Adidas CORE / NEO   \n",
              "3           6999        3499        50  Adidas CORE / NEO   \n",
              "5           4799        1920        60  Adidas CORE / NEO   \n",
              "6           4799        2399        50  Adidas CORE / NEO   \n",
              "7            999         599        40  Adidas CORE / NEO   \n",
              "\n",
              "                                         Description  Rating  Reviews  \\\n",
              "2  These adidas Puka slippers for women's come wi...     2.6       37   \n",
              "3  Inspired by modern tech runners, these women's...     4.1       35   \n",
              "5  Refine your interval training in these women's...     1.0       45   \n",
              "6  Refine your interval training in these women's...     4.4        2   \n",
              "7  These adidas Puka slippers for women's come wi...     2.8        7   \n",
              "\n",
              "          Last Visited\\t  segment  \n",
              "2  2020-04-13T15:06:15\\t        2  \n",
              "3  2020-04-13T15:06:15\\t        2  \n",
              "5  2020-04-13T15:06:15\\t        2  \n",
              "6  2020-04-13T15:06:15\\t        2  \n",
              "7  2020-04-13T15:06:15\\t        2  "
            ],
            "text/html": [
              "\n",
              "  <div id=\"df-b1bc49da-0a77-41d4-bb0b-d1cf0c63258d\">\n",
              "    <div class=\"colab-df-container\">\n",
              "      <div>\n",
              "<style scoped>\n",
              "    .dataframe tbody tr th:only-of-type {\n",
              "        vertical-align: middle;\n",
              "    }\n",
              "\n",
              "    .dataframe tbody tr th {\n",
              "        vertical-align: top;\n",
              "    }\n",
              "\n",
              "    .dataframe thead th {\n",
              "        text-align: right;\n",
              "    }\n",
              "</style>\n",
              "<table border=\"1\" class=\"dataframe\">\n",
              "  <thead>\n",
              "    <tr style=\"text-align: right;\">\n",
              "      <th></th>\n",
              "      <th>Product Name</th>\n",
              "      <th>Product ID</th>\n",
              "      <th>Listing_Price</th>\n",
              "      <th>Sale_Price</th>\n",
              "      <th>Discount</th>\n",
              "      <th>Brand</th>\n",
              "      <th>Description</th>\n",
              "      <th>Rating</th>\n",
              "      <th>Reviews</th>\n",
              "      <th>Last Visited\\t</th>\n",
              "      <th>segment</th>\n",
              "    </tr>\n",
              "  </thead>\n",
              "  <tbody>\n",
              "    <tr>\n",
              "      <th>2</th>\n",
              "      <td>Women's adidas Swim Puka Slippers</td>\n",
              "      <td>CM0081</td>\n",
              "      <td>999</td>\n",
              "      <td>599</td>\n",
              "      <td>40</td>\n",
              "      <td>Adidas CORE / NEO</td>\n",
              "      <td>These adidas Puka slippers for women's come wi...</td>\n",
              "      <td>2.6</td>\n",
              "      <td>37</td>\n",
              "      <td>2020-04-13T15:06:15\\t</td>\n",
              "      <td>2</td>\n",
              "    </tr>\n",
              "    <tr>\n",
              "      <th>3</th>\n",
              "      <td>Women's adidas Sport Inspired Questar Ride Shoes</td>\n",
              "      <td>B44832</td>\n",
              "      <td>6999</td>\n",
              "      <td>3499</td>\n",
              "      <td>50</td>\n",
              "      <td>Adidas CORE / NEO</td>\n",
              "      <td>Inspired by modern tech runners, these women's...</td>\n",
              "      <td>4.1</td>\n",
              "      <td>35</td>\n",
              "      <td>2020-04-13T15:06:15\\t</td>\n",
              "      <td>2</td>\n",
              "    </tr>\n",
              "    <tr>\n",
              "      <th>5</th>\n",
              "      <td>Women's adidas Sport Inspired Duramo Lite 2.0 ...</td>\n",
              "      <td>B75586</td>\n",
              "      <td>4799</td>\n",
              "      <td>1920</td>\n",
              "      <td>60</td>\n",
              "      <td>Adidas CORE / NEO</td>\n",
              "      <td>Refine your interval training in these women's...</td>\n",
              "      <td>1.0</td>\n",
              "      <td>45</td>\n",
              "      <td>2020-04-13T15:06:15\\t</td>\n",
              "      <td>2</td>\n",
              "    </tr>\n",
              "    <tr>\n",
              "      <th>6</th>\n",
              "      <td>Women's adidas Sport Inspired Duramo Lite 2.0 ...</td>\n",
              "      <td>CG4051</td>\n",
              "      <td>4799</td>\n",
              "      <td>2399</td>\n",
              "      <td>50</td>\n",
              "      <td>Adidas CORE / NEO</td>\n",
              "      <td>Refine your interval training in these women's...</td>\n",
              "      <td>4.4</td>\n",
              "      <td>2</td>\n",
              "      <td>2020-04-13T15:06:15\\t</td>\n",
              "      <td>2</td>\n",
              "    </tr>\n",
              "    <tr>\n",
              "      <th>7</th>\n",
              "      <td>Women's adidas Swim Puka Slippers</td>\n",
              "      <td>CM0080</td>\n",
              "      <td>999</td>\n",
              "      <td>599</td>\n",
              "      <td>40</td>\n",
              "      <td>Adidas CORE / NEO</td>\n",
              "      <td>These adidas Puka slippers for women's come wi...</td>\n",
              "      <td>2.8</td>\n",
              "      <td>7</td>\n",
              "      <td>2020-04-13T15:06:15\\t</td>\n",
              "      <td>2</td>\n",
              "    </tr>\n",
              "  </tbody>\n",
              "</table>\n",
              "</div>\n",
              "      <button class=\"colab-df-convert\" onclick=\"convertToInteractive('df-b1bc49da-0a77-41d4-bb0b-d1cf0c63258d')\"\n",
              "              title=\"Convert this dataframe to an interactive table.\"\n",
              "              style=\"display:none;\">\n",
              "        \n",
              "  <svg xmlns=\"http://www.w3.org/2000/svg\" height=\"24px\"viewBox=\"0 0 24 24\"\n",
              "       width=\"24px\">\n",
              "    <path d=\"M0 0h24v24H0V0z\" fill=\"none\"/>\n",
              "    <path d=\"M18.56 5.44l.94 2.06.94-2.06 2.06-.94-2.06-.94-.94-2.06-.94 2.06-2.06.94zm-11 1L8.5 8.5l.94-2.06 2.06-.94-2.06-.94L8.5 2.5l-.94 2.06-2.06.94zm10 10l.94 2.06.94-2.06 2.06-.94-2.06-.94-.94-2.06-.94 2.06-2.06.94z\"/><path d=\"M17.41 7.96l-1.37-1.37c-.4-.4-.92-.59-1.43-.59-.52 0-1.04.2-1.43.59L10.3 9.45l-7.72 7.72c-.78.78-.78 2.05 0 2.83L4 21.41c.39.39.9.59 1.41.59.51 0 1.02-.2 1.41-.59l7.78-7.78 2.81-2.81c.8-.78.8-2.07 0-2.86zM5.41 20L4 18.59l7.72-7.72 1.47 1.35L5.41 20z\"/>\n",
              "  </svg>\n",
              "      </button>\n",
              "      \n",
              "  <style>\n",
              "    .colab-df-container {\n",
              "      display:flex;\n",
              "      flex-wrap:wrap;\n",
              "      gap: 12px;\n",
              "    }\n",
              "\n",
              "    .colab-df-convert {\n",
              "      background-color: #E8F0FE;\n",
              "      border: none;\n",
              "      border-radius: 50%;\n",
              "      cursor: pointer;\n",
              "      display: none;\n",
              "      fill: #1967D2;\n",
              "      height: 32px;\n",
              "      padding: 0 0 0 0;\n",
              "      width: 32px;\n",
              "    }\n",
              "\n",
              "    .colab-df-convert:hover {\n",
              "      background-color: #E2EBFA;\n",
              "      box-shadow: 0px 1px 2px rgba(60, 64, 67, 0.3), 0px 1px 3px 1px rgba(60, 64, 67, 0.15);\n",
              "      fill: #174EA6;\n",
              "    }\n",
              "\n",
              "    [theme=dark] .colab-df-convert {\n",
              "      background-color: #3B4455;\n",
              "      fill: #D2E3FC;\n",
              "    }\n",
              "\n",
              "    [theme=dark] .colab-df-convert:hover {\n",
              "      background-color: #434B5C;\n",
              "      box-shadow: 0px 1px 3px 1px rgba(0, 0, 0, 0.15);\n",
              "      filter: drop-shadow(0px 1px 2px rgba(0, 0, 0, 0.3));\n",
              "      fill: #FFFFFF;\n",
              "    }\n",
              "  </style>\n",
              "\n",
              "      <script>\n",
              "        const buttonEl =\n",
              "          document.querySelector('#df-b1bc49da-0a77-41d4-bb0b-d1cf0c63258d button.colab-df-convert');\n",
              "        buttonEl.style.display =\n",
              "          google.colab.kernel.accessAllowed ? 'block' : 'none';\n",
              "\n",
              "        async function convertToInteractive(key) {\n",
              "          const element = document.querySelector('#df-b1bc49da-0a77-41d4-bb0b-d1cf0c63258d');\n",
              "          const dataTable =\n",
              "            await google.colab.kernel.invokeFunction('convertToInteractive',\n",
              "                                                     [key], {});\n",
              "          if (!dataTable) return;\n",
              "\n",
              "          const docLinkHtml = 'Like what you see? Visit the ' +\n",
              "            '<a target=\"_blank\" href=https://colab.research.google.com/notebooks/data_table.ipynb>data table notebook</a>'\n",
              "            + ' to learn more about interactive tables.';\n",
              "          element.innerHTML = '';\n",
              "          dataTable['output_type'] = 'display_data';\n",
              "          await google.colab.output.renderOutput(dataTable, element);\n",
              "          const docLink = document.createElement('div');\n",
              "          docLink.innerHTML = docLinkHtml;\n",
              "          element.appendChild(docLink);\n",
              "        }\n",
              "      </script>\n",
              "    </div>\n",
              "  </div>\n",
              "  "
            ]
          },
          "metadata": {},
          "execution_count": 46
        }
      ]
    },
    {
      "cell_type": "code",
      "execution_count": 47,
      "metadata": {
        "colab": {
          "base_uri": "https://localhost:8080/",
          "height": 354
        },
        "id": "tTQ_b8-l_Ujh",
        "outputId": "b1302dc0-d6e5-434c-b7e2-6bb8d4a98c1f"
      },
      "outputs": [
        {
          "output_type": "execute_result",
          "data": {
            "text/plain": [
              "                                     Product Name Product ID  Listing_Price  \\\n",
              "72           Men's adidas Outdoor Elevate Sandals     CK9830           2799   \n",
              "84             Men's adidas Running Edge PR Shoes     AC8122           7999   \n",
              "87            Men's adidas Outdoor Andorian Shoes     CM0031           4599   \n",
              "93   Men's adidas Running PureBounce+ Clima Shoes     BC0836           8999   \n",
              "102      Men's adidas Outdoor Terra Light Sandals     CL9928           3599   \n",
              "\n",
              "     Sale_Price  Discount                     Brand  \\\n",
              "72         1399        50  Adidas SPORT PERFORMANCE   \n",
              "84         3999        50  Adidas SPORT PERFORMANCE   \n",
              "87         2299        50  Adidas SPORT PERFORMANCE   \n",
              "93         4499        50  Adidas SPORT PERFORMANCE   \n",
              "102        2159        40  Adidas SPORT PERFORMANCE   \n",
              "\n",
              "                                           Description  Rating  Reviews  \\\n",
              "72   Stylish and sleek adidas sandals for women are...     2.8       14   \n",
              "84   With a springy midsole and breathable upper, t...     4.2       66   \n",
              "87   The adidas Andorian shoes for men are crafted ...     0.0       49   \n",
              "93   These running shoes are designed with 360 degr...     3.4       90   \n",
              "102  Step out in these adidas Terra Light sandals f...     2.4       41   \n",
              "\n",
              "            Last Visited\\t  segment  \n",
              "72   2020-04-13T15:06:20\\t        3  \n",
              "84   2020-04-13T15:06:21\\t        3  \n",
              "87   2020-04-13T15:06:21\\t        3  \n",
              "93   2020-04-13T15:06:22\\t        3  \n",
              "102  2020-04-13T15:06:22\\t        3  "
            ],
            "text/html": [
              "\n",
              "  <div id=\"df-0e3eff44-6bc5-4fbe-9b37-82b65d34f851\">\n",
              "    <div class=\"colab-df-container\">\n",
              "      <div>\n",
              "<style scoped>\n",
              "    .dataframe tbody tr th:only-of-type {\n",
              "        vertical-align: middle;\n",
              "    }\n",
              "\n",
              "    .dataframe tbody tr th {\n",
              "        vertical-align: top;\n",
              "    }\n",
              "\n",
              "    .dataframe thead th {\n",
              "        text-align: right;\n",
              "    }\n",
              "</style>\n",
              "<table border=\"1\" class=\"dataframe\">\n",
              "  <thead>\n",
              "    <tr style=\"text-align: right;\">\n",
              "      <th></th>\n",
              "      <th>Product Name</th>\n",
              "      <th>Product ID</th>\n",
              "      <th>Listing_Price</th>\n",
              "      <th>Sale_Price</th>\n",
              "      <th>Discount</th>\n",
              "      <th>Brand</th>\n",
              "      <th>Description</th>\n",
              "      <th>Rating</th>\n",
              "      <th>Reviews</th>\n",
              "      <th>Last Visited\\t</th>\n",
              "      <th>segment</th>\n",
              "    </tr>\n",
              "  </thead>\n",
              "  <tbody>\n",
              "    <tr>\n",
              "      <th>72</th>\n",
              "      <td>Men's adidas Outdoor Elevate Sandals</td>\n",
              "      <td>CK9830</td>\n",
              "      <td>2799</td>\n",
              "      <td>1399</td>\n",
              "      <td>50</td>\n",
              "      <td>Adidas SPORT PERFORMANCE</td>\n",
              "      <td>Stylish and sleek adidas sandals for women are...</td>\n",
              "      <td>2.8</td>\n",
              "      <td>14</td>\n",
              "      <td>2020-04-13T15:06:20\\t</td>\n",
              "      <td>3</td>\n",
              "    </tr>\n",
              "    <tr>\n",
              "      <th>84</th>\n",
              "      <td>Men's adidas Running Edge PR Shoes</td>\n",
              "      <td>AC8122</td>\n",
              "      <td>7999</td>\n",
              "      <td>3999</td>\n",
              "      <td>50</td>\n",
              "      <td>Adidas SPORT PERFORMANCE</td>\n",
              "      <td>With a springy midsole and breathable upper, t...</td>\n",
              "      <td>4.2</td>\n",
              "      <td>66</td>\n",
              "      <td>2020-04-13T15:06:21\\t</td>\n",
              "      <td>3</td>\n",
              "    </tr>\n",
              "    <tr>\n",
              "      <th>87</th>\n",
              "      <td>Men's adidas Outdoor Andorian Shoes</td>\n",
              "      <td>CM0031</td>\n",
              "      <td>4599</td>\n",
              "      <td>2299</td>\n",
              "      <td>50</td>\n",
              "      <td>Adidas SPORT PERFORMANCE</td>\n",
              "      <td>The adidas Andorian shoes for men are crafted ...</td>\n",
              "      <td>0.0</td>\n",
              "      <td>49</td>\n",
              "      <td>2020-04-13T15:06:21\\t</td>\n",
              "      <td>3</td>\n",
              "    </tr>\n",
              "    <tr>\n",
              "      <th>93</th>\n",
              "      <td>Men's adidas Running PureBounce+ Clima Shoes</td>\n",
              "      <td>BC0836</td>\n",
              "      <td>8999</td>\n",
              "      <td>4499</td>\n",
              "      <td>50</td>\n",
              "      <td>Adidas SPORT PERFORMANCE</td>\n",
              "      <td>These running shoes are designed with 360 degr...</td>\n",
              "      <td>3.4</td>\n",
              "      <td>90</td>\n",
              "      <td>2020-04-13T15:06:22\\t</td>\n",
              "      <td>3</td>\n",
              "    </tr>\n",
              "    <tr>\n",
              "      <th>102</th>\n",
              "      <td>Men's adidas Outdoor Terra Light Sandals</td>\n",
              "      <td>CL9928</td>\n",
              "      <td>3599</td>\n",
              "      <td>2159</td>\n",
              "      <td>40</td>\n",
              "      <td>Adidas SPORT PERFORMANCE</td>\n",
              "      <td>Step out in these adidas Terra Light sandals f...</td>\n",
              "      <td>2.4</td>\n",
              "      <td>41</td>\n",
              "      <td>2020-04-13T15:06:22\\t</td>\n",
              "      <td>3</td>\n",
              "    </tr>\n",
              "  </tbody>\n",
              "</table>\n",
              "</div>\n",
              "      <button class=\"colab-df-convert\" onclick=\"convertToInteractive('df-0e3eff44-6bc5-4fbe-9b37-82b65d34f851')\"\n",
              "              title=\"Convert this dataframe to an interactive table.\"\n",
              "              style=\"display:none;\">\n",
              "        \n",
              "  <svg xmlns=\"http://www.w3.org/2000/svg\" height=\"24px\"viewBox=\"0 0 24 24\"\n",
              "       width=\"24px\">\n",
              "    <path d=\"M0 0h24v24H0V0z\" fill=\"none\"/>\n",
              "    <path d=\"M18.56 5.44l.94 2.06.94-2.06 2.06-.94-2.06-.94-.94-2.06-.94 2.06-2.06.94zm-11 1L8.5 8.5l.94-2.06 2.06-.94-2.06-.94L8.5 2.5l-.94 2.06-2.06.94zm10 10l.94 2.06.94-2.06 2.06-.94-2.06-.94-.94-2.06-.94 2.06-2.06.94z\"/><path d=\"M17.41 7.96l-1.37-1.37c-.4-.4-.92-.59-1.43-.59-.52 0-1.04.2-1.43.59L10.3 9.45l-7.72 7.72c-.78.78-.78 2.05 0 2.83L4 21.41c.39.39.9.59 1.41.59.51 0 1.02-.2 1.41-.59l7.78-7.78 2.81-2.81c.8-.78.8-2.07 0-2.86zM5.41 20L4 18.59l7.72-7.72 1.47 1.35L5.41 20z\"/>\n",
              "  </svg>\n",
              "      </button>\n",
              "      \n",
              "  <style>\n",
              "    .colab-df-container {\n",
              "      display:flex;\n",
              "      flex-wrap:wrap;\n",
              "      gap: 12px;\n",
              "    }\n",
              "\n",
              "    .colab-df-convert {\n",
              "      background-color: #E8F0FE;\n",
              "      border: none;\n",
              "      border-radius: 50%;\n",
              "      cursor: pointer;\n",
              "      display: none;\n",
              "      fill: #1967D2;\n",
              "      height: 32px;\n",
              "      padding: 0 0 0 0;\n",
              "      width: 32px;\n",
              "    }\n",
              "\n",
              "    .colab-df-convert:hover {\n",
              "      background-color: #E2EBFA;\n",
              "      box-shadow: 0px 1px 2px rgba(60, 64, 67, 0.3), 0px 1px 3px 1px rgba(60, 64, 67, 0.15);\n",
              "      fill: #174EA6;\n",
              "    }\n",
              "\n",
              "    [theme=dark] .colab-df-convert {\n",
              "      background-color: #3B4455;\n",
              "      fill: #D2E3FC;\n",
              "    }\n",
              "\n",
              "    [theme=dark] .colab-df-convert:hover {\n",
              "      background-color: #434B5C;\n",
              "      box-shadow: 0px 1px 3px 1px rgba(0, 0, 0, 0.15);\n",
              "      filter: drop-shadow(0px 1px 2px rgba(0, 0, 0, 0.3));\n",
              "      fill: #FFFFFF;\n",
              "    }\n",
              "  </style>\n",
              "\n",
              "      <script>\n",
              "        const buttonEl =\n",
              "          document.querySelector('#df-0e3eff44-6bc5-4fbe-9b37-82b65d34f851 button.colab-df-convert');\n",
              "        buttonEl.style.display =\n",
              "          google.colab.kernel.accessAllowed ? 'block' : 'none';\n",
              "\n",
              "        async function convertToInteractive(key) {\n",
              "          const element = document.querySelector('#df-0e3eff44-6bc5-4fbe-9b37-82b65d34f851');\n",
              "          const dataTable =\n",
              "            await google.colab.kernel.invokeFunction('convertToInteractive',\n",
              "                                                     [key], {});\n",
              "          if (!dataTable) return;\n",
              "\n",
              "          const docLinkHtml = 'Like what you see? Visit the ' +\n",
              "            '<a target=\"_blank\" href=https://colab.research.google.com/notebooks/data_table.ipynb>data table notebook</a>'\n",
              "            + ' to learn more about interactive tables.';\n",
              "          element.innerHTML = '';\n",
              "          dataTable['output_type'] = 'display_data';\n",
              "          await google.colab.output.renderOutput(dataTable, element);\n",
              "          const docLink = document.createElement('div');\n",
              "          docLink.innerHTML = docLinkHtml;\n",
              "          element.appendChild(docLink);\n",
              "        }\n",
              "      </script>\n",
              "    </div>\n",
              "  </div>\n",
              "  "
            ]
          },
          "metadata": {},
          "execution_count": 47
        }
      ],
      "source": [
        "# Menampilkan 5 data teratas dari cluster 3\n",
        "results[results[\"segment\"]==3][:5]"
      ]
    },
    {
      "cell_type": "code",
      "source": [
        "# Menampilkan 5 data teratas dari cluster 4\n",
        "results[results[\"segment\"]==4][:5]"
      ],
      "metadata": {
        "colab": {
          "base_uri": "https://localhost:8080/",
          "height": 250
        },
        "id": "hLd6Ko_9Qs5R",
        "outputId": "0105bfa3-b5a1-44ee-fd83-e349028ac981"
      },
      "execution_count": 48,
      "outputs": [
        {
          "output_type": "execute_result",
          "data": {
            "text/plain": [
              "                      Product Name  Product ID  Listing_Price  Sale_Price  \\\n",
              "2627  Nike Air Force 1 Sage Low LX  CI3482-200              0        9995   \n",
              "2628           Nike Air Max Dia SE  CD0479-200              0        9995   \n",
              "2629           Nike Air Max Verona  CZ6156-101              0        9995   \n",
              "2630            Nike Free Metcon 3  CJ6314-146              0        9995   \n",
              "2632            Nike Free Metcon 3  CJ0861-017              0        9995   \n",
              "\n",
              "      Discount Brand                                        Description  \\\n",
              "2627         0  Nike  Taking both height and craft to new levels, th...   \n",
              "2628         0  Nike  Designed for a woman's foot, the Nike Air Max ...   \n",
              "2629         0  Nike  Pass on the good vibes in the Nike Air Max Ver...   \n",
              "2630         0  Nike  The Nike Free Metcon 3 combines the flexibilit...   \n",
              "2632         0  Nike  The Nike Free Metcon 3 combines Nike Free flex...   \n",
              "\n",
              "      Rating  Reviews         Last Visited\\t  segment  \n",
              "2627     0.0        0  2020-04-13T15:27:56\\t        4  \n",
              "2628     0.0        0  2020-04-13T15:27:57\\t        4  \n",
              "2629     0.0        0  2020-04-13T15:27:57\\t        4  \n",
              "2630     0.0        0  2020-04-13T15:27:58\\t        4  \n",
              "2632     5.0        1  2020-04-13T15:27:59\\t        4  "
            ],
            "text/html": [
              "\n",
              "  <div id=\"df-d82514e0-b78b-4cc2-b43f-5ad4349d5ba3\">\n",
              "    <div class=\"colab-df-container\">\n",
              "      <div>\n",
              "<style scoped>\n",
              "    .dataframe tbody tr th:only-of-type {\n",
              "        vertical-align: middle;\n",
              "    }\n",
              "\n",
              "    .dataframe tbody tr th {\n",
              "        vertical-align: top;\n",
              "    }\n",
              "\n",
              "    .dataframe thead th {\n",
              "        text-align: right;\n",
              "    }\n",
              "</style>\n",
              "<table border=\"1\" class=\"dataframe\">\n",
              "  <thead>\n",
              "    <tr style=\"text-align: right;\">\n",
              "      <th></th>\n",
              "      <th>Product Name</th>\n",
              "      <th>Product ID</th>\n",
              "      <th>Listing_Price</th>\n",
              "      <th>Sale_Price</th>\n",
              "      <th>Discount</th>\n",
              "      <th>Brand</th>\n",
              "      <th>Description</th>\n",
              "      <th>Rating</th>\n",
              "      <th>Reviews</th>\n",
              "      <th>Last Visited\\t</th>\n",
              "      <th>segment</th>\n",
              "    </tr>\n",
              "  </thead>\n",
              "  <tbody>\n",
              "    <tr>\n",
              "      <th>2627</th>\n",
              "      <td>Nike Air Force 1 Sage Low LX</td>\n",
              "      <td>CI3482-200</td>\n",
              "      <td>0</td>\n",
              "      <td>9995</td>\n",
              "      <td>0</td>\n",
              "      <td>Nike</td>\n",
              "      <td>Taking both height and craft to new levels, th...</td>\n",
              "      <td>0.0</td>\n",
              "      <td>0</td>\n",
              "      <td>2020-04-13T15:27:56\\t</td>\n",
              "      <td>4</td>\n",
              "    </tr>\n",
              "    <tr>\n",
              "      <th>2628</th>\n",
              "      <td>Nike Air Max Dia SE</td>\n",
              "      <td>CD0479-200</td>\n",
              "      <td>0</td>\n",
              "      <td>9995</td>\n",
              "      <td>0</td>\n",
              "      <td>Nike</td>\n",
              "      <td>Designed for a woman's foot, the Nike Air Max ...</td>\n",
              "      <td>0.0</td>\n",
              "      <td>0</td>\n",
              "      <td>2020-04-13T15:27:57\\t</td>\n",
              "      <td>4</td>\n",
              "    </tr>\n",
              "    <tr>\n",
              "      <th>2629</th>\n",
              "      <td>Nike Air Max Verona</td>\n",
              "      <td>CZ6156-101</td>\n",
              "      <td>0</td>\n",
              "      <td>9995</td>\n",
              "      <td>0</td>\n",
              "      <td>Nike</td>\n",
              "      <td>Pass on the good vibes in the Nike Air Max Ver...</td>\n",
              "      <td>0.0</td>\n",
              "      <td>0</td>\n",
              "      <td>2020-04-13T15:27:57\\t</td>\n",
              "      <td>4</td>\n",
              "    </tr>\n",
              "    <tr>\n",
              "      <th>2630</th>\n",
              "      <td>Nike Free Metcon 3</td>\n",
              "      <td>CJ6314-146</td>\n",
              "      <td>0</td>\n",
              "      <td>9995</td>\n",
              "      <td>0</td>\n",
              "      <td>Nike</td>\n",
              "      <td>The Nike Free Metcon 3 combines the flexibilit...</td>\n",
              "      <td>0.0</td>\n",
              "      <td>0</td>\n",
              "      <td>2020-04-13T15:27:58\\t</td>\n",
              "      <td>4</td>\n",
              "    </tr>\n",
              "    <tr>\n",
              "      <th>2632</th>\n",
              "      <td>Nike Free Metcon 3</td>\n",
              "      <td>CJ0861-017</td>\n",
              "      <td>0</td>\n",
              "      <td>9995</td>\n",
              "      <td>0</td>\n",
              "      <td>Nike</td>\n",
              "      <td>The Nike Free Metcon 3 combines Nike Free flex...</td>\n",
              "      <td>5.0</td>\n",
              "      <td>1</td>\n",
              "      <td>2020-04-13T15:27:59\\t</td>\n",
              "      <td>4</td>\n",
              "    </tr>\n",
              "  </tbody>\n",
              "</table>\n",
              "</div>\n",
              "      <button class=\"colab-df-convert\" onclick=\"convertToInteractive('df-d82514e0-b78b-4cc2-b43f-5ad4349d5ba3')\"\n",
              "              title=\"Convert this dataframe to an interactive table.\"\n",
              "              style=\"display:none;\">\n",
              "        \n",
              "  <svg xmlns=\"http://www.w3.org/2000/svg\" height=\"24px\"viewBox=\"0 0 24 24\"\n",
              "       width=\"24px\">\n",
              "    <path d=\"M0 0h24v24H0V0z\" fill=\"none\"/>\n",
              "    <path d=\"M18.56 5.44l.94 2.06.94-2.06 2.06-.94-2.06-.94-.94-2.06-.94 2.06-2.06.94zm-11 1L8.5 8.5l.94-2.06 2.06-.94-2.06-.94L8.5 2.5l-.94 2.06-2.06.94zm10 10l.94 2.06.94-2.06 2.06-.94-2.06-.94-.94-2.06-.94 2.06-2.06.94z\"/><path d=\"M17.41 7.96l-1.37-1.37c-.4-.4-.92-.59-1.43-.59-.52 0-1.04.2-1.43.59L10.3 9.45l-7.72 7.72c-.78.78-.78 2.05 0 2.83L4 21.41c.39.39.9.59 1.41.59.51 0 1.02-.2 1.41-.59l7.78-7.78 2.81-2.81c.8-.78.8-2.07 0-2.86zM5.41 20L4 18.59l7.72-7.72 1.47 1.35L5.41 20z\"/>\n",
              "  </svg>\n",
              "      </button>\n",
              "      \n",
              "  <style>\n",
              "    .colab-df-container {\n",
              "      display:flex;\n",
              "      flex-wrap:wrap;\n",
              "      gap: 12px;\n",
              "    }\n",
              "\n",
              "    .colab-df-convert {\n",
              "      background-color: #E8F0FE;\n",
              "      border: none;\n",
              "      border-radius: 50%;\n",
              "      cursor: pointer;\n",
              "      display: none;\n",
              "      fill: #1967D2;\n",
              "      height: 32px;\n",
              "      padding: 0 0 0 0;\n",
              "      width: 32px;\n",
              "    }\n",
              "\n",
              "    .colab-df-convert:hover {\n",
              "      background-color: #E2EBFA;\n",
              "      box-shadow: 0px 1px 2px rgba(60, 64, 67, 0.3), 0px 1px 3px 1px rgba(60, 64, 67, 0.15);\n",
              "      fill: #174EA6;\n",
              "    }\n",
              "\n",
              "    [theme=dark] .colab-df-convert {\n",
              "      background-color: #3B4455;\n",
              "      fill: #D2E3FC;\n",
              "    }\n",
              "\n",
              "    [theme=dark] .colab-df-convert:hover {\n",
              "      background-color: #434B5C;\n",
              "      box-shadow: 0px 1px 3px 1px rgba(0, 0, 0, 0.15);\n",
              "      filter: drop-shadow(0px 1px 2px rgba(0, 0, 0, 0.3));\n",
              "      fill: #FFFFFF;\n",
              "    }\n",
              "  </style>\n",
              "\n",
              "      <script>\n",
              "        const buttonEl =\n",
              "          document.querySelector('#df-d82514e0-b78b-4cc2-b43f-5ad4349d5ba3 button.colab-df-convert');\n",
              "        buttonEl.style.display =\n",
              "          google.colab.kernel.accessAllowed ? 'block' : 'none';\n",
              "\n",
              "        async function convertToInteractive(key) {\n",
              "          const element = document.querySelector('#df-d82514e0-b78b-4cc2-b43f-5ad4349d5ba3');\n",
              "          const dataTable =\n",
              "            await google.colab.kernel.invokeFunction('convertToInteractive',\n",
              "                                                     [key], {});\n",
              "          if (!dataTable) return;\n",
              "\n",
              "          const docLinkHtml = 'Like what you see? Visit the ' +\n",
              "            '<a target=\"_blank\" href=https://colab.research.google.com/notebooks/data_table.ipynb>data table notebook</a>'\n",
              "            + ' to learn more about interactive tables.';\n",
              "          element.innerHTML = '';\n",
              "          dataTable['output_type'] = 'display_data';\n",
              "          await google.colab.output.renderOutput(dataTable, element);\n",
              "          const docLink = document.createElement('div');\n",
              "          docLink.innerHTML = docLinkHtml;\n",
              "          element.appendChild(docLink);\n",
              "        }\n",
              "      </script>\n",
              "    </div>\n",
              "  </div>\n",
              "  "
            ]
          },
          "metadata": {},
          "execution_count": 48
        }
      ]
    },
    {
      "cell_type": "code",
      "source": [
        "# Menampilkan 5 data teratas dari cluster 5\n",
        "results[results[\"segment\"]==5][:5]"
      ],
      "metadata": {
        "colab": {
          "base_uri": "https://localhost:8080/",
          "height": 354
        },
        "id": "80ouzESOQu9j",
        "outputId": "a9072ff9-3819-48ee-813f-6cfff3c01ee7"
      },
      "execution_count": 49,
      "outputs": [
        {
          "output_type": "execute_result",
          "data": {
            "text/plain": [
              "                                       Product Name Product ID  Listing_Price  \\\n",
              "1              Women's adidas Originals Sleek Shoes     G27341           7599   \n",
              "4          Women's adidas Originals Taekwondo Shoes     D98205           7999   \n",
              "9         Men's adidas Originals Forest Grove Shoes     EE5761           6599   \n",
              "10         Women's adidas Originals Swift Run Shoes     EE4553           7599   \n",
              "11  Women's adidas Originals Continental Vulc Shoes     EF9315           6599   \n",
              "\n",
              "    Sale_Price  Discount             Brand  \\\n",
              "1         3799        50  Adidas ORIGINALS   \n",
              "4         3999        50  Adidas ORIGINALS   \n",
              "9         3959        40  Adidas ORIGINALS   \n",
              "10        4559        40  Adidas ORIGINALS   \n",
              "11        3959        40  Adidas ORIGINALS   \n",
              "\n",
              "                                          Description  Rating  Reviews  \\\n",
              "1   A modern take on adidas sport heritage, tailor...     3.3       24   \n",
              "4   This design is inspired by vintage Taekwondo s...     3.5       72   \n",
              "9   The Forest Grove brings back the look of the a...     4.0       39   \n",
              "10  The Swift distills decades of adidas heritage ...     2.7       36   \n",
              "11  These low-profile shoes come in a pastel color...     4.2       35   \n",
              "\n",
              "           Last Visited\\t  segment  \n",
              "1   2020-04-13T15:06:15\\t        5  \n",
              "4   2020-04-13T15:06:15\\t        5  \n",
              "9   2020-04-13T15:06:15\\t        5  \n",
              "10  2020-04-13T15:06:16\\t        5  \n",
              "11  2020-04-13T15:06:16\\t        5  "
            ],
            "text/html": [
              "\n",
              "  <div id=\"df-05136cec-c445-4200-9ea0-a0caaa599122\">\n",
              "    <div class=\"colab-df-container\">\n",
              "      <div>\n",
              "<style scoped>\n",
              "    .dataframe tbody tr th:only-of-type {\n",
              "        vertical-align: middle;\n",
              "    }\n",
              "\n",
              "    .dataframe tbody tr th {\n",
              "        vertical-align: top;\n",
              "    }\n",
              "\n",
              "    .dataframe thead th {\n",
              "        text-align: right;\n",
              "    }\n",
              "</style>\n",
              "<table border=\"1\" class=\"dataframe\">\n",
              "  <thead>\n",
              "    <tr style=\"text-align: right;\">\n",
              "      <th></th>\n",
              "      <th>Product Name</th>\n",
              "      <th>Product ID</th>\n",
              "      <th>Listing_Price</th>\n",
              "      <th>Sale_Price</th>\n",
              "      <th>Discount</th>\n",
              "      <th>Brand</th>\n",
              "      <th>Description</th>\n",
              "      <th>Rating</th>\n",
              "      <th>Reviews</th>\n",
              "      <th>Last Visited\\t</th>\n",
              "      <th>segment</th>\n",
              "    </tr>\n",
              "  </thead>\n",
              "  <tbody>\n",
              "    <tr>\n",
              "      <th>1</th>\n",
              "      <td>Women's adidas Originals Sleek Shoes</td>\n",
              "      <td>G27341</td>\n",
              "      <td>7599</td>\n",
              "      <td>3799</td>\n",
              "      <td>50</td>\n",
              "      <td>Adidas ORIGINALS</td>\n",
              "      <td>A modern take on adidas sport heritage, tailor...</td>\n",
              "      <td>3.3</td>\n",
              "      <td>24</td>\n",
              "      <td>2020-04-13T15:06:15\\t</td>\n",
              "      <td>5</td>\n",
              "    </tr>\n",
              "    <tr>\n",
              "      <th>4</th>\n",
              "      <td>Women's adidas Originals Taekwondo Shoes</td>\n",
              "      <td>D98205</td>\n",
              "      <td>7999</td>\n",
              "      <td>3999</td>\n",
              "      <td>50</td>\n",
              "      <td>Adidas ORIGINALS</td>\n",
              "      <td>This design is inspired by vintage Taekwondo s...</td>\n",
              "      <td>3.5</td>\n",
              "      <td>72</td>\n",
              "      <td>2020-04-13T15:06:15\\t</td>\n",
              "      <td>5</td>\n",
              "    </tr>\n",
              "    <tr>\n",
              "      <th>9</th>\n",
              "      <td>Men's adidas Originals Forest Grove Shoes</td>\n",
              "      <td>EE5761</td>\n",
              "      <td>6599</td>\n",
              "      <td>3959</td>\n",
              "      <td>40</td>\n",
              "      <td>Adidas ORIGINALS</td>\n",
              "      <td>The Forest Grove brings back the look of the a...</td>\n",
              "      <td>4.0</td>\n",
              "      <td>39</td>\n",
              "      <td>2020-04-13T15:06:15\\t</td>\n",
              "      <td>5</td>\n",
              "    </tr>\n",
              "    <tr>\n",
              "      <th>10</th>\n",
              "      <td>Women's adidas Originals Swift Run Shoes</td>\n",
              "      <td>EE4553</td>\n",
              "      <td>7599</td>\n",
              "      <td>4559</td>\n",
              "      <td>40</td>\n",
              "      <td>Adidas ORIGINALS</td>\n",
              "      <td>The Swift distills decades of adidas heritage ...</td>\n",
              "      <td>2.7</td>\n",
              "      <td>36</td>\n",
              "      <td>2020-04-13T15:06:16\\t</td>\n",
              "      <td>5</td>\n",
              "    </tr>\n",
              "    <tr>\n",
              "      <th>11</th>\n",
              "      <td>Women's adidas Originals Continental Vulc Shoes</td>\n",
              "      <td>EF9315</td>\n",
              "      <td>6599</td>\n",
              "      <td>3959</td>\n",
              "      <td>40</td>\n",
              "      <td>Adidas ORIGINALS</td>\n",
              "      <td>These low-profile shoes come in a pastel color...</td>\n",
              "      <td>4.2</td>\n",
              "      <td>35</td>\n",
              "      <td>2020-04-13T15:06:16\\t</td>\n",
              "      <td>5</td>\n",
              "    </tr>\n",
              "  </tbody>\n",
              "</table>\n",
              "</div>\n",
              "      <button class=\"colab-df-convert\" onclick=\"convertToInteractive('df-05136cec-c445-4200-9ea0-a0caaa599122')\"\n",
              "              title=\"Convert this dataframe to an interactive table.\"\n",
              "              style=\"display:none;\">\n",
              "        \n",
              "  <svg xmlns=\"http://www.w3.org/2000/svg\" height=\"24px\"viewBox=\"0 0 24 24\"\n",
              "       width=\"24px\">\n",
              "    <path d=\"M0 0h24v24H0V0z\" fill=\"none\"/>\n",
              "    <path d=\"M18.56 5.44l.94 2.06.94-2.06 2.06-.94-2.06-.94-.94-2.06-.94 2.06-2.06.94zm-11 1L8.5 8.5l.94-2.06 2.06-.94-2.06-.94L8.5 2.5l-.94 2.06-2.06.94zm10 10l.94 2.06.94-2.06 2.06-.94-2.06-.94-.94-2.06-.94 2.06-2.06.94z\"/><path d=\"M17.41 7.96l-1.37-1.37c-.4-.4-.92-.59-1.43-.59-.52 0-1.04.2-1.43.59L10.3 9.45l-7.72 7.72c-.78.78-.78 2.05 0 2.83L4 21.41c.39.39.9.59 1.41.59.51 0 1.02-.2 1.41-.59l7.78-7.78 2.81-2.81c.8-.78.8-2.07 0-2.86zM5.41 20L4 18.59l7.72-7.72 1.47 1.35L5.41 20z\"/>\n",
              "  </svg>\n",
              "      </button>\n",
              "      \n",
              "  <style>\n",
              "    .colab-df-container {\n",
              "      display:flex;\n",
              "      flex-wrap:wrap;\n",
              "      gap: 12px;\n",
              "    }\n",
              "\n",
              "    .colab-df-convert {\n",
              "      background-color: #E8F0FE;\n",
              "      border: none;\n",
              "      border-radius: 50%;\n",
              "      cursor: pointer;\n",
              "      display: none;\n",
              "      fill: #1967D2;\n",
              "      height: 32px;\n",
              "      padding: 0 0 0 0;\n",
              "      width: 32px;\n",
              "    }\n",
              "\n",
              "    .colab-df-convert:hover {\n",
              "      background-color: #E2EBFA;\n",
              "      box-shadow: 0px 1px 2px rgba(60, 64, 67, 0.3), 0px 1px 3px 1px rgba(60, 64, 67, 0.15);\n",
              "      fill: #174EA6;\n",
              "    }\n",
              "\n",
              "    [theme=dark] .colab-df-convert {\n",
              "      background-color: #3B4455;\n",
              "      fill: #D2E3FC;\n",
              "    }\n",
              "\n",
              "    [theme=dark] .colab-df-convert:hover {\n",
              "      background-color: #434B5C;\n",
              "      box-shadow: 0px 1px 3px 1px rgba(0, 0, 0, 0.15);\n",
              "      filter: drop-shadow(0px 1px 2px rgba(0, 0, 0, 0.3));\n",
              "      fill: #FFFFFF;\n",
              "    }\n",
              "  </style>\n",
              "\n",
              "      <script>\n",
              "        const buttonEl =\n",
              "          document.querySelector('#df-05136cec-c445-4200-9ea0-a0caaa599122 button.colab-df-convert');\n",
              "        buttonEl.style.display =\n",
              "          google.colab.kernel.accessAllowed ? 'block' : 'none';\n",
              "\n",
              "        async function convertToInteractive(key) {\n",
              "          const element = document.querySelector('#df-05136cec-c445-4200-9ea0-a0caaa599122');\n",
              "          const dataTable =\n",
              "            await google.colab.kernel.invokeFunction('convertToInteractive',\n",
              "                                                     [key], {});\n",
              "          if (!dataTable) return;\n",
              "\n",
              "          const docLinkHtml = 'Like what you see? Visit the ' +\n",
              "            '<a target=\"_blank\" href=https://colab.research.google.com/notebooks/data_table.ipynb>data table notebook</a>'\n",
              "            + ' to learn more about interactive tables.';\n",
              "          element.innerHTML = '';\n",
              "          dataTable['output_type'] = 'display_data';\n",
              "          await google.colab.output.renderOutput(dataTable, element);\n",
              "          const docLink = document.createElement('div');\n",
              "          docLink.innerHTML = docLinkHtml;\n",
              "          element.appendChild(docLink);\n",
              "        }\n",
              "      </script>\n",
              "    </div>\n",
              "  </div>\n",
              "  "
            ]
          },
          "metadata": {},
          "execution_count": 49
        }
      ]
    },
    {
      "cell_type": "code",
      "source": [
        "# Menampilkan 5 data teratas dari cluster 6\n",
        "results[results[\"segment\"]==6][:5]"
      ],
      "metadata": {
        "colab": {
          "base_uri": "https://localhost:8080/",
          "height": 354
        },
        "id": "bxCIszOKQw1n",
        "outputId": "9d084069-0534-4be0-b201-419906e4d6ad"
      },
      "execution_count": 50,
      "outputs": [
        {
          "output_type": "execute_result",
          "data": {
            "text/plain": [
              "                                           Product Name Product ID  \\\n",
              "1326      Unisex Originals CRAIG GREEN KONTUUR II SHOES     FV7826   \n",
              "1328      Unisex Originals CRAIG GREEN KONTUUR II SHOES     FV7825   \n",
              "1334       Unisex Originals CRAIG GREEN KONTUUR I SHOES     FV4419   \n",
              "1377  UNISEX adidas Originals Pharrell Williams Hu N...     EF2335   \n",
              "1382  UNISEX adidas Originals Pharrell Williams Hu N...     EG7737   \n",
              "\n",
              "      Listing_Price  Sale_Price  Discount             Brand  \\\n",
              "1326          23999       23999         0  Adidas ORIGINALS   \n",
              "1328          23999       23999         0  Adidas ORIGINALS   \n",
              "1334          23999       23999         0  Adidas ORIGINALS   \n",
              "1377          21999       21999         0  Adidas ORIGINALS   \n",
              "1382          21999       21999         0  Adidas ORIGINALS   \n",
              "\n",
              "                                            Description  Rating  Reviews  \\\n",
              "1326  Go for the unexpected. British designer Craig ...     2.4       86   \n",
              "1328  Go for the unexpected. British designer Craig ...     0.0        7   \n",
              "1334  Live for the unpredictable. London-born design...     3.1       37   \n",
              "1377  Pairing vibrant colours with words that honour...     2.7       75   \n",
              "1382  Pairing vibrant colours with words that honour...     3.0        9   \n",
              "\n",
              "             Last Visited\\t  segment  \n",
              "1326  2020-04-13T15:07:07\\t        6  \n",
              "1328  2020-04-13T15:07:07\\t        6  \n",
              "1334  2020-04-13T15:07:08\\t        6  \n",
              "1377  2020-04-13T15:07:09\\t        6  \n",
              "1382  2020-04-13T15:07:09\\t        6  "
            ],
            "text/html": [
              "\n",
              "  <div id=\"df-f911d5af-2b3b-42de-bc0d-6b234d5d4bca\">\n",
              "    <div class=\"colab-df-container\">\n",
              "      <div>\n",
              "<style scoped>\n",
              "    .dataframe tbody tr th:only-of-type {\n",
              "        vertical-align: middle;\n",
              "    }\n",
              "\n",
              "    .dataframe tbody tr th {\n",
              "        vertical-align: top;\n",
              "    }\n",
              "\n",
              "    .dataframe thead th {\n",
              "        text-align: right;\n",
              "    }\n",
              "</style>\n",
              "<table border=\"1\" class=\"dataframe\">\n",
              "  <thead>\n",
              "    <tr style=\"text-align: right;\">\n",
              "      <th></th>\n",
              "      <th>Product Name</th>\n",
              "      <th>Product ID</th>\n",
              "      <th>Listing_Price</th>\n",
              "      <th>Sale_Price</th>\n",
              "      <th>Discount</th>\n",
              "      <th>Brand</th>\n",
              "      <th>Description</th>\n",
              "      <th>Rating</th>\n",
              "      <th>Reviews</th>\n",
              "      <th>Last Visited\\t</th>\n",
              "      <th>segment</th>\n",
              "    </tr>\n",
              "  </thead>\n",
              "  <tbody>\n",
              "    <tr>\n",
              "      <th>1326</th>\n",
              "      <td>Unisex Originals CRAIG GREEN KONTUUR II SHOES</td>\n",
              "      <td>FV7826</td>\n",
              "      <td>23999</td>\n",
              "      <td>23999</td>\n",
              "      <td>0</td>\n",
              "      <td>Adidas ORIGINALS</td>\n",
              "      <td>Go for the unexpected. British designer Craig ...</td>\n",
              "      <td>2.4</td>\n",
              "      <td>86</td>\n",
              "      <td>2020-04-13T15:07:07\\t</td>\n",
              "      <td>6</td>\n",
              "    </tr>\n",
              "    <tr>\n",
              "      <th>1328</th>\n",
              "      <td>Unisex Originals CRAIG GREEN KONTUUR II SHOES</td>\n",
              "      <td>FV7825</td>\n",
              "      <td>23999</td>\n",
              "      <td>23999</td>\n",
              "      <td>0</td>\n",
              "      <td>Adidas ORIGINALS</td>\n",
              "      <td>Go for the unexpected. British designer Craig ...</td>\n",
              "      <td>0.0</td>\n",
              "      <td>7</td>\n",
              "      <td>2020-04-13T15:07:07\\t</td>\n",
              "      <td>6</td>\n",
              "    </tr>\n",
              "    <tr>\n",
              "      <th>1334</th>\n",
              "      <td>Unisex Originals CRAIG GREEN KONTUUR I SHOES</td>\n",
              "      <td>FV4419</td>\n",
              "      <td>23999</td>\n",
              "      <td>23999</td>\n",
              "      <td>0</td>\n",
              "      <td>Adidas ORIGINALS</td>\n",
              "      <td>Live for the unpredictable. London-born design...</td>\n",
              "      <td>3.1</td>\n",
              "      <td>37</td>\n",
              "      <td>2020-04-13T15:07:08\\t</td>\n",
              "      <td>6</td>\n",
              "    </tr>\n",
              "    <tr>\n",
              "      <th>1377</th>\n",
              "      <td>UNISEX adidas Originals Pharrell Williams Hu N...</td>\n",
              "      <td>EF2335</td>\n",
              "      <td>21999</td>\n",
              "      <td>21999</td>\n",
              "      <td>0</td>\n",
              "      <td>Adidas ORIGINALS</td>\n",
              "      <td>Pairing vibrant colours with words that honour...</td>\n",
              "      <td>2.7</td>\n",
              "      <td>75</td>\n",
              "      <td>2020-04-13T15:07:09\\t</td>\n",
              "      <td>6</td>\n",
              "    </tr>\n",
              "    <tr>\n",
              "      <th>1382</th>\n",
              "      <td>UNISEX adidas Originals Pharrell Williams Hu N...</td>\n",
              "      <td>EG7737</td>\n",
              "      <td>21999</td>\n",
              "      <td>21999</td>\n",
              "      <td>0</td>\n",
              "      <td>Adidas ORIGINALS</td>\n",
              "      <td>Pairing vibrant colours with words that honour...</td>\n",
              "      <td>3.0</td>\n",
              "      <td>9</td>\n",
              "      <td>2020-04-13T15:07:09\\t</td>\n",
              "      <td>6</td>\n",
              "    </tr>\n",
              "  </tbody>\n",
              "</table>\n",
              "</div>\n",
              "      <button class=\"colab-df-convert\" onclick=\"convertToInteractive('df-f911d5af-2b3b-42de-bc0d-6b234d5d4bca')\"\n",
              "              title=\"Convert this dataframe to an interactive table.\"\n",
              "              style=\"display:none;\">\n",
              "        \n",
              "  <svg xmlns=\"http://www.w3.org/2000/svg\" height=\"24px\"viewBox=\"0 0 24 24\"\n",
              "       width=\"24px\">\n",
              "    <path d=\"M0 0h24v24H0V0z\" fill=\"none\"/>\n",
              "    <path d=\"M18.56 5.44l.94 2.06.94-2.06 2.06-.94-2.06-.94-.94-2.06-.94 2.06-2.06.94zm-11 1L8.5 8.5l.94-2.06 2.06-.94-2.06-.94L8.5 2.5l-.94 2.06-2.06.94zm10 10l.94 2.06.94-2.06 2.06-.94-2.06-.94-.94-2.06-.94 2.06-2.06.94z\"/><path d=\"M17.41 7.96l-1.37-1.37c-.4-.4-.92-.59-1.43-.59-.52 0-1.04.2-1.43.59L10.3 9.45l-7.72 7.72c-.78.78-.78 2.05 0 2.83L4 21.41c.39.39.9.59 1.41.59.51 0 1.02-.2 1.41-.59l7.78-7.78 2.81-2.81c.8-.78.8-2.07 0-2.86zM5.41 20L4 18.59l7.72-7.72 1.47 1.35L5.41 20z\"/>\n",
              "  </svg>\n",
              "      </button>\n",
              "      \n",
              "  <style>\n",
              "    .colab-df-container {\n",
              "      display:flex;\n",
              "      flex-wrap:wrap;\n",
              "      gap: 12px;\n",
              "    }\n",
              "\n",
              "    .colab-df-convert {\n",
              "      background-color: #E8F0FE;\n",
              "      border: none;\n",
              "      border-radius: 50%;\n",
              "      cursor: pointer;\n",
              "      display: none;\n",
              "      fill: #1967D2;\n",
              "      height: 32px;\n",
              "      padding: 0 0 0 0;\n",
              "      width: 32px;\n",
              "    }\n",
              "\n",
              "    .colab-df-convert:hover {\n",
              "      background-color: #E2EBFA;\n",
              "      box-shadow: 0px 1px 2px rgba(60, 64, 67, 0.3), 0px 1px 3px 1px rgba(60, 64, 67, 0.15);\n",
              "      fill: #174EA6;\n",
              "    }\n",
              "\n",
              "    [theme=dark] .colab-df-convert {\n",
              "      background-color: #3B4455;\n",
              "      fill: #D2E3FC;\n",
              "    }\n",
              "\n",
              "    [theme=dark] .colab-df-convert:hover {\n",
              "      background-color: #434B5C;\n",
              "      box-shadow: 0px 1px 3px 1px rgba(0, 0, 0, 0.15);\n",
              "      filter: drop-shadow(0px 1px 2px rgba(0, 0, 0, 0.3));\n",
              "      fill: #FFFFFF;\n",
              "    }\n",
              "  </style>\n",
              "\n",
              "      <script>\n",
              "        const buttonEl =\n",
              "          document.querySelector('#df-f911d5af-2b3b-42de-bc0d-6b234d5d4bca button.colab-df-convert');\n",
              "        buttonEl.style.display =\n",
              "          google.colab.kernel.accessAllowed ? 'block' : 'none';\n",
              "\n",
              "        async function convertToInteractive(key) {\n",
              "          const element = document.querySelector('#df-f911d5af-2b3b-42de-bc0d-6b234d5d4bca');\n",
              "          const dataTable =\n",
              "            await google.colab.kernel.invokeFunction('convertToInteractive',\n",
              "                                                     [key], {});\n",
              "          if (!dataTable) return;\n",
              "\n",
              "          const docLinkHtml = 'Like what you see? Visit the ' +\n",
              "            '<a target=\"_blank\" href=https://colab.research.google.com/notebooks/data_table.ipynb>data table notebook</a>'\n",
              "            + ' to learn more about interactive tables.';\n",
              "          element.innerHTML = '';\n",
              "          dataTable['output_type'] = 'display_data';\n",
              "          await google.colab.output.renderOutput(dataTable, element);\n",
              "          const docLink = document.createElement('div');\n",
              "          docLink.innerHTML = docLinkHtml;\n",
              "          element.appendChild(docLink);\n",
              "        }\n",
              "      </script>\n",
              "    </div>\n",
              "  </div>\n",
              "  "
            ]
          },
          "metadata": {},
          "execution_count": 50
        }
      ]
    },
    {
      "cell_type": "code",
      "source": [
        "# Menampilkan 5 data teratas dari cluster 7\n",
        "results[results[\"segment\"]==7][:5]"
      ],
      "metadata": {
        "colab": {
          "base_uri": "https://localhost:8080/",
          "height": 354
        },
        "id": "O85I8s-eQy-u",
        "outputId": "1232620d-a4fb-400d-c703-275b72985381"
      },
      "execution_count": 51,
      "outputs": [
        {
          "output_type": "execute_result",
          "data": {
            "text/plain": [
              "                                          Product Name Product ID  \\\n",
              "292  Unisex adidas Originals By Alexander Wang Wang...     EF2438   \n",
              "502           Women's adidas Originals Superstar Shoes     FW6635   \n",
              "505          Women's adidas Originals ZX Torsion Shoes     EF4375   \n",
              "531          Women's adidas Originals ZX Torsion Shoes     EF4374   \n",
              "598       Women's adidas Originals Supercourt RX Shoes     FV3671   \n",
              "\n",
              "     Listing_Price  Sale_Price  Discount             Brand  \\\n",
              "292          17999       10799        40  Adidas ORIGINALS   \n",
              "502          10999       10999         0  Adidas ORIGINALS   \n",
              "505          11999       11999         0  Adidas ORIGINALS   \n",
              "531          11999       11999         0  Adidas ORIGINALS   \n",
              "598          13999       13999         0  Adidas ORIGINALS   \n",
              "\n",
              "                                           Description  Rating  Reviews  \\\n",
              "292  Sweat it out with Alexander Wang. The designer...     3.7       15   \n",
              "502  The future is female. Designers Ji Won Choi an...     3.2       34   \n",
              "505  Refuse to blend in. The '80s style of ZX colli...     2.5       17   \n",
              "531  ZX has always stood for innovation. These wome...     4.2       93   \n",
              "598  The Supercourt RX serves up court style with a...     4.9       87   \n",
              "\n",
              "            Last Visited\\t  segment  \n",
              "292  2020-04-13T15:06:29\\t        7  \n",
              "502  2020-04-13T15:06:36\\t        7  \n",
              "505  2020-04-13T15:06:36\\t        7  \n",
              "531  2020-04-13T15:06:37\\t        7  \n",
              "598  2020-04-13T15:06:39\\t        7  "
            ],
            "text/html": [
              "\n",
              "  <div id=\"df-981d473d-c3e8-4e0d-8d9c-f95daca0f676\">\n",
              "    <div class=\"colab-df-container\">\n",
              "      <div>\n",
              "<style scoped>\n",
              "    .dataframe tbody tr th:only-of-type {\n",
              "        vertical-align: middle;\n",
              "    }\n",
              "\n",
              "    .dataframe tbody tr th {\n",
              "        vertical-align: top;\n",
              "    }\n",
              "\n",
              "    .dataframe thead th {\n",
              "        text-align: right;\n",
              "    }\n",
              "</style>\n",
              "<table border=\"1\" class=\"dataframe\">\n",
              "  <thead>\n",
              "    <tr style=\"text-align: right;\">\n",
              "      <th></th>\n",
              "      <th>Product Name</th>\n",
              "      <th>Product ID</th>\n",
              "      <th>Listing_Price</th>\n",
              "      <th>Sale_Price</th>\n",
              "      <th>Discount</th>\n",
              "      <th>Brand</th>\n",
              "      <th>Description</th>\n",
              "      <th>Rating</th>\n",
              "      <th>Reviews</th>\n",
              "      <th>Last Visited\\t</th>\n",
              "      <th>segment</th>\n",
              "    </tr>\n",
              "  </thead>\n",
              "  <tbody>\n",
              "    <tr>\n",
              "      <th>292</th>\n",
              "      <td>Unisex adidas Originals By Alexander Wang Wang...</td>\n",
              "      <td>EF2438</td>\n",
              "      <td>17999</td>\n",
              "      <td>10799</td>\n",
              "      <td>40</td>\n",
              "      <td>Adidas ORIGINALS</td>\n",
              "      <td>Sweat it out with Alexander Wang. The designer...</td>\n",
              "      <td>3.7</td>\n",
              "      <td>15</td>\n",
              "      <td>2020-04-13T15:06:29\\t</td>\n",
              "      <td>7</td>\n",
              "    </tr>\n",
              "    <tr>\n",
              "      <th>502</th>\n",
              "      <td>Women's adidas Originals Superstar Shoes</td>\n",
              "      <td>FW6635</td>\n",
              "      <td>10999</td>\n",
              "      <td>10999</td>\n",
              "      <td>0</td>\n",
              "      <td>Adidas ORIGINALS</td>\n",
              "      <td>The future is female. Designers Ji Won Choi an...</td>\n",
              "      <td>3.2</td>\n",
              "      <td>34</td>\n",
              "      <td>2020-04-13T15:06:36\\t</td>\n",
              "      <td>7</td>\n",
              "    </tr>\n",
              "    <tr>\n",
              "      <th>505</th>\n",
              "      <td>Women's adidas Originals ZX Torsion Shoes</td>\n",
              "      <td>EF4375</td>\n",
              "      <td>11999</td>\n",
              "      <td>11999</td>\n",
              "      <td>0</td>\n",
              "      <td>Adidas ORIGINALS</td>\n",
              "      <td>Refuse to blend in. The '80s style of ZX colli...</td>\n",
              "      <td>2.5</td>\n",
              "      <td>17</td>\n",
              "      <td>2020-04-13T15:06:36\\t</td>\n",
              "      <td>7</td>\n",
              "    </tr>\n",
              "    <tr>\n",
              "      <th>531</th>\n",
              "      <td>Women's adidas Originals ZX Torsion Shoes</td>\n",
              "      <td>EF4374</td>\n",
              "      <td>11999</td>\n",
              "      <td>11999</td>\n",
              "      <td>0</td>\n",
              "      <td>Adidas ORIGINALS</td>\n",
              "      <td>ZX has always stood for innovation. These wome...</td>\n",
              "      <td>4.2</td>\n",
              "      <td>93</td>\n",
              "      <td>2020-04-13T15:06:37\\t</td>\n",
              "      <td>7</td>\n",
              "    </tr>\n",
              "    <tr>\n",
              "      <th>598</th>\n",
              "      <td>Women's adidas Originals Supercourt RX Shoes</td>\n",
              "      <td>FV3671</td>\n",
              "      <td>13999</td>\n",
              "      <td>13999</td>\n",
              "      <td>0</td>\n",
              "      <td>Adidas ORIGINALS</td>\n",
              "      <td>The Supercourt RX serves up court style with a...</td>\n",
              "      <td>4.9</td>\n",
              "      <td>87</td>\n",
              "      <td>2020-04-13T15:06:39\\t</td>\n",
              "      <td>7</td>\n",
              "    </tr>\n",
              "  </tbody>\n",
              "</table>\n",
              "</div>\n",
              "      <button class=\"colab-df-convert\" onclick=\"convertToInteractive('df-981d473d-c3e8-4e0d-8d9c-f95daca0f676')\"\n",
              "              title=\"Convert this dataframe to an interactive table.\"\n",
              "              style=\"display:none;\">\n",
              "        \n",
              "  <svg xmlns=\"http://www.w3.org/2000/svg\" height=\"24px\"viewBox=\"0 0 24 24\"\n",
              "       width=\"24px\">\n",
              "    <path d=\"M0 0h24v24H0V0z\" fill=\"none\"/>\n",
              "    <path d=\"M18.56 5.44l.94 2.06.94-2.06 2.06-.94-2.06-.94-.94-2.06-.94 2.06-2.06.94zm-11 1L8.5 8.5l.94-2.06 2.06-.94-2.06-.94L8.5 2.5l-.94 2.06-2.06.94zm10 10l.94 2.06.94-2.06 2.06-.94-2.06-.94-.94-2.06-.94 2.06-2.06.94z\"/><path d=\"M17.41 7.96l-1.37-1.37c-.4-.4-.92-.59-1.43-.59-.52 0-1.04.2-1.43.59L10.3 9.45l-7.72 7.72c-.78.78-.78 2.05 0 2.83L4 21.41c.39.39.9.59 1.41.59.51 0 1.02-.2 1.41-.59l7.78-7.78 2.81-2.81c.8-.78.8-2.07 0-2.86zM5.41 20L4 18.59l7.72-7.72 1.47 1.35L5.41 20z\"/>\n",
              "  </svg>\n",
              "      </button>\n",
              "      \n",
              "  <style>\n",
              "    .colab-df-container {\n",
              "      display:flex;\n",
              "      flex-wrap:wrap;\n",
              "      gap: 12px;\n",
              "    }\n",
              "\n",
              "    .colab-df-convert {\n",
              "      background-color: #E8F0FE;\n",
              "      border: none;\n",
              "      border-radius: 50%;\n",
              "      cursor: pointer;\n",
              "      display: none;\n",
              "      fill: #1967D2;\n",
              "      height: 32px;\n",
              "      padding: 0 0 0 0;\n",
              "      width: 32px;\n",
              "    }\n",
              "\n",
              "    .colab-df-convert:hover {\n",
              "      background-color: #E2EBFA;\n",
              "      box-shadow: 0px 1px 2px rgba(60, 64, 67, 0.3), 0px 1px 3px 1px rgba(60, 64, 67, 0.15);\n",
              "      fill: #174EA6;\n",
              "    }\n",
              "\n",
              "    [theme=dark] .colab-df-convert {\n",
              "      background-color: #3B4455;\n",
              "      fill: #D2E3FC;\n",
              "    }\n",
              "\n",
              "    [theme=dark] .colab-df-convert:hover {\n",
              "      background-color: #434B5C;\n",
              "      box-shadow: 0px 1px 3px 1px rgba(0, 0, 0, 0.15);\n",
              "      filter: drop-shadow(0px 1px 2px rgba(0, 0, 0, 0.3));\n",
              "      fill: #FFFFFF;\n",
              "    }\n",
              "  </style>\n",
              "\n",
              "      <script>\n",
              "        const buttonEl =\n",
              "          document.querySelector('#df-981d473d-c3e8-4e0d-8d9c-f95daca0f676 button.colab-df-convert');\n",
              "        buttonEl.style.display =\n",
              "          google.colab.kernel.accessAllowed ? 'block' : 'none';\n",
              "\n",
              "        async function convertToInteractive(key) {\n",
              "          const element = document.querySelector('#df-981d473d-c3e8-4e0d-8d9c-f95daca0f676');\n",
              "          const dataTable =\n",
              "            await google.colab.kernel.invokeFunction('convertToInteractive',\n",
              "                                                     [key], {});\n",
              "          if (!dataTable) return;\n",
              "\n",
              "          const docLinkHtml = 'Like what you see? Visit the ' +\n",
              "            '<a target=\"_blank\" href=https://colab.research.google.com/notebooks/data_table.ipynb>data table notebook</a>'\n",
              "            + ' to learn more about interactive tables.';\n",
              "          element.innerHTML = '';\n",
              "          dataTable['output_type'] = 'display_data';\n",
              "          await google.colab.output.renderOutput(dataTable, element);\n",
              "          const docLink = document.createElement('div');\n",
              "          docLink.innerHTML = docLinkHtml;\n",
              "          element.appendChild(docLink);\n",
              "        }\n",
              "      </script>\n",
              "    </div>\n",
              "  </div>\n",
              "  "
            ]
          },
          "metadata": {},
          "execution_count": 51
        }
      ]
    },
    {
      "cell_type": "code",
      "source": [
        "# Menampilkan 5 data teratas dari cluster 8\n",
        "results[results[\"segment\"]==8][:5]"
      ],
      "metadata": {
        "colab": {
          "base_uri": "https://localhost:8080/",
          "height": 337
        },
        "id": "rVINsfxaQ1DQ",
        "outputId": "6abb51f0-61c4-4c2e-d39d-89763d1276be"
      },
      "execution_count": 52,
      "outputs": [
        {
          "output_type": "execute_result",
          "data": {
            "text/plain": [
              "                        Product Name  Product ID  Listing_Price  Sale_Price  \\\n",
              "2625  Nike Air Force 1 '07 Essential  CJ1646-600              0        7495   \n",
              "2626            Nike Air Force 1 '07  CT4328-101              0        7495   \n",
              "2631                 NikeCourt Blanc  CI0808-100              0        5995   \n",
              "2636            Nike Air Force 1 '07  315115-112              0        7495   \n",
              "2638                Nike SuperRep Go  CJ0860-668              0        7995   \n",
              "\n",
              "      Discount Brand                                        Description  \\\n",
              "2625         0  Nike  Let your shoe game shimmer in the Nike Air For...   \n",
              "2626         0  Nike  The legend lives on in the Nike Air Force 1 '0...   \n",
              "2631         0  Nike  Inspired by heritage models, the NikeCourt Bla...   \n",
              "2636         0  Nike  The radiance lives on in the Nike Air Force 1 ...   \n",
              "2638         0  Nike  The Nike SuperRep Go combines comfortable foam...   \n",
              "\n",
              "      Rating  Reviews         Last Visited\\t  segment  \n",
              "2625     0.0        0  2020-04-13T15:27:56\\t        8  \n",
              "2626     0.0        0  2020-04-13T15:27:56\\t        8  \n",
              "2631     0.0        0  2020-04-13T15:27:58\\t        8  \n",
              "2636     4.5       67  2020-04-13T15:28:00\\t        8  \n",
              "2638     0.0        0  2020-04-13T15:28:00\\t        8  "
            ],
            "text/html": [
              "\n",
              "  <div id=\"df-364ecb3d-79d9-4775-973f-aa90bd2ccd3a\">\n",
              "    <div class=\"colab-df-container\">\n",
              "      <div>\n",
              "<style scoped>\n",
              "    .dataframe tbody tr th:only-of-type {\n",
              "        vertical-align: middle;\n",
              "    }\n",
              "\n",
              "    .dataframe tbody tr th {\n",
              "        vertical-align: top;\n",
              "    }\n",
              "\n",
              "    .dataframe thead th {\n",
              "        text-align: right;\n",
              "    }\n",
              "</style>\n",
              "<table border=\"1\" class=\"dataframe\">\n",
              "  <thead>\n",
              "    <tr style=\"text-align: right;\">\n",
              "      <th></th>\n",
              "      <th>Product Name</th>\n",
              "      <th>Product ID</th>\n",
              "      <th>Listing_Price</th>\n",
              "      <th>Sale_Price</th>\n",
              "      <th>Discount</th>\n",
              "      <th>Brand</th>\n",
              "      <th>Description</th>\n",
              "      <th>Rating</th>\n",
              "      <th>Reviews</th>\n",
              "      <th>Last Visited\\t</th>\n",
              "      <th>segment</th>\n",
              "    </tr>\n",
              "  </thead>\n",
              "  <tbody>\n",
              "    <tr>\n",
              "      <th>2625</th>\n",
              "      <td>Nike Air Force 1 '07 Essential</td>\n",
              "      <td>CJ1646-600</td>\n",
              "      <td>0</td>\n",
              "      <td>7495</td>\n",
              "      <td>0</td>\n",
              "      <td>Nike</td>\n",
              "      <td>Let your shoe game shimmer in the Nike Air For...</td>\n",
              "      <td>0.0</td>\n",
              "      <td>0</td>\n",
              "      <td>2020-04-13T15:27:56\\t</td>\n",
              "      <td>8</td>\n",
              "    </tr>\n",
              "    <tr>\n",
              "      <th>2626</th>\n",
              "      <td>Nike Air Force 1 '07</td>\n",
              "      <td>CT4328-101</td>\n",
              "      <td>0</td>\n",
              "      <td>7495</td>\n",
              "      <td>0</td>\n",
              "      <td>Nike</td>\n",
              "      <td>The legend lives on in the Nike Air Force 1 '0...</td>\n",
              "      <td>0.0</td>\n",
              "      <td>0</td>\n",
              "      <td>2020-04-13T15:27:56\\t</td>\n",
              "      <td>8</td>\n",
              "    </tr>\n",
              "    <tr>\n",
              "      <th>2631</th>\n",
              "      <td>NikeCourt Blanc</td>\n",
              "      <td>CI0808-100</td>\n",
              "      <td>0</td>\n",
              "      <td>5995</td>\n",
              "      <td>0</td>\n",
              "      <td>Nike</td>\n",
              "      <td>Inspired by heritage models, the NikeCourt Bla...</td>\n",
              "      <td>0.0</td>\n",
              "      <td>0</td>\n",
              "      <td>2020-04-13T15:27:58\\t</td>\n",
              "      <td>8</td>\n",
              "    </tr>\n",
              "    <tr>\n",
              "      <th>2636</th>\n",
              "      <td>Nike Air Force 1 '07</td>\n",
              "      <td>315115-112</td>\n",
              "      <td>0</td>\n",
              "      <td>7495</td>\n",
              "      <td>0</td>\n",
              "      <td>Nike</td>\n",
              "      <td>The radiance lives on in the Nike Air Force 1 ...</td>\n",
              "      <td>4.5</td>\n",
              "      <td>67</td>\n",
              "      <td>2020-04-13T15:28:00\\t</td>\n",
              "      <td>8</td>\n",
              "    </tr>\n",
              "    <tr>\n",
              "      <th>2638</th>\n",
              "      <td>Nike SuperRep Go</td>\n",
              "      <td>CJ0860-668</td>\n",
              "      <td>0</td>\n",
              "      <td>7995</td>\n",
              "      <td>0</td>\n",
              "      <td>Nike</td>\n",
              "      <td>The Nike SuperRep Go combines comfortable foam...</td>\n",
              "      <td>0.0</td>\n",
              "      <td>0</td>\n",
              "      <td>2020-04-13T15:28:00\\t</td>\n",
              "      <td>8</td>\n",
              "    </tr>\n",
              "  </tbody>\n",
              "</table>\n",
              "</div>\n",
              "      <button class=\"colab-df-convert\" onclick=\"convertToInteractive('df-364ecb3d-79d9-4775-973f-aa90bd2ccd3a')\"\n",
              "              title=\"Convert this dataframe to an interactive table.\"\n",
              "              style=\"display:none;\">\n",
              "        \n",
              "  <svg xmlns=\"http://www.w3.org/2000/svg\" height=\"24px\"viewBox=\"0 0 24 24\"\n",
              "       width=\"24px\">\n",
              "    <path d=\"M0 0h24v24H0V0z\" fill=\"none\"/>\n",
              "    <path d=\"M18.56 5.44l.94 2.06.94-2.06 2.06-.94-2.06-.94-.94-2.06-.94 2.06-2.06.94zm-11 1L8.5 8.5l.94-2.06 2.06-.94-2.06-.94L8.5 2.5l-.94 2.06-2.06.94zm10 10l.94 2.06.94-2.06 2.06-.94-2.06-.94-.94-2.06-.94 2.06-2.06.94z\"/><path d=\"M17.41 7.96l-1.37-1.37c-.4-.4-.92-.59-1.43-.59-.52 0-1.04.2-1.43.59L10.3 9.45l-7.72 7.72c-.78.78-.78 2.05 0 2.83L4 21.41c.39.39.9.59 1.41.59.51 0 1.02-.2 1.41-.59l7.78-7.78 2.81-2.81c.8-.78.8-2.07 0-2.86zM5.41 20L4 18.59l7.72-7.72 1.47 1.35L5.41 20z\"/>\n",
              "  </svg>\n",
              "      </button>\n",
              "      \n",
              "  <style>\n",
              "    .colab-df-container {\n",
              "      display:flex;\n",
              "      flex-wrap:wrap;\n",
              "      gap: 12px;\n",
              "    }\n",
              "\n",
              "    .colab-df-convert {\n",
              "      background-color: #E8F0FE;\n",
              "      border: none;\n",
              "      border-radius: 50%;\n",
              "      cursor: pointer;\n",
              "      display: none;\n",
              "      fill: #1967D2;\n",
              "      height: 32px;\n",
              "      padding: 0 0 0 0;\n",
              "      width: 32px;\n",
              "    }\n",
              "\n",
              "    .colab-df-convert:hover {\n",
              "      background-color: #E2EBFA;\n",
              "      box-shadow: 0px 1px 2px rgba(60, 64, 67, 0.3), 0px 1px 3px 1px rgba(60, 64, 67, 0.15);\n",
              "      fill: #174EA6;\n",
              "    }\n",
              "\n",
              "    [theme=dark] .colab-df-convert {\n",
              "      background-color: #3B4455;\n",
              "      fill: #D2E3FC;\n",
              "    }\n",
              "\n",
              "    [theme=dark] .colab-df-convert:hover {\n",
              "      background-color: #434B5C;\n",
              "      box-shadow: 0px 1px 3px 1px rgba(0, 0, 0, 0.15);\n",
              "      filter: drop-shadow(0px 1px 2px rgba(0, 0, 0, 0.3));\n",
              "      fill: #FFFFFF;\n",
              "    }\n",
              "  </style>\n",
              "\n",
              "      <script>\n",
              "        const buttonEl =\n",
              "          document.querySelector('#df-364ecb3d-79d9-4775-973f-aa90bd2ccd3a button.colab-df-convert');\n",
              "        buttonEl.style.display =\n",
              "          google.colab.kernel.accessAllowed ? 'block' : 'none';\n",
              "\n",
              "        async function convertToInteractive(key) {\n",
              "          const element = document.querySelector('#df-364ecb3d-79d9-4775-973f-aa90bd2ccd3a');\n",
              "          const dataTable =\n",
              "            await google.colab.kernel.invokeFunction('convertToInteractive',\n",
              "                                                     [key], {});\n",
              "          if (!dataTable) return;\n",
              "\n",
              "          const docLinkHtml = 'Like what you see? Visit the ' +\n",
              "            '<a target=\"_blank\" href=https://colab.research.google.com/notebooks/data_table.ipynb>data table notebook</a>'\n",
              "            + ' to learn more about interactive tables.';\n",
              "          element.innerHTML = '';\n",
              "          dataTable['output_type'] = 'display_data';\n",
              "          await google.colab.output.renderOutput(dataTable, element);\n",
              "          const docLink = document.createElement('div');\n",
              "          docLink.innerHTML = docLinkHtml;\n",
              "          element.appendChild(docLink);\n",
              "        }\n",
              "      </script>\n",
              "    </div>\n",
              "  </div>\n",
              "  "
            ]
          },
          "metadata": {},
          "execution_count": 52
        }
      ]
    },
    {
      "cell_type": "markdown",
      "metadata": {
        "id": "GRYYM_r0XnjC"
      },
      "source": [
        "## EDA\n"
      ]
    },
    {
      "cell_type": "code",
      "execution_count": 53,
      "metadata": {
        "colab": {
          "base_uri": "https://localhost:8080/",
          "height": 466
        },
        "id": "VQa9oQ8wrIAZ",
        "outputId": "337b9e9d-f239-4a50-bc16-7726e33f1139"
      },
      "outputs": [
        {
          "output_type": "execute_result",
          "data": {
            "text/plain": [
              "<Axes: xlabel='segment', ylabel='Sale_Price'>"
            ]
          },
          "metadata": {},
          "execution_count": 53
        },
        {
          "output_type": "display_data",
          "data": {
            "text/plain": [
              "<Figure size 640x480 with 1 Axes>"
            ],
            "image/png": "[encoded data removed]"
          },
          "metadata": {}
        }
      ],
      "source": [
        "# Pengelompokan customer berdasarkan brand\n",
        "sns.boxplot(x=results[\"segment\"], y=results[\"Sale_Price\"], data=results)"
      ]
    },
    {
      "cell_type": "markdown",
      "source": [
        "Dari Sale Price diketahui bahwa\n",
        "- cluster 0 memiliki range sale price < 10000  \n",
        "- cluster 1 memiliki range sale price <= 10000 artinya cukup murah\n",
        "- cluster 2 memiliki range sale price < 10000 artinya cukup murah\n",
        "- cluster 3 memiliki range sale price > 10000 dan < 20000 yang artinya cukup mahal\n",
        "- cluster 4 memiliki range sale price > 15000 hingga 35000 yang artinya sangat mahal\n",
        "- cluster 5 memiliki range sale price <=5000 yang artinya sale sangat murah \n",
        "- cluster 6 memiliki range sale price > 5000 dan < 15000 \n",
        "- cluster 7 memiliki range sale price > 5000 dan < 15000\n",
        "- cluster 8 memiliki range sale price >= 10000 hingga< 20000 yang artinya cukup mahal\n",
        " \n",
        "**Lalu bagaimana dengan persebaran Brand pada tiap cluster?**"
      ],
      "metadata": {
        "id": "bGkjgsD6cTAB"
      }
    },
    {
      "cell_type": "code",
      "execution_count": 54,
      "metadata": {
        "colab": {
          "base_uri": "https://localhost:8080/",
          "height": 564
        },
        "id": "gNt0NNYQ_ny5",
        "outputId": "814230b6-d2ab-455f-bb69-14857116f942"
      },
      "outputs": [
        {
          "output_type": "display_data",
          "data": {
            "text/plain": [
              "<Figure size 1500x600 with 1 Axes>"
            ],
            "image/png": "[encoded data removed]"
          },
          "metadata": {}
        }
      ],
      "source": [
        "plt.figure(figsize=(15,6))\n",
        "sns.countplot(x=\"segment\", data=results, hue=\"Brand\")\n",
        "plt.title(\"Jumlah Cluster Berdasarkan Brand\")\n",
        "plt.xlabel(\"Cluster\")\n",
        "plt.ylabel(\"Sale Price\")\n",
        "plt.show()"
      ]
    },
    {
      "cell_type": "markdown",
      "source": [
        "Ada perbedaan yang cukup mencolok apabila dilihat dari pengaruh Brand. Dari visualisasi diatas diketahui bahwa :\n",
        "Dari Sale Price diketahui bahwa\n",
        "- cluster 0: brand yang mendominasi dalam culster ini hanya Adidas CORE/NEO.\n",
        "- cluster 1: brand yang tercatat dalam culster ini hanya Nike.\n",
        "- cluster 2: brand yang tercatat dalam culster ini hanya Adidas Original.\n",
        "- cluster 3: brand yang tercatat dalam culster ini adalah Adidas Original dan Adidas Sport/Performance. \n",
        "- cluster 4: brand yang tercatat dalam culster ini adalah Adidas Original, Adidas Sport/Performance, dan Nike.\n",
        "- cluster 5: brand yang tercatat dalam culster ini adalah Adidas Sport/Performance, dan Nike.\n",
        "- cluster 6: brand yang tercatat dalam culster ini hanya Adidas Original dan Adidas CORE/NEO. \n",
        "- cluster 7: brand yang tercatat dalam culster ini hanya  Adidas Sport/Performance\n",
        "- cluster 8: brand yang tercatat dalam culster ini hanya Nike.\n",
        "\n",
        "\n",
        "**Lalu bagaimana dengan persebaran Diskon pada tiap cluster?***"
      ],
      "metadata": {
        "id": "UXx92F-ESb-w"
      }
    },
    {
      "cell_type": "code",
      "source": [
        "# Persebaran diskon pada tiap cluster\n",
        "sns.boxplot(x=results[\"segment\"], y=results[\"Discount\"], data=results)"
      ],
      "metadata": {
        "colab": {
          "base_uri": "https://localhost:8080/",
          "height": 466
        },
        "id": "XJpGUdZ5Se5e",
        "outputId": "5964d7fb-5a28-4d58-9a17-aaa6c56c156e"
      },
      "execution_count": 55,
      "outputs": [
        {
          "output_type": "execute_result",
          "data": {
            "text/plain": [
              "<Axes: xlabel='segment', ylabel='Discount'>"
            ]
          },
          "metadata": {},
          "execution_count": 55
        },
        {
          "output_type": "display_data",
          "data": {
            "text/plain": [
              "<Figure size 640x480 with 1 Axes>"
            ],
            "image/png": "[encoded data removed]"
          },
          "metadata": {}
        }
      ]
    },
    {
      "cell_type": "markdown",
      "source": [
        "Dari Visualisasi diatas, didapat cluster 0,2,5,6,8 memiliki range diskon antara 0-60. Sedangkan cluster 1,4,8 memiliki range diskon 0. Lalu untuk cluster 3 memiliki range diskon antara 0-50"
      ],
      "metadata": {
        "id": "tOp4uvpAnt8d"
      }
    },
    {
      "cell_type": "code",
      "source": [
        "# persebaran listing price pada tiap cluster\n",
        "sns.boxplot(x=results[\"segment\"], y=results[\"Listing_Price\"], data=results)"
      ],
      "metadata": {
        "colab": {
          "base_uri": "https://localhost:8080/",
          "height": 466
        },
        "id": "JywNxg41ksHQ",
        "outputId": "ed822679-81a7-455e-aa0c-b25a42fe4467"
      },
      "execution_count": 56,
      "outputs": [
        {
          "output_type": "execute_result",
          "data": {
            "text/plain": [
              "<Axes: xlabel='segment', ylabel='Listing_Price'>"
            ]
          },
          "metadata": {},
          "execution_count": 56
        },
        {
          "output_type": "display_data",
          "data": {
            "text/plain": [
              "<Figure size 640x480 with 1 Axes>"
            ],
            "image/png": "[encoded data removed]"
          },
          "metadata": {}
        }
      ]
    },
    {
      "cell_type": "markdown",
      "source": [
        "Pada visualisasi listing price diatas didaapat,\n",
        "- cluster 0 memiliki range listing price <=10000\n",
        "- cluster 1 memiliki range listing price antar > 0 hingga < 20000\n",
        "- cluster 2 memiliki range listing price <=15000\n",
        "- cluster 3 memiliki range listing price > 10000 dan < 25000\n",
        "- cluster 4 memiliki range listing price <=30000\n",
        "- cluster 5 memiliki range listing price antara >0 hingga < 15000\n",
        "- cluster 6 memiliki range listing price antara >5000 hingga <=2000\n",
        "- cluster 7 memiliki range listing price antara >5000 hingga < 2000\n",
        "- cluster 8 memiliki range listing price antara <=20000"
      ],
      "metadata": {
        "id": "C24vqC46oCb1"
      }
    }
  ],
  "metadata": {
    "colab": {
      "provenance": [],
      "include_colab_link": true
    },
    "kernelspec": {
      "display_name": "Python 3",
      "language": "python",
      "name": "python3"
    },
    "language_info": {
      "codemirror_mode": {
        "name": "ipython",
        "version": 3
      },
      "file_extension": ".py",
      "mimetype": "text/x-python",
      "name": "python",
      "nbconvert_exporter": "python",
      "pygments_lexer": "ipython3",
      "version": "3.7.7"
    }
  },
  "nbformat": 4,
  "nbformat_minor": 0
}