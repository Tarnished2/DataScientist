{
  "nbformat": 4,
  "nbformat_minor": 0,
  "metadata": {
    "colab": {
      "provenance": [],
      "include_colab_link": true
    },
    "kernelspec": {
      "display_name": "Python 3",
      "name": "python3"
    },
    "language_info": {
      "name": "python"
    }
  },
  "cells": [
    {
      "cell_type": "markdown",
      "metadata": {
        "id": "view-in-github",
        "colab_type": "text"
      },
      "source": [
        "<a href=\"https://colab.research.google.com/github/Tarnished2/DataScientist/blob/main/StatisticsDataScience/6.HypothesisTesting.ipynb\" target=\"_parent\"><img src=\"https://colab.research.google.com/assets/colab-badge.svg\" alt=\"Open In Colab\"/></a>"
      ]
    },
    {
      "cell_type": "markdown",
      "source": [
        "Pramaditya Ardian Saputra"
      ],
      "metadata": {
        "id": "jXf6rvkBv2Lp"
      }
    },
    {
      "cell_type": "markdown",
      "metadata": {
        "id": "38pyI7859HUf"
      },
      "source": [
        "# Breakout Room Study Case\n",
        "Panggil kembali data **loan_prediction.csv**. Sebelumnya anda telah melakukan analisis pendapatan nasabah. Anda berfikir bahwa anda memerlukan informasi tambahan. Anda telah menyiapkan beberapa pertanyaan mengenai riset anda nantinya. List pertanyaan tersebut seperti berikut :\n",
        "1. Berapa rata-rata dan standar deviasi dari coapplicantincome?\n",
        "2. Anda berasumsi bahwa kemungkinan besar coapplicantincome pasti tidak kurang dari 1000. Apakah asumsi anda benar?\n",
        "3. Berapakah rata-rata coapplicantincome berdasarkan loan_status ?\n",
        "4. Kira-kira pada kisaran berapakah coapplicantincome untuk Graduated?\n",
        "5. Kamu ingin mengetahui apakah Education akan mempengaruhi coapplicantincome?\n"
      ]
    },
    {
      "cell_type": "markdown",
      "metadata": {
        "id": "Ny7oP9-NuguX"
      },
      "source": [
        "## Load Data"
      ]
    },
    {
      "cell_type": "code",
      "source": [
        "from scipy import stats\n",
        "import numpy as np\n",
        "import matplotlib.pyplot as plt\n",
        "import seaborn as sns\n",
        "import pandas as pd\n",
        "from scipy.stats import ttest_1samp\n",
        "from scipy.stats import ttest_ind"
      ],
      "metadata": {
        "id": "UYrChuZ6EqMk"
      },
      "execution_count": 1,
      "outputs": []
    },
    {
      "cell_type": "code",
      "source": [
        "from google.colab import drive\n",
        "drive.mount('/content/drive')"
      ],
      "metadata": {
        "colab": {
          "base_uri": "https://localhost:8080/"
        },
        "id": "wklcpLNC-tet",
        "outputId": "81d47757-5ae3-4a0c-ded0-1e46898a2299"
      },
      "execution_count": 2,
      "outputs": [
        {
          "output_type": "stream",
          "name": "stdout",
          "text": [
            "Mounted at /content/drive\n"
          ]
        }
      ]
    },
    {
      "cell_type": "code",
      "source": [
        "df = pd.read_csv('/content/drive/MyDrive/SIB/2. Statistics for Data Science/2.3/loan_prediction.csv')\n",
        "df"
      ],
      "metadata": {
        "colab": {
          "base_uri": "https://localhost:8080/",
          "height": 505
        },
        "id": "vfcd545ahj3x",
        "outputId": "481cfb25-9ba3-480a-bc4c-2a46ea3ab145"
      },
      "execution_count": 3,
      "outputs": [
        {
          "output_type": "execute_result",
          "data": {
            "text/plain": [
              "      Loan_ID  Gender Married Dependents     Education Self_Employed  \\\n",
              "0    LP001002    Male      No          0      Graduate            No   \n",
              "1    LP001003    Male     Yes          1      Graduate            No   \n",
              "2    LP001005    Male     Yes          0      Graduate           Yes   \n",
              "3    LP001006    Male     Yes          0  Not Graduate            No   \n",
              "4    LP001008    Male      No          0      Graduate            No   \n",
              "..        ...     ...     ...        ...           ...           ...   \n",
              "609  LP002978  Female      No          0      Graduate            No   \n",
              "610  LP002979    Male     Yes         3+      Graduate            No   \n",
              "611  LP002983    Male     Yes          1      Graduate            No   \n",
              "612  LP002984    Male     Yes          2      Graduate            No   \n",
              "613  LP002990  Female      No          0      Graduate           Yes   \n",
              "\n",
              "     ApplicantIncome  CoapplicantIncome  LoanAmount  Loan_Amount_Term  \\\n",
              "0               5849                0.0         NaN             360.0   \n",
              "1               4583             1508.0       128.0             360.0   \n",
              "2               3000                0.0        66.0             360.0   \n",
              "3               2583             2358.0       120.0             360.0   \n",
              "4               6000                0.0       141.0             360.0   \n",
              "..               ...                ...         ...               ...   \n",
              "609             2900                0.0        71.0             360.0   \n",
              "610             4106                0.0        40.0             180.0   \n",
              "611             8072              240.0       253.0             360.0   \n",
              "612             7583                0.0       187.0             360.0   \n",
              "613             4583                0.0       133.0             360.0   \n",
              "\n",
              "     Credit_History Property_Area Loan_Status  \n",
              "0               1.0         Urban           Y  \n",
              "1               1.0         Rural           N  \n",
              "2               1.0         Urban           Y  \n",
              "3               1.0         Urban           Y  \n",
              "4               1.0         Urban           Y  \n",
              "..              ...           ...         ...  \n",
              "609             1.0         Rural           Y  \n",
              "610             1.0         Rural           Y  \n",
              "611             1.0         Urban           Y  \n",
              "612             1.0         Urban           Y  \n",
              "613             0.0     Semiurban           N  \n",
              "\n",
              "[614 rows x 13 columns]"
            ],
            "text/html": [
              "\n",
              "  <div id=\"df-4df7674f-c25b-4a4b-aef7-9f4f1ba2f9f8\">\n",
              "    <div class=\"colab-df-container\">\n",
              "      <div>\n",
              "<style scoped>\n",
              "    .dataframe tbody tr th:only-of-type {\n",
              "        vertical-align: middle;\n",
              "    }\n",
              "\n",
              "    .dataframe tbody tr th {\n",
              "        vertical-align: top;\n",
              "    }\n",
              "\n",
              "    .dataframe thead th {\n",
              "        text-align: right;\n",
              "    }\n",
              "</style>\n",
              "<table border=\"1\" class=\"dataframe\">\n",
              "  <thead>\n",
              "    <tr style=\"text-align: right;\">\n",
              "      <th></th>\n",
              "      <th>Loan_ID</th>\n",
              "      <th>Gender</th>\n",
              "      <th>Married</th>\n",
              "      <th>Dependents</th>\n",
              "      <th>Education</th>\n",
              "      <th>Self_Employed</th>\n",
              "      <th>ApplicantIncome</th>\n",
              "      <th>CoapplicantIncome</th>\n",
              "      <th>LoanAmount</th>\n",
              "      <th>Loan_Amount_Term</th>\n",
              "      <th>Credit_History</th>\n",
              "      <th>Property_Area</th>\n",
              "      <th>Loan_Status</th>\n",
              "    </tr>\n",
              "  </thead>\n",
              "  <tbody>\n",
              "    <tr>\n",
              "      <th>0</th>\n",
              "      <td>LP001002</td>\n",
              "      <td>Male</td>\n",
              "      <td>No</td>\n",
              "      <td>0</td>\n",
              "      <td>Graduate</td>\n",
              "      <td>No</td>\n",
              "      <td>5849</td>\n",
              "      <td>0.0</td>\n",
              "      <td>NaN</td>\n",
              "      <td>360.0</td>\n",
              "      <td>1.0</td>\n",
              "      <td>Urban</td>\n",
              "      <td>Y</td>\n",
              "    </tr>\n",
              "    <tr>\n",
              "      <th>1</th>\n",
              "      <td>LP001003</td>\n",
              "      <td>Male</td>\n",
              "      <td>Yes</td>\n",
              "      <td>1</td>\n",
              "      <td>Graduate</td>\n",
              "      <td>No</td>\n",
              "      <td>4583</td>\n",
              "      <td>1508.0</td>\n",
              "      <td>128.0</td>\n",
              "      <td>360.0</td>\n",
              "      <td>1.0</td>\n",
              "      <td>Rural</td>\n",
              "      <td>N</td>\n",
              "    </tr>\n",
              "    <tr>\n",
              "      <th>2</th>\n",
              "      <td>LP001005</td>\n",
              "      <td>Male</td>\n",
              "      <td>Yes</td>\n",
              "      <td>0</td>\n",
              "      <td>Graduate</td>\n",
              "      <td>Yes</td>\n",
              "      <td>3000</td>\n",
              "      <td>0.0</td>\n",
              "      <td>66.0</td>\n",
              "      <td>360.0</td>\n",
              "      <td>1.0</td>\n",
              "      <td>Urban</td>\n",
              "      <td>Y</td>\n",
              "    </tr>\n",
              "    <tr>\n",
              "      <th>3</th>\n",
              "      <td>LP001006</td>\n",
              "      <td>Male</td>\n",
              "      <td>Yes</td>\n",
              "      <td>0</td>\n",
              "      <td>Not Graduate</td>\n",
              "      <td>No</td>\n",
              "      <td>2583</td>\n",
              "      <td>2358.0</td>\n",
              "      <td>120.0</td>\n",
              "      <td>360.0</td>\n",
              "      <td>1.0</td>\n",
              "      <td>Urban</td>\n",
              "      <td>Y</td>\n",
              "    </tr>\n",
              "    <tr>\n",
              "      <th>4</th>\n",
              "      <td>LP001008</td>\n",
              "      <td>Male</td>\n",
              "      <td>No</td>\n",
              "      <td>0</td>\n",
              "      <td>Graduate</td>\n",
              "      <td>No</td>\n",
              "      <td>6000</td>\n",
              "      <td>0.0</td>\n",
              "      <td>141.0</td>\n",
              "      <td>360.0</td>\n",
              "      <td>1.0</td>\n",
              "      <td>Urban</td>\n",
              "      <td>Y</td>\n",
              "    </tr>\n",
              "    <tr>\n",
              "      <th>...</th>\n",
              "      <td>...</td>\n",
              "      <td>...</td>\n",
              "      <td>...</td>\n",
              "      <td>...</td>\n",
              "      <td>...</td>\n",
              "      <td>...</td>\n",
              "      <td>...</td>\n",
              "      <td>...</td>\n",
              "      <td>...</td>\n",
              "      <td>...</td>\n",
              "      <td>...</td>\n",
              "      <td>...</td>\n",
              "      <td>...</td>\n",
              "    </tr>\n",
              "    <tr>\n",
              "      <th>609</th>\n",
              "      <td>LP002978</td>\n",
              "      <td>Female</td>\n",
              "      <td>No</td>\n",
              "      <td>0</td>\n",
              "      <td>Graduate</td>\n",
              "      <td>No</td>\n",
              "      <td>2900</td>\n",
              "      <td>0.0</td>\n",
              "      <td>71.0</td>\n",
              "      <td>360.0</td>\n",
              "      <td>1.0</td>\n",
              "      <td>Rural</td>\n",
              "      <td>Y</td>\n",
              "    </tr>\n",
              "    <tr>\n",
              "      <th>610</th>\n",
              "      <td>LP002979</td>\n",
              "      <td>Male</td>\n",
              "      <td>Yes</td>\n",
              "      <td>3+</td>\n",
              "      <td>Graduate</td>\n",
              "      <td>No</td>\n",
              "      <td>4106</td>\n",
              "      <td>0.0</td>\n",
              "      <td>40.0</td>\n",
              "      <td>180.0</td>\n",
              "      <td>1.0</td>\n",
              "      <td>Rural</td>\n",
              "      <td>Y</td>\n",
              "    </tr>\n",
              "    <tr>\n",
              "      <th>611</th>\n",
              "      <td>LP002983</td>\n",
              "      <td>Male</td>\n",
              "      <td>Yes</td>\n",
              "      <td>1</td>\n",
              "      <td>Graduate</td>\n",
              "      <td>No</td>\n",
              "      <td>8072</td>\n",
              "      <td>240.0</td>\n",
              "      <td>253.0</td>\n",
              "      <td>360.0</td>\n",
              "      <td>1.0</td>\n",
              "      <td>Urban</td>\n",
              "      <td>Y</td>\n",
              "    </tr>\n",
              "    <tr>\n",
              "      <th>612</th>\n",
              "      <td>LP002984</td>\n",
              "      <td>Male</td>\n",
              "      <td>Yes</td>\n",
              "      <td>2</td>\n",
              "      <td>Graduate</td>\n",
              "      <td>No</td>\n",
              "      <td>7583</td>\n",
              "      <td>0.0</td>\n",
              "      <td>187.0</td>\n",
              "      <td>360.0</td>\n",
              "      <td>1.0</td>\n",
              "      <td>Urban</td>\n",
              "      <td>Y</td>\n",
              "    </tr>\n",
              "    <tr>\n",
              "      <th>613</th>\n",
              "      <td>LP002990</td>\n",
              "      <td>Female</td>\n",
              "      <td>No</td>\n",
              "      <td>0</td>\n",
              "      <td>Graduate</td>\n",
              "      <td>Yes</td>\n",
              "      <td>4583</td>\n",
              "      <td>0.0</td>\n",
              "      <td>133.0</td>\n",
              "      <td>360.0</td>\n",
              "      <td>0.0</td>\n",
              "      <td>Semiurban</td>\n",
              "      <td>N</td>\n",
              "    </tr>\n",
              "  </tbody>\n",
              "</table>\n",
              "<p>614 rows × 13 columns</p>\n",
              "</div>\n",
              "      <button class=\"colab-df-convert\" onclick=\"convertToInteractive('df-4df7674f-c25b-4a4b-aef7-9f4f1ba2f9f8')\"\n",
              "              title=\"Convert this dataframe to an interactive table.\"\n",
              "              style=\"display:none;\">\n",
              "        \n",
              "  <svg xmlns=\"http://www.w3.org/2000/svg\" height=\"24px\"viewBox=\"0 0 24 24\"\n",
              "       width=\"24px\">\n",
              "    <path d=\"M0 0h24v24H0V0z\" fill=\"none\"/>\n",
              "    <path d=\"M18.56 5.44l.94 2.06.94-2.06 2.06-.94-2.06-.94-.94-2.06-.94 2.06-2.06.94zm-11 1L8.5 8.5l.94-2.06 2.06-.94-2.06-.94L8.5 2.5l-.94 2.06-2.06.94zm10 10l.94 2.06.94-2.06 2.06-.94-2.06-.94-.94-2.06-.94 2.06-2.06.94z\"/><path d=\"M17.41 7.96l-1.37-1.37c-.4-.4-.92-.59-1.43-.59-.52 0-1.04.2-1.43.59L10.3 9.45l-7.72 7.72c-.78.78-.78 2.05 0 2.83L4 21.41c.39.39.9.59 1.41.59.51 0 1.02-.2 1.41-.59l7.78-7.78 2.81-2.81c.8-.78.8-2.07 0-2.86zM5.41 20L4 18.59l7.72-7.72 1.47 1.35L5.41 20z\"/>\n",
              "  </svg>\n",
              "      </button>\n",
              "      \n",
              "  <style>\n",
              "    .colab-df-container {\n",
              "      display:flex;\n",
              "      flex-wrap:wrap;\n",
              "      gap: 12px;\n",
              "    }\n",
              "\n",
              "    .colab-df-convert {\n",
              "      background-color: #E8F0FE;\n",
              "      border: none;\n",
              "      border-radius: 50%;\n",
              "      cursor: pointer;\n",
              "      display: none;\n",
              "      fill: #1967D2;\n",
              "      height: 32px;\n",
              "      padding: 0 0 0 0;\n",
              "      width: 32px;\n",
              "    }\n",
              "\n",
              "    .colab-df-convert:hover {\n",
              "      background-color: #E2EBFA;\n",
              "      box-shadow: 0px 1px 2px rgba(60, 64, 67, 0.3), 0px 1px 3px 1px rgba(60, 64, 67, 0.15);\n",
              "      fill: #174EA6;\n",
              "    }\n",
              "\n",
              "    [theme=dark] .colab-df-convert {\n",
              "      background-color: #3B4455;\n",
              "      fill: #D2E3FC;\n",
              "    }\n",
              "\n",
              "    [theme=dark] .colab-df-convert:hover {\n",
              "      background-color: #434B5C;\n",
              "      box-shadow: 0px 1px 3px 1px rgba(0, 0, 0, 0.15);\n",
              "      filter: drop-shadow(0px 1px 2px rgba(0, 0, 0, 0.3));\n",
              "      fill: #FFFFFF;\n",
              "    }\n",
              "  </style>\n",
              "\n",
              "      <script>\n",
              "        const buttonEl =\n",
              "          document.querySelector('#df-4df7674f-c25b-4a4b-aef7-9f4f1ba2f9f8 button.colab-df-convert');\n",
              "        buttonEl.style.display =\n",
              "          google.colab.kernel.accessAllowed ? 'block' : 'none';\n",
              "\n",
              "        async function convertToInteractive(key) {\n",
              "          const element = document.querySelector('#df-4df7674f-c25b-4a4b-aef7-9f4f1ba2f9f8');\n",
              "          const dataTable =\n",
              "            await google.colab.kernel.invokeFunction('convertToInteractive',\n",
              "                                                     [key], {});\n",
              "          if (!dataTable) return;\n",
              "\n",
              "          const docLinkHtml = 'Like what you see? Visit the ' +\n",
              "            '<a target=\"_blank\" href=https://colab.research.google.com/notebooks/data_table.ipynb>data table notebook</a>'\n",
              "            + ' to learn more about interactive tables.';\n",
              "          element.innerHTML = '';\n",
              "          dataTable['output_type'] = 'display_data';\n",
              "          await google.colab.output.renderOutput(dataTable, element);\n",
              "          const docLink = document.createElement('div');\n",
              "          docLink.innerHTML = docLinkHtml;\n",
              "          element.appendChild(docLink);\n",
              "        }\n",
              "      </script>\n",
              "    </div>\n",
              "  </div>\n",
              "  "
            ]
          },
          "metadata": {},
          "execution_count": 3
        }
      ]
    },
    {
      "cell_type": "markdown",
      "metadata": {
        "id": "PO9NfihkuqmU"
      },
      "source": [
        "## Pertanyaan 1\n",
        "Mencari rata-rata dan standar deviasi dari coapplicantincome."
      ]
    },
    {
      "cell_type": "code",
      "source": [
        "print('rata-rata dan stdev dari coapplicantincome = ')\n",
        "print('')\n",
        "#rata - rata\n",
        "mean_coap = df['CoapplicantIncome'].mean()\n",
        "print('rata-rata coapplicantincome adalah ',mean_coap)\n",
        "#stdev\n",
        "std_coap = df['CoapplicantIncome'].std()\n",
        "print('stdev coapplicantincome adalah ',std_coap)"
      ],
      "metadata": {
        "id": "B6jkAbw72ilL",
        "colab": {
          "base_uri": "https://localhost:8080/"
        },
        "outputId": "6700f44a-f4a0-4c6a-fa1d-6f17e9f9ed29"
      },
      "execution_count": 4,
      "outputs": [
        {
          "output_type": "stream",
          "name": "stdout",
          "text": [
            "rata-rata dan stdev dari coapplicantincome = \n",
            "\n",
            "rata-rata coapplicantincome adalah  1621.2457980271008\n",
            "stdev coapplicantincome adalah  2926.2483692241885\n"
          ]
        }
      ]
    },
    {
      "cell_type": "markdown",
      "metadata": {
        "id": "Tk7hnvT-v3tn"
      },
      "source": [
        "## Pertanyaan 2\n",
        "Uji hipotesis dengan asumsi bahwa coapplicantincome pasti tidak kurang dari 1000"
      ]
    },
    {
      "cell_type": "markdown",
      "metadata": {
        "id": "WTZTtfuixFHA"
      },
      "source": [
        "**Hypothesis:** <br>\n",
        " Null Hypothesis: μ <= 1000 <br>\n",
        " Alternative Hypothesis: μ > 1000"
      ]
    },
    {
      "cell_type": "code",
      "source": [
        "print('H0 = μ <= 1000')\n",
        "print('Halt = μ > 1000')\n",
        "print('')\n",
        "print('uji hipotesis dengan asumsi bahwa coapplicantincome pasti tidak kurang dari 1000','\\n')\n",
        "\n",
        "#Uji Hipotesis\n",
        "#menggunakan statistics test z-test, karena data > 30\n",
        "alpa = 0.05 #tingkat nilai signifikan 0.05 karena mengambil hipotesis 95%\n",
        "tset, pval = stats.ttest_1samp(df['CoapplicantIncome'],1000)\n",
        "print('tset = ', tset)\n",
        "print('p-values = ', pval)\n",
        "\n",
        "if pval < alpa:\n",
        "  print('tolak H0, coapplicantincome lebih dari 0.05')\n",
        "else:\n",
        "  print('gagal tolak H0, coapplicantincome tidak lebih dari 0.05')"
      ],
      "metadata": {
        "id": "7pTGvUpN2kB9",
        "colab": {
          "base_uri": "https://localhost:8080/"
        },
        "outputId": "01324a91-68a6-4b58-c6f4-32e11135783e"
      },
      "execution_count": 5,
      "outputs": [
        {
          "output_type": "stream",
          "name": "stdout",
          "text": [
            "H0 = μ <= 1000\n",
            "Halt = μ > 1000\n",
            "\n",
            "uji hipotesis dengan asumsi bahwa coapplicantincome pasti tidak kurang dari 1000 \n",
            "\n",
            "tset =  5.2606143484331485\n",
            "p-values =  1.9871354383283204e-07\n",
            "tolak H0, coapplicantincome lebih dari 0.05\n"
          ]
        }
      ]
    },
    {
      "cell_type": "markdown",
      "metadata": {
        "id": "9lBPFT_cx_B2"
      },
      "source": [
        "## Pertanyaan 3\n",
        "Mencari rata-rata coapplicantincome berdasarkan loan_status"
      ]
    },
    {
      "cell_type": "code",
      "source": [
        "print('rata-rata coapplicantincome dari loan status = ')\n",
        "print('')\n",
        "#rata - rata\n",
        "df.groupby('Loan_Status')['CoapplicantIncome'].mean()"
      ],
      "metadata": {
        "id": "bj-61ToV2lg8",
        "colab": {
          "base_uri": "https://localhost:8080/"
        },
        "outputId": "d60f7930-b336-444d-a2d7-84d377445cd6"
      },
      "execution_count": 6,
      "outputs": [
        {
          "output_type": "stream",
          "name": "stdout",
          "text": [
            "rata-rata coapplicantincome dari loan status = \n",
            "\n"
          ]
        },
        {
          "output_type": "execute_result",
          "data": {
            "text/plain": [
              "Loan_Status\n",
              "N    1877.807292\n",
              "Y    1504.516398\n",
              "Name: CoapplicantIncome, dtype: float64"
            ]
          },
          "metadata": {},
          "execution_count": 6
        }
      ]
    },
    {
      "cell_type": "markdown",
      "metadata": {
        "id": "DPrDWlGWy1mv"
      },
      "source": [
        "## Pertanyaan 4\n",
        "Mencari kisaran coapplicantincome untuk Graduated"
      ]
    },
    {
      "cell_type": "code",
      "source": [
        "#jumlah graduate dari kolom education\n",
        "sum(df['Education'] == 'Graduate')"
      ],
      "metadata": {
        "id": "i1KuQFGp2m2V",
        "colab": {
          "base_uri": "https://localhost:8080/"
        },
        "outputId": "8a645a7b-ea70-45ea-cc7f-cc903832e25c"
      },
      "execution_count": 7,
      "outputs": [
        {
          "output_type": "execute_result",
          "data": {
            "text/plain": [
              "480"
            ]
          },
          "metadata": {},
          "execution_count": 7
        }
      ]
    },
    {
      "cell_type": "code",
      "source": [
        "print('kisaran coapplicantincome untuk graduated = ','\\n')\n",
        "#berapakah 95% confidence interval dari coapplicantincome untuk graduated?\n",
        "#mendapatkan stdev\n",
        "stdev = df[df['Education'] == 'Graduate']['CoapplicantIncome'].std()\n",
        "print('standart deviation adalah ',str(stdev))\n",
        "\n",
        "#ukuran sampel graduate\n",
        "n = np.sqrt(480)\n",
        "print('ukuran dari sampel adalah ',str(n))\n",
        "\n",
        "#margin error\n",
        "e = 1.96*(stdev/n)\n",
        "print('margin error coapplicantincome untuk graduated adalah ',str(e))\n",
        "\n",
        "#confidence interval\n",
        "print('CI 95% dari coapplicantincome untuk graduated adalah',str(mean_coap-e), 'dan', str(mean_coap+e))"
      ],
      "metadata": {
        "id": "V-ZVkNLN2m5z",
        "colab": {
          "base_uri": "https://localhost:8080/"
        },
        "outputId": "884a908a-53cf-4f42-c29c-f97c3943bd02"
      },
      "execution_count": 8,
      "outputs": [
        {
          "output_type": "stream",
          "name": "stdout",
          "text": [
            "kisaran coapplicantincome untuk graduated =  \n",
            "\n",
            "standart deviation adalah  3230.9658502821926\n",
            "ukuran dari sampel adalah  21.908902300206645\n",
            "margin error coapplicantincome untuk graduated adalah  289.04657019230797\n",
            "CI 95% dari coapplicantincome untuk graduated adalah 1332.199227834793 dan 1910.2923682194087\n"
          ]
        }
      ]
    },
    {
      "cell_type": "markdown",
      "metadata": {
        "id": "HNNR4FvN9N7I"
      },
      "source": [
        "## Pertanyaan 5\n",
        "Uji Hipotesis untuk pengaruh Education terhadap coapplicantincome"
      ]
    },
    {
      "cell_type": "code",
      "source": [
        "#mencari rata-rata coapplicantincome berdasarkan Education\n",
        "df.groupby('Education')['CoapplicantIncome'].mean()"
      ],
      "metadata": {
        "id": "-4_heYiU2oao",
        "colab": {
          "base_uri": "https://localhost:8080/"
        },
        "outputId": "6359a515-9126-4445-b840-e4cc8ffa628f"
      },
      "execution_count": 9,
      "outputs": [
        {
          "output_type": "execute_result",
          "data": {
            "text/plain": [
              "Education\n",
              "Graduate        1717.474833\n",
              "Not Graduate    1276.544776\n",
              "Name: CoapplicantIncome, dtype: float64"
            ]
          },
          "metadata": {},
          "execution_count": 9
        }
      ]
    },
    {
      "cell_type": "code",
      "source": [
        "#mendapatkan list dari unique item didalam Education\n",
        "inc_cond = list(df['Education'].unique())\n",
        "inc_cond"
      ],
      "metadata": {
        "id": "sAaMfk0C2oin",
        "colab": {
          "base_uri": "https://localhost:8080/"
        },
        "outputId": "d74e9a80-5649-49c6-ea42-412548a956cb"
      },
      "execution_count": 10,
      "outputs": [
        {
          "output_type": "execute_result",
          "data": {
            "text/plain": [
              "['Graduate', 'Not Graduate']"
            ]
          },
          "metadata": {},
          "execution_count": 10
        }
      ]
    },
    {
      "cell_type": "code",
      "source": [
        "#visualisasi persebaran data di kolom Education dengan boxplot\n",
        "plt.figure(figsize=(10,7))\n",
        "sns.boxplot(x='Education', y='CoapplicantIncome', data = df)"
      ],
      "metadata": {
        "id": "10pHtS9_2orP",
        "colab": {
          "base_uri": "https://localhost:8080/",
          "height": 636
        },
        "outputId": "0b0b4def-272f-4149-e737-bf56f6659ac4"
      },
      "execution_count": 11,
      "outputs": [
        {
          "output_type": "execute_result",
          "data": {
            "text/plain": [
              "<Axes: xlabel='Education', ylabel='CoapplicantIncome'>"
            ]
          },
          "metadata": {},
          "execution_count": 11
        },
        {
          "output_type": "display_data",
          "data": {
            "text/plain": [
              "<Figure size 1000x700 with 1 Axes>"
            ],
            "image/png": "[encoded data removed]"
          },
          "metadata": {}
        }
      ]
    },
    {
      "cell_type": "markdown",
      "source": [
        "- gambar biru (Graduate) = terdapat 3 garis(atas, tengah, bawah)\n",
        "garis bawah = quartil 1\n",
        "garis tengah = quartil 2 (median)\n",
        "garis atas = quartil 3\n",
        "- gambar oranye (Not Graduate) = sama seperti gambar biru, tetapi median lebih tinggi daripada gambar biru, sehingga mean lebih besar. hal ini disebabkan karena gambar graduate terdapat outlier"
      ],
      "metadata": {
        "id": "ihRQ9SaRiPe9"
      }
    },
    {
      "cell_type": "markdown",
      "metadata": {
        "id": "i7_MrJx7-bAY"
      },
      "source": [
        "**Hipotesis CoapplicantIncome**<br>\n",
        "Hipotesis Null : $\\mu_1-\\mu_2=0$, CoapplicantIncome dengan Education Graduate sama dengan Not Graduate<br>\n",
        "Hipotesis Alternative : $\\mu_1 - \\mu_2 != 0$, CoapplicantIncome dengan Education Graduate tidak sama dengan Not Graduate<br>"
      ]
    },
    {
      "cell_type": "code",
      "source": [
        "# Mencari perbedaan pendapatan antara tiap item dalam Education\n",
        "list_data= range(2)\n",
        "alpha=0.05\n",
        "\n",
        "for i in list_data:\n",
        "    for j in list_data[i+1:]:\n",
        "            group1 = df[df['Education']==inc_cond[i]][\"CoapplicantIncome\"]\n",
        "            group2 = df[df['Education']==inc_cond[j]][\"CoapplicantIncome\"]\n",
        "            stat, p = ttest_ind(group1, group2)\n",
        "            # print(group1, group2)\n",
        "            print('=======================================================================')\n",
        "            print('Hipotesis dari ' + str(inc_cond[i] + ' dan ' + str(inc_cond[j])))\n",
        "            print('t=%.3f, p=%.3f' % (stat, p))\n",
        "\n",
        "            # interpret via p-value\n",
        "            if p < alpha:\n",
        "\t            print('Tolak H0, maka harga Education {} tidak sama dengan {}.'.format(inc_cond[i], inc_cond[j]))\n",
        "            else:\n",
        "\t            print('Gagal Tolak H0, maka harga Education {} sama dengan {}.'.format(inc_cond[i], inc_cond[j]))"
      ],
      "metadata": {
        "id": "Os4ZCLxU2r04",
        "colab": {
          "base_uri": "https://localhost:8080/"
        },
        "outputId": "5fd3cf04-0933-41f1-9d5f-5f5e1857308e"
      },
      "execution_count": 12,
      "outputs": [
        {
          "output_type": "stream",
          "name": "stdout",
          "text": [
            "=======================================================================\n",
            "Hipotesis dari Graduate dan Not Graduate\n",
            "t=1.544, p=0.123\n",
            "Gagal Tolak H0, maka harga Education Graduate sama dengan Not Graduate.\n"
          ]
        }
      ]
    }
  ]
}