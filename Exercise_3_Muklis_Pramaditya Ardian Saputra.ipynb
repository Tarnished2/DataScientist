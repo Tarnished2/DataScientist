{
  "nbformat": 4,
  "nbformat_minor": 0,
  "metadata": {
    "colab": {
      "provenance": [],
      "include_colab_link": true
    },
    "kernelspec": {
      "name": "python3",
      "display_name": "Python 3"
    },
    "language_info": {
      "name": "python"
    }
  },
  "cells": [
    {
      "cell_type": "markdown",
      "metadata": {
        "id": "view-in-github",
        "colab_type": "text"
      },
      "source": [
        "<a href=\"https://colab.research.google.com/github/Tarnished2/DataScientist/blob/main/Exercise_3_Muklis_Pramaditya%20Ardian%20Saputra.ipynb\" target=\"_parent\"><img src=\"https://colab.research.google.com/assets/colab-badge.svg\" alt=\"Open In Colab\"/></a>"
      ]
    },
    {
      "cell_type": "markdown",
      "source": [
        "# Breakoutroom Latihan Object Oriented Programming"
      ],
      "metadata": {
        "id": "kTR0_xAag31z"
      }
    },
    {
      "cell_type": "markdown",
      "source": [
        "### 1. Kamu akan membuat sebuah class Mahasiswa dan objek-objeknya, untuk mencetak \"Biodata Mahasiswa\" \n",
        "![image.png](data:image/png;base64,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)"
      ],
      "metadata": {
        "id": "DgiqEvCZg-d1"
      }
    },
    {
      "cell_type": "code",
      "source": [
        "# define class...\n",
        "class Person:\n",
        "  def __init__(self, name, age, kelamin, alamat, kota):\n",
        "    self.name = name\n",
        "    self.age = age\n",
        "    self.kelamin = kelamin\n",
        "    self.alamat = alamat\n",
        "    self.kota = kota\n",
        "\n",
        "# buat method untuk menampilkan bio data mahasiswa\n",
        "  def myfunc(self):\n",
        "    print(\"Nama             : \" + self.name)\n",
        "    print(\"Umur             : \" + str(self.age))\n",
        "    print(\"Jenis Kelamin    : \" + self.kelamin)\n",
        "    print(\"Alamat Sekarang  : \" + self.alamat)\n",
        "    print(\"Kota             : \" + self.kota)\n",
        "\n",
        "p1 = Person(\"Gede Surya Pratama\", 19, \"Pria\", \"Lembah Permai Hanjuang\", \"Cimahi Utara\")\n",
        "p1.myfunc()"
      ],
      "metadata": {
        "id": "oXyYtCYakiax",
        "colab": {
          "base_uri": "https://localhost:8080/"
        },
        "outputId": "5a3b4237-5aad-4335-8341-d7a6f0980181"
      },
      "execution_count": 1,
      "outputs": [
        {
          "output_type": "stream",
          "name": "stdout",
          "text": [
            "Nama             : Gede Surya Pratama\n",
            "Umur             : 19\n",
            "Jenis Kelamin    : Pria\n",
            "Alamat Sekarang  : Lembah Permai Hanjuang\n",
            "Kota             : Cimahi Utara\n"
          ]
        }
      ]
    },
    {
      "cell_type": "markdown",
      "source": [
        "### 2. Kamu akan membuat sebuah class LuasBalok yang memiliki atribut/properti panjang dan lebar serta aksinya yang akan dibuat adalah menghitung luasnya dan objeknya Balok\n",
        "![image.png](data:image/png;base64,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)"
      ],
      "metadata": {
        "id": "5IP12nDzhZ1T"
      }
    },
    {
      "cell_type": "code",
      "source": [
        "# define class balok\n",
        "class balok :\n",
        "  def __init__(self,panjang,lebar):\n",
        "    self.panjang = panjang\n",
        "    self.lebar = lebar\n",
        "# method menghitung luas balok\n",
        "  def get_luas(self):\n",
        "    return self.panjang * self.lebar\n",
        "\n",
        "balok1 = balok(10,5)\n",
        "print('luas balok : ',balok1.get_luas())"
      ],
      "metadata": {
        "id": "mSK2SgxkhrGD",
        "colab": {
          "base_uri": "https://localhost:8080/"
        },
        "outputId": "40f3533c-01db-4243-87a2-56390234cfcc"
      },
      "execution_count": 2,
      "outputs": [
        {
          "output_type": "stream",
          "name": "stdout",
          "text": [
            "luas balok :  50\n"
          ]
        }
      ]
    }
  ]
}